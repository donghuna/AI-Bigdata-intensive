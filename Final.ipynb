{
  "nbformat": 4,
  "nbformat_minor": 0,
  "metadata": {
    "colab": {
      "provenance": [],
      "authorship_tag": "ABX9TyP6rcN3g5lNto4EaOe7AwnC",
      "include_colab_link": true
    },
    "kernelspec": {
      "name": "python3",
      "display_name": "Python 3"
    },
    "language_info": {
      "name": "python"
    }
  },
  "cells": [
    {
      "cell_type": "markdown",
      "metadata": {
        "id": "view-in-github",
        "colab_type": "text"
      },
      "source": [
        "<a href=\"https://colab.research.google.com/github/donghuna/AI-Bigdata-intensive/blob/main/Final.ipynb\" target=\"_parent\"><img src=\"https://colab.research.google.com/assets/colab-badge.svg\" alt=\"Open In Colab\"/></a>"
      ]
    },
    {
      "cell_type": "markdown",
      "source": [
        "# 1. 데이터 준비 및 모듈 임포트"
      ],
      "metadata": {
        "id": "zesdNLfLbUC6"
      }
    },
    {
      "cell_type": "code",
      "source": [
        "import numpy as np\n",
        "import pandas as pd\n",
        "import matplotlib.pyplot as plt\n",
        "import seaborn as sns\n",
        "%matplotlib inline\n",
        "\n",
        "from sklearn.preprocessing import LabelEncoder, OneHotEncoder, StandardScaler\n",
        "from sklearn.neighbors import KNeighborsClassifier\n",
        "from sklearn.linear_model import LogisticRegression\n",
        "from sklearn.ensemble import RandomForestClassifier\n",
        "from sklearn.svm import SVC\n",
        "from sklearn.ensemble import GradientBoostingClassifier\n",
        "from sklearn.tree import DecisionTreeClassifier\n",
        "from sklearn.naive_bayes import GaussianNB\n",
        "from sklearn.model_selection import train_test_split\n",
        "from sklearn.metrics import accuracy_score, confusion_matrix, ConfusionMatrixDisplay\n",
        "from imblearn.under_sampling import InstanceHardnessThreshold\n",
        "from imblearn.over_sampling import RandomOverSampler\n",
        "from xgboost import XGBClassifier\n",
        "from sklearn import metrics\n",
        "from collections import Counter\n",
        "\n",
        "import sys\n",
        "import warnings\n",
        "warnings.filterwarnings('ignore')"
      ],
      "metadata": {
        "id": "5hkTFARqmQ7_"
      },
      "execution_count": 1,
      "outputs": []
    },
    {
      "cell_type": "code",
      "source": [
        "# importing dataset\n",
        "dataset = pd.read_csv(\"bank_marketing.csv\")\n",
        "display(dataset)"
      ],
      "metadata": {
        "id": "bdq4jrZnrEq1",
        "colab": {
          "base_uri": "https://localhost:8080/"
        },
        "outputId": "322a457e-7aaa-4180-f6b2-731d1a87cbc0"
      },
      "execution_count": 2,
      "outputs": [
        {
          "output_type": "error",
          "ename": "FileNotFoundError",
          "evalue": "ignored",
          "traceback": [
            "\u001b[0;31m---------------------------------------------------------------------------\u001b[0m",
            "\u001b[0;31mFileNotFoundError\u001b[0m                         Traceback (most recent call last)",
            "\u001b[0;32m<ipython-input-2-3912ae0436b0>\u001b[0m in \u001b[0;36m<cell line: 2>\u001b[0;34m()\u001b[0m\n\u001b[1;32m      1\u001b[0m \u001b[0;31m# importing dataset\u001b[0m\u001b[0;34m\u001b[0m\u001b[0;34m\u001b[0m\u001b[0m\n\u001b[0;32m----> 2\u001b[0;31m \u001b[0mdataset\u001b[0m \u001b[0;34m=\u001b[0m \u001b[0mpd\u001b[0m\u001b[0;34m.\u001b[0m\u001b[0mread_csv\u001b[0m\u001b[0;34m(\u001b[0m\u001b[0;34m\"bank_marketing.csv\"\u001b[0m\u001b[0;34m)\u001b[0m\u001b[0;34m\u001b[0m\u001b[0;34m\u001b[0m\u001b[0m\n\u001b[0m\u001b[1;32m      3\u001b[0m \u001b[0mdisplay\u001b[0m\u001b[0;34m(\u001b[0m\u001b[0mdataset\u001b[0m\u001b[0;34m)\u001b[0m\u001b[0;34m\u001b[0m\u001b[0;34m\u001b[0m\u001b[0m\n",
            "\u001b[0;32m/usr/local/lib/python3.10/dist-packages/pandas/util/_decorators.py\u001b[0m in \u001b[0;36mwrapper\u001b[0;34m(*args, **kwargs)\u001b[0m\n\u001b[1;32m    209\u001b[0m                 \u001b[0;32melse\u001b[0m\u001b[0;34m:\u001b[0m\u001b[0;34m\u001b[0m\u001b[0;34m\u001b[0m\u001b[0m\n\u001b[1;32m    210\u001b[0m                     \u001b[0mkwargs\u001b[0m\u001b[0;34m[\u001b[0m\u001b[0mnew_arg_name\u001b[0m\u001b[0;34m]\u001b[0m \u001b[0;34m=\u001b[0m \u001b[0mnew_arg_value\u001b[0m\u001b[0;34m\u001b[0m\u001b[0;34m\u001b[0m\u001b[0m\n\u001b[0;32m--> 211\u001b[0;31m             \u001b[0;32mreturn\u001b[0m \u001b[0mfunc\u001b[0m\u001b[0;34m(\u001b[0m\u001b[0;34m*\u001b[0m\u001b[0margs\u001b[0m\u001b[0;34m,\u001b[0m \u001b[0;34m**\u001b[0m\u001b[0mkwargs\u001b[0m\u001b[0;34m)\u001b[0m\u001b[0;34m\u001b[0m\u001b[0;34m\u001b[0m\u001b[0m\n\u001b[0m\u001b[1;32m    212\u001b[0m \u001b[0;34m\u001b[0m\u001b[0m\n\u001b[1;32m    213\u001b[0m         \u001b[0;32mreturn\u001b[0m \u001b[0mcast\u001b[0m\u001b[0;34m(\u001b[0m\u001b[0mF\u001b[0m\u001b[0;34m,\u001b[0m \u001b[0mwrapper\u001b[0m\u001b[0;34m)\u001b[0m\u001b[0;34m\u001b[0m\u001b[0;34m\u001b[0m\u001b[0m\n",
            "\u001b[0;32m/usr/local/lib/python3.10/dist-packages/pandas/util/_decorators.py\u001b[0m in \u001b[0;36mwrapper\u001b[0;34m(*args, **kwargs)\u001b[0m\n\u001b[1;32m    329\u001b[0m                     \u001b[0mstacklevel\u001b[0m\u001b[0;34m=\u001b[0m\u001b[0mfind_stack_level\u001b[0m\u001b[0;34m(\u001b[0m\u001b[0;34m)\u001b[0m\u001b[0;34m,\u001b[0m\u001b[0;34m\u001b[0m\u001b[0;34m\u001b[0m\u001b[0m\n\u001b[1;32m    330\u001b[0m                 )\n\u001b[0;32m--> 331\u001b[0;31m             \u001b[0;32mreturn\u001b[0m \u001b[0mfunc\u001b[0m\u001b[0;34m(\u001b[0m\u001b[0;34m*\u001b[0m\u001b[0margs\u001b[0m\u001b[0;34m,\u001b[0m \u001b[0;34m**\u001b[0m\u001b[0mkwargs\u001b[0m\u001b[0;34m)\u001b[0m\u001b[0;34m\u001b[0m\u001b[0;34m\u001b[0m\u001b[0m\n\u001b[0m\u001b[1;32m    332\u001b[0m \u001b[0;34m\u001b[0m\u001b[0m\n\u001b[1;32m    333\u001b[0m         \u001b[0;31m# error: \"Callable[[VarArg(Any), KwArg(Any)], Any]\" has no\u001b[0m\u001b[0;34m\u001b[0m\u001b[0;34m\u001b[0m\u001b[0m\n",
            "\u001b[0;32m/usr/local/lib/python3.10/dist-packages/pandas/io/parsers/readers.py\u001b[0m in \u001b[0;36mread_csv\u001b[0;34m(filepath_or_buffer, sep, delimiter, header, names, index_col, usecols, squeeze, prefix, mangle_dupe_cols, dtype, engine, converters, true_values, false_values, skipinitialspace, skiprows, skipfooter, nrows, na_values, keep_default_na, na_filter, verbose, skip_blank_lines, parse_dates, infer_datetime_format, keep_date_col, date_parser, dayfirst, cache_dates, iterator, chunksize, compression, thousands, decimal, lineterminator, quotechar, quoting, doublequote, escapechar, comment, encoding, encoding_errors, dialect, error_bad_lines, warn_bad_lines, on_bad_lines, delim_whitespace, low_memory, memory_map, float_precision, storage_options)\u001b[0m\n\u001b[1;32m    948\u001b[0m     \u001b[0mkwds\u001b[0m\u001b[0;34m.\u001b[0m\u001b[0mupdate\u001b[0m\u001b[0;34m(\u001b[0m\u001b[0mkwds_defaults\u001b[0m\u001b[0;34m)\u001b[0m\u001b[0;34m\u001b[0m\u001b[0;34m\u001b[0m\u001b[0m\n\u001b[1;32m    949\u001b[0m \u001b[0;34m\u001b[0m\u001b[0m\n\u001b[0;32m--> 950\u001b[0;31m     \u001b[0;32mreturn\u001b[0m \u001b[0m_read\u001b[0m\u001b[0;34m(\u001b[0m\u001b[0mfilepath_or_buffer\u001b[0m\u001b[0;34m,\u001b[0m \u001b[0mkwds\u001b[0m\u001b[0;34m)\u001b[0m\u001b[0;34m\u001b[0m\u001b[0;34m\u001b[0m\u001b[0m\n\u001b[0m\u001b[1;32m    951\u001b[0m \u001b[0;34m\u001b[0m\u001b[0m\n\u001b[1;32m    952\u001b[0m \u001b[0;34m\u001b[0m\u001b[0m\n",
            "\u001b[0;32m/usr/local/lib/python3.10/dist-packages/pandas/io/parsers/readers.py\u001b[0m in \u001b[0;36m_read\u001b[0;34m(filepath_or_buffer, kwds)\u001b[0m\n\u001b[1;32m    603\u001b[0m \u001b[0;34m\u001b[0m\u001b[0m\n\u001b[1;32m    604\u001b[0m     \u001b[0;31m# Create the parser.\u001b[0m\u001b[0;34m\u001b[0m\u001b[0;34m\u001b[0m\u001b[0m\n\u001b[0;32m--> 605\u001b[0;31m     \u001b[0mparser\u001b[0m \u001b[0;34m=\u001b[0m \u001b[0mTextFileReader\u001b[0m\u001b[0;34m(\u001b[0m\u001b[0mfilepath_or_buffer\u001b[0m\u001b[0;34m,\u001b[0m \u001b[0;34m**\u001b[0m\u001b[0mkwds\u001b[0m\u001b[0;34m)\u001b[0m\u001b[0;34m\u001b[0m\u001b[0;34m\u001b[0m\u001b[0m\n\u001b[0m\u001b[1;32m    606\u001b[0m \u001b[0;34m\u001b[0m\u001b[0m\n\u001b[1;32m    607\u001b[0m     \u001b[0;32mif\u001b[0m \u001b[0mchunksize\u001b[0m \u001b[0;32mor\u001b[0m \u001b[0miterator\u001b[0m\u001b[0;34m:\u001b[0m\u001b[0;34m\u001b[0m\u001b[0;34m\u001b[0m\u001b[0m\n",
            "\u001b[0;32m/usr/local/lib/python3.10/dist-packages/pandas/io/parsers/readers.py\u001b[0m in \u001b[0;36m__init__\u001b[0;34m(self, f, engine, **kwds)\u001b[0m\n\u001b[1;32m   1440\u001b[0m \u001b[0;34m\u001b[0m\u001b[0m\n\u001b[1;32m   1441\u001b[0m         \u001b[0mself\u001b[0m\u001b[0;34m.\u001b[0m\u001b[0mhandles\u001b[0m\u001b[0;34m:\u001b[0m \u001b[0mIOHandles\u001b[0m \u001b[0;34m|\u001b[0m \u001b[0;32mNone\u001b[0m \u001b[0;34m=\u001b[0m \u001b[0;32mNone\u001b[0m\u001b[0;34m\u001b[0m\u001b[0;34m\u001b[0m\u001b[0m\n\u001b[0;32m-> 1442\u001b[0;31m         \u001b[0mself\u001b[0m\u001b[0;34m.\u001b[0m\u001b[0m_engine\u001b[0m \u001b[0;34m=\u001b[0m \u001b[0mself\u001b[0m\u001b[0;34m.\u001b[0m\u001b[0m_make_engine\u001b[0m\u001b[0;34m(\u001b[0m\u001b[0mf\u001b[0m\u001b[0;34m,\u001b[0m \u001b[0mself\u001b[0m\u001b[0;34m.\u001b[0m\u001b[0mengine\u001b[0m\u001b[0;34m)\u001b[0m\u001b[0;34m\u001b[0m\u001b[0;34m\u001b[0m\u001b[0m\n\u001b[0m\u001b[1;32m   1443\u001b[0m \u001b[0;34m\u001b[0m\u001b[0m\n\u001b[1;32m   1444\u001b[0m     \u001b[0;32mdef\u001b[0m \u001b[0mclose\u001b[0m\u001b[0;34m(\u001b[0m\u001b[0mself\u001b[0m\u001b[0;34m)\u001b[0m \u001b[0;34m->\u001b[0m \u001b[0;32mNone\u001b[0m\u001b[0;34m:\u001b[0m\u001b[0;34m\u001b[0m\u001b[0;34m\u001b[0m\u001b[0m\n",
            "\u001b[0;32m/usr/local/lib/python3.10/dist-packages/pandas/io/parsers/readers.py\u001b[0m in \u001b[0;36m_make_engine\u001b[0;34m(self, f, engine)\u001b[0m\n\u001b[1;32m   1733\u001b[0m                 \u001b[0;32mif\u001b[0m \u001b[0;34m\"b\"\u001b[0m \u001b[0;32mnot\u001b[0m \u001b[0;32min\u001b[0m \u001b[0mmode\u001b[0m\u001b[0;34m:\u001b[0m\u001b[0;34m\u001b[0m\u001b[0;34m\u001b[0m\u001b[0m\n\u001b[1;32m   1734\u001b[0m                     \u001b[0mmode\u001b[0m \u001b[0;34m+=\u001b[0m \u001b[0;34m\"b\"\u001b[0m\u001b[0;34m\u001b[0m\u001b[0;34m\u001b[0m\u001b[0m\n\u001b[0;32m-> 1735\u001b[0;31m             self.handles = get_handle(\n\u001b[0m\u001b[1;32m   1736\u001b[0m                 \u001b[0mf\u001b[0m\u001b[0;34m,\u001b[0m\u001b[0;34m\u001b[0m\u001b[0;34m\u001b[0m\u001b[0m\n\u001b[1;32m   1737\u001b[0m                 \u001b[0mmode\u001b[0m\u001b[0;34m,\u001b[0m\u001b[0;34m\u001b[0m\u001b[0;34m\u001b[0m\u001b[0m\n",
            "\u001b[0;32m/usr/local/lib/python3.10/dist-packages/pandas/io/common.py\u001b[0m in \u001b[0;36mget_handle\u001b[0;34m(path_or_buf, mode, encoding, compression, memory_map, is_text, errors, storage_options)\u001b[0m\n\u001b[1;32m    854\u001b[0m         \u001b[0;32mif\u001b[0m \u001b[0mioargs\u001b[0m\u001b[0;34m.\u001b[0m\u001b[0mencoding\u001b[0m \u001b[0;32mand\u001b[0m \u001b[0;34m\"b\"\u001b[0m \u001b[0;32mnot\u001b[0m \u001b[0;32min\u001b[0m \u001b[0mioargs\u001b[0m\u001b[0;34m.\u001b[0m\u001b[0mmode\u001b[0m\u001b[0;34m:\u001b[0m\u001b[0;34m\u001b[0m\u001b[0;34m\u001b[0m\u001b[0m\n\u001b[1;32m    855\u001b[0m             \u001b[0;31m# Encoding\u001b[0m\u001b[0;34m\u001b[0m\u001b[0;34m\u001b[0m\u001b[0m\n\u001b[0;32m--> 856\u001b[0;31m             handle = open(\n\u001b[0m\u001b[1;32m    857\u001b[0m                 \u001b[0mhandle\u001b[0m\u001b[0;34m,\u001b[0m\u001b[0;34m\u001b[0m\u001b[0;34m\u001b[0m\u001b[0m\n\u001b[1;32m    858\u001b[0m                 \u001b[0mioargs\u001b[0m\u001b[0;34m.\u001b[0m\u001b[0mmode\u001b[0m\u001b[0;34m,\u001b[0m\u001b[0;34m\u001b[0m\u001b[0;34m\u001b[0m\u001b[0m\n",
            "\u001b[0;31mFileNotFoundError\u001b[0m: [Errno 2] No such file or directory: 'bank_marketing.csv'"
          ]
        }
      ]
    },
    {
      "cell_type": "code",
      "source": [
        "# 2. 데이터 확인\n",
        "# Bank marketing 데이터의 일반적인 정보를 확인해봅니다."
      ],
      "metadata": {
        "id": "fG1bDnB2qyKX"
      },
      "execution_count": null,
      "outputs": []
    },
    {
      "cell_type": "code",
      "source": [
        "dataset.info()"
      ],
      "metadata": {
        "id": "FdJ03Hv5rnGT"
      },
      "execution_count": null,
      "outputs": []
    },
    {
      "cell_type": "code",
      "source": [
        "dataset.columns.values"
      ],
      "metadata": {
        "colab": {
          "base_uri": "https://localhost:8080/"
        },
        "id": "S-zWS1RBqhfk",
        "outputId": "a6a345aa-4fc4-4122-98c5-c52fe968fed2"
      },
      "execution_count": null,
      "outputs": [
        {
          "output_type": "error",
          "ename": "NameError",
          "evalue": "ignored",
          "traceback": [
            "\u001b[0;31m---------------------------------------------------------------------------\u001b[0m",
            "\u001b[0;31mNameError\u001b[0m                                 Traceback (most recent call last)",
            "\u001b[0;32m<ipython-input-6-349d69d328aa>\u001b[0m in \u001b[0;36m<cell line: 1>\u001b[0;34m()\u001b[0m\n\u001b[0;32m----> 1\u001b[0;31m \u001b[0mdataset\u001b[0m\u001b[0;34m.\u001b[0m\u001b[0mcolumns\u001b[0m\u001b[0;34m.\u001b[0m\u001b[0mvalues\u001b[0m\u001b[0;34m\u001b[0m\u001b[0;34m\u001b[0m\u001b[0m\n\u001b[0m",
            "\u001b[0;31mNameError\u001b[0m: name 'dataset' is not defined"
          ]
        }
      ]
    },
    {
      "cell_type": "code",
      "source": [
        "display(dataset.describe(include='all'))"
      ],
      "metadata": {
        "colab": {
          "base_uri": "https://localhost:8080/"
        },
        "id": "wFm7NGwDrsdn",
        "outputId": "0feb2406-8bc3-4ad4-c592-bc55bff7485b"
      },
      "execution_count": null,
      "outputs": [
        {
          "output_type": "error",
          "ename": "NameError",
          "evalue": "ignored",
          "traceback": [
            "\u001b[0;31m---------------------------------------------------------------------------\u001b[0m",
            "\u001b[0;31mNameError\u001b[0m                                 Traceback (most recent call last)",
            "\u001b[0;32m<ipython-input-7-7f9ef2d503dd>\u001b[0m in \u001b[0;36m<cell line: 1>\u001b[0;34m()\u001b[0m\n\u001b[0;32m----> 1\u001b[0;31m \u001b[0mdisplay\u001b[0m\u001b[0;34m(\u001b[0m\u001b[0mdataset\u001b[0m\u001b[0;34m.\u001b[0m\u001b[0mdescribe\u001b[0m\u001b[0;34m(\u001b[0m\u001b[0minclude\u001b[0m\u001b[0;34m=\u001b[0m\u001b[0;34m'all'\u001b[0m\u001b[0;34m)\u001b[0m\u001b[0;34m)\u001b[0m\u001b[0;34m\u001b[0m\u001b[0;34m\u001b[0m\u001b[0m\n\u001b[0m",
            "\u001b[0;31mNameError\u001b[0m: name 'dataset' is not defined"
          ]
        }
      ]
    },
    {
      "cell_type": "code",
      "source": [
        "# 최종적으로 y(subscribed) 정보를 추정해야 되므로, subscribed 정보로 group을 하고 데이터를 확인해 봅니다."
      ],
      "metadata": {
        "id": "GI8zJLQGr9JZ"
      },
      "execution_count": null,
      "outputs": []
    },
    {
      "cell_type": "code",
      "source": [
        "dataset.groupby('y').mean()"
      ],
      "metadata": {
        "colab": {
          "base_uri": "https://localhost:8080/"
        },
        "id": "8lUvM_OTrx1g",
        "outputId": "e94e8df0-167c-4425-83f7-7cb5e52afdaa"
      },
      "execution_count": null,
      "outputs": [
        {
          "output_type": "error",
          "ename": "NameError",
          "evalue": "ignored",
          "traceback": [
            "\u001b[0;31m---------------------------------------------------------------------------\u001b[0m",
            "\u001b[0;31mNameError\u001b[0m                                 Traceback (most recent call last)",
            "\u001b[0;32m<ipython-input-8-d0d4c8acb1cd>\u001b[0m in \u001b[0;36m<cell line: 1>\u001b[0;34m()\u001b[0m\n\u001b[0;32m----> 1\u001b[0;31m \u001b[0mdataset\u001b[0m\u001b[0;34m.\u001b[0m\u001b[0mgroupby\u001b[0m\u001b[0;34m(\u001b[0m\u001b[0;34m'y'\u001b[0m\u001b[0;34m)\u001b[0m\u001b[0;34m.\u001b[0m\u001b[0mmean\u001b[0m\u001b[0;34m(\u001b[0m\u001b[0;34m)\u001b[0m\u001b[0;34m\u001b[0m\u001b[0;34m\u001b[0m\u001b[0m\n\u001b[0m",
            "\u001b[0;31mNameError\u001b[0m: name 'dataset' is not defined"
          ]
        }
      ]
    },
    {
      "cell_type": "code",
      "source": [
        "#subcribed 데이터가 매우 불균형하게 있음을 확인"
      ],
      "metadata": {
        "id": "1PV6o2dQsDmV"
      },
      "execution_count": null,
      "outputs": []
    },
    {
      "cell_type": "code",
      "source": [
        "dataset['y'].value_counts()"
      ],
      "metadata": {
        "colab": {
          "base_uri": "https://localhost:8080/"
        },
        "id": "QvpFZL7vsNuW",
        "outputId": "f323efbd-0405-42cf-b3d1-785b739d0576"
      },
      "execution_count": null,
      "outputs": [
        {
          "output_type": "error",
          "ename": "NameError",
          "evalue": "ignored",
          "traceback": [
            "\u001b[0;31m---------------------------------------------------------------------------\u001b[0m",
            "\u001b[0;31mNameError\u001b[0m                                 Traceback (most recent call last)",
            "\u001b[0;32m<ipython-input-11-8bce1bdbb45f>\u001b[0m in \u001b[0;36m<cell line: 1>\u001b[0;34m()\u001b[0m\n\u001b[0;32m----> 1\u001b[0;31m \u001b[0mdataset\u001b[0m\u001b[0;34m[\u001b[0m\u001b[0;34m'y'\u001b[0m\u001b[0;34m]\u001b[0m\u001b[0;34m.\u001b[0m\u001b[0mvalue_counts\u001b[0m\u001b[0;34m(\u001b[0m\u001b[0;34m)\u001b[0m\u001b[0;34m\u001b[0m\u001b[0;34m\u001b[0m\u001b[0m\n\u001b[0m",
            "\u001b[0;31mNameError\u001b[0m: name 'dataset' is not defined"
          ]
        }
      ]
    },
    {
      "cell_type": "code",
      "source": [
        "sns.countplot(dataset, x='y')"
      ],
      "metadata": {
        "colab": {
          "base_uri": "https://localhost:8080/"
        },
        "id": "X2lgP5P0sQmD",
        "outputId": "241afa7d-2985-484a-ed59-5ac861e43693"
      },
      "execution_count": null,
      "outputs": [
        {
          "output_type": "error",
          "ename": "NameError",
          "evalue": "ignored",
          "traceback": [
            "\u001b[0;31m---------------------------------------------------------------------------\u001b[0m",
            "\u001b[0;31mNameError\u001b[0m                                 Traceback (most recent call last)",
            "\u001b[0;32m<ipython-input-12-f5a702bfd35f>\u001b[0m in \u001b[0;36m<cell line: 1>\u001b[0;34m()\u001b[0m\n\u001b[0;32m----> 1\u001b[0;31m \u001b[0msns\u001b[0m\u001b[0;34m.\u001b[0m\u001b[0mcountplot\u001b[0m\u001b[0;34m(\u001b[0m\u001b[0mdataset\u001b[0m\u001b[0;34m,\u001b[0m \u001b[0mx\u001b[0m\u001b[0;34m=\u001b[0m\u001b[0;34m'y'\u001b[0m\u001b[0;34m)\u001b[0m\u001b[0;34m\u001b[0m\u001b[0;34m\u001b[0m\u001b[0m\n\u001b[0m",
            "\u001b[0;31mNameError\u001b[0m: name 'dataset' is not defined"
          ]
        }
      ]
    },
    {
      "cell_type": "code",
      "source": [
        "print('yes 비율 : {:.2f}%'.format(len(dataset[dataset.y == 'yes']) / len(dataset) * 100))\n",
        "print('no 비율 : {:.2f}%'.format(len(dataset[dataset.y == 'no']) / len(dataset) * 100))"
      ],
      "metadata": {
        "id": "y5SSj8yGsTop"
      },
      "execution_count": null,
      "outputs": []
    },
    {
      "cell_type": "code",
      "source": [
        "# 결측치가 있는지 확인해 봅니다."
      ],
      "metadata": {
        "id": "twvaCZaSr1h0"
      },
      "execution_count": null,
      "outputs": []
    },
    {
      "cell_type": "code",
      "source": [
        "# null 값 확인\n",
        "dataset.isna().any()"
      ],
      "metadata": {
        "id": "gPZ1-1JOstY-"
      },
      "execution_count": null,
      "outputs": []
    },
    {
      "cell_type": "code",
      "source": [
        "# Numberic 데이터의 상관관계를 heatmap으로 확인해봅니다."
      ],
      "metadata": {
        "id": "czgqsSU7stt4"
      },
      "execution_count": null,
      "outputs": []
    },
    {
      "cell_type": "code",
      "source": [
        "sns.set(style=\"white\")\n",
        "corr = dataset.corr()\n",
        "mask = np.zeros_like(corr)\n",
        "mask[np.triu_indices_from(mask)] = True\n",
        "f, ax = plt.subplots(figsize=(10,10))\n",
        "sns.heatmap(corr, mask=mask, annot=True, vmax=.3, cmap='autumn', center=0, square=True, linewidths=.5)"
      ],
      "metadata": {
        "id": "PF2ivBpostwz"
      },
      "execution_count": null,
      "outputs": []
    },
    {
      "cell_type": "code",
      "source": [
        "# 3. EDA (Exploratory Data Analysis)"
      ],
      "metadata": {
        "id": "twNGQ_-Lstz1"
      },
      "execution_count": null,
      "outputs": []
    },
    {
      "cell_type": "code",
      "source": [
        "# 3.1 Age"
      ],
      "metadata": {
        "id": "48j76uOhst2x"
      },
      "execution_count": null,
      "outputs": []
    },
    {
      "cell_type": "code",
      "source": [
        "plt.figure(figsize=(20, 6))\n",
        "plt.title('Age - subscribed')\n",
        "sns.histplot(dataset, x='age', hue='y', multiple='dodge')\n",
        "plt.xlabel('Age')\n",
        "plt.ylabel('y')\n",
        "plt.show()"
      ],
      "metadata": {
        "id": "3xEgyvLmst8z"
      },
      "execution_count": null,
      "outputs": []
    },
    {
      "cell_type": "code",
      "source": [
        "# Age의 전체 그래프를 보면, 60세를 전후로 데이터가 큰 차이가 있음을 알 수 있다.\n",
        "# 30세 and 45세 정도에서도 차이가 있기에 분류가 가능하지만, 큰 차이를 보이는 60세 전후로만 데이터를 나누어 확인."
      ],
      "metadata": {
        "id": "PMD4HvJvsuAO"
      },
      "execution_count": null,
      "outputs": []
    },
    {
      "cell_type": "code",
      "source": [
        "fig, ax = plt.subplots(1, 2, figsize=(12, 6))\n",
        "\n",
        "ax[0].set_title(\"age under 60\")\n",
        "temp_data = dataset[dataset['age'] <= 60]\n",
        "sns.histplot(temp_data, x='age', hue='y', multiple='dodge', ax=ax[0], bins=30)\n",
        "ax[0].set_xlabel('Age')\n",
        "ax[0].set_ylabel('y')\n",
        "\n",
        "ax[0].set_title(\"age over 60\")\n",
        "temp_data = dataset[dataset['age'] > 60]\n",
        "sns.histplot(temp_data, x='age', hue='y', multiple='dodge', ax=ax[1], bins=30)\n",
        "ax[0].set_xlabel('Age')\n",
        "ax[0].set_ylabel('y')\n",
        "\n",
        "plt.show()"
      ],
      "metadata": {
        "colab": {
          "base_uri": "https://localhost:8080/"
        },
        "id": "dwLd87OWtxKX",
        "outputId": "ea327e45-527a-44b2-c30b-92a9eae11c06"
      },
      "execution_count": null,
      "outputs": [
        {
          "output_type": "error",
          "ename": "NameError",
          "evalue": "ignored",
          "traceback": [
            "\u001b[0;31m---------------------------------------------------------------------------\u001b[0m",
            "\u001b[0;31mNameError\u001b[0m                                 Traceback (most recent call last)",
            "\u001b[0;32m<ipython-input-14-c3efb48dcf27>\u001b[0m in \u001b[0;36m<cell line: 4>\u001b[0;34m()\u001b[0m\n\u001b[1;32m      2\u001b[0m \u001b[0;34m\u001b[0m\u001b[0m\n\u001b[1;32m      3\u001b[0m \u001b[0max\u001b[0m\u001b[0;34m[\u001b[0m\u001b[0;36m0\u001b[0m\u001b[0;34m]\u001b[0m\u001b[0;34m.\u001b[0m\u001b[0mset_title\u001b[0m\u001b[0;34m(\u001b[0m\u001b[0;34m\"age under 60\"\u001b[0m\u001b[0;34m)\u001b[0m\u001b[0;34m\u001b[0m\u001b[0;34m\u001b[0m\u001b[0m\n\u001b[0;32m----> 4\u001b[0;31m \u001b[0mtemp_data\u001b[0m \u001b[0;34m=\u001b[0m \u001b[0mdataset\u001b[0m\u001b[0;34m[\u001b[0m\u001b[0mdataset\u001b[0m\u001b[0;34m[\u001b[0m\u001b[0;34m'age'\u001b[0m\u001b[0;34m]\u001b[0m \u001b[0;34m<=\u001b[0m \u001b[0;36m60\u001b[0m\u001b[0;34m]\u001b[0m\u001b[0;34m\u001b[0m\u001b[0;34m\u001b[0m\u001b[0m\n\u001b[0m\u001b[1;32m      5\u001b[0m \u001b[0msns\u001b[0m\u001b[0;34m.\u001b[0m\u001b[0mhistplot\u001b[0m\u001b[0;34m(\u001b[0m\u001b[0mtemp_data\u001b[0m\u001b[0;34m,\u001b[0m \u001b[0mx\u001b[0m\u001b[0;34m=\u001b[0m\u001b[0;34m'age'\u001b[0m\u001b[0;34m,\u001b[0m \u001b[0mhue\u001b[0m\u001b[0;34m=\u001b[0m\u001b[0;34m'y'\u001b[0m\u001b[0;34m,\u001b[0m \u001b[0mmultiple\u001b[0m\u001b[0;34m=\u001b[0m\u001b[0;34m'dodge'\u001b[0m\u001b[0;34m,\u001b[0m \u001b[0max\u001b[0m\u001b[0;34m=\u001b[0m\u001b[0max\u001b[0m\u001b[0;34m[\u001b[0m\u001b[0;36m0\u001b[0m\u001b[0;34m]\u001b[0m\u001b[0;34m,\u001b[0m \u001b[0mbins\u001b[0m\u001b[0;34m=\u001b[0m\u001b[0;36m30\u001b[0m\u001b[0;34m)\u001b[0m\u001b[0;34m\u001b[0m\u001b[0;34m\u001b[0m\u001b[0m\n\u001b[1;32m      6\u001b[0m \u001b[0max\u001b[0m\u001b[0;34m[\u001b[0m\u001b[0;36m0\u001b[0m\u001b[0;34m]\u001b[0m\u001b[0;34m.\u001b[0m\u001b[0mset_xlabel\u001b[0m\u001b[0;34m(\u001b[0m\u001b[0;34m'Age'\u001b[0m\u001b[0;34m)\u001b[0m\u001b[0;34m\u001b[0m\u001b[0;34m\u001b[0m\u001b[0m\n",
            "\u001b[0;31mNameError\u001b[0m: name 'dataset' is not defined"
          ]
        },
        {
          "output_type": "display_data",
          "data": {
            "text/plain": [
              "<Figure size 1200x600 with 2 Axes>"
            ],
            "image/png": "[encoded data removed]"
          },
          "metadata": {}
        }
      ]
    },
    {
      "cell_type": "code",
      "source": [
        "print('age 60 이하 중에서 subscribed 비율 : {:.2f}%'.format(len(dataset[(dataset.age <= 60) & (dataset.y == 'yes')]) / len(dataset[dataset.age <= 60]) * 100))\n",
        "print('age 60 초과 중에서 subscribed 비율 : {:.2f}%'.format(len(dataset[(dataset.age > 60) & (dataset.y == 'yes')]) / len(dataset[dataset.age > 60]) * 100))\n"
      ],
      "metadata": {
        "id": "d0ED5mwfwpbv"
      },
      "execution_count": null,
      "outputs": []
    },
    {
      "cell_type": "code",
      "source": [
        "# 3.2 Job"
      ],
      "metadata": {
        "id": "noL53AKUwpgD"
      },
      "execution_count": null,
      "outputs": []
    },
    {
      "cell_type": "code",
      "source": [
        "plt.figure(figsize=(12,6))\n",
        "plt.title('Job - subscribed')\n",
        "sns.histplot(dataset, x='job', hue='y', multiple='dodge')\n",
        "plt.xlabel('job')\n",
        "plt.ylabel('y')\n",
        "plt.xticks(rotation=25)\n",
        "plt.show()"
      ],
      "metadata": {
        "id": "Y0PBroFGxUa9"
      },
      "execution_count": null,
      "outputs": []
    },
    {
      "cell_type": "code",
      "source": [
        "#Unknown 데이터가 존재하지만 이를 결측치라고 판단하지는 않았습니다.\n",
        "# 또한 그 비율이 매우 낮다는것을 확인했습니다.\n",
        "\n",
        "# 직업별로 Subscribed 비율이 조금씩 차이가 있음을 확인하였습니다. "
      ],
      "metadata": {
        "id": "UVde0gD5wmKw"
      },
      "execution_count": null,
      "outputs": []
    },
    {
      "cell_type": "code",
      "source": [
        "dataset.groupby(['job, 'y'])['y'].count() / dataset.groupby(['job'])['job'].count() * 100"
      ],
      "metadata": {
        "colab": {
          "base_uri": "https://localhost:8080/"
        },
        "id": "TlJpaAaA31N4",
        "outputId": "babf7fcf-8af4-42ca-c936-584ee2d73289"
      },
      "execution_count": null,
      "outputs": [
        {
          "output_type": "error",
          "ename": "SyntaxError",
          "evalue": "ignored",
          "traceback": [
            "\u001b[0;36m  File \u001b[0;32m\"<ipython-input-17-676012b815b2>\"\u001b[0;36m, line \u001b[0;32m1\u001b[0m\n\u001b[0;31m    dataset.groupby(['job, 'y'])['y'].count() / dataset.groupby(['job'])['job'].count() * 100\u001b[0m\n\u001b[0m                            ^\u001b[0m\n\u001b[0;31mSyntaxError\u001b[0m\u001b[0;31m:\u001b[0m invalid syntax\n"
          ]
        }
      ]
    },
    {
      "cell_type": "code",
      "source": [
        "# 3.3 Marital"
      ],
      "metadata": {
        "id": "p7EKfgkQ4BzL"
      },
      "execution_count": null,
      "outputs": []
    },
    {
      "cell_type": "code",
      "source": [
        "plt.figure(figsize=(6, 5))\n",
        "plt.title('Marital - subscribed')\n",
        "sns.countplot(dataset, x='marital', hue='y')\n",
        "plt.xlabel('Marital')\n",
        "plt.ylabel('y')\n",
        "plt.show()"
      ],
      "metadata": {
        "id": "hJdHc0yq4EAv"
      },
      "execution_count": null,
      "outputs": []
    },
    {
      "cell_type": "markdown",
      "source": [
        "Single인 경우에는 Subscribed 비율이 조금 높음을 확인"
      ],
      "metadata": {
        "id": "XiipBAdB4XPy"
      }
    },
    {
      "cell_type": "markdown",
      "source": [
        "3.4 Education"
      ],
      "metadata": {
        "id": "z9HY8OdY4bKl"
      }
    },
    {
      "cell_type": "code",
      "source": [
        "plt.figure(figsize=(6, 5))\n",
        "plt.title('Education - subscribed')\n",
        "sns.countplot(dataset, x='education', hue='y')\n",
        "plt.xlabel('Education')\n",
        "plt.ylabel('y')\n",
        "plt.show()"
      ],
      "metadata": {
        "id": "IyD2g1zv4dL4"
      },
      "execution_count": null,
      "outputs": []
    },
    {
      "cell_type": "markdown",
      "source": [
        "교육 수준에 따라 유의미한 차이가 있음을 확인하였습니다.\n",
        "여기서도 unknown 데이터가 존재하는데, 이를 결측치로 가정하고 상관관계가 있는 다른 변수들로 예측하는 시도를 해보았습니다."
      ],
      "metadata": {
        "id": "117SrDdv4lu-"
      }
    },
    {
      "cell_type": "code",
      "source": [
        "print('Primary subscribed 비율 : {:.2f}%'.format(len(dataset[(dataset.education == 'primary') & (dataset.y == 'yes')]) / len(dataset[dataset.education == 'primary']) * 100))\n",
        "print('Secondary subscribed 비율 : {:.2f}%'.format(len(dataset[(dataset.education == 'secondary') & (dataset.y == 'yes')]) / len(dataset[dataset.education == 'secondary']) * 100))\n",
        "print('Tertiary subscribed 비율 : {:.2f}%'.format(len(dataset[(dataset.education == 'tertiary') & (dataset.y == 'yes')]) / len(dataset[dataset.education == 'tertiary']) * 100))\n",
        "print('Unknown subscribed 비율 : {:.2f}%'.format(len(dataset[(dataset.education == 'unknown') & (dataset.y == 'yes')]) / len(dataset[dataset.education == 'unknown']) * 100))"
      ],
      "metadata": {
        "id": "05ddX5B54t9C"
      },
      "execution_count": null,
      "outputs": []
    },
    {
      "cell_type": "markdown",
      "source": [
        "3.5 Default"
      ],
      "metadata": {
        "id": "reHcypzq5jAu"
      }
    },
    {
      "cell_type": "code",
      "source": [
        "dataset.groupby(['default', 'y'])['y'].count() / dataset.groupby(['default'])['default'].count() * 100"
      ],
      "metadata": {
        "id": "0z-BmNUAHXSs"
      },
      "execution_count": null,
      "outputs": []
    },
    {
      "cell_type": "markdown",
      "source": [
        "Default 상태이면 subscribed 비율이 많이 내려가지만, 전체 데이터에서의 Default 비중이 매우 적다."
      ],
      "metadata": {
        "id": "GiNkg9VBHljD"
      }
    },
    {
      "cell_type": "markdown",
      "source": [
        "3.6 Balance"
      ],
      "metadata": {
        "id": "eYQEG9HjHr3B"
      }
    },
    {
      "cell_type": "code",
      "source": [
        "plt.figure(figsize=(6, 4))\n",
        "plt.title('Balance')\n",
        "sns.distplot(dataset.balance, bins=20)\n",
        "plt.xlabel('Balance')\n",
        "plt.ylabel('Frequency')\n",
        "plt.xticks(rotation=20)\n",
        "plt.show()"
      ],
      "metadata": {
        "id": "uCFQu4aTHaZ8"
      },
      "execution_count": null,
      "outputs": []
    },
    {
      "cell_type": "markdown",
      "source": [
        "Balance 데이터는 마이너스인 데이터와 플러스 데이터에서 Subscribed 결과가 많이 다름을 확인하였습니다.  \n",
        "좀 더 세부적으로 4단계로 분류를 해보았습니다."
      ],
      "metadata": {
        "id": "7Z_qIuFJIBDE"
      }
    },
    {
      "cell_type": "code",
      "source": [
        "fig, ax = plt.subplots(2, 2, figsize=(12, 12))\n",
        "\n",
        "ax[0][0].set_title(\"~ -1000\")\n",
        "temp_data = dataset[dataset.balance < -1000]\n",
        "sns.histplot(temp_data, x='balance', hue='y', multiple='dodge', ax=ax[0][0], bins=30)\n",
        "ax[0][0].set_xlabel('Balance')\n",
        "ax[0][0].set_ylabel('y')\n",
        "\n",
        "ax[0][1].set_title(\"-1000 ~ 0\")\n",
        "temp_data = dataset[(dataset.balance >= -1000) & (dataset.balance < 0)]\n",
        "sns.histplot(temp_data, x='balance', hue='y', multiple='dodge', ax=ax[0][1], bins=30)\n",
        "ax[0][1].set_xlabel('Balance')\n",
        "ax[0][1].set_ylabel('y')\n",
        "\n",
        "ax[1][0].set_title(\"~ -1000\")\n",
        "temp_data = dataset[(dataset.balance >= 10000) & (dataset.balance < 20000)]\n",
        "sns.histplot(temp_data, x='balance', hue='y', multiple='dodge', ax=ax[1][0], bins=30)\n",
        "ax[1][0].set_xlabel('Balance')\n",
        "ax[1][0].set_ylabel('y')\n",
        "\n",
        "ax[1][1].set_title(\"-1000 ~ 0\")\n",
        "temp_data = dataset[dataset.balance >= 20000]\n",
        "sns.histplot(temp_data, x='balance', hue='y', multiple='dodge', ax=ax[1][1], bins=30)\n",
        "ax[1][1].set_xlabel('Balance')\n",
        "ax[1][1].set_ylabel('y')\n",
        "\n",
        "plt.show()"
      ],
      "metadata": {
        "id": "dUfjY_x6IH1S"
      },
      "execution_count": null,
      "outputs": []
    },
    {
      "cell_type": "markdown",
      "source": [
        "3.7 Housing, Loan"
      ],
      "metadata": {
        "id": "ok9DUvKuJKW8"
      }
    },
    {
      "cell_type": "code",
      "source": [
        "fig, ax = plt.subplots(1, 2, figsize=(10, 5))\n",
        "\n",
        "ax[0].set_title(\"Housing\")\n",
        "ax[0] = sns.histplot(temp_data, x='housing', hue='y', stat='percent', multiple='dodge', ax=ax[0], bins=30)\n",
        "for c in ax[0].containers:\n",
        "    labels = [f'{w:0.1f}%' if (w := v.get_height()) > 0 else '' for v in c]\n",
        "    ax[0].bar_label(c, labels=labels, label_type='edge', fontsize=8, rotation=0, padding=2)\n",
        "ax[0].set_xlabel('Housing')\n",
        "ax[0].set_ylabel('y')\n",
        "\n",
        "ax[1].set_title(\"Loan\")\n",
        "temp_data = dataset[(dataset.balance >= -1000) & (dataset.balance < 0)]\n",
        "ax[1] = sns.histplot(temp_data, x='loan', hue='y', stat='percent', multiple='dodge', ax=ax[1], bins=30)\n",
        "for c in ax[1].containers:\n",
        "    labels = [f'{w:0.1f}%' if (w := v.get_height()) > 0 else '' for v in c]\n",
        "    ax[1].bar_label(c, labels=labels, label_type='edge', fontsize=8, rotation=0, padding=2)\n",
        "ax[0].set_xlabel('Loan')\n",
        "ax[0].set_ylabel('y')\n",
        "\n",
        "plt.show()"
      ],
      "metadata": {
        "id": "rGDZEwfOJMfg"
      },
      "execution_count": null,
      "outputs": []
    },
    {
      "cell_type": "markdown",
      "source": [
        "Housing 및 Loan이 있는 상황이면 자금의 여유가 없어서인지 Subscribed 비율이 매우 낮았다."
      ],
      "metadata": {
        "id": "puRlVTl5KS5a"
      }
    },
    {
      "cell_type": "markdown",
      "source": [
        "3.8 Contact"
      ],
      "metadata": {
        "id": "JdEbHrvJKYDS"
      }
    },
    {
      "cell_type": "code",
      "source": [
        "dataset.groupby(['contact', 'y'])['y'].count() / dataset.groupby(['contact'])['contact'].count() * 100"
      ],
      "metadata": {
        "id": "SJr3MEAfKZub"
      },
      "execution_count": null,
      "outputs": []
    },
    {
      "cell_type": "markdown",
      "source": [
        "Unknown에서 Subscribed 비율이 매우 낮습니다."
      ],
      "metadata": {
        "id": "nas98JgOKknL"
      }
    },
    {
      "cell_type": "markdown",
      "source": [
        "3.9 Day"
      ],
      "metadata": {
        "id": "DB5sXINdKn0G"
      }
    },
    {
      "cell_type": "markdown",
      "source": [
        "처음에는 Subscribed 개수가 모두 비슷해서 preprocessing과정에서 ㅔ거했던 열입니다.  \n",
        "다시 검토해보니 Subscribed수는 비슷하지만, 비율이 날짜마다 크게 달라서 값을 사용하였습니다."
      ],
      "metadata": {
        "id": "sGOreoB_KpQY"
      }
    },
    {
      "cell_type": "code",
      "source": [
        "sns.histplot(dataset, x='day', multiple='dodge', hue='y', bins=31)\n",
        "plt.xticks(rotation=20)"
      ],
      "metadata": {
        "id": "uGeq9SneKxAO"
      },
      "execution_count": null,
      "outputs": []
    },
    {
      "cell_type": "markdown",
      "source": [
        "3.10 Month"
      ],
      "metadata": {
        "id": "5mZMUZw6K6Wg"
      }
    },
    {
      "cell_type": "markdown",
      "source": [
        "달마다 Subscribed 비율이 각기 달라서 유의미한 결과를 얻을 수 있을것같습니다."
      ],
      "metadata": {
        "id": "BcBjuyBmK8Cz"
      }
    },
    {
      "cell_type": "code",
      "source": [
        "sns.displot(dataset, x='month', multiple='dodge', hue='y', bins=12)\n",
        "plt.xticks(rotation=20)"
      ],
      "metadata": {
        "id": "0NHxLwc5LAT-"
      },
      "execution_count": null,
      "outputs": []
    },
    {
      "cell_type": "markdown",
      "source": [
        "3.11 Duration"
      ],
      "metadata": {
        "id": "6hbe0HblLJLm"
      }
    },
    {
      "cell_type": "markdown",
      "source": [
        "통기시간에 관한 열입니다.  \n",
        "자세히보면 시간이 매우 짧을 경우에는 Subscribed하지 않지만, 시간에 따라 달라짐을 확인 할 수 있습니다."
      ],
      "metadata": {
        "id": "AyjD79sALKpN"
      }
    },
    {
      "cell_type": "code",
      "source": [
        "sns.histplot(dataset, x='duration', hue='y', bins=50)\n",
        "plt.xticks(rotation=20)"
      ],
      "metadata": {
        "id": "vXdMwR9vLQe3"
      },
      "execution_count": null,
      "outputs": []
    },
    {
      "cell_type": "markdown",
      "source": [
        "Duration 데이터를 3개 범주로 분류 해보면, 통화시간에 따라 Subscribed 데이터가 확연히 다름을 알 수 있습니다."
      ],
      "metadata": {
        "id": "au7k-pQeLXqW"
      }
    },
    {
      "cell_type": "code",
      "source": [
        "fig, ax = plt.subplots(1, 3, figsize=(15, 5))\n",
        "\n",
        "ax[0].set_title(\"Duration <= 70\")\n",
        "temp_data = dataset[dataset.duration <= 70]\n",
        "sns.histplot(temp_data, x='duration', hue='y', ax=ax[0], bins=30)\n",
        "ax[0].set_xlabel('Duration')\n",
        "ax[0].set_ylabel('y')\n",
        "\n",
        "ax[1].set_title(\"70 < Duration <= 700\")\n",
        "temp_data = dataset[(dataset.duration > 70) & (dataset.duration <=700)]\n",
        "sns.histplot(temp_data, x='duration', hue='y', ax=ax[1], bins=30)\n",
        "ax[1].set_xlabel('Duration')\n",
        "ax[1].set_ylabel('y')\n",
        "\n",
        "ax[2].set_title(\"Duration > 700\")\n",
        "temp_data = dataset[dataset.duration > 700]\n",
        "sns.histplot(temp_data, x='duration', hue='y', ax=ax[2], bins=30)\n",
        "ax[2].set_xlabel('Duration')\n",
        "ax[3].set_ylabel('y')\n",
        "\n",
        "plt.show()"
      ],
      "metadata": {
        "id": "BIXebqMzLd3s"
      },
      "execution_count": null,
      "outputs": []
    },
    {
      "cell_type": "markdown",
      "source": [
        "3.12 Campaign"
      ],
      "metadata": {
        "id": "kCUDnf4xRPj6"
      }
    },
    {
      "cell_type": "code",
      "source": [
        "display(dataset['campaign'].unique())\n",
        "sns.histplot(dataset, x='campaign', hue='y', multiple='dodge', bins=30)"
      ],
      "metadata": {
        "id": "IPghbUBXRRgW"
      },
      "execution_count": null,
      "outputs": []
    },
    {
      "cell_type": "markdown",
      "source": [
        "3.13 Pdays"
      ],
      "metadata": {
        "id": "UUrEJrj-Rbaz"
      }
    },
    {
      "cell_type": "markdown",
      "source": [
        "number of days that passed by after the client was last contacted from a previous campaign (numberic, -1 means client was not previously contacted)  \n",
        "값 -1은 이전에 기록이 없는 고객이기 때문에, 이를 따로 구분해야겠다고 생각을 했습니다.  \n",
        "실제로 값이 -1인 고객은 Subscribed 결과가 안좋습니다."
      ],
      "metadata": {
        "id": "tDF1mRueRdSB"
      }
    },
    {
      "cell_type": "code",
      "source": [
        "sns.histplot(dataset, x='duration', hue='y', bins=50)\n",
        "plt.xticks(rotation=20)"
      ],
      "metadata": {
        "id": "_gdiarlrRsqJ"
      },
      "execution_count": null,
      "outputs": []
    },
    {
      "cell_type": "markdown",
      "source": [
        "Pdays도 구간별로 유의미한 Subscribed 차이가 확연히 있다고 생각하여, 이를 분류하기로 했습니다."
      ],
      "metadata": {
        "id": "Gx1sW3D1RzPq"
      }
    },
    {
      "cell_type": "code",
      "source": [
        "fig, ax = plt.subplots(1, 3, figsize=(15, 5))\n",
        "\n",
        "ax[0].set_title(\"0 <= Pdays < 200\")\n",
        "temp_data = dataset[(dataset.pdays >= 0) & (dataset.pdays < 200)]\n",
        "sns.histplot(temp_data, x='pdays', hue='y', multiple='dodge', ax=ax[0], bins=20)\n",
        "ax[0].set_xlabel('Pdays')\n",
        "ax[0].set_ylabel('y')\n",
        "\n",
        "ax[1].set_title(\"200 <= Pdays < 375\")\n",
        "temp_data = dataset[(dataset.pdays >= 200) & (dataset.pdays < 375)]\n",
        "sns.histplot(temp_data, x='pdays', hue='y', multiple='dodge', ax=ax[1], bins=20)\n",
        "ax[1].set_xlabel('Pdays')\n",
        "ax[1].set_ylabel('y')\n",
        "\n",
        "ax[2].set_title(\"375 <= Pdays\")\n",
        "temp_data = dataset[dataset.pdays >= 375]\n",
        "sns.histplot(temp_data, x='pdays', hue='y', multiple='dodge', ax=ax[2], bins=20)\n",
        "ax[2].set_xlabel('Pdays')\n",
        "ax[2].set_ylabel('y')\n",
        "\n",
        "plt.show()"
      ],
      "metadata": {
        "id": "_VzjAgpuR4sE"
      },
      "execution_count": null,
      "outputs": []
    },
    {
      "cell_type": "markdown",
      "source": [
        "3.14 Previous"
      ],
      "metadata": {
        "id": "E6FY0I49So4B"
      }
    },
    {
      "cell_type": "markdown",
      "source": [
        "Previous는 outlier가 존재함을 확인하였습니다."
      ],
      "metadata": {
        "id": "2pgJgMTzSqbY"
      }
    },
    {
      "cell_type": "code",
      "source": [
        "sns.boxplot(dataset, x='previous', hue='y')\n",
        "plt.xticks(rotations=20)"
      ],
      "metadata": {
        "id": "P8e9APKzStQR"
      },
      "execution_count": null,
      "outputs": []
    },
    {
      "cell_type": "markdown",
      "source": [
        "분별력이 크지는 않아보이지만, 구간별로 결과 차이가 있어보여서 나누어보았습니다."
      ],
      "metadata": {
        "id": "3qvp1R7mSy5i"
      }
    },
    {
      "cell_type": "code",
      "source": [
        "fig, ax = plt.subplots(1, 3, figsize=(15, 5))\n",
        "\n",
        "ax[0].set_title(\"0 <= Previous < 5\")\n",
        "temp_data = dataset[(dataset.previous >= 0) & (dataset.previous < 5)]\n",
        "sns.histplot(temp_data, x='previous', hue='y', multiple='dodge', ax=ax[0], bins=20)\n",
        "ax[0].set_xlabel('Previous')\n",
        "ax[0].set_ylabel('y')\n",
        "\n",
        "ax[1].set_title(\"5 <= Previous < 20\")\n",
        "temp_data = dataset[(dataset.previous >= 5) & (dataset.previous < 20)]\n",
        "sns.histplot(temp_data, x='previous', hue='y', multiple='dodge', ax=ax[1], bins=20)\n",
        "ax[1].set_xlabel('Previous')\n",
        "ax[1].set_ylabel('y')\n",
        "\n",
        "ax[2].set_title(\"20 <= Pdays < 80\")\n",
        "temp_data = dataset[(dataset.previous >= 20) & (dataset.previous < 80)]\n",
        "sns.histplot(temp_data, x='previous', hue='y', multiple='dodge', ax=ax[2], bins=20)\n",
        "ax[2].set_xlabel('Previous')\n",
        "ax[2].set_ylabel('y')\n",
        "\n",
        "plt.show()"
      ],
      "metadata": {
        "id": "Bt7ZMkS1S4r_"
      },
      "execution_count": null,
      "outputs": []
    },
    {
      "cell_type": "markdown",
      "source": [
        "poutcome에는 unknown 데이터가 많은데, poutcome과 previous 데이터의 상관관계가 높아보여 그래프로 확인해보았습니다."
      ],
      "metadata": {
        "id": "Lu9Ozti7TceF"
      }
    },
    {
      "cell_type": "code",
      "source": [
        "fig, ax = plt.subplots(1, 3, figsize=(15, 5))\n",
        "\n",
        "ax[0].set_title(\"0 <= Previous < 5\")\n",
        "temp_data = dataset[(dataset.previous >= 0) & (dataset.previous < 5)]\n",
        "sns.histplot(temp_data, x='previous', hue='poutcome', multiple='dodge', ax=ax[0], bins=20)\n",
        "ax[0].set_xlabel('Previous')\n",
        "ax[0].set_ylabel('Poutcome')\n",
        "\n",
        "ax[1].set_title(\"5 <= Previous < 20\")\n",
        "temp_data = dataset[(dataset.previous >= 5) & (dataset.previous < 20)]\n",
        "sns.histplot(temp_data, x='previous', hue='poutcome', multiple='dodge', ax=ax[1], bins=20)\n",
        "ax[1].set_xlabel('Previous')\n",
        "ax[1].set_ylabel('Poutcome')\n",
        "\n",
        "ax[2].set_title(\"20 <= Pdays < 80\")\n",
        "temp_data = dataset[(dataset.previous >= 20) & (dataset.previous < 80)]\n",
        "sns.histplot(temp_data, x='previous', hue='poutcome', multiple='dodge', ax=ax[2], bins=20)\n",
        "ax[2].set_xlabel('Previous')\n",
        "ax[2].set_ylabel('Poutcome')\n",
        "\n",
        "plt.show()"
      ],
      "metadata": {
        "id": "GN0Zcs0-TlWR"
      },
      "execution_count": null,
      "outputs": []
    },
    {
      "cell_type": "markdown",
      "source": [
        "3.15 Poutcome"
      ],
      "metadata": {
        "id": "agCjMuART1fd"
      }
    },
    {
      "cell_type": "markdown",
      "source": [
        "Unknown 데이터가 압도적으로 많음  \n",
        "Poutcome값이 success인 경우에 Subscribed 비율이 압도적으로 높아서, unknown 데이터를 생성할 수 있다면 성능을 높일 수 있을것 같아 보였습니다."
      ],
      "metadata": {
        "id": "nl6ZpNXzT3E0"
      }
    },
    {
      "cell_type": "code",
      "source": [
        "plt.figure(figsize=(10, 4))\n",
        "ax = sns.histplot(dataset, x='poutcome', hue='y', stat='percent', multiple='dodge')\n",
        "for c in ax.containers:\n",
        "    labels = [f'{w:0.1f}%' if (w := v.get_height()) > 0 else '' for v in c]\n",
        "    ax.bar_label(c, labels=labels, label_type='edge', fontsize=8, rotation=0, padding=2)\n",
        "plt.xticks(rotation=20)"
      ],
      "metadata": {
        "id": "M4jJtItqUAgq"
      },
      "execution_count": null,
      "outputs": []
    },
    {
      "cell_type": "code",
      "source": [
        "ㅇ"
      ],
      "metadata": {
        "id": "PZGGg_OBTnCc"
      },
      "execution_count": null,
      "outputs": []
    },
    {
      "cell_type": "code",
      "source": [
        "ㅁㄴㅇ"
      ],
      "metadata": {
        "id": "77ELDjmnIMDO"
      },
      "execution_count": null,
      "outputs": []
    }
  ]
}