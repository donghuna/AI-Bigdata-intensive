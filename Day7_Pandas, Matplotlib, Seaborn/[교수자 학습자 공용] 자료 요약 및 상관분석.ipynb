{
 "cells": [
  {
   "cell_type": "markdown",
   "id": "9b01aa3d",
   "metadata": {},
   "source": [
    "---\n",
    "\n",
    "# * 자료의 요약: Five Number Summary (Box Plot은 시각화 내용에서 다룸)\n",
    "\n",
    ">PPT 교안의 예제를 풀어봅시다.\n"
   ]
  },
  {
   "cell_type": "markdown",
   "id": "dfe58b87",
   "metadata": {},
   "source": [
    "#### (1) 필요한 패키지 import 하기"
   ]
  },
  {
   "cell_type": "code",
   "execution_count": 1,
   "id": "bd2f4484",
   "metadata": {},
   "outputs": [],
   "source": [
    "import pandas as pd\n",
    "import numpy as np"
   ]
  },
  {
   "cell_type": "markdown",
   "id": "93bef9ab",
   "metadata": {},
   "source": [
    "#### (2) 분위수 계산을 통해 직접 구하기"
   ]
  },
  {
   "cell_type": "code",
   "execution_count": 2,
   "id": "35527651",
   "metadata": {},
   "outputs": [
    {
     "name": "stdout",
     "output_type": "stream",
     "text": [
      "Assignment Score in Statistics Class: [4, 5, 8, 8, 7, 5, 8, 8, 10, 6, 5, 8, 7, 9, 4, 6, 10, 7, 6, 9]\n"
     ]
    },
    {
     "data": {
      "text/plain": [
       "array([ 4,  4,  5,  5,  5,  6,  6,  6,  7,  7,  7,  8,  8,  8,  8,  8,  9,\n",
       "        9, 10, 10])"
      ]
     },
     "execution_count": 2,
     "metadata": {},
     "output_type": "execute_result"
    }
   ],
   "source": [
    "# PPT 교안에서의 데이터를 리스트로 정의\n",
    "score_list = [4,5,8,8,7,5,8,8,10,6,5,8,7,9,4,6,10,7,6,9]\n",
    "print(\"Assignment Score in Statistics Class:\", score_list)\n",
    "np.sort(score_list)"
   ]
  },
  {
   "cell_type": "code",
   "execution_count": 3,
   "id": "ac34a527",
   "metadata": {
    "scrolled": true
   },
   "outputs": [
    {
     "name": "stdout",
     "output_type": "stream",
     "text": [
      "=========================\n",
      " Five Number Summary\n",
      " (data: score_list)\n",
      "=========================\n",
      " Min: 4.000\n",
      " Q1: 5.750\n",
      " Median: 7.000\n",
      " Q3: 8.000\n",
      " Max: 10.000\n",
      "=========================\n"
     ]
    }
   ],
   "source": [
    "# Five Number Summary 값들 계산하기\n",
    "f_summary = np.percentile(score_list, [0, 25, 50, 75, 100])\n",
    "# Five Number Summary 출력하기\n",
    "print(\"=\"*25)\n",
    "print(\" Five Number Summary\")\n",
    "print(\" (data: score_list)\")\n",
    "print(\"=\"*25)\n",
    "print(\" Min: %.3f\" % f_summary[0])\n",
    "print(\" Q1: %.3f\" % f_summary[1])\n",
    "print(\" Median: %.3f\" % f_summary[2])\n",
    "print(\" Q3: %.3f\" % f_summary[3])\n",
    "print(\" Max: %.3f\" % f_summary[4])\n",
    "print(\"=\"*25)"
   ]
  },
  {
   "cell_type": "markdown",
   "id": "da016dac",
   "metadata": {},
   "source": [
    "### 참고: 1사분위수 값에 대한 고찰\n",
    "> 이론 내용에서는 단순히 중위수(중앙값)을 기준으로 두 그룹으로 나누어 다시 중위수를 구하는 형태로 설명하기도 하며, <br>\n",
    "일반적으로 엑셀, 파이썬, R 등에서는 비례보간법을 이용하므로 값이 다소 다르게 출력됨. 분위수를 구하는 방법은 약 8~9가지 정도로 <br>\n",
    "다양하며 참고 값으로 활용하기 때문에 사용하는 언어나 소프트웨어의 값을 그대로 사용해도 무방함."
   ]
  },
  {
   "cell_type": "markdown",
   "id": "cf9e2c87",
   "metadata": {},
   "source": [
    "#### (3) Pandas 패키지 이용해서 구하기"
   ]
  },
  {
   "cell_type": "code",
   "execution_count": 4,
   "id": "beb08486",
   "metadata": {},
   "outputs": [
    {
     "data": {
      "text/html": [
       "<div>\n",
       "<style scoped>\n",
       "    .dataframe tbody tr th:only-of-type {\n",
       "        vertical-align: middle;\n",
       "    }\n",
       "\n",
       "    .dataframe tbody tr th {\n",
       "        vertical-align: top;\n",
       "    }\n",
       "\n",
       "    .dataframe thead th {\n",
       "        text-align: right;\n",
       "    }\n",
       "</style>\n",
       "<table border=\"1\" class=\"dataframe\">\n",
       "  <thead>\n",
       "    <tr style=\"text-align: right;\">\n",
       "      <th></th>\n",
       "      <th>score</th>\n",
       "    </tr>\n",
       "  </thead>\n",
       "  <tbody>\n",
       "    <tr>\n",
       "      <th>0</th>\n",
       "      <td>4</td>\n",
       "    </tr>\n",
       "    <tr>\n",
       "      <th>1</th>\n",
       "      <td>5</td>\n",
       "    </tr>\n",
       "    <tr>\n",
       "      <th>2</th>\n",
       "      <td>8</td>\n",
       "    </tr>\n",
       "    <tr>\n",
       "      <th>3</th>\n",
       "      <td>8</td>\n",
       "    </tr>\n",
       "    <tr>\n",
       "      <th>4</th>\n",
       "      <td>7</td>\n",
       "    </tr>\n",
       "    <tr>\n",
       "      <th>5</th>\n",
       "      <td>5</td>\n",
       "    </tr>\n",
       "    <tr>\n",
       "      <th>6</th>\n",
       "      <td>8</td>\n",
       "    </tr>\n",
       "    <tr>\n",
       "      <th>7</th>\n",
       "      <td>8</td>\n",
       "    </tr>\n",
       "    <tr>\n",
       "      <th>8</th>\n",
       "      <td>10</td>\n",
       "    </tr>\n",
       "    <tr>\n",
       "      <th>9</th>\n",
       "      <td>6</td>\n",
       "    </tr>\n",
       "    <tr>\n",
       "      <th>10</th>\n",
       "      <td>5</td>\n",
       "    </tr>\n",
       "    <tr>\n",
       "      <th>11</th>\n",
       "      <td>8</td>\n",
       "    </tr>\n",
       "    <tr>\n",
       "      <th>12</th>\n",
       "      <td>7</td>\n",
       "    </tr>\n",
       "    <tr>\n",
       "      <th>13</th>\n",
       "      <td>9</td>\n",
       "    </tr>\n",
       "    <tr>\n",
       "      <th>14</th>\n",
       "      <td>4</td>\n",
       "    </tr>\n",
       "    <tr>\n",
       "      <th>15</th>\n",
       "      <td>6</td>\n",
       "    </tr>\n",
       "    <tr>\n",
       "      <th>16</th>\n",
       "      <td>10</td>\n",
       "    </tr>\n",
       "    <tr>\n",
       "      <th>17</th>\n",
       "      <td>7</td>\n",
       "    </tr>\n",
       "    <tr>\n",
       "      <th>18</th>\n",
       "      <td>6</td>\n",
       "    </tr>\n",
       "    <tr>\n",
       "      <th>19</th>\n",
       "      <td>9</td>\n",
       "    </tr>\n",
       "  </tbody>\n",
       "</table>\n",
       "</div>"
      ],
      "text/plain": [
       "    score\n",
       "0       4\n",
       "1       5\n",
       "2       8\n",
       "3       8\n",
       "4       7\n",
       "5       5\n",
       "6       8\n",
       "7       8\n",
       "8      10\n",
       "9       6\n",
       "10      5\n",
       "11      8\n",
       "12      7\n",
       "13      9\n",
       "14      4\n",
       "15      6\n",
       "16     10\n",
       "17      7\n",
       "18      6\n",
       "19      9"
      ]
     },
     "execution_count": 4,
     "metadata": {},
     "output_type": "execute_result"
    }
   ],
   "source": [
    "# PPT 교안에서의 데이터를 data frame으로 정의\n",
    "df_score= pd.DataFrame({'score': score_list})\n",
    "df_score"
   ]
  },
  {
   "cell_type": "code",
   "execution_count": 5,
   "id": "a1e59bca",
   "metadata": {},
   "outputs": [
    {
     "data": {
      "text/html": [
       "<div>\n",
       "<style scoped>\n",
       "    .dataframe tbody tr th:only-of-type {\n",
       "        vertical-align: middle;\n",
       "    }\n",
       "\n",
       "    .dataframe tbody tr th {\n",
       "        vertical-align: top;\n",
       "    }\n",
       "\n",
       "    .dataframe thead th {\n",
       "        text-align: right;\n",
       "    }\n",
       "</style>\n",
       "<table border=\"1\" class=\"dataframe\">\n",
       "  <thead>\n",
       "    <tr style=\"text-align: right;\">\n",
       "      <th></th>\n",
       "      <th>score</th>\n",
       "    </tr>\n",
       "  </thead>\n",
       "  <tbody>\n",
       "    <tr>\n",
       "      <th>count</th>\n",
       "      <td>20.000000</td>\n",
       "    </tr>\n",
       "    <tr>\n",
       "      <th>mean</th>\n",
       "      <td>7.000000</td>\n",
       "    </tr>\n",
       "    <tr>\n",
       "      <th>std</th>\n",
       "      <td>1.835326</td>\n",
       "    </tr>\n",
       "    <tr>\n",
       "      <th>min</th>\n",
       "      <td>4.000000</td>\n",
       "    </tr>\n",
       "    <tr>\n",
       "      <th>25%</th>\n",
       "      <td>5.750000</td>\n",
       "    </tr>\n",
       "    <tr>\n",
       "      <th>50%</th>\n",
       "      <td>7.000000</td>\n",
       "    </tr>\n",
       "    <tr>\n",
       "      <th>75%</th>\n",
       "      <td>8.000000</td>\n",
       "    </tr>\n",
       "    <tr>\n",
       "      <th>max</th>\n",
       "      <td>10.000000</td>\n",
       "    </tr>\n",
       "  </tbody>\n",
       "</table>\n",
       "</div>"
      ],
      "text/plain": [
       "           score\n",
       "count  20.000000\n",
       "mean    7.000000\n",
       "std     1.835326\n",
       "min     4.000000\n",
       "25%     5.750000\n",
       "50%     7.000000\n",
       "75%     8.000000\n",
       "max    10.000000"
      ]
     },
     "execution_count": 5,
     "metadata": {},
     "output_type": "execute_result"
    }
   ],
   "source": [
    "# Pandas 데이터 요약 함수 활용\n",
    "df_score.describe()"
   ]
  },
  {
   "cell_type": "code",
   "execution_count": 6,
   "id": "a13e5f2b",
   "metadata": {},
   "outputs": [
    {
     "data": {
      "text/html": [
       "<div>\n",
       "<style scoped>\n",
       "    .dataframe tbody tr th:only-of-type {\n",
       "        vertical-align: middle;\n",
       "    }\n",
       "\n",
       "    .dataframe tbody tr th {\n",
       "        vertical-align: top;\n",
       "    }\n",
       "\n",
       "    .dataframe thead th {\n",
       "        text-align: right;\n",
       "    }\n",
       "</style>\n",
       "<table border=\"1\" class=\"dataframe\">\n",
       "  <thead>\n",
       "    <tr style=\"text-align: right;\">\n",
       "      <th></th>\n",
       "      <th>score</th>\n",
       "    </tr>\n",
       "  </thead>\n",
       "  <tbody>\n",
       "    <tr>\n",
       "      <th>min</th>\n",
       "      <td>4.00</td>\n",
       "    </tr>\n",
       "    <tr>\n",
       "      <th>25%</th>\n",
       "      <td>5.75</td>\n",
       "    </tr>\n",
       "    <tr>\n",
       "      <th>50%</th>\n",
       "      <td>7.00</td>\n",
       "    </tr>\n",
       "    <tr>\n",
       "      <th>75%</th>\n",
       "      <td>8.00</td>\n",
       "    </tr>\n",
       "    <tr>\n",
       "      <th>max</th>\n",
       "      <td>10.00</td>\n",
       "    </tr>\n",
       "  </tbody>\n",
       "</table>\n",
       "</div>"
      ],
      "text/plain": [
       "     score\n",
       "min   4.00\n",
       "25%   5.75\n",
       "50%   7.00\n",
       "75%   8.00\n",
       "max  10.00"
      ]
     },
     "execution_count": 6,
     "metadata": {},
     "output_type": "execute_result"
    }
   ],
   "source": [
    "# Five Number Summary의 값만 불러오기\n",
    "df_score.describe().loc[['min', '25%', '50%', '75%', 'max']]"
   ]
  },
  {
   "cell_type": "markdown",
   "id": "7926d86f",
   "metadata": {},
   "source": [
    "# * 상관분석 (Correlation Analysis)\n",
    "\n",
    "### 예제:\n",
    "   어느 회사에서 영업사원들의 “지각 횟수(𝑋)”와 “제품 판매 횟수(𝑌)”가 서로 상관관계가 있는지 알아보고자 한다.<br>\n",
    "   영업사원 5명을 대상으로, 한 달 동안 지각 횟수와 판매 횟수를 조사한 결과가 아래와 같다.<br>\n",
    "   두 변수 간의 피어슨 상관계수와 스피어만 상관계수를 구해보자.\n",
    "   \n",
    "   |지각횟수(x)|판매횟수(y)|\n",
    "   |---|---|\n",
    "   |1|8|\n",
    "   |2|7|\n",
    "   |3|6|\n",
    "   |4|4|\n",
    "   |5|5|"
   ]
  },
  {
   "cell_type": "code",
   "execution_count": 15,
   "id": "db7d6bb5",
   "metadata": {},
   "outputs": [],
   "source": [
    "# 패키지 import\n",
    "import pandas as pd\n",
    "import scipy.stats as stats"
   ]
  },
  {
   "cell_type": "code",
   "execution_count": 16,
   "id": "5b5dddd6",
   "metadata": {},
   "outputs": [
    {
     "data": {
      "text/html": [
       "<div>\n",
       "<style scoped>\n",
       "    .dataframe tbody tr th:only-of-type {\n",
       "        vertical-align: middle;\n",
       "    }\n",
       "\n",
       "    .dataframe tbody tr th {\n",
       "        vertical-align: top;\n",
       "    }\n",
       "\n",
       "    .dataframe thead th {\n",
       "        text-align: right;\n",
       "    }\n",
       "</style>\n",
       "<table border=\"1\" class=\"dataframe\">\n",
       "  <thead>\n",
       "    <tr style=\"text-align: right;\">\n",
       "      <th></th>\n",
       "      <th>x</th>\n",
       "      <th>y</th>\n",
       "    </tr>\n",
       "  </thead>\n",
       "  <tbody>\n",
       "    <tr>\n",
       "      <th>0</th>\n",
       "      <td>1</td>\n",
       "      <td>8</td>\n",
       "    </tr>\n",
       "    <tr>\n",
       "      <th>1</th>\n",
       "      <td>2</td>\n",
       "      <td>7</td>\n",
       "    </tr>\n",
       "    <tr>\n",
       "      <th>2</th>\n",
       "      <td>3</td>\n",
       "      <td>6</td>\n",
       "    </tr>\n",
       "    <tr>\n",
       "      <th>3</th>\n",
       "      <td>4</td>\n",
       "      <td>4</td>\n",
       "    </tr>\n",
       "    <tr>\n",
       "      <th>4</th>\n",
       "      <td>5</td>\n",
       "      <td>5</td>\n",
       "    </tr>\n",
       "  </tbody>\n",
       "</table>\n",
       "</div>"
      ],
      "text/plain": [
       "   x  y\n",
       "0  1  8\n",
       "1  2  7\n",
       "2  3  6\n",
       "3  4  4\n",
       "4  5  5"
      ]
     },
     "metadata": {},
     "output_type": "display_data"
    }
   ],
   "source": [
    "# 데이터프레임 정의\n",
    "x = [1, 2, 3, 4, 5]\n",
    "y = [8, 7, 6, 4, 5]\n",
    "df = pd.DataFrame({'x':x,\n",
    "                  'y':y})\n",
    "display(df)"
   ]
  },
  {
   "cell_type": "code",
   "execution_count": 9,
   "id": "bfcebddd",
   "metadata": {},
   "outputs": [
    {
     "data": {
      "text/html": [
       "<div>\n",
       "<style scoped>\n",
       "    .dataframe tbody tr th:only-of-type {\n",
       "        vertical-align: middle;\n",
       "    }\n",
       "\n",
       "    .dataframe tbody tr th {\n",
       "        vertical-align: top;\n",
       "    }\n",
       "\n",
       "    .dataframe thead th {\n",
       "        text-align: right;\n",
       "    }\n",
       "</style>\n",
       "<table border=\"1\" class=\"dataframe\">\n",
       "  <thead>\n",
       "    <tr style=\"text-align: right;\">\n",
       "      <th></th>\n",
       "      <th>x</th>\n",
       "      <th>y</th>\n",
       "    </tr>\n",
       "  </thead>\n",
       "  <tbody>\n",
       "    <tr>\n",
       "      <th>x</th>\n",
       "      <td>1.0</td>\n",
       "      <td>-0.9</td>\n",
       "    </tr>\n",
       "    <tr>\n",
       "      <th>y</th>\n",
       "      <td>-0.9</td>\n",
       "      <td>1.0</td>\n",
       "    </tr>\n",
       "  </tbody>\n",
       "</table>\n",
       "</div>"
      ],
      "text/plain": [
       "     x    y\n",
       "x  1.0 -0.9\n",
       "y -0.9  1.0"
      ]
     },
     "execution_count": 9,
     "metadata": {},
     "output_type": "execute_result"
    }
   ],
   "source": [
    "# 상관계수(행렬) 구하기 - 피어슨 상관계수\n",
    "df.corr(method=\"pearson\") #default = pearson"
   ]
  },
  {
   "cell_type": "code",
   "execution_count": 10,
   "id": "21ba6da8",
   "metadata": {},
   "outputs": [
    {
     "data": {
      "text/html": [
       "<div>\n",
       "<style scoped>\n",
       "    .dataframe tbody tr th:only-of-type {\n",
       "        vertical-align: middle;\n",
       "    }\n",
       "\n",
       "    .dataframe tbody tr th {\n",
       "        vertical-align: top;\n",
       "    }\n",
       "\n",
       "    .dataframe thead th {\n",
       "        text-align: right;\n",
       "    }\n",
       "</style>\n",
       "<table border=\"1\" class=\"dataframe\">\n",
       "  <thead>\n",
       "    <tr style=\"text-align: right;\">\n",
       "      <th></th>\n",
       "      <th>x</th>\n",
       "      <th>y</th>\n",
       "    </tr>\n",
       "  </thead>\n",
       "  <tbody>\n",
       "    <tr>\n",
       "      <th>x</th>\n",
       "      <td>1.0</td>\n",
       "      <td>-0.9</td>\n",
       "    </tr>\n",
       "    <tr>\n",
       "      <th>y</th>\n",
       "      <td>-0.9</td>\n",
       "      <td>1.0</td>\n",
       "    </tr>\n",
       "  </tbody>\n",
       "</table>\n",
       "</div>"
      ],
      "text/plain": [
       "     x    y\n",
       "x  1.0 -0.9\n",
       "y -0.9  1.0"
      ]
     },
     "execution_count": 10,
     "metadata": {},
     "output_type": "execute_result"
    }
   ],
   "source": [
    "# 상관계수(행렬) 구하기 - 스피어만 상관계수\n",
    "df.corr(method=\"spearman\") # spearman"
   ]
  },
  {
   "cell_type": "code",
   "execution_count": 13,
   "id": "cb0fbb60",
   "metadata": {},
   "outputs": [
    {
     "data": {
      "text/plain": [
       "PearsonRResult(statistic=-0.9, pvalue=0.03738607346849864)"
      ]
     },
     "execution_count": 13,
     "metadata": {},
     "output_type": "execute_result"
    }
   ],
   "source": [
    "# 피어슨 상관검정\n",
    "stats.pearsonr(x,y)"
   ]
  },
  {
   "cell_type": "code",
   "execution_count": 17,
   "id": "f488afa8",
   "metadata": {},
   "outputs": [
    {
     "data": {
      "text/plain": [
       "SignificanceResult(statistic=-0.8999999999999998, pvalue=0.03738607346849875)"
      ]
     },
     "execution_count": 17,
     "metadata": {},
     "output_type": "execute_result"
    }
   ],
   "source": [
    "# 스피어만 상관검정\n",
    "stats.spearmanr(x,y)"
   ]
  }
 ],
 "metadata": {
  "kernelspec": {
   "display_name": "Python 3 (ipykernel)",
   "language": "python",
   "name": "python3"
  },
  "language_info": {
   "codemirror_mode": {
    "name": "ipython",
    "version": 3
   },
   "file_extension": ".py",
   "mimetype": "text/x-python",
   "name": "python",
   "nbconvert_exporter": "python",
   "pygments_lexer": "ipython3",
   "version": "3.9.13"
  }
 },
 "nbformat": 4,
 "nbformat_minor": 5
}
