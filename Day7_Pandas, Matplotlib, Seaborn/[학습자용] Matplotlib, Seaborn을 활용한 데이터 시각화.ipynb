{
 "cells": [
  {
   "cell_type": "markdown",
   "id": "823c36b2",
   "metadata": {},
   "source": [
    "---\n",
    "\n",
    "# Python을 활용한 데이터 분석 및 시각화\n",
    "## - Package: Matplotlib, Seaborn\n",
    "\n",
    "---"
   ]
  },
  {
   "cell_type": "markdown",
   "id": "07e549f2",
   "metadata": {},
   "source": [
    "---\n",
    "\n",
    "# Part 1: Matplotlib을 활용한 데이터 시각화\n",
    "\n",
    "## 1. Matplotlib 패키지 기본 사용법 및 차트 설정하기\n",
    "\n",
    ">1. 패키지 import 및 기본 사용법\n",
    ">2. 축 레이블 설정 및 차트 타이틀 설정\n",
    ">3. 범례 표시\n",
    ">4. 축 범위 및 스케일 지정\n",
    ">5. 선 종류, 마커, 색상 등 지정하기\n",
    "---"
   ]
  },
  {
   "cell_type": "markdown",
   "id": "a4c6e7cc",
   "metadata": {},
   "source": [
    "## matplotlib 차트(figure)의 기본 구조"
   ]
  },
  {
   "cell_type": "markdown",
   "id": "e34c3f8d",
   "metadata": {},
   "source": [
    "![nn](https://matplotlib.org/stable/_images/anatomy.png)"
   ]
  },
  {
   "cell_type": "markdown",
   "id": "1075823b",
   "metadata": {},
   "source": [
    "### 1-1. 패키지 설치 및 기본 사용법\n",
    "\n",
    ">matplotlib.pyplot 모듈은 MATLAB과 비슷하게 명령어 스타일로 동작하는 함수의 모음입니다. <br>\n",
    ">matplotlib.pyplot 모듈의 각각의 함수를 사용해서 간편하게 그래프를 만들고 변화를 줄 수 있습니다. <br>\n",
    ">예를 들어, 그래프 영역을 만들고, 몇 개의 선을 표현하고, 레이블로 꾸미는 등의 일을 할 수 있습니다."
   ]
  },
  {
   "cell_type": "markdown",
   "id": "a834b896",
   "metadata": {},
   "source": [
    "#### (1) 패키지 설치 및 pyplot import 하기"
   ]
  },
  {
   "cell_type": "code",
   "execution_count": null,
   "id": "4c2e1e85",
   "metadata": {},
   "outputs": [],
   "source": [
    "# 패키지 설치 및 import\n",
    "!pip install matplotlib\n",
    "import matplotlib\n",
    "import matplotlib.pyplot as plt #pyplot\n",
    "\n",
    "#한글 깨짐 방지\n",
    "plt.rcParams['font.family'] = 'Malgun Gothic' \n",
    "matplotlib.rcParams['axes.unicode_minus'] = False\n",
    "# 차트 전체 크기 기본 설정\n",
    "plt.rcParams['figure.figsize'] = (8, 6)"
   ]
  },
  {
   "cell_type": "markdown",
   "id": "9c12c877",
   "metadata": {},
   "source": [
    "#### (2) 기본 사용 1: 단일 리스트\n",
    "> pyplot.plot() 함수에 하나의 숫자 리스트를 입력함으로써 아래와 같은 그래프가 그려집니다. <br>\n",
    "> plot() 함수는 리스트의 값들이 y 값들이라고 가정하고, x 값 [0, 1, 2, 3]을 자동으로 만들어냅니다.<br>\n",
    "> matplotlib.pyplot 모듈의 show() 함수는 그래프를 화면에 나타나도록 합니다."
   ]
  },
  {
   "cell_type": "code",
   "execution_count": null,
   "id": "27292560",
   "metadata": {
    "scrolled": false
   },
   "outputs": [],
   "source": [
    "# 기본 그래프\n",
    "x_1 = [1,2,3,4] \n",
    "plt.plot(x_1)\n",
    "plt.show()"
   ]
  },
  {
   "cell_type": "markdown",
   "id": "82127e5b",
   "metadata": {},
   "source": [
    "#### (2) 기본 사용 2: 두 개의 리스트\n",
    ">plot() 함수는 다양한 기능을 포함하고 있어서, 임의의 개수의 인자를 받을 수 있습니다. <br>\n",
    ">예를 들어, 아래와 같이 입력하면, x-y 값을 그래프로 나타낼 수 있습니다."
   ]
  },
  {
   "cell_type": "code",
   "execution_count": null,
   "id": "eeb8063c",
   "metadata": {
    "scrolled": false
   },
   "outputs": [],
   "source": [
    "plt.plot([1, 2, 3, 4], [1, 4, 9, 16])\n",
    "plt.show()"
   ]
  },
  {
   "cell_type": "markdown",
   "id": "4e18d369",
   "metadata": {},
   "source": [
    "#### (3) 기본 스타일 지정\n",
    ">아래 표의 문자에 따른 색상과 마커를 참조하여, 색상 및 마커의 조합으로 스타일을 지정할 수 있다."
   ]
  },
  {
   "cell_type": "markdown",
   "id": "e4c3c9c9",
   "metadata": {},
   "source": [
    "|문자|색상||문자|마커|\n",
    "|---|--- |---|:-----|:---|\n",
    "|b |blue ||.\t|point|\n",
    "|g |green ||,\t|pixel|\n",
    "|r |red ||o\t|circle|\n",
    "|c |cyan ||v\t|triangle down|\n",
    "|m |magenta ||^\t|triangle up|\n",
    "|y |yellow ||<\t|triangle left|\n",
    "|k |black ||>\t|triangle right|\n",
    "|w |white ||1\t|triangle down 2|\n",
    "| | ||2\t|triangle up 2|\n",
    "| | ||3\t|triangle left 2|\n",
    "| | ||4\t|triangle right 2|\n",
    "| | ||s\t|square|\n",
    "| | ||p\t|pentagon|\n",
    "| | ||*\t|star|\n",
    "| | ||h\t|hexagon 1|\n",
    "| | ||H\t|hexagon 2|\n",
    "| | ||+\t|plus|\n",
    "| | ||x\t|x|\n",
    "| | ||D\t|diamond|\n",
    "| | ||d\t|thin diamond|\n",
    "| | ||–\t|hline|"
   ]
  },
  {
   "cell_type": "markdown",
   "id": "13a223c4",
   "metadata": {},
   "source": [
    "#### (4) 하나의 플롯에 여러 그래프 중첩하여 그리기\n",
    "\n",
    ">Matplotlib에서는 일반적으로 NumPy 어레이를 이용하게 되는데, <br>\n",
    ">사실 NumPy 어레이를 사용하지 않더라도 모든 시퀀스는 내부적으로 NumPy 어레이로 변환됩니다. <br>\n",
    ">이 예제는 다양한 스타일을 갖는 여러 개의 곡선을 하나의 그래프로 나타냅니다.<br><br>\n",
    "><b>* 예시 데이터: 200ms 간격으로 균일하게 샘플된 시간</b>"
   ]
  },
  {
   "cell_type": "code",
   "execution_count": null,
   "id": "46e04af2",
   "metadata": {
    "scrolled": false
   },
   "outputs": [],
   "source": [
    "t = np.arange(0., 5., 0.2) #numpy가 import 된 상태여야 함\n",
    "\n",
    "# 빨간 대쉬, 파란 사각형, 녹색 삼각형\n",
    "plt.plot(t, t, 'r--', t, t**2, 'bs', t, t**3, 'g^')\n",
    "plt.show()"
   ]
  },
  {
   "cell_type": "markdown",
   "id": "942a3b04",
   "metadata": {},
   "source": [
    "#### (5) 레이블이 있는 데이터의 그래프 그리기\n",
    "\n",
    ">파이썬 딕셔너리와 같이 레이블이 있는 데이터를 그래프로 나타낼 수 있습니다. <br>\n",
    "> 아래 예제에서와 같이, 먼저 plot() 함수에 데이터의 레이블 (딕셔너리의 키)을 입력해주고,data 파라미터에 딕셔너리를 지정해줍니다."
   ]
  },
  {
   "cell_type": "code",
   "execution_count": null,
   "id": "f44f98e3",
   "metadata": {
    "scrolled": false
   },
   "outputs": [],
   "source": [
    "data_dict = {'data_x': [1, 2, 3, 4, 5], 'data_y': [2, 3, 5, 10, 8]} # 딕셔너리 타입의 데이터 선언\n",
    "\n",
    "# x와 y 위치에 딕셔너리의 키를 이용해 데이터를 입력\n",
    "plt.plot('data_x', 'data_y', data=data_dict)\n",
    "# 그래프 출력\n",
    "plt.show()"
   ]
  },
  {
   "cell_type": "markdown",
   "id": "14bbcd51",
   "metadata": {},
   "source": [
    "---"
   ]
  },
  {
   "cell_type": "markdown",
   "id": "5e9987f2",
   "metadata": {},
   "source": [
    "### 1-2. 축 레이블 설정 및 차트 제목 설정"
   ]
  },
  {
   "cell_type": "markdown",
   "id": "3dea2630",
   "metadata": {},
   "source": [
    "#### (1) 축 레이블 기본 설정\n",
    "> matplotlib.pyplot 모듈의 title() 함수를 이용해서 그래프의 타이틀 (Title)을 설정할 수 있습니다. <br> \n",
    "> plt.title() 함수의 loc 파라미터를 ‘right’로 설정하면, 타이틀이 그래프의 오른쪽 위에 나타나게 됩니다.<br>\n",
    ">> {‘left’, ‘center’, ‘right’} 중 선택할 수 있으며 디폴트는 ‘center’입니다.\n"
   ]
  },
  {
   "cell_type": "code",
   "execution_count": null,
   "id": "669c4a58",
   "metadata": {
    "scrolled": false
   },
   "outputs": [],
   "source": [
    "plt.plot([1, 2, 3, 4], [1, 4, 9, 16])\n",
    "plt.xlabel('X-Label')\n",
    "plt.ylabel('Y-Label')\n",
    "plt.show()"
   ]
  },
  {
   "cell_type": "markdown",
   "id": "b93690de",
   "metadata": {},
   "source": [
    "#### (2) 축 레이블 여백 지정\n",
    "> xlabel(), ylabel() 함수의 labelpad 파라미터는 축 레이블의 여백 (Padding)을 지정하며, <br>\n",
    "> 예제에서는 X축 레이블에 대해서 15pt, Y축 레이블에 대해서 20pt 만큼의 여백을 지정하였습니다."
   ]
  },
  {
   "cell_type": "code",
   "execution_count": null,
   "id": "97bee146",
   "metadata": {
    "scrolled": false
   },
   "outputs": [],
   "source": [
    "plt.plot([1, 2, 3, 4], [2, 3, 5, 10])\n",
    "plt.xlabel('X-Axis', labelpad=15)\n",
    "plt.ylabel('Y-Axis', labelpad=20)\n",
    "plt.show()"
   ]
  },
  {
   "cell_type": "markdown",
   "id": "6f2b65a6",
   "metadata": {},
   "source": [
    "#### (3) 축 레이블 위치 지정\n",
    "> xlabel() 함수의 loc 파라미터는 X축 레이블의 위치를 지정합니다. ({‘left’, ‘center’, ‘right’}) <br>\n",
    "> ylabel() 함수의 loc 파라미터는 Y축 레이블의 위치를 지정합니다. ({‘bottom’, ‘center’, ‘top’}) <br><br>\n",
    "> <b> - Note:  loc 파라미터는 Matplotlib 3.3 이후 버전부터 적용 </b>"
   ]
  },
  {
   "cell_type": "code",
   "execution_count": null,
   "id": "fb6f27a3",
   "metadata": {
    "scrolled": false
   },
   "outputs": [],
   "source": [
    "plt.plot([1, 2, 3, 4], [2, 3, 5, 10])\n",
    "plt.xlabel('X-Axis', loc='right')\n",
    "plt.ylabel('Y-Axis', loc='top')\n",
    "plt.show()"
   ]
  },
  {
   "cell_type": "markdown",
   "id": "1648b7b3",
   "metadata": {},
   "source": [
    "#### (4) 축 레이블 폰트(글꼴) 지정\n",
    "> xlabel(), ylabel() 함수의 fontdict 파라미터를 사용하면 축 레이블의 폰트 스타일을 설정할 수 있습니다. <br>\n",
    "> 예제에서는 ‘family’, ‘color’, ‘weight’, ‘size’와 같은 속성을 사용해서 축 레이블 텍스트를 설정했습니다. <br>\n",
    "> 폰트 설정 값을 딕셔너리 타입의 변수로 설정하면, 편리하게 재사용 할 수 있습니다."
   ]
  },
  {
   "cell_type": "code",
   "execution_count": null,
   "id": "baf43da0",
   "metadata": {
    "scrolled": false
   },
   "outputs": [],
   "source": [
    "plt.plot([1, 2, 3, 4], [2, 3, 5, 10])\n",
    "plt.xlabel('X-Axis', labelpad=15, fontdict={'family': 'serif', 'color': 'b', 'weight': 'bold', 'size': 14})\n",
    "plt.ylabel('Y-Axis', labelpad=20, fontdict={'family': 'fantasy', 'color': 'deeppink', 'weight': 'normal', 'size': 'xx-large'})\n",
    "plt.show()"
   ]
  },
  {
   "cell_type": "code",
   "execution_count": null,
   "id": "bb4ac36b",
   "metadata": {},
   "outputs": [],
   "source": [
    "# 폰트 설정에 대한 딕셔너리 변수 선언\n",
    "font_style_1 = {\n",
    "    'family': 'serif',\n",
    "    'color': 'blue',\n",
    "    'weight': 'bold',\n",
    "    'size': 12\n",
    "}\n",
    "\n",
    "font_style_2 = {\n",
    "    'family': 'fantasy',\n",
    "    'color': 'red',\n",
    "    'weight': 'normal',\n",
    "    'size': 18\n",
    "}\n",
    "# 딕셔너리 변수 활용 폰트 설정\n",
    "plt.plot([1, 2, 3, 4], [2, 3, 5, 10])\n",
    "plt.xlabel('X-Axis', labelpad=15, fontdict=font_style_1)\n",
    "plt.ylabel('Y-Axis', labelpad=20, fontdict=font_style_2)\n",
    "plt.show()"
   ]
  },
  {
   "cell_type": "markdown",
   "id": "746c5ec5",
   "metadata": {},
   "source": [
    "#### (5) 차트 제목 기본 설정\n",
    "> matplotlib.pyplot 모듈의 title() 함수를 이용해서 그래프의 타이틀 (Title)을 설정할 수 있습니다. <br> \n",
    "> 예제에서는 title() 함수를 이용해서 그래프의 타이틀을 ‘Graph Title’로 설정했습니다."
   ]
  },
  {
   "cell_type": "code",
   "execution_count": null,
   "id": "0e430067",
   "metadata": {},
   "outputs": [],
   "source": [
    "plt.plot([1, 2, 3, 4], [2, 3, 5, 10])\n",
    "plt.xlabel('X-Axis', labelpad=15, fontdict={'family': 'serif', 'color': 'b', 'weight': 'bold', 'size': 14})\n",
    "plt.ylabel('Y-Axis', labelpad=20, fontdict={'family': 'fantasy', 'color': 'deeppink', 'weight': 'normal', 'size': 'xx-large'})\n",
    "plt.title('Graph Title')\n",
    "plt.show()"
   ]
  },
  {
   "cell_type": "markdown",
   "id": "8e8a8de2",
   "metadata": {},
   "source": [
    "#### (6) 차트 제목 위치와 간격 지정\n",
    "> plt.title() 함수의 loc 파라미터를 ‘right’로 설정하면, 타이틀이 그래프의 오른쪽 위에 나타나게 됩니다. <br>\n",
    "> {‘left’, ‘center’, ‘right’} 중 선택할 수 있으며 디폴트는 ‘center’입니다. <br><br>\n",
    "> pad 파라미터는 타이틀과 그래프와의 간격을 포인트 단위로 설정합니다."
   ]
  },
  {
   "cell_type": "code",
   "execution_count": null,
   "id": "9d7cc6c4",
   "metadata": {
    "scrolled": false
   },
   "outputs": [],
   "source": [
    "plt.plot([1, 2, 3, 4], [2, 3, 5, 10])\n",
    "plt.xlabel('X-Axis', labelpad=15, fontdict={'family': 'serif', 'color': 'b', 'weight': 'bold', 'size': 14})\n",
    "plt.ylabel('Y-Axis', labelpad=20, fontdict={'family': 'fantasy', 'color': 'deeppink', 'weight': 'normal', 'size': 'xx-large'})\n",
    "plt.title('Graph Title', loc='right', pad=20)\n",
    "plt.show()"
   ]
  },
  {
   "cell_type": "markdown",
   "id": "b1bf8877",
   "metadata": {},
   "source": [
    "#### (7) 차트 제목 폰트 설정\n",
    "> fontdict 파라미터에 딕셔너리 형태로 폰트 스타일을 설정할 수 있습니다. <br>\n",
    ">‘fontsize’를 16으로, ‘fontweight’를 ‘bold’로 설정했습니다. <br>\n",
    ">‘fontweight’에는 {‘normal’, ‘bold’, ‘heavy’, ‘light’, ‘ultrabold’, ‘ultralight’}와 같이 설정할 수 있습니다."
   ]
  },
  {
   "cell_type": "code",
   "execution_count": null,
   "id": "7b3943b1",
   "metadata": {
    "scrolled": false
   },
   "outputs": [],
   "source": [
    "plt.plot([1, 2, 3, 4], [2, 3, 5, 10])\n",
    "plt.xlabel('X-Axis', labelpad=15, fontdict={'family': 'serif', 'color': 'b', 'weight': 'bold', 'size': 14})\n",
    "plt.ylabel('Y-Axis', labelpad=20, fontdict={'family': 'fantasy', 'color': 'deeppink', 'weight': 'normal', 'size': 'xx-large'})\n",
    "\n",
    "plt.title('Graph Title', loc='right', pad=20)\n",
    "\n",
    "# 제목에 사용할 딕셔너리 정의 (P)\n",
    "\n",
    "\n",
    "\n",
    "# 제목 폰트서식, 위치 왼쪽, 간격 20  설정 (P)\n",
    "\n",
    "\n",
    "\n",
    "plt.show()"
   ]
  },
  {
   "cell_type": "markdown",
   "id": "d2842b4e",
   "metadata": {},
   "source": [
    "### 1-3. 범례(legend) 표시\n",
    ">범례 (Legend)는 그래프에 데이터의 종류를 표시하기 위한 텍스트입니다. <br>\n",
    "> matplotlib.pyplot 모듈의 legend() 함수를 사용해서 그래프에 범례를 표시할 수 있습니다."
   ]
  },
  {
   "cell_type": "markdown",
   "id": "78a1532d",
   "metadata": {},
   "source": [
    "#### (1) 범례 기본 설정\n",
    "> 그래프 영역에 범례를 나타내기 위해서는 우선 plot() 함수에 label 문자열을 지정하고, <br>\n",
    "matplotlib.pyplot 모듈의 legend() 함수를 호출합니다."
   ]
  },
  {
   "cell_type": "code",
   "execution_count": null,
   "id": "c56dac70",
   "metadata": {},
   "outputs": [],
   "source": [
    "plt.plot([1, 2, 3, 4], [2, 3, 5, 10], label='Price ($)')\n",
    "plt.xlabel('X-Axis')\n",
    "plt.ylabel('Y-Axis')\n",
    "plt.legend()\n",
    "\n",
    "plt.show()"
   ]
  },
  {
   "cell_type": "markdown",
   "id": "9c21bf27",
   "metadata": {},
   "source": [
    "#### (2) 범례 위치 설정\n",
    "> legend() 함수의 loc 파라미터를 이용해서 범례가 표시될 위치를 설정할 수 있습니다. <br>\n",
    "loc 파라미터를 숫자 쌍 튜플로 지정하면, 해당하는 위치에 범례가 표시됩니다. <br>\n",
    "loc=(0.0, 0.0)은 데이터 영역의 왼쪽 아래, loc=(1.0, 1.0)은 데이터 영역의 오른쪽 위 위치입니다.<br>\n",
    "loc 파라미터에 여러 숫자 쌍을 입력하면서 범례의 위치를 확인해봅시다."
   ]
  },
  {
   "cell_type": "code",
   "execution_count": null,
   "id": "60c45b59",
   "metadata": {},
   "outputs": [],
   "source": [
    "#plt.legend(loc=(0.0, 0.0))\n",
    "#plt.legend(loc=(0.5, 0.5))\n",
    "#plt.legend(loc=(1.0, 1.0))"
   ]
  },
  {
   "cell_type": "code",
   "execution_count": null,
   "id": "37317cb8",
   "metadata": {},
   "outputs": [],
   "source": [
    "plt.plot([1, 2, 3, 4], [2, 3, 5, 10], label='Price ($)')\n",
    "plt.xlabel('X-Axis')\n",
    "plt.ylabel('Y-Axis')\n",
    "plt.legend(loc=(1, 1))\n",
    "\n",
    "plt.show()"
   ]
  },
  {
   "cell_type": "markdown",
   "id": "251c49e4",
   "metadata": {},
   "source": [
    "> loc 파라미터는 예제에서와 같이 문자열로 지정할 수도 있고, 숫자 코드를 사용할 수도 있습니다. <br>\n",
    "loc=’lower right’와 같이 지정하면 아래와 같이 오른쪽 아래에 범례가 표시됩니다.\n",
    "아래 표를 참조하여 위치를 변경하며 확인해봅시다.\n",
    "\n",
    "|Location String | Location Code|\n",
    "|---|---|\n",
    "|'best' (Axes only)|\t0|\n",
    "|'upper right'\t|1|\n",
    "|'upper left'\t|2|\n",
    "|'lower left'\t|3|\n",
    "|'lower right'\t|4|\n",
    "|'right'\t|5|\n",
    "|'center left'\t|6|\n",
    "|'center right'\t|7|\n",
    "|'lower center'\t|8|\n",
    "|'upper center'\t|9|\n",
    "|'center'\t|10|"
   ]
  },
  {
   "cell_type": "code",
   "execution_count": null,
   "id": "20689d7a",
   "metadata": {
    "scrolled": false
   },
   "outputs": [],
   "source": [
    "plt.plot([1, 2, 3, 4], [2, 3, 5, 10], label='Price ($)')\n",
    "plt.xlabel('X-Axis')\n",
    "plt.ylabel('Y-Axis')\n",
    "plt.legend(loc='lower right') #String or Code\n",
    "\n",
    "plt.show()"
   ]
  },
  {
   "cell_type": "markdown",
   "id": "60a48b87",
   "metadata": {},
   "source": [
    "#### (3) 여러 y 값인 경우, 범례 열 개수 지정하기\n",
    "> legend() 함수의 ncol 파라미터는 범례에 표시될 텍스트의 열의 개수를 지정합니다. <br>\n",
    "기본적으로 범례 텍스트는 첫 번째 예시와 같이 1개의 열로 표시되며, <br>\n",
    "ncol=2로 지정하면 아래 두번째 그림과 같이 표시됩니다."
   ]
  },
  {
   "cell_type": "markdown",
   "id": "28ce4896",
   "metadata": {},
   "source": [
    "#### (4) 폰트 크기 설정\n",
    "> legend() 함수의 fontsize 파라미터는 범례에 표시될 폰트의 크기를 지정합니다. <br>\n",
    "예시는 폰트 크기를 14로 지정한 것입니다."
   ]
  },
  {
   "cell_type": "code",
   "execution_count": null,
   "id": "449ee5bd",
   "metadata": {
    "scrolled": true
   },
   "outputs": [],
   "source": [
    "plt.plot([1, 2, 3, 4], [2, 3, 5, 10], label='Price ($)')\n",
    "plt.plot([1, 2, 3, 4], [3, 5, 9, 7], label='Demand (#)')\n",
    "plt.xlabel('X-Axis')\n",
    "plt.ylabel('Y-Axis')\n",
    "\n",
    "#범례 설정하기 (위치, 형태, 글꼴크기) (P)\n",
    "\n",
    "\n",
    "plt.show()"
   ]
  },
  {
   "cell_type": "markdown",
   "id": "f6c85279",
   "metadata": {},
   "source": [
    "### 1-4. 축 범위 및 스케일 지정\n",
    ">matplotlib.pyplot 모듈의 xlim(), ylim(), axis() 함수를 사용하면 그래프의 X, Y축이 표시되는 범위를 지정할 수 있습니다. <br>\n",
    ">>xlim() - X축이 표시되는 범위를 지정하거나 반환합니다.<br>\n",
    "ylim() - Y축이 표시되는 범위를 지정하거나 반환합니다.<br>\n",
    "axis() - X, Y축이 표시되는 범위를 지정하거나 반환합니다."
   ]
  },
  {
   "cell_type": "markdown",
   "id": "dca38fc0",
   "metadata": {},
   "source": [
    "#### (1) 축 범위 기본 설정 - xlim(), ylim() 활용\n",
    "> xlim() 함수에 xmin, xmax 값을 각각 입력하거나 리스트 또는 튜플의 형태로 입력합니다. <br>\n",
    "ylim() 함수에 ymin, ymax 값을 각각 입력하거나 리스트 또는 튜플의 형태로 입력합니다. <br>\n",
    "입력값이 없으면 데이터에 맞게 자동으로 범위를 지정합니다."
   ]
  },
  {
   "cell_type": "code",
   "execution_count": null,
   "id": "6eacae18",
   "metadata": {
    "scrolled": false
   },
   "outputs": [],
   "source": [
    "plt.plot([1, 2, 3, 4], [2, 3, 5, 10])\n",
    "plt.xlabel('X-Axis')\n",
    "plt.ylabel('Y-Axis')\n",
    "# X축의 범위: [xmin, xmax] (P)\n",
    "\n",
    "# Y축의 범위: [ymin, ymax] (P)\n",
    "\n",
    "plt.show()"
   ]
  },
  {
   "cell_type": "markdown",
   "id": "5c22ea26",
   "metadata": {},
   "source": [
    "#### (2) 축 범위 기본 설정 - axis()활용\n",
    "> axis() 함수에 [xmin, xmax, ymin, ymax]의 형태로 X, Y축의 범위를 지정할 수 있습니다. <br>\n",
    "axis() 함수에 입력한 리스트 (또는 튜플)는 반드시 네 개의 값 (xmin, xmax, ymin, ymax)이 있어야 합니다.<br>\n",
    "입력값이 없으면 데이터에 맞게 자동으로 범위를 지정합니다."
   ]
  },
  {
   "cell_type": "code",
   "execution_count": null,
   "id": "016cb51f",
   "metadata": {
    "scrolled": false
   },
   "outputs": [],
   "source": [
    "plt.plot([1, 2, 3, 4], [2, 3, 5, 10])\n",
    "plt.xlabel('X-Axis')\n",
    "plt.ylabel('Y-Axis')\n",
    "# X, Y축의 범위: [xmin, xmax, ymin, ymax] (P)\n",
    "\n",
    "\n",
    "plt.show()"
   ]
  },
  {
   "cell_type": "markdown",
   "id": "09c17448",
   "metadata": {},
   "source": [
    "#### (3) 축 스케일 기본 설정\n",
    "> matplotlib.pyplot 모듈의 xscale(), yscale() 함수를 사용해서 그래프의 축 스케일을 다양하게 지정할 수 있습니다. <br>\n",
    "축은 기본적으로 ‘linear’ 스케일로 표시되지만 ‘log’, ‘symlog’, ‘logit’으로 변경할 수 있습니다."
   ]
  },
  {
   "cell_type": "code",
   "execution_count": null,
   "id": "8c83b4d6",
   "metadata": {
    "scrolled": false
   },
   "outputs": [],
   "source": [
    "# x축 스케일 변경 예제\n",
    "x = np.linspace(-10, 10, 100)\n",
    "y = x ** 3\n",
    "\n",
    "plt.plot(x, y)\n",
    "plt.title(\"Linear Scale (Default)\")\n",
    "plt.show()\n",
    "\n",
    "#x축을 symlog스케일로 바꾸고, 그래프 제목을 \"x axis Symmetrical Log Scale\"로 설정 (P)\n",
    "\n",
    "\n",
    "\n"
   ]
  },
  {
   "cell_type": "code",
   "execution_count": null,
   "id": "0528fad6",
   "metadata": {},
   "outputs": [],
   "source": [
    "#y축 스케일 변경 예제\n",
    "\n",
    "x = np.linspace(0, 5, 100)\n",
    "y = np.exp(x)\n",
    "\n",
    "plt.plot(x, y)\n",
    "plt.title(\"Linear Scale (Default)\")\n",
    "plt.show()\n",
    "\n",
    "#y축을 log스케일로 바꾸고, 그래프 제목을 \"y-axis Log Scale\"로 설정 (P)\n",
    "\n",
    "\n",
    "\n"
   ]
  },
  {
   "cell_type": "markdown",
   "id": "3314d501",
   "metadata": {},
   "source": [
    "### 1-5. 색상, 선 종류, 마커 설정"
   ]
  },
  {
   "cell_type": "markdown",
   "id": "2024f767",
   "metadata": {},
   "source": [
    "#### (1) 색상 기본 설정\n",
    "> plot() 함수의 color 키워드 인자 또는 Hex code를 이용하여 색상을 설정할 수 있습니다.\n"
   ]
  },
  {
   "cell_type": "code",
   "execution_count": null,
   "id": "fb383645",
   "metadata": {
    "scrolled": false
   },
   "outputs": [],
   "source": [
    "# 키워드 사용 예시\n",
    "plt.plot([1, 2, 3, 4], [2.0, 3.0, 5.0, 10.0], color = 'red')\n",
    "plt.plot([1, 2, 3, 4], [2.0, 2.8, 4.3, 6.5], color = 'green')\n",
    "plt.plot([1, 2, 3, 4], [2.0, 2.5, 3.3, 4.5], color = 'blue')\n",
    "plt.xlabel('X-Axis')\n",
    "plt.ylabel('Y-Axis')\n",
    "plt.title(\"Color Setting using Keyword\")\n",
    "plt.show()\n",
    "\n",
    "#Hex code 사용 예시\n",
    "plt.plot([1, 2, 3, 4], [2.0, 3.0, 5.0, 10.0], color = '#ff7f0e')\n",
    "plt.plot([1, 2, 3, 4], [2.0, 2.8, 4.3, 6.5], color = '#8c564b')\n",
    "plt.plot([1, 2, 3, 4], [2.0, 2.5, 3.3, 4.5], color = '#bcbd22')\n",
    "plt.xlabel('X-Axis')\n",
    "plt.ylabel('Y-Axis')\n",
    "plt.title(\"Color Setting using Hex code\")\n",
    "plt.show()"
   ]
  },
  {
   "cell_type": "markdown",
   "id": "49b97f95",
   "metadata": {},
   "source": [
    "### ** 참조: CSS 색상 코드\n",
    "> 아래 명칭들을 키워드로 활용해 다양한 색상을 지정할 수 있음\n",
    "\n",
    "![nn](https://wikidocs.net/images/page/92085/set_color_05.PNG)"
   ]
  },
  {
   "cell_type": "markdown",
   "id": "08921010",
   "metadata": {},
   "source": [
    "#### (2) 선 종류 기본 설정\n",
    "> plot() 함수의 linestyle 파라미터 값을 활용하여 선의 종류를 지정할 수 있습니다. <br>"
   ]
  },
  {
   "cell_type": "code",
   "execution_count": null,
   "id": "945cf0fb",
   "metadata": {},
   "outputs": [],
   "source": [
    "plt.plot([1, 2, 3], [4, 4, 4], linestyle='solid', color='Black', label=\"'solid'\")\n",
    "plt.plot([1, 2, 3], [3, 3, 3], linestyle='dashed', color='Black', label=\"'dashed'\")\n",
    "plt.plot([1, 2, 3], [2, 2, 2], linestyle='dotted', color='Black', label=\"'dotted'\")\n",
    "plt.plot([1, 2, 3], [1, 1, 1], linestyle='dashdot', color='Black', label=\"'dashdot'\")\n",
    "plt.xlabel('X-Axis')\n",
    "plt.ylabel('Y-Axis')\n",
    "plt.axis([0.8, 3.2, 0.5, 5.0])\n",
    "plt.legend(loc='upper center', ncol=4)\n",
    "plt.show()"
   ]
  },
  {
   "cell_type": "markdown",
   "id": "4659b1b6",
   "metadata": {},
   "source": [
    "#### (2) 선 종류 커스터마이징 (튜플 이용)\n",
    "> 튜플을 사용해서 선의 종류를 커스터마이즈할 수 있습니다. <br>\n",
    "예를 들어, (0, (1, 1))은 ‘dotted’와 같고, (0, (5, 5))는 ‘dashed’와 같습니다. 또한 (0, (3, 5, 1, 5))는 ‘dashdotted’와 같습니다. <br>\n",
    "숫자를 바꿔가면서 다양한 선의 종류를 만들어보세요."
   ]
  },
  {
   "cell_type": "code",
   "execution_count": null,
   "id": "3634b34e",
   "metadata": {},
   "outputs": [],
   "source": [
    "plt.plot([1, 2, 3], [4, 4, 4], linestyle=(0, (1, 1)), color='blue', label='(0, (1, 1))')\n",
    "plt.plot([1, 2, 3], [3, 3, 3], linestyle=(0, (1, 5)), color='blue', label='(0, (1, 5))')\n",
    "plt.plot([1, 2, 3], [2, 2, 2], linestyle=(0, (5, 1)), color='blue', label='(0, (5, 1))')\n",
    "plt.plot([1, 2, 3], [1, 1, 1], linestyle=(0, (3, 5, 1, 5)), color='blue', label='(0, (3, 5, 1, 5))')\n",
    "plt.xlabel('X-Axis')\n",
    "plt.ylabel('Y-Axis')\n",
    "plt.axis([0.8, 3.2, 0.5, 5.0])\n",
    "plt.legend(loc='upper right', ncol=2)\n",
    "plt.tight_layout()\n",
    "plt.show()"
   ]
  },
  {
   "cell_type": "markdown",
   "id": "2b687cd2",
   "metadata": {},
   "source": [
    "#### (3) 마커 기본 설정\n",
    "> plot() 함수의 marker 파라미터를 사용하여 다양한 마커 형태를 지정할 수 있습니다. (아래 표 참조) <br>\n",
    "예제에서는 5가지 마커를 이용해서 지정한 결과입니다.\n",
    "\n",
    "### ** 참조: Matplotlib의 마커 종류\n",
    "![nn](https://wikidocs.net/images/page/92083/set_marker_10.png)"
   ]
  },
  {
   "cell_type": "code",
   "execution_count": null,
   "id": "13e531ef",
   "metadata": {
    "scrolled": false
   },
   "outputs": [],
   "source": [
    "plt.plot([4, 5, 6], marker=\"H\")\n",
    "plt.plot([3, 4, 5], marker=\"d\")\n",
    "plt.plot([2, 3, 4], marker=\"x\")\n",
    "plt.plot([1, 2, 3], marker=11)\n",
    "plt.plot([0, 1, 2], marker='$Z$')\n",
    "plt.show()"
   ]
  },
  {
   "cell_type": "code",
   "execution_count": null,
   "id": "4e508684",
   "metadata": {
    "scrolled": false
   },
   "outputs": [],
   "source": [
    "plt.plot([1, 2, 3, 4], [2, 3, 5, 10], 'bo-')    # 파란색 + 마커 + 실선\n",
    "plt.xlabel('X-Axis')\n",
    "plt.ylabel('Y-Axis')\n",
    "plt.title(\"Blue + Marker + Normal Line\")\n",
    "plt.show()\n",
    "\n",
    "plt.plot([1, 2, 3, 4], [2, 3, 5, 10], 'ro--')     # 파란색 + 마커 + 점선\n",
    "plt.xlabel('X-Axis')\n",
    "plt.ylabel('Y-Axis')\n",
    "plt.title(\"Red + Marker + Dashed Line\")\n",
    "plt.show()"
   ]
  },
  {
   "cell_type": "markdown",
   "id": "096b4774",
   "metadata": {},
   "source": [
    "### ** 참조: 다양한 색상, 선 스타일, 마커 스타일 설정 값\n",
    "![nn](https://wikidocs.net/images/page/92083/set_marker_05.png)"
   ]
  },
  {
   "cell_type": "markdown",
   "id": "236c62d5",
   "metadata": {},
   "source": [
    "---"
   ]
  },
  {
   "cell_type": "markdown",
   "id": "2d7a0d9c",
   "metadata": {},
   "source": [
    "---\n",
    "## 2. 다양한 유형의 시각화 차트 만들기\n",
    "\n",
    ">1. 수평선/수직선\n",
    ">2. 막대 그래프\n",
    ">3. 히스토그램\n",
    ">4. 에러바 표시\n",
    ">5. 박스 플롯 & 바이올린 플롯\n",
    ">6. 파이차트\n",
    ">7. 산점도 & 히트맵"
   ]
  },
  {
   "cell_type": "markdown",
   "id": "35069b26",
   "metadata": {},
   "source": [
    "### 2-1. 수평선/수직선\n",
    "> 그래프의 특정 위치에 수직선/수평선을 표시하기 위해서 matplotlib.pyplot 모듈은 아래의 네가지 함수를 지원합니다. <br>\n",
    ">> axhline(): 축을 따라 수평선을 표시합니다. <br>\n",
    "axvline(): 축을 따라 수직선을 표시합니다. <br>\n",
    "hlines(): 지정한 점을 따라 수평선을 표시합니다. <br>\n",
    "vlines(): 지정한 점을 따라 수직선을 표시합니다.\n",
    "\n",
    "#### (1) 수평선 그리기\n",
    ">axhline() 함수의 첫번째 인자는 y 값으로서 수평선의 위치가 됩니다. <br>\n",
    "두, 세번째 인자는 xmin, xmax 값으로서 0에서 1 사이의 값을 입력합니다. 0은 왼쪽 끝, 1은 오른쪽 끝을 의미합니다. <br>\n",
    "hlines() 함수에 y, xmin, xmax를 순서대로 입력하면, 점 (xmin, y)에서 점 (xmax, y)를 따라 수평선을 표시합니다."
   ]
  },
  {
   "cell_type": "code",
   "execution_count": null,
   "id": "53c13108",
   "metadata": {},
   "outputs": [],
   "source": [
    "x = np.arange(0, 4, 0.5)\n",
    "\n",
    "plt.plot(x, x + 1, 'bo')\n",
    "plt.plot(x, x**2 - 4, 'g--')\n",
    "plt.plot(x, -2*x + 3, 'r:')\n",
    "\n",
    "#가로선 그리기 (P)\n",
    "\n",
    "\n",
    "\n"
   ]
  },
  {
   "cell_type": "markdown",
   "id": "4854e180",
   "metadata": {},
   "source": [
    "#### (2) 수직선 그리기\n",
    ">axvline() 함수의 첫번째 인자는 x 값으로서 수직선의 위치가 됩니다. <br>\n",
    "두, 세번째 인자는 ymin, ymax 값으로서 0에서 1 사이의 값을 입력합니다. 0은 아래쪽 끝, 1은 위쪽 끝을 의미합니다. <br>\n",
    "vlines() 함수에 x, ymin, ymax를 순서대로 입력하면, 점 (x, ymin)에서 점 (x, ymax)를 따라 수평선을 표시합니다."
   ]
  },
  {
   "cell_type": "code",
   "execution_count": null,
   "id": "f7a340bf",
   "metadata": {
    "scrolled": false
   },
   "outputs": [],
   "source": [
    "x = np.arange(0, 4, 0.5)\n",
    "\n",
    "\n",
    "plt.plot(x, x + 1, 'bo')\n",
    "plt.plot(x, x**2 - 4, 'g--')\n",
    "plt.plot(x, -2*x + 3, 'r:')\n",
    "\n",
    "# 수직선 그리기 (P)\n",
    "\n",
    "\n",
    "\n",
    "\n"
   ]
  },
  {
   "cell_type": "markdown",
   "id": "2a797a32",
   "metadata": {},
   "source": [
    "### 2-2. 막대그래프 (Bar Chart)\n",
    "> 막대 그래프 (Bar graph, Bar chart)는 범주가 있는 데이터 값을 직사각형의 막대로 표현하는 그래프입니다. <br>\n",
    "Matplotlib에서는 matplotlib.pyplot 모듈의 bar() 함수를 이용해서 막대 그래프를 간단하게 표현할 수 있습니다."
   ]
  },
  {
   "cell_type": "code",
   "execution_count": null,
   "id": "6e46e645",
   "metadata": {},
   "outputs": [],
   "source": [
    "x = np.arange(3)\n",
    "years = ['2018', '2019', '2020']\n",
    "values = [100, 400, 900]\n",
    "\n",
    "# 막대그래프 그리기 (P)\n",
    "\n",
    "\n",
    "\n"
   ]
  },
  {
   "cell_type": "code",
   "execution_count": null,
   "id": "b7c84c5b",
   "metadata": {},
   "outputs": [],
   "source": [
    "x = np.arange(3)\n",
    "years = ['2018', '2019', '2020']\n",
    "values = [100, 400, 900]\n",
    "\n",
    "#노란색으로 변경\n",
    "plt.bar(x, values, color='y')\n",
    "plt.xticks(x, years)\n",
    "plt.show()\n",
    "\n",
    "#다른색(Hex code = #e35f62)으로 변경\n",
    "plt.bar(x, values, color='#e35f62')\n",
    "plt.xticks(x, years)\n",
    "plt.show()"
   ]
  },
  {
   "cell_type": "code",
   "execution_count": null,
   "id": "f15af14d",
   "metadata": {},
   "outputs": [],
   "source": [
    "# 각 막대의 색상 값 리스트로 정의 후, 바 차트에 반영하여 나타내기\n",
    "colors = ['y', 'dodgerblue', 'C2']\n",
    "\n",
    "#서로 다른 색상의 막대로 그리기\n",
    "plt.bar(x, values, color=colors)\n",
    "plt.xticks(x, years)\n",
    "\n",
    "plt.show()"
   ]
  },
  {
   "cell_type": "markdown",
   "id": "b536adfd",
   "metadata": {},
   "source": [
    "---"
   ]
  },
  {
   "cell_type": "code",
   "execution_count": null,
   "id": "c8b79abf",
   "metadata": {},
   "outputs": [],
   "source": [
    "x = np.arange(3)\n",
    "years = ['2018', '2019', '2020']\n",
    "values = [100, 400, 900]\n",
    "\n",
    "# 가로 폭이 0.2, 0.4, 0.6, 0.8, 1인 그래프 출력해보기 (P)\n",
    "\n",
    "\n",
    "\n"
   ]
  },
  {
   "cell_type": "code",
   "execution_count": null,
   "id": "b0a96d60",
   "metadata": {
    "scrolled": false
   },
   "outputs": [],
   "source": [
    "y = np.arange(3)\n",
    "years = ['2018', '2019', '2020']\n",
    "values = [100, 400, 900]\n",
    "\n",
    "# 가로 형태의 바 차트 만들기 (P)\n",
    "\n",
    "\n",
    "\n"
   ]
  },
  {
   "cell_type": "markdown",
   "id": "8b4806d3",
   "metadata": {},
   "source": [
    "### 2-3. 히스토그램 (Histogram)\n",
    "> pyplot의 hist 함수를 활용해 히스토그램 작성이 가능하다. <br>\n",
    ">> hist() 함수의 bins 파라미터는 히스토그램의 가로축 구간의 개수를 지정 <br>\n",
    "cumulative 파라미터는 누적 히스토그램 여부를 지정 <br>\n",
    "histtype 파라미터는 히스토그램의 종류를 지정 <br>\n"
   ]
  },
  {
   "cell_type": "code",
   "execution_count": null,
   "id": "4b715ecc",
   "metadata": {},
   "outputs": [],
   "source": [
    "weight = [68, 81, 64, 56, 78, 74, 61, 77, 66, 68, 59, 71,\n",
    "          80, 59, 67, 81, 69, 73, 69, 74, 70, 65]\n",
    "#히스토그램 그리기(P)\n",
    "\n",
    "\n"
   ]
  },
  {
   "cell_type": "code",
   "execution_count": null,
   "id": "a5fc2fbb",
   "metadata": {},
   "outputs": [],
   "source": [
    "weight = [68, 81, 64, 56, 78, 74, 61, 77, 66, 68, 59, 71,\n",
    "          80, 59, 67, 81, 69, 73, 69, 74, 70, 65]\n",
    "\n",
    "plt.hist(weight)\n",
    "plt.title('bins=10')\n",
    "plt.show()\n",
    "\n",
    "#구간 수 5개로 변경하여 그리기 (P)\n",
    "\n",
    "\n"
   ]
  },
  {
   "cell_type": "code",
   "execution_count": null,
   "id": "8942a891",
   "metadata": {},
   "outputs": [],
   "source": [
    "weight = [68, 81, 64, 56, 78, 74, 61, 77, 66, 68, 59, 71,\n",
    "          80, 59, 67, 81, 69, 73, 69, 74, 70, 65]\n",
    "\n",
    "#일반, 누적 히스토그램 한 그래프에 그리기\n",
    "plt.hist(weight, cumulative=True, label='cumulative=True')\n",
    "plt.hist(weight, cumulative=False, label='cumulative=False')\n",
    "plt.legend(loc='upper left')\n",
    "plt.show()"
   ]
  },
  {
   "cell_type": "code",
   "execution_count": null,
   "id": "4962e5c3",
   "metadata": {},
   "outputs": [],
   "source": [
    "x = np.random.standard_normal(10000)\n",
    "# density = True 이면, 확률밀도함수로 변경되어 총 면적이 1로 변환\n",
    "# alpha는 투명도를 의미하며, 0이면 완전 투명, 1이면 완전 불투명\n",
    "plt.hist(x, bins=50, density=True, alpha=0.35, histtype='stepfilled')\n",
    "plt.show()"
   ]
  },
  {
   "cell_type": "code",
   "execution_count": null,
   "id": "d8b5de4e",
   "metadata": {
    "scrolled": false
   },
   "outputs": [],
   "source": [
    "a = 2.0 * np.random.randn(10000) + 1.0\n",
    "b = np.random.standard_normal(10000)\n",
    "c = 20.0 * np.random.rand(5000) - 10.0\n",
    "\n",
    "# 데이터 a, 구간 100개, 확률밀도함수 형태, 투명도 50%, stepfilled 형태의 히스토그램 (P)\n",
    "\n",
    "# 데이터 b, 구간 50개, 확률밀도함수 형태, 투명도 50%, stepstepfilled 형태의 히스토그램 (P)\n",
    "\n",
    "# 데이터 c, 구간 100개, 확률밀도함수 형태, 투명도 90%, step 형태의 히스토그램 (P)\n",
    "\n",
    "# 그래프 출력 (P)\n"
   ]
  },
  {
   "cell_type": "markdown",
   "id": "cf175043",
   "metadata": {},
   "source": [
    "### 2-4. 에러바\n",
    "> 에러바 (Errorbar, 오차막대)는 데이터의 편차를 표시하기 위한 그래프 형태입니다. <br>\n",
    "matplotlib.pyplot 모듈의 errorbar() 함수를 이용해서 그래프에 에러바를 나타낼 수 있습니다."
   ]
  },
  {
   "cell_type": "code",
   "execution_count": null,
   "id": "7d053a06",
   "metadata": {},
   "outputs": [],
   "source": [
    "x = [1, 2, 3, 4]\n",
    "y = [1, 4, 9, 16]\n",
    "yerr = [2.3, 3.1, 1.7, 2.5] #y값의 편차 (대칭)\n",
    "\n",
    "plt.errorbar(x, y, yerr=yerr)\n",
    "plt.title(\"에러바 기본 형태\")\n",
    "plt.show()"
   ]
  },
  {
   "cell_type": "code",
   "execution_count": null,
   "id": "e2aa124f",
   "metadata": {
    "scrolled": false
   },
   "outputs": [],
   "source": [
    "x = [1, 2, 3, 4]\n",
    "y = [1, 4, 9, 16]\n",
    "yerr = [(2.3, 3.1, 1.7, 2.5), (1.1, 2.5, 0.9, 3.9)] #비대칭 편차 (하위 편차, 상위편차)\n",
    "\n",
    "plt.errorbar(x, y, yerr=yerr)\n",
    "plt.title(\"에러바 (비대칭편차)\")\n",
    "plt.show()"
   ]
  },
  {
   "cell_type": "code",
   "execution_count": null,
   "id": "2d3c17aa",
   "metadata": {},
   "outputs": [],
   "source": [
    "np.linspace(0.1, 0.4, 4)"
   ]
  },
  {
   "cell_type": "code",
   "execution_count": null,
   "id": "3c3fbc1e",
   "metadata": {
    "scrolled": false
   },
   "outputs": [],
   "source": [
    "x = np.arange(1, 5)\n",
    "y = x**2\n",
    "yerr = np.linspace(0.1, 0.4, 4) #0.1부터 0.4까지 4등분한 값 -> array([0.1, 0.2, 0.3, 0.4]) (추후 넘파이 강의에서 다룸)\n",
    "\n",
    "plt.errorbar(x, y + 4, yerr=yerr)\n",
    "plt.errorbar(x, y + 2, yerr=yerr, uplims=True, lolims=True) #양측 편차 모두 기호 표시\n",
    "\n",
    "upperlimits = [True, False, True, False]\n",
    "lowerlimits = [False, False, True, True]\n",
    "plt.errorbar(x, y, yerr=yerr, uplims=upperlimits, lolims=lowerlimits) #설정한 부분만 편차 기호 표시\n",
    "plt.show()"
   ]
  },
  {
   "cell_type": "code",
   "execution_count": null,
   "id": "b0845398",
   "metadata": {},
   "outputs": [],
   "source": [
    "np.linspace(0.1, 0.4, 4)"
   ]
  },
  {
   "cell_type": "markdown",
   "id": "2662553b",
   "metadata": {},
   "source": [
    "### 2-4. 박스플롯 & 바이올린 플롯\n",
    "> 박스 플롯 (Box plot) 또는 박스-위스커 플롯 (Box-Whisker plot)은 수치 데이터를 표현하는 하나의 방식입니다. <br>\n",
    "일반적으로 박스 플롯은 Five Number Summary와 사분편차를 사용해서 그립니다.\n",
    "\n",
    "#### (1) 박스플롯 그리기"
   ]
  },
  {
   "cell_type": "code",
   "execution_count": null,
   "id": "9436281d",
   "metadata": {},
   "outputs": [],
   "source": [
    "# 1. 데이터 준비\n",
    "np.random.seed(0)\n",
    "data_a = np.random.normal(0, 2.0, 1000)\n",
    "data_b = np.random.normal(-3.0, 1.5, 500)\n",
    "data_c = np.random.normal(1.2, 1.5, 1500)"
   ]
  },
  {
   "cell_type": "code",
   "execution_count": null,
   "id": "bb97820c",
   "metadata": {},
   "outputs": [],
   "source": [
    "# 2. 하나의 박스플롯 그리기 (P)\n",
    "\n",
    "\n",
    "\n",
    "\n",
    "\n"
   ]
  },
  {
   "cell_type": "code",
   "execution_count": null,
   "id": "7f95d486",
   "metadata": {},
   "outputs": [],
   "source": [
    "# 1. 데이터 준비\n",
    "np.random.seed(0)\n",
    "data_a = np.random.normal(0, 2.0, 1000)\n",
    "data_b = np.random.normal(-3.0, 1.5, 500)\n",
    "data_c = np.random.normal(1.2, 1.5, 1500)\n",
    "\n",
    "# 2. 그래프 그리기 (P)\n",
    "\n",
    "\n",
    "\n",
    "\n"
   ]
  },
  {
   "cell_type": "code",
   "execution_count": null,
   "id": "915d2ed5",
   "metadata": {
    "scrolled": true
   },
   "outputs": [],
   "source": [
    "# 2. 데이터 준비\n",
    "np.random.seed(0)\n",
    "data_a = np.random.normal(0, 2.0, 1000)\n",
    "data_b = np.random.normal(-3.0, 1.5, 500)\n",
    "data_c = np.random.normal(1.2, 1.5, 1500)\n",
    "\n",
    "# 3. 그래프 그리기 (P)\n",
    "fig, ax = plt.subplots()\n",
    "\n",
    "ax.boxplot([data_a, data_b, data_c], vert=False) #vert 값은 설정 안하면 True로 세로형, False이면 가로형 출력\n",
    "ax.set_xlim(-10.0, 10.0)\n",
    "ax.set_xlabel('Value')\n",
    "ax.set_ylabel('Data Type')\n",
    "\n",
    "plt.title(\"박스플롯 여러 개 그리기(가로)\")\n",
    "plt.show()"
   ]
  },
  {
   "cell_type": "markdown",
   "id": "3b068225",
   "metadata": {},
   "source": [
    "#### (2) 바이올린 플롯\n",
    "> 바이올린 플롯 (Violin plot)은 데이터의 분포와 범위를 한눈에 보기 쉽게 나타내는 그래프 형식입니다. <br>\n",
    "박스 플롯 (Box plot)과 비슷하지만 더 실제에 가까운 분포를 알 수 있다는 장점이 있습니다."
   ]
  },
  {
   "cell_type": "code",
   "execution_count": null,
   "id": "c0d657d4",
   "metadata": {
    "scrolled": true
   },
   "outputs": [],
   "source": [
    "# 1. 데이터 준비\n",
    "np.random.seed(0)\n",
    "data_a = np.random.normal(0, 2.0, 1000)\n",
    "data_b = np.random.normal(-3.0, 1.5, 500)\n",
    "data_c = np.random.normal(1.2, 1.5, 1500)\n",
    "\n",
    "# 2. 그래프 그리기 (P)\n",
    "\n",
    "\n",
    "\n",
    "\n",
    "\n"
   ]
  },
  {
   "cell_type": "markdown",
   "id": "cabe9d9f",
   "metadata": {},
   "source": [
    "> showmeans 파라미터는 데이터 분포에서 평균값의 위치에 직선을 표시합니다. (Default: False) <br>\n",
    "showextrema는 최대/최소값에 직선을 표시합니다. (Default: True) <br>\n",
    "showmedians는 중간값에 직선을 표시합니다. (Default: False)"
   ]
  },
  {
   "cell_type": "code",
   "execution_count": null,
   "id": "c346ceba",
   "metadata": {
    "scrolled": false
   },
   "outputs": [],
   "source": [
    "# 3. 최대, 최소, 중앙값, 평균값 표시 (P)\n",
    "\n",
    "\n",
    "\n",
    "\n",
    "\n"
   ]
  },
  {
   "cell_type": "markdown",
   "id": "23287528",
   "metadata": {},
   "source": [
    "### 2-5. 파이 차트\n",
    "> 파이 차트 (Pie chart, 원 그래프)는 범주별 구성 비율을 원형으로 표현한 그래프입니다. <br>\n",
    "위의 그림과 같이 부채꼴의 중심각을 구성 비율에 비례하도록 표현합니다."
   ]
  },
  {
   "cell_type": "code",
   "execution_count": null,
   "id": "97976e65",
   "metadata": {},
   "outputs": [],
   "source": [
    "# 기본 사용\n",
    "ratio = [34, 32, 16, 18]\n",
    "labels = ['Apple', 'Banana', 'Melon', 'Grapes']\n",
    "\n",
    "plt.pie(ratio, labels=labels, autopct='%.1f%%') #소수점 이하 한자리\n",
    "plt.title(\"파이차트 기본형\")\n",
    "plt.show()\n",
    "\n",
    "plt.pie(ratio, labels=labels, autopct='%.2f%%') #소수점 이하 두자리\n",
    "plt.title(\"파이차트 기본형\")\n",
    "plt.show()"
   ]
  },
  {
   "cell_type": "code",
   "execution_count": null,
   "id": "2dc385d8",
   "metadata": {},
   "outputs": [],
   "source": [
    "# 시작각도와 방향 설정하기\n",
    "ratio = [34, 32, 16, 18]\n",
    "labels = ['Apple', 'Banana', 'Melon', 'Grapes']\n",
    "\n",
    "plt.pie(ratio, labels=labels, autopct='%.1f%%', startangle=180, counterclock=False)\n",
    "plt.show()"
   ]
  },
  {
   "cell_type": "code",
   "execution_count": null,
   "id": "00e33aee",
   "metadata": {},
   "outputs": [],
   "source": [
    "# 중심에서 떨어진 형태 만들기\n",
    "ratio = [34, 32, 16, 18]\n",
    "labels = ['Apple', 'Banana', 'Melon', 'Grapes']\n",
    "explode = [0, 0.10, 0, 0.10] # 각 요소별로 중심에서 떨어진 정도를 설정 (0.1 = 10%)\n",
    "\n",
    "plt.pie(ratio, labels=labels, autopct='%.1f%%', startangle=260, counterclock=False, explode=explode)\n",
    "plt.show()"
   ]
  },
  {
   "cell_type": "code",
   "execution_count": null,
   "id": "7f465ade",
   "metadata": {
    "scrolled": false
   },
   "outputs": [],
   "source": [
    "# 색상 변경하기\n",
    "ratio = [34, 32, 16, 18]\n",
    "labels = ['Apple', 'Banana', 'Melon', 'Grapes']\n",
    "explode = [0.05, 0.05, 0.05, 0.05]\n",
    "colors = ['#ff9999', '#ffc000', '#8fd9b6', '#d395d0']\n",
    "\n",
    "#그리기 (P)\n",
    "\n",
    "\n"
   ]
  },
  {
   "cell_type": "code",
   "execution_count": null,
   "id": "b6bd67fa",
   "metadata": {
    "scrolled": false
   },
   "outputs": [],
   "source": [
    "# 도넛 형태 만들기\n",
    "ratio = [34, 32, 16, 18]\n",
    "labels = ['Apple', 'Banana', 'Melon', 'Grapes']\n",
    "colors = ['#ff9999', '#ffc000', '#8fd9b6', '#d395d0']\n",
    "wedgeprops={'width': 0.7, 'edgecolor': 'w', 'linewidth': 5}\n",
    "\n",
    "#그리기 (P)\n",
    "\n",
    "\n"
   ]
  },
  {
   "cell_type": "markdown",
   "id": "e1b0d9c1",
   "metadata": {},
   "source": [
    "### 2-6. 산점도와 히트맵\n",
    "\n",
    "#### (1) 산점도\n",
    "> 산점도 (Scatter plot)는 두 변수의 상관 관계를 직교 좌표계의 평면에 점으로 표현하는 그래프입니다. <br>\n",
    "matplotlib.pyplot 모듈의 scatter() 함수를 이용하면 산점도를 그릴 수 있습니다."
   ]
  },
  {
   "cell_type": "code",
   "execution_count": null,
   "id": "4231693d",
   "metadata": {},
   "outputs": [],
   "source": [
    "np.random.seed(0)\n",
    "\n",
    "n = 50\n",
    "x = np.random.rand(n)\n",
    "y = np.random.rand(n)\n",
    "\n",
    "# 기본 산점도 그리기\n",
    "plt.scatter(x, y)\n",
    "plt.show()"
   ]
  },
  {
   "cell_type": "code",
   "execution_count": null,
   "id": "66558389",
   "metadata": {},
   "outputs": [],
   "source": [
    "# 마커의 크기와 색상 지정하기\n",
    "plt.scatter(x, y, s = 10, c = \"red\")\n",
    "plt.show()"
   ]
  },
  {
   "cell_type": "code",
   "execution_count": null,
   "id": "f77719b6",
   "metadata": {},
   "outputs": [],
   "source": [
    "# 난수들을 이용한 기능 구현해보기\n",
    "# 1. 데이터 정의\n",
    "n = 50\n",
    "x = np.random.rand(n)\n",
    "y = np.random.rand(n)\n",
    "area = (30 * np.random.rand(n))**2\n",
    "colors = np.random.rand(n)"
   ]
  },
  {
   "cell_type": "code",
   "execution_count": null,
   "id": "8b12df19",
   "metadata": {},
   "outputs": [],
   "source": [
    "# 크기와 색깔 설정\n",
    "plt.scatter(x, y, s=area, c=colors)\n",
    "plt.show()"
   ]
  },
  {
   "cell_type": "code",
   "execution_count": null,
   "id": "0ce35b14",
   "metadata": {
    "scrolled": false
   },
   "outputs": [],
   "source": [
    "# 투명도와 컬러맵 설정 (P)\n",
    "\n",
    "\n",
    "\n"
   ]
  },
  {
   "cell_type": "markdown",
   "id": "14f80a4b",
   "metadata": {},
   "source": [
    "#### (2) 히트맵\n",
    ">히트맵 (Heatmap)은 다양한 값을 갖는 숫자 데이터를 열분포 형태와 같이 색상을 이용해서 시각화한 것입니다. <br>\n",
    "matplotlib.pyplot 모듈의 matshow() 함수를 이용해서 2차원 어레이 형태의 숫자 데이터를 히트맵으로 나타내보자."
   ]
  },
  {
   "cell_type": "code",
   "execution_count": null,
   "id": "dbcf2559",
   "metadata": {},
   "outputs": [],
   "source": [
    "# 데이터 준비\n",
    "arr = np.random.standard_normal((30, 40))\n",
    "\n",
    "#히트맵 그려보기 (P)\n",
    "\n",
    "\n"
   ]
  },
  {
   "cell_type": "code",
   "execution_count": null,
   "id": "6fc5e008",
   "metadata": {},
   "outputs": [],
   "source": [
    "# 컬러맵 추가하기\n",
    "plt.matshow(arr)\n",
    "# colorbar() 함수의 shrink 파라미터는 컬러바의 크기를 결정\n",
    "# aspect 파라미터는 컬러바의 종횡비 (Aspect ratio)를 결정\n",
    "plt.colorbar(shrink=0.8, aspect=10)\n",
    "plt.show()"
   ]
  },
  {
   "cell_type": "code",
   "execution_count": null,
   "id": "c70dfc45",
   "metadata": {},
   "outputs": [],
   "source": [
    "# 색상범위 지정\n",
    "plt.matshow(arr)\n",
    "plt.colorbar(shrink=0.8, aspect=10)\n",
    "plt.clim(-1.0, 1.0)\n",
    "#plt.clim(-3.0, 3.0)\n",
    "\n",
    "plt.show()"
   ]
  },
  {
   "cell_type": "code",
   "execution_count": null,
   "id": "4fdf2c2b",
   "metadata": {},
   "outputs": [],
   "source": [
    "# cmap = plt.get_cmap('PiYG')\n",
    "# cmap = plt.get_cmap('BuGn')\n",
    "# cmap = plt.get_cmap('Greys')\n",
    "# 여러 컬러맵으로 출력해보기 (P)\n",
    "\n",
    "\n",
    "\n"
   ]
  },
  {
   "cell_type": "markdown",
   "id": "e67c230c",
   "metadata": {},
   "source": [
    "#### ** 컬러맵 명칭 참조\n",
    "\n",
    "![nn](https://matplotlib.org/stable/_images/sphx_glr_colormaps_004.png)"
   ]
  },
  {
   "cell_type": "markdown",
   "id": "2be4383a",
   "metadata": {},
   "source": [
    "## 3. Matplotlib 패키지 추가 설정 및 부가 기능\n",
    "\n",
    ">1. 여러 곡선 그리기\n",
    ">2. 그래프 영역 채우기\n",
    ">3. 그리드 설정, 눈금표시\n",
    ">4. 이미지 저장\n",
    ">5. 그래프 스타일 설정\n",
    ">6. 축 위치 조절, 이중 Y축 표시\n",
    ">7. 두 종류의 그래프 그리기"
   ]
  },
  {
   "cell_type": "markdown",
   "id": "01c03f57",
   "metadata": {},
   "source": [
    "### 3-1. 여러 곡선 그리기\n",
    "#### (1) 일반형\n",
    "![nn](https://wikidocs.net/images/page/141537/subplot_03.png)"
   ]
  },
  {
   "cell_type": "code",
   "execution_count": null,
   "id": "0dfe368e",
   "metadata": {},
   "outputs": [],
   "source": [
    "# 데이터 준비\n",
    "x1 = np.linspace(0.0, 5.0)\n",
    "x2 = np.linspace(0.0, 2.0)\n",
    "\n",
    "y1 = np.cos(2 * np.pi * x1) * np.exp(-x1)\n",
    "y2 = np.cos(2 * np.pi * x2)"
   ]
  },
  {
   "cell_type": "code",
   "execution_count": null,
   "id": "39dcee23",
   "metadata": {},
   "outputs": [],
   "source": [
    "# 전체 작성해보기 (P)\n",
    "# 첫 번째 그래프 (nrows=2, ncols=1, index=1)\n",
    "\n",
    "\n",
    "\n",
    "\n",
    "# 두번째 그래프(nrows=2, ncols=1, index=2)\n",
    "\n",
    "\n",
    "\n",
    "\n",
    "# 차트 여백 줄이기\n",
    "\n",
    "\n"
   ]
  },
  {
   "cell_type": "code",
   "execution_count": null,
   "id": "7e6aa607",
   "metadata": {},
   "outputs": [],
   "source": [
    "# 전체 작성해보기 (P) - 이전 셀 내용 복사해서 활용\n",
    "# 첫 번째 그래프 (nrows=1, ncols=2, index=1)\n",
    "\n",
    "\n",
    "\n",
    "\n",
    "\n",
    "# 두번째 그래프(nrows=1, ncols=2, index=2)\n",
    "\n",
    "\n",
    "\n",
    "\n",
    "\n",
    "# 차트 여백 줄이기\n",
    "\n"
   ]
  },
  {
   "cell_type": "code",
   "execution_count": null,
   "id": "23e1b213",
   "metadata": {
    "scrolled": false
   },
   "outputs": [],
   "source": [
    "# 축 공유하기\n",
    "\n",
    "# 첫 번째 그래프 (nrows=2, ncols=1, index=1)\n",
    "ax1 = plt.subplot(2, 1, 1)                \n",
    "plt.plot(x1, y1, 'o-')\n",
    "plt.title('1st Graph')\n",
    "plt.ylabel('Damped oscillation')\n",
    "# 두번째 그래프(nrows=2, ncols=1, index=2)\n",
    "ax2 = plt.subplot(2, 1, 2, sharex=ax1)                \n",
    "plt.plot(x2, y2, '.-')\n",
    "plt.title('2nd Graph')\n",
    "plt.xlabel('time (s)')\n",
    "plt.ylabel('Undamped')\n",
    "# 차트 여백 줄이기\n",
    "plt.tight_layout()\n",
    "plt.show()"
   ]
  },
  {
   "cell_type": "markdown",
   "id": "afa65742",
   "metadata": {},
   "source": [
    "#### (2) 객체지향 인터페이스"
   ]
  },
  {
   "cell_type": "code",
   "execution_count": null,
   "id": "a63fbcb1",
   "metadata": {},
   "outputs": [],
   "source": [
    "# fig, ax 정의하여 그래프 영역 정의\n",
    "fig = plt.figure()\n",
    "ax = fig.add_axes([0, 0, 1, 1])\n",
    "plt.show()"
   ]
  },
  {
   "cell_type": "code",
   "execution_count": null,
   "id": "54d1bf63",
   "metadata": {},
   "outputs": [],
   "source": [
    "# plt.subplots() 사용하여 정의\n",
    "fig, ax = plt.subplots()\n",
    "plt.show()"
   ]
  },
  {
   "cell_type": "code",
   "execution_count": null,
   "id": "22763486",
   "metadata": {},
   "outputs": [],
   "source": [
    "# 행과 열 설정하기 (기본)\n",
    "fig, ax = plt.subplots(2, 1)\n",
    "plt.show()\n"
   ]
  },
  {
   "cell_type": "code",
   "execution_count": null,
   "id": "1f69314d",
   "metadata": {
    "scrolled": false
   },
   "outputs": [],
   "source": [
    "# 행과 열 설정하기 (축 공유)\n",
    "fig, ax = plt.subplots(2, 1, sharex=True, sharey=True)\n",
    "plt.show()"
   ]
  },
  {
   "cell_type": "code",
   "execution_count": null,
   "id": "11ca3aee",
   "metadata": {},
   "outputs": [],
   "source": [
    "# 데이터 준비\n",
    "x1 = np.linspace(0.0, 5.0)\n",
    "x2 = np.linspace(0.0, 2.0)\n",
    "\n",
    "y1 = np.cos(2 * np.pi * x1) * np.exp(-x1)\n",
    "y2 = np.cos(2 * np.pi * x2)"
   ]
  },
  {
   "cell_type": "code",
   "execution_count": null,
   "id": "b0047d24",
   "metadata": {},
   "outputs": [],
   "source": [
    "# fig, ax로 그래프 그리기 (1)\n",
    "fig, ax = plt.subplots(2, 1)\n",
    "ax[0].plot(x1,y1)\n",
    "ax[1].plot(x2,y2)\n",
    "plt.show()"
   ]
  },
  {
   "cell_type": "code",
   "execution_count": null,
   "id": "254d532c",
   "metadata": {},
   "outputs": [],
   "source": [
    "# fig, ax로 그래프 그리기 (2)\n",
    "x = np.arange(1, 5)     # [1, 2, 3, 4]\n",
    "\n",
    "x = np.arange(1, 5)     # [1, 2, 3, 4]\n",
    "\n",
    "# 직접 그려보기 (P)\n",
    "\n",
    "\n",
    "\n",
    "\n",
    "\n",
    "\n",
    "\n",
    "\n",
    "\n",
    "\n",
    "\n"
   ]
  },
  {
   "cell_type": "markdown",
   "id": "61a676a2",
   "metadata": {},
   "source": [
    "### 3-2. 그래프 영역 채우기\n",
    "\n",
    ">matplotlib.pyplot 모듈에서 그래프의 영역을 채우는 아래의 세가지 함수에 대해 소개합니다. <br>\n",
    ">> fill_between() - 두 수평 방향의 곡선 사이를 채웁니다.<br>\n",
    "fill_betweenx() - 두 수직 방향의 곡선 사이를 채웁니다.<br>\n",
    "fill() - 다각형 영역을 채웁니다."
   ]
  },
  {
   "cell_type": "code",
   "execution_count": null,
   "id": "5f9801ea",
   "metadata": {},
   "outputs": [],
   "source": [
    "# 데이터 준비\n",
    "x = [1, 2, 3, 4]\n",
    "y = [2, 3, 5, 10]"
   ]
  },
  {
   "cell_type": "code",
   "execution_count": null,
   "id": "e3ec5cbc",
   "metadata": {},
   "outputs": [],
   "source": [
    "# x축과의 사이 공간 채우기\n",
    "plt.plot(x, y)\n",
    "plt.xlabel('X-Axis')\n",
    "plt.ylabel('Y-Axis')\n",
    "# 두번째 좌표와 세 번째 좌표, x축 사이 채우기\n",
    "# 네 점 (x[1], y[1]), (x[2], y[2]), (x[1], 0), (x[2], 0)을 잇는 영역\n",
    "plt.fill_between(x[1:3], y[1:3], alpha=0.5)\n",
    "plt.show()"
   ]
  },
  {
   "cell_type": "code",
   "execution_count": null,
   "id": "699bf639",
   "metadata": {},
   "outputs": [],
   "source": [
    "# y축과의 사이 공간 채우기\n",
    "plt.plot(x, y)\n",
    "plt.xlabel('X-Axis')\n",
    "plt.ylabel('Y-Axis')\n",
    "# 두번째 좌표와 세 번째 좌표, y축 사이 채우기\n",
    "# 네 점 (x[2], y[2]), (x[3], y[3]), (0, y[2]), (0, y[3])을 잇는 영역\n",
    "plt.fill_betweenx(y[2:4], x[2:4], alpha=0.5)\n",
    "plt.show()"
   ]
  },
  {
   "cell_type": "code",
   "execution_count": null,
   "id": "0f2b149b",
   "metadata": {},
   "outputs": [],
   "source": [
    "# 데이터 준비\n",
    "x = [1, 2, 3, 4]\n",
    "y1 = [2, 3, 5, 10]\n",
    "y2 = [1, 2, 4, 8]"
   ]
  },
  {
   "cell_type": "code",
   "execution_count": null,
   "id": "3bc3d892",
   "metadata": {},
   "outputs": [],
   "source": [
    "# 두 그래프 사이의 공간 채우기 (P)\n",
    "\n",
    "\n",
    "\n",
    "\n",
    "\n"
   ]
  },
  {
   "cell_type": "code",
   "execution_count": null,
   "id": "344fe321",
   "metadata": {
    "scrolled": false
   },
   "outputs": [],
   "source": [
    "# 다각형 영역 채우기\n",
    "plt.plot(x, y1)\n",
    "plt.plot(x, y2)\n",
    "plt.xlabel('X-Axis')\n",
    "plt.ylabel('Y-Axis')\n",
    "plt.fill([1.9, 1.9, 3.1, 3.1], [1.0, 4.0, 6.0, 3.0], color='lightgray', alpha=0.5)\n",
    "\n",
    "plt.show()"
   ]
  },
  {
   "cell_type": "markdown",
   "id": "34fb44ae",
   "metadata": {},
   "source": [
    "### 3-3. 그리드 설정\n",
    "\n",
    ">데이터의 위치를 더 명확하게 나타내기 위해 그래프에 그리드 (Grid, 격자)를 표시할 수 있습니다. <br>\n",
    "이 페이지에서는 matplotlib.pyplot 모듈의 grid() 함수를 이용해서 그래프에 다양하게 그리드를 설정해봅시다."
   ]
  },
  {
   "cell_type": "code",
   "execution_count": null,
   "id": "feac993b",
   "metadata": {},
   "outputs": [],
   "source": [
    "x = np.arange(0, 2, 0.2)"
   ]
  },
  {
   "cell_type": "code",
   "execution_count": null,
   "id": "eee8805d",
   "metadata": {
    "scrolled": false
   },
   "outputs": [],
   "source": [
    "# 기본 격자 그리드\n",
    "plt.plot(x, x, 'bo')\n",
    "plt.plot(x, x**2, color='#e35f62', marker='*', linewidth=2)\n",
    "plt.plot(x, x**3, color='springgreen', marker='^', markersize=9)\n",
    "#그리드 설정(P)\n",
    "\n",
    "\n",
    "plt.show()"
   ]
  },
  {
   "cell_type": "code",
   "execution_count": null,
   "id": "2097647d",
   "metadata": {},
   "outputs": [],
   "source": [
    "# x축 그리드만 설정\n",
    "plt.plot(x, x, 'bo')\n",
    "plt.plot(x, x**2, color='#e35f62', marker='*', linewidth=2)\n",
    "plt.plot(x, x**3, color='forestgreen', marker='^', markersize=9)\n",
    "#그리드 설정(P)\n",
    "\n",
    "\n",
    "plt.show()"
   ]
  },
  {
   "cell_type": "code",
   "execution_count": null,
   "id": "780f9602",
   "metadata": {},
   "outputs": [],
   "source": [
    "# y축 그리드만 설정\n",
    "plt.plot(x, x, 'bo')\n",
    "plt.plot(x, x**2, color='#e35f62', marker='*', linewidth=2)\n",
    "plt.plot(x, x**3, color='forestgreen', marker='^', markersize=9)\n",
    "#그리드 설정(P)\n",
    "\n",
    "\n",
    "plt.show()"
   ]
  },
  {
   "cell_type": "code",
   "execution_count": null,
   "id": "699178af",
   "metadata": {
    "scrolled": false
   },
   "outputs": [],
   "source": [
    "# 그리드 스타일 설정\n",
    "x = np.arange(0, 2, 0.2)\n",
    "\n",
    "plt.plot(x, x, 'bo')\n",
    "plt.plot(x, x**2, color='#e35f62', marker='*', linewidth=2)\n",
    "plt.plot(x, x**3, color='springgreen', marker='^', markersize=9)\n",
    "plt.grid(True, axis='y', color='red', alpha=0.5, linestyle='--')\n",
    "\n",
    "plt.show()"
   ]
  },
  {
   "cell_type": "markdown",
   "id": "4340a4db",
   "metadata": {},
   "source": [
    "### 3-4. 차트를 이미지 파일로 저장하기."
   ]
  },
  {
   "cell_type": "code",
   "execution_count": null,
   "id": "23603540",
   "metadata": {
    "scrolled": false
   },
   "outputs": [],
   "source": [
    "x1 = np.linspace(0.0, 5.0)\n",
    "x2 = np.linspace(0.0, 2.0)\n",
    "\n",
    "y1 = np.cos(2 * np.pi * x1) * np.exp(-x1)\n",
    "y2 = np.cos(2 * np.pi * x2)\n",
    "\n",
    "plt.subplot(2, 1, 1)                # nrows=2, ncols=1, index=1\n",
    "plt.plot(x1, y1, 'o-')\n",
    "plt.title('1st Graph')\n",
    "plt.ylabel('Damped oscillation')\n",
    "\n",
    "plt.subplot(2, 1, 2)                # nrows=2, ncols=1, index=2\n",
    "plt.plot(x2, y2, '.-')\n",
    "plt.title('2nd Graph')\n",
    "plt.xlabel('time (s)')\n",
    "plt.ylabel('Undamped')\n",
    "\n",
    "plt.tight_layout()\n",
    "# plt.show()\n",
    "# 파일명 \"savefig_default.png\"로 저장하기 (기본) (P)\n",
    "\n"
   ]
  },
  {
   "cell_type": "markdown",
   "id": "dbe072b7",
   "metadata": {},
   "source": [
    "### 3-5. 그래프 스타일 설정"
   ]
  },
  {
   "cell_type": "code",
   "execution_count": null,
   "id": "85019d77",
   "metadata": {},
   "outputs": [],
   "source": [
    "# 활용 가능한 스타일 확인\n",
    "print(plt.style.available)"
   ]
  },
  {
   "cell_type": "code",
   "execution_count": null,
   "id": "afd5842a",
   "metadata": {
    "scrolled": false
   },
   "outputs": [],
   "source": [
    "# 스타일 설정\n",
    "plt.style.use('default')\n",
    "#plt.style.use('bmh')\n",
    "# plt.style.use('ggplot')\n",
    "# plt.style.use('classic')\n",
    "# plt.style.use('Solarize_Light2')\n",
    "# plt.style.use('default')\n",
    "\n",
    "plt.plot([1, 2, 3, 4], [4, 6, 2, 7])\n",
    "plt.show()"
   ]
  },
  {
   "cell_type": "markdown",
   "id": "dff028c5",
   "metadata": {},
   "source": [
    "### 3-7. 축 이동하기"
   ]
  },
  {
   "cell_type": "code",
   "execution_count": null,
   "id": "a1fd958b",
   "metadata": {
    "scrolled": false
   },
   "outputs": [],
   "source": [
    "plt.style.use('default')\n",
    "#plt.rcParams['figure.figsize'] = (6, 3)\n",
    "#plt.rcParams['font.size'] = 12\n",
    "\n",
    "\n",
    "fig, ax = plt.subplots()\n",
    "\n",
    "ax.set_title('Mean Squared Error', pad=20)\n",
    "ax.set_xlim(-3, 3)\n",
    "ax.set_ylim(0, 3)\n",
    "ax.set_xticks([-3, -2, -1, 0, 1, 2, 3])\n",
    "ax.set_yticks([1, 2, 3])\n",
    "\n",
    "ax.spines['left'].set_position('center')        # 왼쪽 축을 가운데 위치로 이동\n",
    "ax.spines['right'].set_visible(False)          # 오른쪽 축을 보이지 않도록\n",
    "ax.spines['top'].set_visible(False)            # 위 축을 보이지 않도록\n",
    "ax.spines['bottom'].set_position(('data', 0))   # 아래 축을 데이터 0의 위치로 이동\n",
    "\n",
    "x = np.linspace(-3, 3, 100)\n",
    "ax.set_xlabel('y_true - y_pred', fontdict={'fontsize': 14}, labelpad=10)\n",
    "ax.plot(x, x**2, color='#4799FF', linewidth=5)\n",
    "\n",
    "plt.show()"
   ]
  },
  {
   "cell_type": "markdown",
   "id": "6eb3d338",
   "metadata": {},
   "source": [
    "### 3-8. 이중 Y축 표시하기"
   ]
  },
  {
   "cell_type": "code",
   "execution_count": null,
   "id": "811b1f4a",
   "metadata": {},
   "outputs": [],
   "source": [
    "x = np.arange(0, 3)\n",
    "y1 = x + 1\n",
    "y2 = -x - 1\n",
    "\n",
    "fig, ax1 = plt.subplots()\n",
    "ax1.set_xlabel('X-Axis') # x축 레이블\n",
    "ax1.set_ylabel('1st Y-Axis') # 첫 번째 y축레이블\n",
    "ax1.plot(x, y1, color='green', label='1st Data') # 첫번째 데이터 레이블\n",
    "ax1.legend(loc='upper right') #첫번째 데이터 레이블 범례\n",
    "\n",
    "ax2 = ax1.twinx() #ax1과 x축을 공유하는 새로운 Axes 객체를 생성\n",
    "ax2.set_ylabel('2nd Y-Axis') # 두 번째 y축레이블\n",
    "ax2.plot(x, y2, color='deeppink', label='2nd Data') # 두번째 데이터 레이블\n",
    "ax2.legend(loc='lower right') #두번째 데이터 레이블 범례\n",
    "\n",
    "plt.show()"
   ]
  },
  {
   "cell_type": "code",
   "execution_count": null,
   "id": "1f293f1e",
   "metadata": {
    "scrolled": false
   },
   "outputs": [],
   "source": [
    "# 두 그래프의 범례 함께 표현하기\n",
    "fig, ax1 = plt.subplots()\n",
    "ax1.set_xlabel('X-Axis')\n",
    "ax1.set_ylabel('1st Y-Axis')\n",
    "line1 = ax1.plot(x, y1, color='green', label='1st Data')\n",
    "\n",
    "ax2 = ax1.twinx()\n",
    "ax2.set_ylabel('2nd Y-Axis')\n",
    "line2 = ax2.plot(x, y2, color='deeppink', label='2nd Data')\n",
    "\n",
    "#작성해보기(P)\n",
    "\n",
    "\n",
    "\n",
    "\n"
   ]
  },
  {
   "cell_type": "markdown",
   "id": "70ccd52f",
   "metadata": {},
   "source": [
    "---\n",
    "# Part 2: seaborn을 활용한 데이터 시각화\n",
    "\n",
    "  - 이 파트는 전부 작성하면서 진행."
   ]
  },
  {
   "cell_type": "markdown",
   "id": "3c0068fb",
   "metadata": {},
   "source": [
    "### ** 패키지 설치 및 import"
   ]
  },
  {
   "cell_type": "code",
   "execution_count": null,
   "id": "cd6bb89f",
   "metadata": {},
   "outputs": [],
   "source": [
    "!pip install seaborn\n",
    "import numpy as np\n",
    "import pandas as pd\n",
    "import matplotlib\n",
    "import matplotlib.pyplot as plt\n",
    "import seaborn as sns\n",
    "\n",
    "# 테마 설정: darkgrid , whitegrid , dark , white , ticks\n"
   ]
  },
  {
   "cell_type": "markdown",
   "id": "844dbf59",
   "metadata": {},
   "source": [
    "### ** 통계적 관계의 시각화 (Scatter Plot)"
   ]
  },
  {
   "cell_type": "code",
   "execution_count": null,
   "id": "23803fd4",
   "metadata": {},
   "outputs": [],
   "source": [
    "# Data\n",
    "tips = sns.load_dataset(\"tips\")\n",
    "display(tips)"
   ]
  },
  {
   "cell_type": "code",
   "execution_count": null,
   "id": "52f9c543",
   "metadata": {},
   "outputs": [],
   "source": [
    "# Scatter Plot (Basic)\n"
   ]
  },
  {
   "cell_type": "code",
   "execution_count": null,
   "id": "85bdce8f",
   "metadata": {
    "scrolled": true
   },
   "outputs": [],
   "source": [
    "# Scatter Plot with Color & Marker by Catefory\n",
    "\n"
   ]
  },
  {
   "cell_type": "markdown",
   "id": "bc2bd60c",
   "metadata": {},
   "source": [
    "### ** 분포의 시각화"
   ]
  },
  {
   "cell_type": "code",
   "execution_count": null,
   "id": "dde01095",
   "metadata": {},
   "outputs": [],
   "source": [
    "#Data\n",
    "penguins = sns.load_dataset(\"penguins\")\n",
    "display(penguins)"
   ]
  },
  {
   "cell_type": "code",
   "execution_count": null,
   "id": "25252aec",
   "metadata": {},
   "outputs": [],
   "source": [
    "# Univariate\n",
    "# bins: 구간 수, binwidth:각 구간 막대 폭\n",
    "\n"
   ]
  },
  {
   "cell_type": "code",
   "execution_count": null,
   "id": "de095bf5",
   "metadata": {},
   "outputs": [],
   "source": [
    "# Bivariate\n",
    "\n"
   ]
  },
  {
   "cell_type": "code",
   "execution_count": null,
   "id": "0d34871d",
   "metadata": {},
   "outputs": [],
   "source": [
    "# Add Category\n",
    "\n"
   ]
  },
  {
   "cell_type": "code",
   "execution_count": null,
   "id": "8f000a6b",
   "metadata": {
    "scrolled": false
   },
   "outputs": [],
   "source": [
    "# Joint & Marginal Distribution\n",
    "\n"
   ]
  },
  {
   "cell_type": "code",
   "execution_count": null,
   "id": "a74e2cfe",
   "metadata": {},
   "outputs": [],
   "source": [
    "# Pair Plot (Scatter Plot Matrix)\n",
    "\n"
   ]
  },
  {
   "cell_type": "code",
   "execution_count": null,
   "id": "92a6be03",
   "metadata": {
    "scrolled": true
   },
   "outputs": [],
   "source": [
    "# 데이터 준비\n",
    "glue = sns.load_dataset(\"glue\").pivot(\"Model\", \"Task\", \"Score\")\n",
    "display(glue)"
   ]
  },
  {
   "cell_type": "code",
   "execution_count": null,
   "id": "aa862abe",
   "metadata": {},
   "outputs": [],
   "source": [
    "# 히트맵(기본)\n",
    "\n"
   ]
  },
  {
   "cell_type": "code",
   "execution_count": null,
   "id": "4d3ec576",
   "metadata": {
    "scrolled": false
   },
   "outputs": [],
   "source": [
    "# 히트맵 (값 표시)\n",
    "\n"
   ]
  },
  {
   "cell_type": "code",
   "execution_count": null,
   "id": "029a5199",
   "metadata": {},
   "outputs": [],
   "source": [
    "# 히트맵 (값 표시)\n",
    "# fmt:자릿 수 설정, linewidth: 사각형 사이 간격 설정\n",
    "\n",
    "\n"
   ]
  },
  {
   "cell_type": "markdown",
   "id": "9fcf8951",
   "metadata": {},
   "source": [
    "### ** 범주형 자료의 시각화"
   ]
  },
  {
   "cell_type": "code",
   "execution_count": null,
   "id": "8dcff08f",
   "metadata": {},
   "outputs": [],
   "source": [
    "#Data\n",
    "tips = sns.load_dataset(\"tips\")\n",
    "display(tips)"
   ]
  },
  {
   "cell_type": "code",
   "execution_count": null,
   "id": "d54f9a45",
   "metadata": {},
   "outputs": [],
   "source": [
    "# Categorical Scatter Plot (stripplot)\n",
    "\n"
   ]
  },
  {
   "cell_type": "code",
   "execution_count": null,
   "id": "303a7a68",
   "metadata": {},
   "outputs": [],
   "source": [
    "# Box Plot\n",
    "\n"
   ]
  },
  {
   "cell_type": "code",
   "execution_count": null,
   "id": "4bc1bc4c",
   "metadata": {},
   "outputs": [],
   "source": [
    "# Box Plot (Category 추가)\n",
    "\n"
   ]
  },
  {
   "cell_type": "code",
   "execution_count": null,
   "id": "26cca2e4",
   "metadata": {},
   "outputs": [],
   "source": [
    "# Violin Plot (Normal)\n",
    "\n",
    "\n"
   ]
  },
  {
   "cell_type": "code",
   "execution_count": null,
   "id": "33bfa362",
   "metadata": {},
   "outputs": [],
   "source": [
    "# Violin Plot (Split)\n",
    "\n",
    "\n"
   ]
  },
  {
   "cell_type": "markdown",
   "id": "b79e3650",
   "metadata": {},
   "source": [
    "### ** 단순선형회귀 적합 검토"
   ]
  },
  {
   "cell_type": "code",
   "execution_count": null,
   "id": "c3b7babc",
   "metadata": {},
   "outputs": [],
   "source": [
    "# Data\n",
    "tips = sns.load_dataset(\"tips\")\n",
    "display(tips)"
   ]
  },
  {
   "cell_type": "code",
   "execution_count": null,
   "id": "d459e1bb",
   "metadata": {},
   "outputs": [],
   "source": [
    "# scatter plot & linear fit\n",
    "# 직선=단순선형회귀선, 음영구간=95% 신뢰구간\n"
   ]
  },
  {
   "cell_type": "code",
   "execution_count": null,
   "id": "f2ad08eb",
   "metadata": {},
   "outputs": [],
   "source": [
    "# scatter plot & linear fit (신뢰구간 제외)\n",
    "# 직선=단순선형회귀선\n"
   ]
  },
  {
   "cell_type": "code",
   "execution_count": null,
   "id": "66385fdf",
   "metadata": {
    "scrolled": false
   },
   "outputs": [],
   "source": [
    "# scatter plot & linear fit by Category\n",
    "\n"
   ]
  },
  {
   "cell_type": "code",
   "execution_count": null,
   "id": "8319e884",
   "metadata": {},
   "outputs": [],
   "source": [
    "# using jointplot\n",
    "\n"
   ]
  }
 ],
 "metadata": {
  "kernelspec": {
   "display_name": "Python 3 (ipykernel)",
   "language": "python",
   "name": "python3"
  },
  "language_info": {
   "codemirror_mode": {
    "name": "ipython",
    "version": 3
   },
   "file_extension": ".py",
   "mimetype": "text/x-python",
   "name": "python",
   "nbconvert_exporter": "python",
   "pygments_lexer": "ipython3",
   "version": "3.10.9"
  }
 },
 "nbformat": 4,
 "nbformat_minor": 5
}
