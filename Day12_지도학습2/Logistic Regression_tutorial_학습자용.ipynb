{
 "cells": [
  {
   "cell_type": "markdown",
   "id": "45fc48c2",
   "metadata": {},
   "source": [
    "# 지도학습 실습 - Logistic Regression"
   ]
  },
  {
   "cell_type": "markdown",
   "id": "e687e5cf",
   "metadata": {},
   "source": [
    "이번 튜토리얼에서는 다음과 같은 **프로세스 파이프라인**으로 Logistic Regression 모델의 학습을 진행합니다.\n",
    "\n",
    "- Scikit-Learn의 Datasets 클래스를 활용하여 지도학습용 데이터 구축\n",
    "- Scikit-Learn의 Logistic Regression 모듈을 활용하여 모델 생성 및 결과 예측\n",
    "- 생성된 모델의 하이퍼 파라메터 튜닝을 통한 모델 최적화"
   ]
  },
  {
   "cell_type": "markdown",
   "id": "ac94eb0d",
   "metadata": {},
   "source": [
    "# 1. Import Library"
   ]
  },
  {
   "cell_type": "code",
   "execution_count": null,
   "id": "d47aa203",
   "metadata": {
    "scrolled": false
   },
   "outputs": [],
   "source": [
    "# 필요 라이브러리 설치 및 확인 \n",
    "# 데이터를 정리하기 위한 라이브러리 호출\n",
    "\n",
    "# 데이터를 계산하기 위한 라이브러리 호출\n",
    "\n",
    "# 데이터를 plotting하기 위한 라이브러리 2개 호출\n",
    "\n",
    "\n",
    "# 데이터를 분석하기 위한 라이브러리 호출\n"
   ]
  },
  {
   "cell_type": "code",
   "execution_count": null,
   "id": "7f225927",
   "metadata": {},
   "outputs": [],
   "source": [
    "# 필요 라이브러리 호출\n",
    "# 위에서 확인한 4가지를 호출해 봅시다\n"
   ]
  },
  {
   "cell_type": "code",
   "execution_count": null,
   "id": "b95b7dc4",
   "metadata": {},
   "outputs": [],
   "source": [
    "# Scikit-learn에서 필요한 라이브러리들을 호출해봅시다.\n",
    "# 데이터셋과 Logistic regresssion 라이브러리를 호출해 봅시다.\n",
    "\n",
    "\n",
    "# 데이터를 학습과 추정을 위한 셋트로 분리하는 라이브러리를 호출해 봅시다.\n",
    "\n",
    "\n",
    "# 모델을 평가하고 확인하는 라이브러리를 호출해 봅시다.\n",
    "\n",
    "\n",
    "# \n"
   ]
  },
  {
   "cell_type": "markdown",
   "id": "eb2df507",
   "metadata": {},
   "source": [
    "# 2. Data Load"
   ]
  },
  {
   "cell_type": "markdown",
   "id": "5890576c",
   "metadata": {},
   "source": [
    "- 기계학습에서 가장 기본적으로 사용되는 데이터인 iris를 사용해봅시다"
   ]
  },
  {
   "cell_type": "code",
   "execution_count": null,
   "id": "ec96bb6d",
   "metadata": {},
   "outputs": [],
   "source": [
    "# 데이터셋에서 iris를 호출해 봅시다.\n"
   ]
  },
  {
   "cell_type": "code",
   "execution_count": null,
   "id": "c957e9b8",
   "metadata": {},
   "outputs": [],
   "source": [
    "# iris 데이터 셋을 확인해 봅시다.\n"
   ]
  },
  {
   "cell_type": "markdown",
   "id": "0111f781",
   "metadata": {},
   "source": [
    "- 데이터를 가시화 해봅시다"
   ]
  },
  {
   "cell_type": "code",
   "execution_count": null,
   "id": "e3bb96d6",
   "metadata": {},
   "outputs": [],
   "source": [
    "# 가시화를 위해 우선 두개의 피쳐만을 선택해 봅시다\n",
    "\n",
    "# 지도학습을 위한 target을 결정해 봅시다\n"
   ]
  },
  {
   "cell_type": "code",
   "execution_count": null,
   "id": "547b2cf5",
   "metadata": {},
   "outputs": [],
   "source": [
    "# 가시화 결과에 좌우 여백을 주어 봅시다\n",
    "# 가시화 결과에 상하 여백을 주어 봅시다"
   ]
  },
  {
   "cell_type": "code",
   "execution_count": null,
   "id": "5439c2b4",
   "metadata": {},
   "outputs": [],
   "source": [
    "# (8,6)크기로 그래프를 그려봅시다\n",
    "\n",
    "\n",
    "# 그래프 초기화\n",
    "\n",
    "\n",
    "# Plot the training points\n",
    "\n",
    "#그래프 좌우/상하 길이 결정\n",
    "\n",
    "# 그래프 눈금은 없도록 결정\n",
    "\n",
    "# 그래프 출력\n"
   ]
  },
  {
   "cell_type": "code",
   "execution_count": null,
   "id": "c9aa0e5e",
   "metadata": {},
   "outputs": [],
   "source": [
    "# 데이터를 학습과 평가 데이터 세트로 분류\n"
   ]
  },
  {
   "cell_type": "markdown",
   "id": "9fcf691e",
   "metadata": {},
   "source": [
    "# 3. Model Building"
   ]
  },
  {
   "cell_type": "markdown",
   "id": "0c51ed94",
   "metadata": {},
   "source": [
    "- Logistic regression 라이브러리를 사용하여 모델을 학습시켜 봅시다 "
   ]
  },
  {
   "cell_type": "code",
   "execution_count": null,
   "id": "47072e61",
   "metadata": {},
   "outputs": [],
   "source": [
    "#가장 기본 Logistic regression을 만들어봅시다 \n"
   ]
  },
  {
   "cell_type": "code",
   "execution_count": null,
   "id": "7d1cedd5",
   "metadata": {},
   "outputs": [],
   "source": [
    "#전체 데이터를 사용해 모델을 학습해 봅시다 - 데이터 분석\n"
   ]
  },
  {
   "cell_type": "code",
   "execution_count": null,
   "id": "e6242b9c",
   "metadata": {},
   "outputs": [],
   "source": [
    "#모델의 예측 결과를 확인해봅시다\n"
   ]
  },
  {
   "cell_type": "code",
   "execution_count": null,
   "id": "c91c71b8",
   "metadata": {},
   "outputs": [],
   "source": [
    "#모델의 정확도를 '직접 ' 계산해 봅시다\n"
   ]
  },
  {
   "cell_type": "code",
   "execution_count": null,
   "id": "88ece647",
   "metadata": {},
   "outputs": [],
   "source": [
    "#모델의 정확도를 '라이브러리로' 확인해 봅시다\n"
   ]
  },
  {
   "cell_type": "markdown",
   "id": "555a269c",
   "metadata": {},
   "source": [
    "- 위에서 사용된 데이터는 2개의 피쳐만을 사용하였을 때입니다.\n",
    "- 만약 모든 피쳐를 사용한다면 어떻게 될까요?"
   ]
  },
  {
   "cell_type": "code",
   "execution_count": null,
   "id": "b06ca9d1",
   "metadata": {},
   "outputs": [],
   "source": [
    "# 모든 피쳐의 데이터를 선택해 봅시다\n",
    "\n",
    "# 지도학습을 위한 target을 결정해 봅시다\n"
   ]
  },
  {
   "cell_type": "code",
   "execution_count": null,
   "id": "fe8a04f8",
   "metadata": {},
   "outputs": [],
   "source": [
    "# 데이터를 학습과 평가 데이터 세트로 분류\n"
   ]
  },
  {
   "cell_type": "code",
   "execution_count": 1,
   "id": "0fba7e0b",
   "metadata": {},
   "outputs": [],
   "source": [
    "# 모델을 만들고 정확도를 확인해 봅시다\n"
   ]
  },
  {
   "cell_type": "markdown",
   "id": "b594e304",
   "metadata": {},
   "source": [
    "- 학습 데이터 세트와 평가 데이터 세트를 사용하여 봅시다"
   ]
  },
  {
   "cell_type": "code",
   "execution_count": null,
   "id": "37c51b11",
   "metadata": {},
   "outputs": [],
   "source": [
    "#학습 데이터 세트를 사용하여 모델을 학습시켜봅시다\n",
    "\n",
    "\n",
    "#평가 데이터 세트를 사용하여 모델의 성능을 확인하여 봅시다\n",
    "\n",
    "\n",
    "#모델의 성능을 confusion matrix로 확인하여 봅시다\n"
   ]
  },
  {
   "cell_type": "code",
   "execution_count": null,
   "id": "5530d2d5",
   "metadata": {},
   "outputs": [],
   "source": [
    "# ConfusionMatrixDisplay를 사용하여 시각적 표현 성능을 올려봅시다\n"
   ]
  },
  {
   "cell_type": "markdown",
   "id": "1d742aec",
   "metadata": {},
   "source": [
    "![nn](colormap.png)"
   ]
  },
  {
   "cell_type": "code",
   "execution_count": null,
   "id": "ecc6a27c",
   "metadata": {},
   "outputs": [],
   "source": [
    "# seaborn 라이브러리로 표현해 봅시다\n"
   ]
  },
  {
   "cell_type": "code",
   "execution_count": null,
   "id": "f8a9b3da",
   "metadata": {},
   "outputs": [],
   "source": [
    "#갯수 대신 확률로 표현해 봅시다\n"
   ]
  },
  {
   "cell_type": "code",
   "execution_count": null,
   "id": "4a3d781a",
   "metadata": {},
   "outputs": [],
   "source": [
    "# Confusion matrix에는 동시에 여러가지 정보를 입력할수도 있습니다.\n"
   ]
  },
  {
   "cell_type": "markdown",
   "id": "7df1916d",
   "metadata": {},
   "source": [
    "# 4. Hyperparameter Tuning"
   ]
  },
  {
   "cell_type": "markdown",
   "id": "82eb755e",
   "metadata": {},
   "source": [
    "- 학습된 모델의 성능에 기반하여 최적의 파라메터와 모델을 골라봅시다"
   ]
  },
  {
   "cell_type": "code",
   "execution_count": null,
   "id": "e5779857",
   "metadata": {},
   "outputs": [],
   "source": [
    "# 모델 간 성능의 가시화를 위해 우선 두개의 피쳐만을 선택해 봅시다\n",
    "\n",
    "# 지도학습을 위한 target을 결정해 봅시다\n",
    "\n",
    "# 데이터를 학습과 평가로 분할\n"
   ]
  },
  {
   "cell_type": "code",
   "execution_count": null,
   "id": "aa4d01ac",
   "metadata": {},
   "outputs": [],
   "source": [
    "# Logistic Regression의 페널티와 solver을 바꾸어 가며 모델을 학습시켜 봅시다\n",
    "\n",
    "#모델을 동시에 학습시켜 봅시다\n"
   ]
  },
  {
   "cell_type": "code",
   "execution_count": null,
   "id": "b1cae7ce",
   "metadata": {},
   "outputs": [],
   "source": [
    "# 각 모델의 이름을 기록해둡시다.\n"
   ]
  },
  {
   "cell_type": "code",
   "execution_count": null,
   "id": "c7be5108",
   "metadata": {},
   "outputs": [],
   "source": [
    "#비교 그림을 그려봅시다. (1X3)\n",
    "\n",
    "\n",
    "#두 개의 피쳐를 x축, y축이 될 수 있도록 선택하여 줍니다.\n",
    "\n",
    "\n",
    "# Decision boundary display method를 사용하여 결과를 가시화해 봅시다\n",
    "  \n",
    "# 실제 데이터 결과를 뿌려서 표현하여 줍니다.\n"
   ]
  },
  {
   "cell_type": "markdown",
   "id": "f7fec108",
   "metadata": {},
   "source": [
    "- 우리는 가시화를 위해 2개의 피쳐만을 선택하였습니다.\n",
    "- 이번에는 가시화를 포기하고 모든 피쳐를 다 사용하여 보도록 합시다."
   ]
  },
  {
   "cell_type": "code",
   "execution_count": null,
   "id": "5dc9829f",
   "metadata": {},
   "outputs": [],
   "source": [
    "# 데이터 셋팅\n"
   ]
  },
  {
   "cell_type": "code",
   "execution_count": null,
   "id": "38d2da77",
   "metadata": {},
   "outputs": [],
   "source": [
    "# Logistic Regression 모델 셋팅\n",
    "\n"
   ]
  },
  {
   "cell_type": "markdown",
   "id": "d052c4bf",
   "metadata": {},
   "source": [
    "- 다른 데이터를 사용해 봅시다 (과제: datasets의 wine data, digits, breast_cancer를 사용해보기)"
   ]
  },
  {
   "cell_type": "code",
   "execution_count": 2,
   "id": "f1016780",
   "metadata": {},
   "outputs": [],
   "source": [
    "### 과제 ###"
   ]
  },
  {
   "cell_type": "markdown",
   "id": "8566ea7e",
   "metadata": {},
   "source": [
    "# 5. Extras"
   ]
  },
  {
   "cell_type": "markdown",
   "id": "1a9016be",
   "metadata": {},
   "source": [
    "- 실제 상황에서는 모든 데이터의 target이 정상적이지 않을수도 있습니다.\n",
    "- 만약 일부 데이터의 target이 지워져 있다면?"
   ]
  },
  {
   "cell_type": "code",
   "execution_count": null,
   "id": "8a6666ce",
   "metadata": {},
   "outputs": [],
   "source": [
    "# 가시화를 위해 우선 두개의 피쳐만을 선택해 봅시다\n",
    "\n",
    "# 지도학습을 위한 target을 결정해 봅시다\n"
   ]
  },
  {
   "cell_type": "code",
   "execution_count": null,
   "id": "8aa4b546",
   "metadata": {},
   "outputs": [],
   "source": [
    "# 그래프를 위한 mesh의 크기를 결정합니다.\n"
   ]
  },
  {
   "cell_type": "code",
   "execution_count": null,
   "id": "6a095bc7",
   "metadata": {},
   "outputs": [],
   "source": [
    "# k-NN으로 지워진 target을 유추하는 경우\n"
   ]
  },
  {
   "cell_type": "code",
   "execution_count": null,
   "id": "e78d8075",
   "metadata": {},
   "outputs": [],
   "source": [
    "# Logistic Regression으로 지워진 target을 유추하는 경우\n"
   ]
  },
  {
   "cell_type": "code",
   "execution_count": null,
   "id": "68bc8e7c",
   "metadata": {},
   "outputs": [],
   "source": [
    "# create a mesh to plot in\n"
   ]
  },
  {
   "cell_type": "code",
   "execution_count": null,
   "id": "48188470",
   "metadata": {},
   "outputs": [],
   "source": [
    "# target별로 다른 색으로 표현하기 위해 색을 부여합니다.\n"
   ]
  },
  {
   "cell_type": "code",
   "execution_count": null,
   "id": "1d37d002",
   "metadata": {},
   "outputs": [],
   "source": [
    "# 모든 분류기를 입력합니다.\n",
    "\n",
    "# 분류기별로 가시화를 수행합니다.\n"
   ]
  }
 ],
 "metadata": {
  "kernelspec": {
   "display_name": "Python 3 (ipykernel)",
   "language": "python",
   "name": "python3"
  },
  "language_info": {
   "codemirror_mode": {
    "name": "ipython",
    "version": 3
   },
   "file_extension": ".py",
   "mimetype": "text/x-python",
   "name": "python",
   "nbconvert_exporter": "python",
   "pygments_lexer": "ipython3",
   "version": "3.8.16"
  }
 },
 "nbformat": 4,
 "nbformat_minor": 5
}
