{
 "cells": [
  {
   "cell_type": "markdown",
   "id": "45fc48c2",
   "metadata": {},
   "source": [
    "# 지도학습 실습 - Naive Bayesian Classifier"
   ]
  },
  {
   "cell_type": "markdown",
   "id": "e687e5cf",
   "metadata": {},
   "source": [
    "이번 튜토리얼에서는 다음과 같은 **프로세스 파이프라인**으로 나이브 베이지언 모델의 학습을 진행합니다.\n",
    "\n",
    "- Scikit-Learn의 Datasets 클래스를 활용하여 지도학습용 데이터 구축\n",
    "- Scikit-Learn의 나이브 베이지언 모듈을 활용하여 모델 생성 및 결과 예측\n",
    "- 생성된 모델의 하이퍼 파라메터 튜닝을 통한 모델 최적화"
   ]
  },
  {
   "cell_type": "markdown",
   "id": "ac94eb0d",
   "metadata": {},
   "source": [
    "# 1. Import Library"
   ]
  },
  {
   "cell_type": "code",
   "execution_count": null,
   "id": "d47aa203",
   "metadata": {
    "scrolled": false
   },
   "outputs": [],
   "source": [
    "# 필요 라이브러리 설치 및 확인 \n",
    "# 데이터를 정리하기 위한 라이브러리 호출\n",
    "!pip install pandas\n",
    "# 데이터를 계산하기 위한 라이브러리 호출\n",
    "!pip install numpy\n",
    "# 데이터를 plotting하기 위한 라이브러리 2개 호출\n",
    "!pip install matplotlib\n",
    "!pip install seaborn\n",
    "# 데이터를 분석하기 위한 라이브러리 호출\n",
    "!pip install scikit-learn"
   ]
  },
  {
   "cell_type": "code",
   "execution_count": null,
   "id": "7f225927",
   "metadata": {},
   "outputs": [],
   "source": [
    "# 필요 라이브러리 호출\n",
    "# 위에서 확인한 4가지를 호출해 봅시다\n",
    "import pandas as pd\n",
    "import numpy as np\n",
    "import matplotlib.pyplot as plt\n",
    "import seaborn as sns"
   ]
  },
  {
   "cell_type": "code",
   "execution_count": null,
   "id": "b95b7dc4",
   "metadata": {},
   "outputs": [],
   "source": [
    "# Scikit-learn에서 필요한 라이브러리들을 호출해봅시다.\n",
    "# 데이터셋과 나이브 베이지언 라이브러리를 호출해 봅시다.\n",
    "from sklearn import datasets\n",
    "from sklearn.naive_bayes import CategoricalNB, GaussianNB, ComplementNB, MultinomialNB\n",
    "\n",
    "# 데이터를 학습과 추정을 위한 셋트로 분리하는 라이브러리를 호출해 봅시다.\n",
    "from sklearn.model_selection import train_test_split\n",
    "\n",
    "# 모델을 평가하고 확인하는 라이브러리를 호출해 봅시다.\n",
    "from sklearn.metrics import accuracy_score, confusion_matrix, ConfusionMatrixDisplay\n",
    "\n",
    "# \n",
    "from sklearn.semi_supervised import LabelSpreading\n",
    "from sklearn.semi_supervised import SelfTrainingClassifier\n",
    "\n",
    "from sklearn.inspection import DecisionBoundaryDisplay"
   ]
  },
  {
   "cell_type": "markdown",
   "id": "eb2df507",
   "metadata": {},
   "source": [
    "# 2. Data Load"
   ]
  },
  {
   "cell_type": "markdown",
   "id": "5890576c",
   "metadata": {},
   "source": [
    "- 기계학습에서 가장 기본적으로 사용되는 데이터인 iris를 사용해봅시다"
   ]
  },
  {
   "cell_type": "code",
   "execution_count": null,
   "id": "ec96bb6d",
   "metadata": {},
   "outputs": [],
   "source": [
    "# 데이터셋에서 iris를 호출해 봅시다.\n",
    "iris = datasets.load_iris()"
   ]
  },
  {
   "cell_type": "code",
   "execution_count": null,
   "id": "c957e9b8",
   "metadata": {},
   "outputs": [],
   "source": [
    "# iris 데이터 셋을 확인해 봅시다.\n",
    "print(iris)"
   ]
  },
  {
   "cell_type": "code",
   "execution_count": null,
   "id": "0fc6b4fe",
   "metadata": {},
   "outputs": [],
   "source": [
    "print(iris.data)"
   ]
  },
  {
   "cell_type": "code",
   "execution_count": null,
   "id": "b3915a76",
   "metadata": {},
   "outputs": [],
   "source": [
    "print(iris.target)"
   ]
  },
  {
   "cell_type": "code",
   "execution_count": null,
   "id": "d9f77968",
   "metadata": {},
   "outputs": [],
   "source": [
    "print(iris.target_names)"
   ]
  },
  {
   "cell_type": "markdown",
   "id": "0111f781",
   "metadata": {},
   "source": [
    "- 데이터를 가시화 해봅시다"
   ]
  },
  {
   "cell_type": "code",
   "execution_count": null,
   "id": "e3bb96d6",
   "metadata": {},
   "outputs": [],
   "source": [
    "# 가시화를 위해 우선 두개의 피쳐만을 선택해 봅시다\n",
    "X = iris.data[:, :2]\n",
    "# 지도학습을 위한 target을 결정해 봅시다\n",
    "y = iris.target"
   ]
  },
  {
   "cell_type": "code",
   "execution_count": null,
   "id": "547b2cf5",
   "metadata": {},
   "outputs": [],
   "source": [
    "x_min, x_max = X[:, 0].min() - 0.5, X[:, 0].max() + 0.5 # 가시화 결과에 좌우 여백을 주어 봅시다\n",
    "y_min, y_max = X[:, 1].min() - 0.5, X[:, 1].max() + 0.5 # 가시화 결과에 상하 여백을 주어 봅시다"
   ]
  },
  {
   "cell_type": "code",
   "execution_count": null,
   "id": "5439c2b4",
   "metadata": {},
   "outputs": [],
   "source": [
    "# (8,6)크기로 그래프를 그려봅시다\n",
    "plt.figure(1, figsize=(8, 6))\n",
    "\n",
    "# 그래프 초기화\n",
    "plt.clf()\n",
    "\n",
    "# Plot the training points\n",
    "plt.scatter(X[:, 0], X[:, 1], c=y, cmap=plt.cm.Set1, edgecolor=\"k\")\n",
    "plt.xlabel(\"Feature 1\")\n",
    "plt.ylabel(\"Feature 2\")\n",
    "\n",
    "#그래프 좌우/상하 길이 결정\n",
    "plt.xlim(x_min, x_max)\n",
    "plt.ylim(y_min, y_max)\n",
    "\n",
    "# 그래프 눈금은 없도록 결정\n",
    "plt.xticks(())\n",
    "plt.yticks(())\n",
    "\n",
    "# 그래프 출력\n",
    "plt.show()"
   ]
  },
  {
   "cell_type": "code",
   "execution_count": null,
   "id": "c9aa0e5e",
   "metadata": {},
   "outputs": [],
   "source": [
    "# 데이터를 학습과 평가 데이터 세트로 분류\n",
    "X_train, X_test, y_train, y_test = train_test_split(X, y, test_size=0.25, random_state = 0, stratify=y)"
   ]
  },
  {
   "cell_type": "markdown",
   "id": "9fcf691e",
   "metadata": {},
   "source": [
    "# 3. Model Building"
   ]
  },
  {
   "cell_type": "markdown",
   "id": "0c51ed94",
   "metadata": {},
   "source": [
    "- 나이브 베이지언 라이브러리를 사용하여 모델을 학습시켜 봅시다 "
   ]
  },
  {
   "cell_type": "code",
   "execution_count": null,
   "id": "47072e61",
   "metadata": {},
   "outputs": [],
   "source": [
    "#가장 기본 나이브 베이지언을 만들어봅시다 \n",
    "clf = CategoricalNB()"
   ]
  },
  {
   "cell_type": "code",
   "execution_count": null,
   "id": "7d1cedd5",
   "metadata": {},
   "outputs": [],
   "source": [
    "#전체 데이터를 사용해 모델을 학습해 봅시다 - 데이터 분석\n",
    "clf.fit(X,y)"
   ]
  },
  {
   "cell_type": "code",
   "execution_count": null,
   "id": "e6242b9c",
   "metadata": {},
   "outputs": [],
   "source": [
    "#모델의 예측 결과를 확인해봅시다\n",
    "predictions = clf.predict(X)"
   ]
  },
  {
   "cell_type": "code",
   "execution_count": null,
   "id": "c91c71b8",
   "metadata": {},
   "outputs": [],
   "source": [
    "#모델의 정확도를 '직접 ' 계산해 봅시다\n",
    "sum(predictions==y)/len(y)"
   ]
  },
  {
   "cell_type": "code",
   "execution_count": null,
   "id": "88ece647",
   "metadata": {},
   "outputs": [],
   "source": [
    "#모델의 정확도를 '라이브러리로' 확인해 봅시다\n",
    "accuracy_score(y,predictions)"
   ]
  },
  {
   "cell_type": "markdown",
   "id": "555a269c",
   "metadata": {},
   "source": [
    "- 위에서 사용된 데이터트 2개의 피쳐만을 사용하였을 때입니다.\n",
    "- 만약 모든 피쳐를 사용한다면 어떻게 될까요?"
   ]
  },
  {
   "cell_type": "code",
   "execution_count": null,
   "id": "b06ca9d1",
   "metadata": {},
   "outputs": [],
   "source": [
    "# 모든 피쳐의 데이터를 선택해 봅시다\n",
    "X = iris.data\n",
    "# 지도학습을 위한 target을 결정해 봅시다\n",
    "y = iris.target"
   ]
  },
  {
   "cell_type": "code",
   "execution_count": null,
   "id": "fe8a04f8",
   "metadata": {},
   "outputs": [],
   "source": [
    "# 데이터를 학습과 평가 데이터 세트로 분류\n",
    "X_train, X_test, y_train, y_test = train_test_split(X, y, test_size=0.25, random_state = 0, stratify=y)"
   ]
  },
  {
   "cell_type": "code",
   "execution_count": null,
   "id": "0fba7e0b",
   "metadata": {},
   "outputs": [],
   "source": [
    "# 모델을 만들고 정확도를 확인해 봅시다\n",
    "clf = CategoricalNB()\n",
    "clf.fit(X,y)\n",
    "predictions = clf.predict(X)\n",
    "accuracy_score(y,predictions)"
   ]
  },
  {
   "cell_type": "markdown",
   "id": "b594e304",
   "metadata": {},
   "source": [
    "- 학습 데이터 세트와 평가 데이터 세트를 사용하여 봅시다"
   ]
  },
  {
   "cell_type": "code",
   "execution_count": null,
   "id": "37c51b11",
   "metadata": {},
   "outputs": [],
   "source": [
    "#학습 데이터 세트를 사용하여 모델을 학습시켜봅시다\n",
    "clf.fit(X_train,y_train)\n",
    "\n",
    "#평가 데이터 세트를 사용하여 모델의 성능을 확인하여 봅시다\n",
    "predictions = clf.predict(X_test)\n",
    "\n",
    "#모델의 성능을 confusion matrix로 확인하여 봅시다\n",
    "cm = confusion_matrix(y_test, predictions)\n",
    "print(cm)"
   ]
  },
  {
   "cell_type": "code",
   "execution_count": null,
   "id": "5530d2d5",
   "metadata": {},
   "outputs": [],
   "source": [
    "# ConfusionMatrixDisplay를 사용하여 시각적 표현 성능을 올려봅시다\n",
    "disp = ConfusionMatrixDisplay(confusion_matrix=cm, display_labels=[\"Class 1\",\"Class 2\",\"Class 3\"])\n",
    "disp.plot()"
   ]
  },
  {
   "cell_type": "markdown",
   "id": "1d742aec",
   "metadata": {},
   "source": [
    "![nn](colormap.png)"
   ]
  },
  {
   "cell_type": "code",
   "execution_count": null,
   "id": "ecc6a27c",
   "metadata": {},
   "outputs": [],
   "source": [
    "# seaborn 라이브러리로 표현해 봅시다\n",
    "sns.heatmap(cm, annot=True)"
   ]
  },
  {
   "cell_type": "code",
   "execution_count": null,
   "id": "f8a9b3da",
   "metadata": {},
   "outputs": [],
   "source": [
    "#갯수 대신 확률로 표현해 봅시다\n",
    "sns.heatmap(cm/np.sum(cm), annot=True, \n",
    "            fmt='.2%', cmap='Blues')"
   ]
  },
  {
   "cell_type": "code",
   "execution_count": null,
   "id": "4a3d781a",
   "metadata": {},
   "outputs": [],
   "source": [
    "# Confusion matrix에는 동시에 여러가지 정보를 입력할수도 있습니다.\n",
    "group_names = ['00','01','02','10','11','12','20','21','22']\n",
    "group_counts = ['{0:0.0f}'.format(value) for value in\n",
    "                cm.flatten()]\n",
    "group_percentages = ['{0:.2%}'.format(value) for value in\n",
    "                     cm.flatten()/np.sum(cm)]\n",
    "labels = [f'{v1}\\n{v2}\\n{v3}' for v1, v2, v3 in\n",
    "          zip(group_names,group_counts,group_percentages)]\n",
    "labels = np.asarray(labels).reshape(3,3)\n",
    "sns.heatmap(cm, annot=labels, fmt='', cmap='Blues')"
   ]
  },
  {
   "cell_type": "markdown",
   "id": "7df1916d",
   "metadata": {},
   "source": [
    "# 4. Hyperparameter Tuning"
   ]
  },
  {
   "cell_type": "markdown",
   "id": "82eb755e",
   "metadata": {},
   "source": [
    "- 학습된 모델의 성능에 기반하여 최적의 파라메터와 모델을 골라봅시다"
   ]
  },
  {
   "cell_type": "code",
   "execution_count": null,
   "id": "e5779857",
   "metadata": {},
   "outputs": [],
   "source": [
    "# 모델 간 성능의 가시화를 위해 우선 두개의 피쳐만을 선택해 봅시다\n",
    "X = iris.data[:, :2]\n",
    "# 지도학습을 위한 target을 결정해 봅시다\n",
    "y = iris.target\n",
    "# 데이터를 학습과 평가로 분할\n",
    "X_train, X_test, y_train, y_test = train_test_split(X, y, test_size=0.25, random_state = 0, stratify=y)"
   ]
  },
  {
   "cell_type": "code",
   "execution_count": null,
   "id": "aa4d01ac",
   "metadata": {},
   "outputs": [],
   "source": [
    "# 나이브 베이지언의 종류를 바꾸어 가면서 학습을 수행하여 봅시다.\n",
    "models = (    \n",
    "    GaussianNB(),\n",
    "    ComplementNB(), \n",
    "    MultinomialNB(),\n",
    ")\n",
    "\n",
    "#모델을 동시에 학습시켜 봅시다\n",
    "models = (clf.fit(X_train, y_train) for clf in models)"
   ]
  },
  {
   "cell_type": "code",
   "execution_count": null,
   "id": "b1cae7ce",
   "metadata": {},
   "outputs": [],
   "source": [
    "# 각 모델의 이름을 기록해둡시다.\n",
    "titles = (\n",
    "    \"GaussianNB\",\n",
    "    \"ComplementNB\",\n",
    "    \"MultinomialNB\",\n",
    ")"
   ]
  },
  {
   "cell_type": "code",
   "execution_count": null,
   "id": "c7be5108",
   "metadata": {},
   "outputs": [],
   "source": [
    "#비교 그림을 그려봅시다. (2X2)\n",
    "plt.clf()\n",
    "fig, sub = plt.subplots(1, 3, figsize=(12,3))\n",
    "plt.subplots_adjust(wspace=0.4, hspace=0.4)\n",
    "\n",
    "#두 개의 피쳐를 x축, y축이 될 수 있도록 선택하여 줍니다.\n",
    "X0, X1 = X[:, 0], X[:, 1]\n",
    "\n",
    "for clf, title, ax in zip(models, titles, sub.flatten()):\n",
    "    # Decision boundary display method를 사용하여 결과를 가시화해 봅시다\n",
    "    disp = DecisionBoundaryDisplay.from_estimator(\n",
    "        clf,\n",
    "        X,\n",
    "        response_method=\"predict\",\n",
    "        cmap=plt.cm.coolwarm,\n",
    "        alpha=0.8,\n",
    "        ax=ax,\n",
    "        xlabel=iris.feature_names[0],\n",
    "        ylabel=iris.feature_names[1],\n",
    "    )\n",
    "    #실제 데이터 결과를 뿌려서 표현하여 줍니다.\n",
    "    ax.scatter(X0, X1, c=y, cmap=plt.cm.coolwarm, s=20, edgecolors=\"k\")\n",
    "    ax.set_xticks(())\n",
    "    ax.set_yticks(())\n",
    "    ax.set_title(title)\n",
    "\n",
    "plt.show()"
   ]
  },
  {
   "cell_type": "markdown",
   "id": "f7fec108",
   "metadata": {},
   "source": [
    "- 우리는 가시화를 위해 2개의 피쳐만을 선택하였습니다.\n",
    "- 이번에는 가시화를 포기하고 모든 피쳐를 다 사용하여 보도록 합시다."
   ]
  },
  {
   "cell_type": "code",
   "execution_count": null,
   "id": "5dc9829f",
   "metadata": {},
   "outputs": [],
   "source": [
    "# 데이터 셋팅\n",
    "X = iris.data\n",
    "y = iris.target\n",
    "X_train, X_test, y_train, y_test = train_test_split(X, y, test_size=0.25, random_state = 0, stratify=y)"
   ]
  },
  {
   "cell_type": "code",
   "execution_count": null,
   "id": "38d2da77",
   "metadata": {},
   "outputs": [],
   "source": [
    "# 나이브 베이지언 모델 셋팅\n",
    "models = (\n",
    "    GaussianNB(),\n",
    "    ComplementNB(), \n",
    "    MultinomialNB(),\n",
    ")\n",
    "models = (clf.fit(X_train, y_train) for clf in models)"
   ]
  },
  {
   "cell_type": "code",
   "execution_count": null,
   "id": "5b77eb2e",
   "metadata": {},
   "outputs": [],
   "source": [
    "for clf, title in zip(models, titles):\n",
    "    clf.fit(X_train,y_train)\n",
    "    predictions = clf.predict(X_test)\n",
    "    print(\"모델 종류 : {}, 정확도 : {}\".format(title,accuracy_score(y_test,predictions)))"
   ]
  },
  {
   "cell_type": "markdown",
   "id": "d052c4bf",
   "metadata": {},
   "source": [
    "- 다른 데이터를 사용해 봅시다 (과제: datasets의 wine data, digits, breast_cancer를 사용해보기)"
   ]
  },
  {
   "cell_type": "code",
   "execution_count": null,
   "id": "848300dd",
   "metadata": {},
   "outputs": [],
   "source": [
    "# wine data를 호출하여 봅시다.\n",
    "wine = datasets.load_wine()"
   ]
  },
  {
   "cell_type": "code",
   "execution_count": null,
   "id": "532f4898",
   "metadata": {},
   "outputs": [],
   "source": [
    "# 데이터 셋팅\n",
    "X = wine.data\n",
    "y = wine.target\n",
    "X_train, X_test, y_train, y_test = train_test_split(X, y, test_size=0.25, random_state = 0, stratify=y)"
   ]
  },
  {
   "cell_type": "code",
   "execution_count": null,
   "id": "13259fd8",
   "metadata": {},
   "outputs": [],
   "source": [
    "# 나이브 베이지언 모델 셋팅\n",
    "models = (\n",
    "    GaussianNB(),\n",
    "    ComplementNB(), \n",
    "    MultinomialNB(),\n",
    ")\n",
    "models = (clf.fit(X_train, y_train) for clf in models)"
   ]
  },
  {
   "cell_type": "code",
   "execution_count": null,
   "id": "f1016780",
   "metadata": {},
   "outputs": [],
   "source": [
    "for clf, title in zip(models, titles):\n",
    "    clf.fit(X_train,y_train)\n",
    "    predictions = clf.predict(X_test)\n",
    "    print(\"모델 종류 : {}, 정확도 : {}\".format(title,accuracy_score(y_test,predictions)))"
   ]
  },
  {
   "cell_type": "markdown",
   "id": "8566ea7e",
   "metadata": {},
   "source": [
    "# 5. Extras"
   ]
  },
  {
   "cell_type": "markdown",
   "id": "1a9016be",
   "metadata": {},
   "source": [
    "- 실제 상황에서는 모든 데이터의 target이 정상적이지 않을수도 있습니다.\n",
    "- 만약 일부 데이터의 target이 지워져 있다면?"
   ]
  },
  {
   "cell_type": "code",
   "execution_count": null,
   "id": "8a6666ce",
   "metadata": {},
   "outputs": [],
   "source": [
    "# 가시화를 위해 우선 두개의 피쳐만을 선택해 봅시다\n",
    "X = iris.data[:, :2]\n",
    "# 지도학습을 위한 target을 결정해 봅시다\n",
    "y = iris.target"
   ]
  },
  {
   "cell_type": "code",
   "execution_count": null,
   "id": "8aa4b546",
   "metadata": {},
   "outputs": [],
   "source": [
    "# 그래프를 위한 mesh의 크기를 결정합니다.\n",
    "h = 0.02\n",
    "\n",
    "rng = np.random.RandomState(0)\n",
    "y_rand = rng.rand(y.shape[0])\n",
    "y_30 = np.copy(y)\n",
    "y_30[y_rand < 0.3] = -1  # 전체 데이터의 30프로의 레이블을 삭제\n",
    "y_50 = np.copy(y)\n",
    "y_50[y_rand < 0.5] = -1  # 전체 데이터의 50프로의 레이블을 삭제\n",
    "\n",
    "# k-NN으로 지워진 target을 유추하는 경우\n",
    "ls30 = (LabelSpreading().fit(X, y_30), y_30, \"Label Spreading 30% data\")\n",
    "ls50 = (LabelSpreading().fit(X, y_50), y_50, \"Label Spreading 50% data\")\n",
    "ls100 = (LabelSpreading().fit(X, y), y, \"Label Spreading 100% data\")"
   ]
  },
  {
   "cell_type": "code",
   "execution_count": null,
   "id": "e78d8075",
   "metadata": {},
   "outputs": [],
   "source": [
    "# 나이브 베이지언으로 지워진 target을 유추하는 경우\n",
    "base_classifier = GaussianNB()\n",
    "st30 = (\n",
    "    SelfTrainingClassifier(base_classifier).fit(X, y_30),\n",
    "    y_30,\n",
    "    \"Self-training 30% data\",\n",
    ")\n",
    "st50 = (\n",
    "    SelfTrainingClassifier(base_classifier).fit(X, y_50),\n",
    "    y_50,\n",
    "    \"Self-training 50% data\",\n",
    ")\n",
    "\n",
    "nb_gaussian = (GaussianNB().fit(X, y), y, \"NaiveBayesian with Gaussian\")\n"
   ]
  },
  {
   "cell_type": "code",
   "execution_count": null,
   "id": "68bc8e7c",
   "metadata": {},
   "outputs": [],
   "source": [
    "# create a mesh to plot in\n",
    "x_min, x_max = X[:, 0].min() - 1, X[:, 0].max() + 1\n",
    "y_min, y_max = X[:, 1].min() - 1, X[:, 1].max() + 1\n",
    "xx, yy = np.meshgrid(np.arange(x_min, x_max, h), np.arange(y_min, y_max, h))"
   ]
  },
  {
   "cell_type": "code",
   "execution_count": null,
   "id": "48188470",
   "metadata": {},
   "outputs": [],
   "source": [
    "# target별로 다른 색으로 표현하기 위해 색을 부여합니다.\n",
    "color_map = {-1: (1, 1, 1), 0: (0, 0, 0.9), 1: (1, 0, 0), 2: (0.8, 0.6, 0)}"
   ]
  },
  {
   "cell_type": "code",
   "execution_count": null,
   "id": "9c135f3c",
   "metadata": {
    "scrolled": true
   },
   "outputs": [],
   "source": [
    "classifiers = (ls30, st30, ls50, st50, ls100, nb_gaussian)\n",
    "for i, (clf, y_train, title) in enumerate(classifiers):\n",
    "    # Plot the decision boundary. For that, we will assign a color to each\n",
    "    # point in the mesh [x_min, x_max]x[y_min, y_max].\n",
    "    plt.subplot(3, 2, i + 1)\n",
    "    Z = clf.predict(np.c_[xx.ravel(), yy.ravel()])\n",
    "\n",
    "    # Put the result into a color plot\n",
    "    Z = Z.reshape(xx.shape)\n",
    "    plt.contourf(xx, yy, Z, cmap=plt.cm.Paired)\n",
    "    plt.axis(\"off\")\n",
    "\n",
    "    # Plot also the training points\n",
    "    colors = [color_map[y] for y in y_train]\n",
    "    plt.scatter(X[:, 0], X[:, 1], c=colors, edgecolors=\"black\")\n",
    "\n",
    "    plt.title(title)\n",
    "\n",
    "plt.suptitle(\"Unlabeled points are colored white\", y=0.1)\n",
    "plt.show()"
   ]
  }
 ],
 "metadata": {
  "kernelspec": {
   "display_name": "Python 3 (ipykernel)",
   "language": "python",
   "name": "python3"
  },
  "language_info": {
   "codemirror_mode": {
    "name": "ipython",
    "version": 3
   },
   "file_extension": ".py",
   "mimetype": "text/x-python",
   "name": "python",
   "nbconvert_exporter": "python",
   "pygments_lexer": "ipython3",
   "version": "3.8.16"
  }
 },
 "nbformat": 4,
 "nbformat_minor": 5
}
