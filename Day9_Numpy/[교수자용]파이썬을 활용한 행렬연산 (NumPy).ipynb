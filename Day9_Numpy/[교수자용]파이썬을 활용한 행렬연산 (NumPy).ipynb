{
 "cells": [
  {
   "cell_type": "markdown",
   "metadata": {
    "id": "j86rr_MfZZcx"
   },
   "source": [
    "# 파이썬을 활용한 행렬연산 (NumPy)"
   ]
  },
  {
   "cell_type": "markdown",
   "metadata": {
    "id": "2tX0alpeC1fI"
   },
   "source": [
    "## 강의를 시작하며\n",
    "본 파일에는 '파이썬을 활용한 행렬연산 Numpy' 강의를 진행하며 활용한 주제들이 표시되어 있습니다.\n",
    "\n",
    "우선 강의를 수강하며 스스로 주어진 문제에 적합한 코드를 작성해보세요.\n",
    "또한 복사본을 하나 만들어 강의가 끝난 뒤에도 스스로 채워넣으며 복습용으로 활용하여도 좋습니다.\n",
    "\n",
    "본 강의는 학생 중심의 학습 환경을 조성하기 위하여 학습자 중심의 학습과 학습자-교수자 간 적극적인 상호 소통을 지향합니다.\n",
    "강의 중 모르는 부분이 있다면 교수자에게 편히 질문해주시기 바랍니다."
   ]
  },
  {
   "cell_type": "markdown",
   "metadata": {
    "id": "kmV7p8e-nble"
   },
   "source": [
    "---\n",
    "# 0. 파이썬 실습 환경 구성\n",
    "본 파일은 Python 3 설치 환경을 필요로 합니다."
   ]
  },
  {
   "cell_type": "markdown",
   "metadata": {},
   "source": [
    "## 0-1. NumPy 설치 및 import"
   ]
  },
  {
   "cell_type": "code",
   "execution_count": 1,
   "metadata": {
    "id": "mAizSMjz40cr"
   },
   "outputs": [],
   "source": [
    "# NumPy 설치 및 import하기\n",
    "#pip install numpy\n",
    "import numpy as np"
   ]
  },
  {
   "cell_type": "markdown",
   "metadata": {},
   "source": [
    "## 0-2. NumPy를 사용하는 이유"
   ]
  },
  {
   "cell_type": "markdown",
   "metadata": {},
   "source": [
    "NumPy array는 Python list보다 연산 속도가 빠르다.\n",
    "\n",
    "이유:\n",
    "\n",
    "- 배열 안에는 동일한 타입의 데이터만 저장한다. (메모리 주소 할당하지 않음)\n",
    "- C array 형태로 데이터가 저장된다. (인터프레터 언어 vs 컴파일 언어)"
   ]
  },
  {
   "cell_type": "code",
   "execution_count": 2,
   "metadata": {},
   "outputs": [],
   "source": [
    "# 문제: 두 (1000 X 1000) 배열의 원소합 (element-wise sum) 구하기\n",
    "import time\n",
    "import numpy as np"
   ]
  },
  {
   "cell_type": "code",
   "execution_count": 3,
   "metadata": {},
   "outputs": [
    {
     "name": "stdout",
     "output_type": "stream",
     "text": [
      "[[13  8 13 ... 15 16 12]\n",
      " [15 10 15 ... 17 18 14]\n",
      " [12  7 12 ... 14 15 11]\n",
      " ...\n",
      " [10  5 10 ... 12 13  9]\n",
      " [13  8 13 ... 15 16 12]\n",
      " [11  6 11 ... 13 14 10]]\n",
      "Python list 사용 연산 시간: 3.11367 초\n"
     ]
    }
   ],
   "source": [
    "start = time.time()\n",
    "\n",
    "# 문제 환경 초기화\n",
    "np.random.seed(2023)\n",
    "result = np.empty((1000, 1000), dtype = int)\n",
    "test1 = np.random.randint(0, 10, 1000)\n",
    "test2 = np.random.randint(0, 10, 1000)\n",
    "\n",
    "# 비교 1. for-loop을 활용한 Python list 연산\n",
    "for i in range(1000):\n",
    "\tfor j in range(1000):\n",
    "    \t\tresult[i,j] = test1[i] + test2[j]\n",
    "\t\t\n",
    "end = time.time()\n",
    "print(result)\n",
    "print(f\"Python list 사용 연산 시간: {end - start:.5f} 초\")"
   ]
  },
  {
   "cell_type": "code",
   "execution_count": 4,
   "metadata": {},
   "outputs": [
    {
     "name": "stdout",
     "output_type": "stream",
     "text": [
      "[[13  8 13 ... 15 16 12]\n",
      " [15 10 15 ... 17 18 14]\n",
      " [12  7 12 ... 14 15 11]\n",
      " ...\n",
      " [10  5 10 ... 12 13  9]\n",
      " [13  8 13 ... 15 16 12]\n",
      " [11  6 11 ... 13 14 10]]\n",
      "NumPy 사용 연산 시간: 0.00499 초\n"
     ]
    }
   ],
   "source": [
    "start = time.time()\n",
    "\n",
    "# 문제 환경 초기화\n",
    "np.random.seed(2023)\n",
    "result = np.empty((1000, 1000), dtype = int)\n",
    "test1 = np.random.randint(0, 10, 1000)\n",
    "test2 = np.random.randint(0, 10, 1000)\n",
    "\n",
    "# 비교 2. NumPy 연산\n",
    "result = test1.reshape(1000, 1) + test2.reshape(1, 1000)\n",
    "\n",
    "end = time.time()\n",
    "print(result)\n",
    "print(f\"NumPy 사용 연산 시간: {end - start:.5f} 초\")"
   ]
  },
  {
   "cell_type": "markdown",
   "metadata": {
    "id": "wm9IRe3dntPn"
   },
   "source": [
    "---\n",
    "# 1. N차원 배열 (ndarray)"
   ]
  },
  {
   "cell_type": "markdown",
   "metadata": {},
   "source": [
    "N차원 배열이란?\n",
    "\n",
    "NumPy 홈페이지에서 발췌한 정의:<br>\n",
    "*N-dimensional array (ndarray)* is a multidimensional container of items of the same type and size.\n",
    "\n",
    "즉, 같은 타입과 크기를 가지는 원소들을 저장하는 어떤 한 다차원의 컨테이너를 의미합니다.<br>\n",
    "*컨테이너: 자료형을 저장하는 객체\n",
    "\n",
    "조금 더 이해하기 쉬운 표현으로는 2차원 표가 다차원으로 확장된 느낌의 개념으로 이해하시면 좋을 것 같습니다.<br>\n",
    "그림으로 보면 더욱 이해가 쉽습니다.\n",
    "\n",
    "<참고> 강의교안 중 N차원 배열 (ndarray)"
   ]
  },
  {
   "cell_type": "code",
   "execution_count": 5,
   "metadata": {},
   "outputs": [],
   "source": [
    "# 교수자용 참고자료: 웹사이트 '배열, 행렬, 벡터에 대해 알아보자' https://velog.io/@mjk3136/%ED%96%89%EB%A0%AC-%EB%BF%8C%EC%85%94%EB%B2%84%EB%A6%AC%EA%B8%B0"
   ]
  },
  {
   "cell_type": "markdown",
   "metadata": {
    "id": "EmXCx5mNcHjM"
   },
   "source": [
    "## 1-1. N차원 배열 생성"
   ]
  },
  {
   "cell_type": "code",
   "execution_count": 6,
   "metadata": {
    "id": "3og5ML6WhpG2"
   },
   "outputs": [
    {
     "name": "stdout",
     "output_type": "stream",
     "text": [
      "[1 2 3]\n"
     ]
    }
   ],
   "source": [
    "# 1차원 배열 생성하기\n",
    "array_1d = np.array([1, 2, 3])\n",
    "print(array_1d)"
   ]
  },
  {
   "cell_type": "code",
   "execution_count": 7,
   "metadata": {},
   "outputs": [
    {
     "name": "stdout",
     "output_type": "stream",
     "text": [
      "<class 'numpy.ndarray'>\n"
     ]
    }
   ],
   "source": [
    "# 타입 살펴보기\n",
    "print(type(array_1d))"
   ]
  },
  {
   "cell_type": "code",
   "execution_count": 8,
   "metadata": {
    "id": "-y42frKaoPV6"
   },
   "outputs": [
    {
     "name": "stdout",
     "output_type": "stream",
     "text": [
      "[4 5 6]\n"
     ]
    }
   ],
   "source": [
    "# np.array() 메서드 활용하여 리스트로 1차원 배열 생성하기\n",
    "list_1d = [4, 5, 6]\n",
    "array_1d = np.array(list_1d)\n",
    "print(array_1d)"
   ]
  },
  {
   "cell_type": "code",
   "execution_count": 9,
   "metadata": {},
   "outputs": [
    {
     "name": "stdout",
     "output_type": "stream",
     "text": [
      "[7 8 9]\n"
     ]
    }
   ],
   "source": [
    "# np.array() 메서드 활용하여 튜플로 1차원 배열 생성하기\n",
    "tuple_1d = (7, 8, 9)\n",
    "array_1d = np.array(tuple_1d)\n",
    "print(array_1d)"
   ]
  },
  {
   "cell_type": "code",
   "execution_count": 10,
   "metadata": {
    "id": "ZubLsvjNo-gG"
   },
   "outputs": [
    {
     "name": "stdout",
     "output_type": "stream",
     "text": [
      "(3,)\n",
      "1\n",
      "3\n"
     ]
    }
   ],
   "source": [
    "# shape 확인하기\n",
    "print(array_1d.shape)\n",
    "\n",
    "# ndim 확인하기\n",
    "print(array_1d.ndim)\n",
    "\n",
    "# size 확인하기\n",
    "print(array_1d.size)"
   ]
  },
  {
   "cell_type": "code",
   "execution_count": 11,
   "metadata": {},
   "outputs": [
    {
     "name": "stdout",
     "output_type": "stream",
     "text": [
      "[[1 2 3]\n",
      " [4 5 6]]\n"
     ]
    }
   ],
   "source": [
    "# 2차원 배열 생성하기\n",
    "array_2d = np.array([[1, 2, 3],\n",
    "                     [4, 5, 6]])\n",
    "print(array_2d)"
   ]
  },
  {
   "cell_type": "code",
   "execution_count": 12,
   "metadata": {},
   "outputs": [
    {
     "name": "stdout",
     "output_type": "stream",
     "text": [
      "(2, 3)\n",
      "2\n",
      "6\n"
     ]
    }
   ],
   "source": [
    "# shape 확인하기\n",
    "print(array_2d.shape)\n",
    "\n",
    "# ndim 확인하기\n",
    "print(array_2d.ndim)\n",
    "\n",
    "# size 확인하기\n",
    "print(array_2d.size)"
   ]
  },
  {
   "cell_type": "code",
   "execution_count": 13,
   "metadata": {},
   "outputs": [
    {
     "name": "stdout",
     "output_type": "stream",
     "text": [
      "[[[1 2]\n",
      "  [3 4]]\n",
      "\n",
      " [[5 6]\n",
      "  [7 8]]]\n",
      "(2, 2, 2)\n",
      "3\n",
      "8\n"
     ]
    }
   ],
   "source": [
    "# 3차원 배열 생성하기 (P)\n",
    "array_3d = np.array([[[1, 2],\n",
    "                     [3, 4]],\n",
    "                     [[5, 6],\n",
    "                     [7, 8]]])\n",
    "print(array_3d)\n",
    "\n",
    "# shape 확인하기\n",
    "print(array_3d.shape)\n",
    "\n",
    "# ndim 확인하기\n",
    "print(array_3d.ndim)\n",
    "\n",
    "# size 확인하기\n",
    "print(array_3d.size)"
   ]
  },
  {
   "cell_type": "markdown",
   "metadata": {
    "id": "QXY0ge0cca4B"
   },
   "source": [
    "## 1-2. N차원 배열의 데이터 타입 지정"
   ]
  },
  {
   "cell_type": "code",
   "execution_count": 14,
   "metadata": {
    "id": "SgMEXOJtpvHf"
   },
   "outputs": [
    {
     "name": "stdout",
     "output_type": "stream",
     "text": [
      "[0 1 2]\n",
      "int32\n",
      "[0. 1. 2.]\n",
      "float64\n",
      "[False  True  True]\n",
      "bool\n",
      "['0' '1' '2']\n",
      "<U1\n"
     ]
    }
   ],
   "source": [
    "# 예시 데이터를 리스트로 저장하기\n",
    "list_1d = [0, 1, 2]\n",
    "\n",
    "# 정수형으로 지정하기\n",
    "array_1d_int = np.array(list_1d, dtype = int)\n",
    "print(array_1d_int)\n",
    "print(array_1d_int.dtype)\n",
    "\n",
    "# 실수형으로 지정하기\n",
    "array_1d_float = np.array(list_1d, dtype = float)\n",
    "print(array_1d_float)\n",
    "print(array_1d_float.dtype) \n",
    "\n",
    "# 불형으로 지정하기\n",
    "array_1d_boolean = np.array(list_1d, dtype = bool)\n",
    "print(array_1d_boolean)\n",
    "print(array_1d_boolean.dtype) # boolean\n",
    "\n",
    "# 문자형으로 지정하기\n",
    "array_1d_string = np.array(list_1d, dtype = str)\n",
    "print(array_1d_string)\n",
    "print(array_1d_string.dtype) # unicode 문자열"
   ]
  },
  {
   "cell_type": "code",
   "execution_count": 15,
   "metadata": {
    "id": "ZywZxpaRwXm3"
   },
   "outputs": [
    {
     "name": "stdout",
     "output_type": "stream",
     "text": [
      "[False  True  True]\n"
     ]
    }
   ],
   "source": [
    "# 기 지정된 배열의 데이터 타입을 임의로 변경하기 (P)\n",
    "# 힌트: .astype() 메서드 사용하기\n",
    "print(array_1d_string.astype(bool)) # str -> bool 예시"
   ]
  },
  {
   "cell_type": "markdown",
   "metadata": {
    "id": "cXo22LP2nFWM"
   },
   "source": [
    "## 1-3. 정해진 형식의 N차원 배열 생성"
   ]
  },
  {
   "cell_type": "code",
   "execution_count": 16,
   "metadata": {
    "id": "j1iKcUSWu5U4"
   },
   "outputs": [
    {
     "name": "stdout",
     "output_type": "stream",
     "text": [
      "[[0. 0.]\n",
      " [0. 0.]]\n",
      "[[1. 1. 1. 1.]\n",
      " [1. 1. 1. 1.]\n",
      " [1. 1. 1. 1.]]\n",
      "[['fill_val' 'fill_val' 'fill_val']\n",
      " ['fill_val' 'fill_val' 'fill_val']]\n",
      "[[1. 0. 0.]\n",
      " [0. 1. 0.]\n",
      " [0. 0. 1.]]\n"
     ]
    }
   ],
   "source": [
    "# 모든 요소가 0인 N차원 배열 생성하기\n",
    "array_zeros = np.zeros([2, 2])\n",
    "print(array_zeros)\n",
    "\n",
    "# 모든 요소가 1인 N차원 배열 생성하기\n",
    "array_ones = np.ones([3, 4])\n",
    "print(array_ones)\n",
    "\n",
    "# 모든 요소가 지정된 fill_value인 N차원 배열 생성하기\n",
    "array_full = np.full([2, 3], 'fill_val')\n",
    "print(array_full)\n",
    "\n",
    "# NxN (또는 NxM) shape를 가진 대각 원소가 1인 행렬 생성하기\n",
    "array_I = np.eye(3, 3) # I_n := identity matrix of size n\n",
    "print(array_I)"
   ]
  },
  {
   "cell_type": "code",
   "execution_count": 17,
   "metadata": {
    "id": "JwJ3L3ReyhbE"
   },
   "outputs": [
    {
     "name": "stdout",
     "output_type": "stream",
     "text": [
      "[[0 0 0]\n",
      " [0 0 0]]\n",
      "[[1 1 1]\n",
      " [1 1 1]]\n",
      "[[123 123 123]\n",
      " [123 123 123]]\n"
     ]
    }
   ],
   "source": [
    "# 예시 배열 생성하기\n",
    "array_2d = np.array([[1,2,3],\n",
    "                     [4,5,6]])\n",
    "\n",
    "# 예시 배열을 모든 요소가 0인 배열의 형식으로 변형하기\n",
    "array_2d_to_zeros = np.zeros_like(array_2d)\n",
    "print(array_2d_to_zeros)\n",
    "\n",
    "# 예시 배열을 모든 요소가 1인 배열의 형식으로 변형하기\n",
    "array_2d_to_ones = np.ones_like(array_2d)\n",
    "print(array_2d_to_ones)\n",
    "\n",
    "# 예시 배열을 모든 요소가 지정된 fill_value인 배열의 형식으로 변형하기\n",
    "array_2d_to_full = np.full_like(array_2d, 123) # 주의: 예시 배열의 dtype과 fill_value의 dtype 일치\n",
    "print(array_2d_to_full)"
   ]
  },
  {
   "cell_type": "code",
   "execution_count": 18,
   "metadata": {},
   "outputs": [
    {
     "name": "stdout",
     "output_type": "stream",
     "text": [
      "[[2.22809558e-312 2.29175545e-312]\n",
      " [2.50395503e-312 2.29175545e-312]]\n",
      "[[False False]\n",
      " [False False]]\n"
     ]
    }
   ],
   "source": [
    "# np.empty() 로 N차원 배열 생성하기 (P)\n",
    "array_empty = np.empty([2, 2])\n",
    "print(array_empty)\n",
    "print(array_zeros == array_empty)\n",
    "# 결과: False, False, ..."
   ]
  },
  {
   "cell_type": "code",
   "execution_count": 19,
   "metadata": {},
   "outputs": [
    {
     "name": "stdout",
     "output_type": "stream",
     "text": [
      "[[0. 0.]\n",
      " [0. 0.]]\n",
      "[[ True  True]\n",
      " [ True  True]]\n"
     ]
    }
   ],
   "source": [
    "array_zeros = np.zeros([2, 2])\n",
    "array_empty = np.empty([2, 2])\n",
    "print(array_empty)\n",
    "print(array_zeros == array_empty)\n",
    "# 결과: True, True, ... (순서대로 실행할 시 아마도 True일 것)\n",
    "# 퀴즈: 위 현상의 이유는?\n",
    "# 답. empty: 이전에 계산된 값을 재활용하는 zeros와 같고, 메모리를 아낄 수 있음\n",
    "\n",
    "# 참고: np.empty_like() 도 존재함"
   ]
  },
  {
   "cell_type": "markdown",
   "metadata": {
    "id": "5ZV_Z7NgnG0T"
   },
   "source": [
    "## 1-4. 특정 범위의 값을 가지는 N차원 배열 생성"
   ]
  },
  {
   "cell_type": "code",
   "execution_count": 20,
   "metadata": {
    "id": "PWyHpz6V1dKY"
   },
   "outputs": [
    {
     "name": "stdout",
     "output_type": "stream",
     "text": [
      "[0, 2, 4, 6, 8]\n"
     ]
    }
   ],
   "source": [
    "# 비교: 파이썬 내장함수 range()\n",
    "list_range = list(range(0, 10, 2)) # start, stop, step\n",
    "print(list_range)"
   ]
  },
  {
   "cell_type": "code",
   "execution_count": 21,
   "metadata": {},
   "outputs": [
    {
     "name": "stdout",
     "output_type": "stream",
     "text": [
      "[0 2 4 6 8]\n"
     ]
    }
   ],
   "source": [
    "# NumPy의 arange()\n",
    "array_arange = np.arange(0, 10, 2) # start, stop, step\n",
    "print(array_arange)"
   ]
  },
  {
   "cell_type": "code",
   "execution_count": 22,
   "metadata": {},
   "outputs": [
    {
     "name": "stdout",
     "output_type": "stream",
     "text": [
      "[ 0.   2.5  5.   7.5 10. ]\n"
     ]
    }
   ],
   "source": [
    "# NumPy의 linspace()\n",
    "array_linspace = np.linspace(0, 10, 5) # start, stop, num\n",
    "print(array_linspace)"
   ]
  },
  {
   "cell_type": "code",
   "execution_count": 23,
   "metadata": {},
   "outputs": [
    {
     "name": "stdout",
     "output_type": "stream",
     "text": [
      "[0. 2. 4. 6. 8.]\n"
     ]
    }
   ],
   "source": [
    "# np.linspace()의 num 값의 의미\n",
    "# 답: 일정한 간격으로 총 '몇 개'의 배열을 만들지 지정\n",
    "\n",
    "# np.linspace()의 stop 값을 포함하지 않는 방법\n",
    "array_linspace_end = np.linspace(0, 10, 5, endpoint = False) # start, stop, num\n",
    "print(array_linspace_end)"
   ]
  },
  {
   "cell_type": "code",
   "execution_count": 24,
   "metadata": {},
   "outputs": [
    {
     "name": "stdout",
     "output_type": "stream",
     "text": [
      "[1.e+01 1.e+02 1.e+03 1.e+04 1.e+05 1.e+06 1.e+07 1.e+08 1.e+09 1.e+10]\n",
      "[   2.    4.    8.   16.   32.   64.  128.  256.  512. 1024.]\n",
      "\n",
      "[ 1.  2.  3.  4.  5.  6.  7.  8.  9. 10.]\n"
     ]
    }
   ],
   "source": [
    "# NumPy의 logspace() (상용로그)\n",
    "array_logspace = np.logspace(1, 10, 10) # start, stop, num\n",
    "print(array_logspace)\n",
    "\n",
    "# 밑이 2인 log의 logspace()\n",
    "array_logspace_base_2 = np.logspace(1, 10, 10, base = 2) # start, stop, num\n",
    "print(array_logspace_base_2)\n",
    "\n",
    "# 비교: NumPy의 linspace()\n",
    "print()\n",
    "print(np.linspace(1, 10, 10))"
   ]
  },
  {
   "cell_type": "markdown",
   "metadata": {
    "id": "LSXPPL9snHGJ"
   },
   "source": [
    "## 1-5. N차원 배열의 난수 생성"
   ]
  },
  {
   "cell_type": "code",
   "execution_count": 25,
   "metadata": {
    "id": "9OoTUtTFMB_h"
   },
   "outputs": [
    {
     "name": "stdout",
     "output_type": "stream",
     "text": [
      "[ 0.69654803 -1.0331129   0.93760248  0.90217129  0.17582227 -0.94776332\n",
      "  0.66042408 -0.79433292 -1.25403555 -0.98349519]\n",
      "[-0.92125921  0.76571083 -0.88392416 -1.11435209 -0.02040838 -0.71859861\n",
      " -0.50795652 -1.40011116  1.4871072  -0.47287719]\n"
     ]
    }
   ],
   "source": [
    "# 정규 분포에서 표본을 추출하는 난수 생성 함수 작성하기\n",
    "array_randn = np.random.randn(10)\n",
    "print(array_randn)\n",
    "\n",
    "array_normal = np.random.normal(0, 1, 10)\n",
    "print(array_normal)\n",
    "\n",
    "# 퀴즈: 두 함수의 차이점은?\n",
    "# np.random.randn은 '표준'정규분포에서 지정된 size의 난수 생성\n",
    "# np.random.normal은 지정한 mu, sigma값을 갖는 정규분포에서 지정된 size의 난수 생성"
   ]
  },
  {
   "cell_type": "code",
   "execution_count": 26,
   "metadata": {
    "id": "fzJtmBpbPujM"
   },
   "outputs": [
    {
     "name": "stdout",
     "output_type": "stream",
     "text": [
      "[-0.23080926 -1.39164432  0.68579092  0.38685056  0.66624969]\n",
      "[[ 1.03060403  2.35678414  0.35297852]\n",
      " [-1.12999766 -0.69690044  0.29329286]]\n"
     ]
    }
   ],
   "source": [
    "# 데이터 시각화 라이브러리 matplotlib을 설치 및 import 하기\n",
    "# pip install matplotlib\n",
    "import matplotlib.pyplot as plt\n",
    "\n",
    "array_normal_1d = np.random.normal(0, 1, 5) # loc, scale, size\n",
    "print(array_normal_1d)\n",
    "\n",
    "array_normal_2d = np.random.normal(0, 1, (2, 3)) # size는 NxM으로도 지정 가능\n",
    "print(array_normal_2d)"
   ]
  },
  {
   "cell_type": "code",
   "execution_count": 27,
   "metadata": {},
   "outputs": [
    {
     "data": {
      "image/png": "[encoded data removed]",
      "text/plain": [
       "<Figure size 432x288 with 1 Axes>"
      ]
     },
     "metadata": {
      "needs_background": "light"
     },
     "output_type": "display_data"
    }
   ],
   "source": [
    "# matplotlib 활용하여 시각화하기 (P)\n",
    "array_normal_10000 = np.random.normal(0, 1, 10000) # loc, scale, size\n",
    "\n",
    "plt.hist(array_normal_10000, bins = 100)\n",
    "plt.show()"
   ]
  },
  {
   "cell_type": "code",
   "execution_count": 28,
   "metadata": {},
   "outputs": [
    {
     "name": "stdout",
     "output_type": "stream",
     "text": [
      "[0.11852794 0.63035834 0.54498107 0.93489587 0.01391301 0.70424227\n",
      " 0.54469498 0.98379577 0.12825299 0.46157476]\n"
     ]
    }
   ],
   "source": [
    "# 균등 분포에서 표본을 추출하는 난수 생성 함수 작성하기\n",
    "array_rand = np.random.rand(10) # ~ U(0, 1)\n",
    "print(array_rand)"
   ]
  },
  {
   "cell_type": "code",
   "execution_count": 29,
   "metadata": {},
   "outputs": [
    {
     "data": {
      "image/png": "[encoded data removed]",
      "text/plain": [
       "<Figure size 432x288 with 1 Axes>"
      ]
     },
     "metadata": {
      "needs_background": "light"
     },
     "output_type": "display_data"
    }
   ],
   "source": [
    "# matplotlib 활용하여 시각화하기 (P)\n",
    "array_rand_10000 = np.random.rand(10000)\n",
    "\n",
    "plt.hist(array_rand_10000, bins = 100)\n",
    "plt.show()"
   ]
  },
  {
   "cell_type": "code",
   "execution_count": 30,
   "metadata": {},
   "outputs": [
    {
     "name": "stdout",
     "output_type": "stream",
     "text": [
      "[7 5 9 3 3 2 9 1 5 7]\n"
     ]
    }
   ],
   "source": [
    "# 랜덤한 정수를 생성하는 함수 작성하기\n",
    "array_randint = np.random.randint(1, 10, 10) # low, high, size; sample from discrete uniform [low, high)\n",
    "print(array_randint)"
   ]
  },
  {
   "cell_type": "code",
   "execution_count": 31,
   "metadata": {},
   "outputs": [
    {
     "data": {
      "image/png": "[encoded data removed]",
      "text/plain": [
       "<Figure size 432x288 with 1 Axes>"
      ]
     },
     "metadata": {
      "needs_background": "light"
     },
     "output_type": "display_data"
    }
   ],
   "source": [
    "# matplotlib 활용하여 시각화하기\n",
    "array_randint_10000 = np.random.randint(1, 10, 10000)\n",
    "\n",
    "plt.hist(array_randint_10000, bins = 100)\n",
    "plt.show()"
   ]
  },
  {
   "cell_type": "markdown",
   "metadata": {
    "id": "jmIo-qNCXNgG"
   },
   "source": [
    "## 1-6. 랜덤 시드 (seed) 값을 고정하여 난수 제어"
   ]
  },
  {
   "cell_type": "code",
   "execution_count": 32,
   "metadata": {
    "id": "ho3sdP6aXhou"
   },
   "outputs": [
    {
     "name": "stdout",
     "output_type": "stream",
     "text": [
      "[9 9 7 3 9 8 3 2 6 5]\n"
     ]
    }
   ],
   "source": [
    "# 시드 값을 이용해 난수의 발생 지점을 고정하기\n",
    "np.random.seed(2)\n",
    "array_randint_setseed = np.random.randint(1, 10, 10) # low, high, size; ~ discrete_uniform[low, high)\n",
    "print(array_randint_setseed)"
   ]
  },
  {
   "cell_type": "code",
   "execution_count": 33,
   "metadata": {},
   "outputs": [
    {
     "name": "stdout",
     "output_type": "stream",
     "text": [
      "[9 9 7 3 9 8 3 2 6 5]\n"
     ]
    }
   ],
   "source": [
    "# seed를 고정하면 같은 난수 생성 코드를 다회 실행해도 같은 결과를 생성\n",
    "np.random.seed(2)\n",
    "array_randint_setseed = np.random.randint(1, 10, 10) # low, high, size; ~ discrete_uniform[low, high)\n",
    "print(array_randint_setseed)"
   ]
  },
  {
   "cell_type": "markdown",
   "metadata": {
    "id": "UR-RDctk70Rv"
   },
   "source": [
    "---\n",
    "# 2. N차원 배열 인덱싱 (indexing)"
   ]
  },
  {
   "cell_type": "markdown",
   "metadata": {
    "id": "9vCxyMts8Ms5"
   },
   "source": [
    "## 2-1. NumPy 기본 인덱싱"
   ]
  },
  {
   "cell_type": "code",
   "execution_count": 34,
   "metadata": {
    "id": "NQtPOm3L88qR"
   },
   "outputs": [
    {
     "name": "stdout",
     "output_type": "stream",
     "text": [
      "[8 7 8 2 4 5 5 7 6 1]\n",
      "8\n",
      "[8]\n"
     ]
    }
   ],
   "source": [
    "# 1차원 배열 생성하기\n",
    "np.random.seed(2023)\n",
    "array_1d = np.random.randint(1, 10, 10)\n",
    "print(array_1d)\n",
    "\n",
    "# 배열의 첫번째 인자 추출하기\n",
    "print(array_1d[0]) # list 인덱싱과 동일\n",
    "\n",
    "# 범위로 인덱싱하기 (슬라이싱)\n",
    "print(array_1d[0:1]) # list 인덱싱과 동일; array[start, end] = [start, end)"
   ]
  },
  {
   "cell_type": "code",
   "execution_count": 35,
   "metadata": {
    "id": "5H9EjM-J-jll"
   },
   "outputs": [
    {
     "name": "stdout",
     "output_type": "stream",
     "text": [
      "[[8 7 8 2]\n",
      " [4 5 5 7]\n",
      " [6 1 7 2]]\n",
      "[8 7 8 2]\n",
      "8\n",
      "8\n",
      "[[8 7 8 2]\n",
      " [4 5 5 7]]\n",
      "[[4 5]\n",
      " [6 1]]\n"
     ]
    }
   ],
   "source": [
    "# 2차원 배열 생성하기\n",
    "np.random.seed(2023)\n",
    "array_2d = np.random.randint(1, 10, (3, 4))\n",
    "print(array_2d)\n",
    "\n",
    "# 배열의 첫번째 인자 추출하기\n",
    "print(array_2d[0]) # list 인덱싱과 동일; 첫번째 리스트를 추출\n",
    "print(array_2d[0][0]) # list 인덱싱과 동일; 첫번째 리스트의 첫번째 인자를 추출\n",
    "print(array_2d[0, 0]) # NumPy의 행렬 인덱싱; (dim_0, dim_1)\n",
    "# 비교 샘플 리스트: list_spl = [[8, 7, 8, 2], [4, 5, 5, 7], [6, 1, 7, 2]]\n",
    "\n",
    "# 범위로 인덱싱하기 (슬라이싱)\n",
    "print(array_2d[0:2]) # list 인덱싱과 동일; array[start, end] = [start, end)\n",
    "print(array_2d[1:, :2]) # NumPy의 행렬 인덱싱; (dim_0, dim_1)"
   ]
  },
  {
   "cell_type": "markdown",
   "metadata": {
    "id": "BRRFVk0_Cldw"
   },
   "source": [
    "## 2-2. Fancy 인덱싱 활용"
   ]
  },
  {
   "cell_type": "markdown",
   "metadata": {},
   "source": [
    "Fancy indexing은 한 NumPy 배열에 대해\n",
    "\n",
    "- 또 다른 NumPy 배열\n",
    "- Python list\n",
    "- 정수 시퀀스 e.g. range()\n",
    "\n",
    "를 활용하여 NumPy 배열을 인덱싱할 수 있도록 해주는 기법입니다."
   ]
  },
  {
   "cell_type": "code",
   "execution_count": 36,
   "metadata": {
    "id": "nvbf72jyC8r4"
   },
   "outputs": [
    {
     "name": "stdout",
     "output_type": "stream",
     "text": [
      "[8 7 8 2 4 5 5 7 6 1]\n",
      "[8 7 8]\n"
     ]
    }
   ],
   "source": [
    "# 1차원 배열 난수 생성하기\n",
    "np.random.seed(2023)\n",
    "array_1d = np.random.randint(1, 10, 10)\n",
    "print(array_1d)\n",
    "\n",
    "# 1차원 배열 Fancy 인덱싱하기\n",
    "index = [0, 1, 2] # np.array([0, 1, 2])도 가능\n",
    "print(array_1d[index])"
   ]
  },
  {
   "cell_type": "code",
   "execution_count": 37,
   "metadata": {},
   "outputs": [
    {
     "name": "stdout",
     "output_type": "stream",
     "text": [
      "[[8 7 8 2 4]\n",
      " [5 5 7 6 1]]\n",
      "[[8 7 8]\n",
      " [5 5 7]]\n"
     ]
    }
   ],
   "source": [
    "# 2차원 배열 난수 생성하기\n",
    "np.random.seed(2023)\n",
    "array_2d = np.random.randint(1, 10, (2, 5))\n",
    "print(array_2d)\n",
    "\n",
    "# 2차원 배열 Fancy 인덱싱하기\n",
    "index = [0, 1, 2] # np.array([0, 1, 2])도 가능\n",
    "print(array_2d[:, index])"
   ]
  },
  {
   "cell_type": "markdown",
   "metadata": {
    "id": "LBCsd547E41L"
   },
   "source": [
    "## 2-3. 불형 & 조건 연산자 인덱싱"
   ]
  },
  {
   "cell_type": "code",
   "execution_count": 38,
   "metadata": {
    "id": "BanXYbmhE9c1"
   },
   "outputs": [
    {
     "name": "stdout",
     "output_type": "stream",
     "text": [
      "[8 7 8 2 4]\n",
      "[8 8]\n"
     ]
    }
   ],
   "source": [
    "# 1차원 배열 난수 생성하기\n",
    "np.random.seed(2023)\n",
    "array_1d = np.random.randint(1, 10, 5)\n",
    "print(array_1d)\n",
    "\n",
    "# Boolean 리스트를 이용한 불형 인덱싱하기\n",
    "boolean_list = [True, False, True, False, False]\n",
    "print(array_1d[boolean_list])"
   ]
  },
  {
   "cell_type": "code",
   "execution_count": 39,
   "metadata": {},
   "outputs": [
    {
     "name": "stdout",
     "output_type": "stream",
     "text": [
      "[ True False  True False False]\n",
      "[8 8]\n"
     ]
    }
   ],
   "source": [
    "# 조건 연산자를 활용하여 조건에 맞는 배열의 값만 출력하기\n",
    "condition_spl = array_1d > 7\n",
    "print(condition_spl)\n",
    "print(array_1d[condition_spl])"
   ]
  },
  {
   "cell_type": "code",
   "execution_count": 40,
   "metadata": {},
   "outputs": [],
   "source": [
    "# 교수자용 참고자료: 그 외에도 NumPy에는 np.take() 또는 np.compress() 등 fancy 인덱싱 전용 함수가 있습니다.\n",
    "# https://numpy.org/doc/stable/reference/arrays.indexing.html 중 np.take와 np.compress"
   ]
  },
  {
   "cell_type": "markdown",
   "metadata": {
    "id": "T1bggqQj9lHK"
   },
   "source": [
    "---\n",
    "# 3. N차원 배열 연산법"
   ]
  },
  {
   "cell_type": "markdown",
   "metadata": {
    "id": "MN_hFeFQh1Qa"
   },
   "source": [
    "## 3-1. 배열 연산 - 기본"
   ]
  },
  {
   "cell_type": "markdown",
   "metadata": {},
   "source": [
    "Python 연산자와 동일한 연산 수행이 가능합니다."
   ]
  },
  {
   "cell_type": "code",
   "execution_count": 41,
   "metadata": {},
   "outputs": [],
   "source": [
    "# 예시 배열 생성하기\n",
    "array_1 = np.array([[1, 2, 3],\n",
    "                    [4, 5, 6],\n",
    "                    [7, 8, 9]])\n",
    "array_2 = np.array([[5, 5, 5],\n",
    "                    [5, 5, 5],\n",
    "                    [5, 5, 5]])"
   ]
  },
  {
   "cell_type": "code",
   "execution_count": 42,
   "metadata": {
    "id": "I5NfNwegRpaN"
   },
   "outputs": [
    {
     "name": "stdout",
     "output_type": "stream",
     "text": [
      "[[ 6  7  8]\n",
      " [ 9 10 11]\n",
      " [12 13 14]]\n"
     ]
    }
   ],
   "source": [
    "# 덧셈하기 (P)\n",
    "print(array_1 + array_2)"
   ]
  },
  {
   "cell_type": "code",
   "execution_count": 43,
   "metadata": {
    "id": "mi0Qo5OC9WdD"
   },
   "outputs": [
    {
     "name": "stdout",
     "output_type": "stream",
     "text": [
      "[[-4 -3 -2]\n",
      " [-1  0  1]\n",
      " [ 2  3  4]]\n"
     ]
    }
   ],
   "source": [
    "# 뺄셈하기 (P)\n",
    "print(array_1 - array_2)"
   ]
  },
  {
   "cell_type": "code",
   "execution_count": 44,
   "metadata": {
    "id": "aY98m2Xw9YCC"
   },
   "outputs": [
    {
     "name": "stdout",
     "output_type": "stream",
     "text": [
      "[[ 5 10 15]\n",
      " [20 25 30]\n",
      " [35 40 45]]\n"
     ]
    }
   ],
   "source": [
    "# 곱셈하기 (요소별 곱셈) (P)\n",
    "print(array_1 * array_2) # 아다마르 곱 (Hadamard product); https://en.wikipedia.org/wiki/Hadamard_product_(matrices)#Analogous_operations"
   ]
  },
  {
   "cell_type": "code",
   "execution_count": 45,
   "metadata": {
    "id": "fRZhs1Bh9Zuk"
   },
   "outputs": [
    {
     "name": "stdout",
     "output_type": "stream",
     "text": [
      "[[0.2 0.4 0.6]\n",
      " [0.8 1.  1.2]\n",
      " [1.4 1.6 1.8]]\n"
     ]
    }
   ],
   "source": [
    "# 나눗셈하기 (요소별 나눗셈) (P)\n",
    "print(array_1 / array_2) # 아다마르 나눗셈 (Hadamard division)"
   ]
  },
  {
   "cell_type": "code",
   "execution_count": 46,
   "metadata": {
    "id": "enl82hzU9dyN"
   },
   "outputs": [
    {
     "name": "stdout",
     "output_type": "stream",
     "text": [
      "[[0 0 0]\n",
      " [0 1 1]\n",
      " [1 1 1]]\n",
      "[[1 2 3]\n",
      " [4 0 1]\n",
      " [2 3 4]]\n"
     ]
    }
   ],
   "source": [
    "# 몫, 나머지 구하기 (P)\n",
    "print(array_1 // array_2)\n",
    "print(array_1 % array_2)"
   ]
  },
  {
   "cell_type": "code",
   "execution_count": 47,
   "metadata": {
    "id": "r_G4DT409czB"
   },
   "outputs": [
    {
     "name": "stdout",
     "output_type": "stream",
     "text": [
      "[[ 1  4  9]\n",
      " [16 25 36]\n",
      " [49 64 81]]\n",
      "[[ 1  4  9]\n",
      " [16 25 36]\n",
      " [49 64 81]]\n",
      "[[1.         1.41421356 1.73205081]\n",
      " [2.         2.23606798 2.44948974]\n",
      " [2.64575131 2.82842712 3.        ]]\n"
     ]
    }
   ],
   "source": [
    "# 제곱, 제곱근 구하기 (P)\n",
    "print(array_1 ** 2)\n",
    "\n",
    "# NumPy 함수 활용하기\n",
    "print(np.square(array_1))\n",
    "print(np.sqrt(array_1))"
   ]
  },
  {
   "cell_type": "code",
   "execution_count": 48,
   "metadata": {},
   "outputs": [
    {
     "name": "stdout",
     "output_type": "stream",
     "text": [
      "[[    1    32   243]\n",
      " [ 1024  3125  7776]\n",
      " [16807 32768 59049]]\n",
      "[[    1    32   243]\n",
      " [ 1024  3125  7776]\n",
      " [16807 32768 59049]]\n",
      "[[1.         1.14869835 1.24573094]\n",
      " [1.31950791 1.37972966 1.43096908]\n",
      " [1.47577316 1.51571657 1.55184557]]\n"
     ]
    }
   ],
   "source": [
    "# n제곱, n제곱근 구하기 (P)\n",
    "print(array_1 ** array_2)\n",
    "\n",
    "# NumPy 함수 활용하기\n",
    "print(np.power(array_1, array_2))\n",
    "print(np.power(array_1, 1/array_2))"
   ]
  },
  {
   "cell_type": "markdown",
   "metadata": {
    "id": "_cAANOjph9DU"
   },
   "source": [
    "## 3-2. 배열 연산 - 내적"
   ]
  },
  {
   "attachments": {},
   "cell_type": "markdown",
   "metadata": {},
   "source": [
    "### 선형대수학 복습: 내적\n",
    "선형대수학에서 $m \\times n$ 행렬 $A$와 $n \\times p$ 행렬 $B$를 내적한 $n \\times p$ 행렬 $C$는\n",
    "$$\n",
    "A \\cdot B = C\n",
    "$$\n",
    "로 정의합니다.\n",
    "\n",
    "$A, B, C$ 각 행렬의 원소는\n",
    "$$\n",
    "\\begin{bmatrix}\n",
    "    a_{11} & a_{12} & \\cdots & a_{1n}\\\\\n",
    "    a_{21} & a_{22} & \\cdots & a_{2n}\\\\ \n",
    "    \\vdots & \\vdots & \\ddots & \\vdots\\\\ \n",
    "    a_{m1} & a_{m2} & \\cdots & a_{mn}\n",
    "\\end{bmatrix}\n",
    "\\cdot\n",
    "\\begin{bmatrix}\n",
    "    b_{11} & b_{12} & \\cdots & b_{1p}\\\\\n",
    "    b_{21} & b_{22} & \\cdots & b_{2p}\\\\ \n",
    "    \\vdots & \\vdots & \\ddots & \\vdots\\\\ \n",
    "    b_{n1} & b_{n2} & \\cdots & b_{np} \n",
    "\\end{bmatrix}\n",
    "=\n",
    "\\begin{bmatrix}\n",
    "    c_{11} & c_{12} & \\cdots & c_{1p}\\\\\n",
    "    c_{21} & c_{22} & \\cdots & c_{2p}\\\\ \n",
    "    \\vdots & \\vdots & \\ddots & \\vdots\\\\ \n",
    "    c_{m1} & c_{m2} & \\cdots & c_{mp} \n",
    "\\end{bmatrix}\n",
    "$$\n",
    "\n",
    "$$\n",
    "c_{ij}= a_{i1} b_{1j} + a_{i2} b_{2j} +\\cdots+ a_{in} b_{nj} = \\sum_{k=1}^n a_{ik}b_{kj}\n",
    "$$\n",
    "와 같이 표현할 수 있습니다.\n",
    "\n",
    "NumPy에서는 내적을 포함한 다양한 행렬 연산을 지원합니다."
   ]
  },
  {
   "cell_type": "code",
   "execution_count": 49,
   "metadata": {},
   "outputs": [],
   "source": [
    "# 예시 2차원 배열 생성하기\n",
    "array_1 = np.array([[1, 2],\n",
    "                    [3, 4]])\n",
    "array_2 = np.array([[2, 3],\n",
    "                    [4, 5]])"
   ]
  },
  {
   "cell_type": "code",
   "execution_count": 50,
   "metadata": {
    "colab": {
     "base_uri": "https://localhost:8080/"
    },
    "id": "FyahGOuvh9t6",
    "outputId": "e2d7cd5c-0d2f-4ef4-f065-ee5de192d7a9"
   },
   "outputs": [
    {
     "name": "stdout",
     "output_type": "stream",
     "text": [
      "[[10 13]\n",
      " [22 29]]\n"
     ]
    }
   ],
   "source": [
    "# 2차원 배열의 내적 계산하기\n",
    "print(np.dot(array_1, array_2))"
   ]
  },
  {
   "cell_type": "code",
   "execution_count": 51,
   "metadata": {},
   "outputs": [
    {
     "name": "stdout",
     "output_type": "stream",
     "text": [
      "[[ 500]\n",
      " [1130]]\n",
      "[[ 500]\n",
      " [1130]]\n"
     ]
    }
   ],
   "source": [
    "# 임의의 크기로 세 개의 행렬 A, B, C를 만들어 모두 내적하기 (P)\n",
    "A = np.array([[1, 2, 3],\n",
    "              [4, 5, 6]])\n",
    "B = np.array([[1, 2, 3, 4],\n",
    "              [5, 6, 7, 8],\n",
    "              [9, 10, 11, 12]])\n",
    "C = np.array([[1],\n",
    "              [2],\n",
    "              [3],\n",
    "              [4]])\n",
    "\n",
    "# 내적 계산\n",
    "print(np.dot(np.dot(A, B), C)) # print(np.dot(A, np.dot(B, C)))도 가능\n",
    "\n",
    "# 참고 1) NumPy에는 이미 다수의 행렬 내적이 함수로 정의되어 있습니다.\n",
    "print(np.linalg.multi_dot([A, B, C]))"
   ]
  },
  {
   "cell_type": "code",
   "execution_count": 52,
   "metadata": {},
   "outputs": [
    {
     "name": "stdout",
     "output_type": "stream",
     "text": [
      "7500\n",
      "75000\n"
     ]
    }
   ],
   "source": [
    "# 심화) 다수의 행렬 내적 계산을 위한 비용을 비교해봅시다.\n",
    "# 출처: https://numpy.org/doc/stable/reference/generated/numpy.linalg.multi_dot.html\n",
    "\n",
    "# 비용 함수 정의하기\n",
    "def cost(A, B):\n",
    "    return A.shape[1] * A.shape[0] * B.shape[1]\n",
    "    # A.shape[1] = c_{11} 원소 한 개 계산하는 비용\n",
    "    # A.shape[0] = c_{i1} 원소 한 줄만큼 계산하는 비용\n",
    "    # B.shape[1] = c_{1j} 원소 한 줄만큼 계산하는 비용\n",
    "\n",
    "# 예시 행렬 생성하기 (size에 주목)\n",
    "A = np.empty((10, 100))\n",
    "B = np.empty((100, 5))\n",
    "C = np.empty((5, 50))\n",
    "\n",
    "# A dot B dot C 를 계산할 때 계산 순서에 따른 비용 비교하기\n",
    "print(cost(A, B) + cost(np.dot(A, B), C)) # = 10*100*5 + 10*5*50   = 5000 + 2500   = 7500\n",
    "print(cost(B, C) + cost(A, np.dot(B, C))) # = 10*100*50 + 100*5*50 = 50000 + 25000 = 75000"
   ]
  },
  {
   "cell_type": "markdown",
   "metadata": {
    "id": "K85JpQbAk6cE"
   },
   "source": [
    "## 3-3. 배열 연산 - 값 대체"
   ]
  },
  {
   "cell_type": "code",
   "execution_count": 53,
   "metadata": {},
   "outputs": [
    {
     "name": "stdout",
     "output_type": "stream",
     "text": [
      "[1.28795322 3.56168981 2.35220902 0.50638437 0.56536489]\n"
     ]
    }
   ],
   "source": [
    "# 예시 1차원 배열 생성하기\n",
    "np.random.seed(2023)\n",
    "array_rand = (np.random.rand(5)) * 4 # ~ U(0, 4)\n",
    "print(array_rand)"
   ]
  },
  {
   "cell_type": "code",
   "execution_count": 54,
   "metadata": {},
   "outputs": [
    {
     "name": "stdout",
     "output_type": "stream",
     "text": [
      "[1.28795322 3.56168981 2.35220902 0.50638437 0.56536489]\n",
      "[2. 4. 3. 1. 1.]\n",
      "[1. 3. 2. 0. 0.]\n",
      "[1. 4. 2. 1. 1.]\n",
      "[1. 3. 2. 0. 0.]\n"
     ]
    }
   ],
   "source": [
    "# 절댓값 계산하기\n",
    "print(np.abs(array_rand))\n",
    "\n",
    "# 올림하기\n",
    "print(np.ceil(array_rand)) # i >= x\n",
    "\n",
    "# 내림하기\n",
    "print(np.floor(array_rand)) # i <= x\n",
    "\n",
    "# 반올림하기\n",
    "print(np.round(array_rand)) # np.around 는 alias of np.round\n",
    "\n",
    "# 버림하기\n",
    "print(np.trunc(array_rand)) # fractional part가 버려짐"
   ]
  },
  {
   "cell_type": "markdown",
   "metadata": {},
   "source": [
    "## 3-4. 배열 연산 - 기초통계량 계산"
   ]
  },
  {
   "cell_type": "code",
   "execution_count": 55,
   "metadata": {},
   "outputs": [
    {
     "name": "stdout",
     "output_type": "stream",
     "text": [
      "[[8 7 8 2]\n",
      " [4 5 5 7]]\n"
     ]
    }
   ],
   "source": [
    "# 2차원 배열 생성하기\n",
    "np.random.seed(2023)\n",
    "array_2d = np.random.randint(1, 10, (2, 4))\n",
    "print(array_2d)"
   ]
  },
  {
   "cell_type": "code",
   "execution_count": 56,
   "metadata": {
    "id": "UbMM85A-l1WK"
   },
   "outputs": [
    {
     "name": "stdout",
     "output_type": "stream",
     "text": [
      "2\n",
      "[4 5 5 2]\n",
      "[2 4]\n",
      "8\n",
      "[8 7 8 7]\n",
      "46\n",
      "[12 12 13  9]\n",
      "5.75\n",
      "[6.  6.  6.5 4.5]\n",
      "1.984313483298443\n",
      "[2.  1.  1.5 2.5]\n",
      "[ 8 15 23 25 29 34 39 46]\n",
      "[[ 8  7  8  2]\n",
      " [12 12 13  9]]\n",
      "6.0\n",
      "[6.  6.  6.5 4.5]\n"
     ]
    }
   ],
   "source": [
    "# 배열 내 원소들 중 최솟값 구하기\n",
    "print(np.min(array_2d)) # axis = None: 전역 최소값\n",
    "print(np.min(array_2d, axis = 0)) # axis = 0: 행방향 (위아래로 비교하며) 최소값\n",
    "print(np.min(array_2d, axis = 1)) # axis = 1: 열방향 (좌우로 비교하며) 최소값\n",
    "\n",
    "# 배열 내 원소들 중 최댓값 구하기\n",
    "print(np.max(array_2d))\n",
    "print(np.max(array_2d, axis = 0))\n",
    "\n",
    "# 배열 원소들의 합 구하기\n",
    "print(np.sum(array_2d))\n",
    "print(np.sum(array_2d, axis = 0))\n",
    "\n",
    "# 배열 원소의 평균값 구하기\n",
    "print(np.mean(array_2d))\n",
    "print(np.mean(array_2d, axis = 0))\n",
    "\n",
    "# 배열 원소의 표준편차 구하기\n",
    "print(np.std(array_2d))\n",
    "print(np.std(array_2d, axis = 0))\n",
    "\n",
    "# 배열 원소의 누적 합 구하기\n",
    "print(np.cumsum(array_2d))\n",
    "print(np.cumsum(array_2d, axis = 0))\n",
    "\n",
    "# 배열 원소의 중앙값 구하기\n",
    "print(np.median(array_2d))\n",
    "print(np.median(array_2d, axis = 0))"
   ]
  },
  {
   "cell_type": "markdown",
   "metadata": {},
   "source": [
    "기초통계량을 계산하는 메서드 중 최소값, 최대값을 계산하는 메서드 앞에 `arg-` 접두사를 붙여 해당 결과에 해당하는 인덱스를 반환할 수 있습니다."
   ]
  },
  {
   "cell_type": "code",
   "execution_count": 57,
   "metadata": {},
   "outputs": [
    {
     "name": "stdout",
     "output_type": "stream",
     "text": [
      "3\n",
      "[1 1 1 0]\n",
      "[3 0]\n",
      "0\n",
      "[0 0 0 1]\n",
      "[0 3]\n"
     ]
    }
   ],
   "source": [
    "# arg 함수 알아보기\n",
    "# 배열 내 원소들 중 최솟값의 인덱스를 구하기\n",
    "print(np.argmin(array_2d))\n",
    "print(np.argmin(array_2d, axis = 0))\n",
    "print(np.argmin(array_2d, axis = 1))\n",
    "\n",
    "# 배열 내 원소들 중 최댓값의 인덱스를 구하기\n",
    "print(np.argmax(array_2d))\n",
    "print(np.argmax(array_2d, axis = 0))\n",
    "print(np.argmax(array_2d, axis = 1))"
   ]
  },
  {
   "cell_type": "markdown",
   "metadata": {},
   "source": [
    "최소, 최대 외에도 다양한 조건을 활용하여 해당 조건을 만족하는 인덱스를 반환하도록 하는 `np.where()` 메서드의 사용법을 익혀봅시다."
   ]
  },
  {
   "cell_type": "code",
   "execution_count": 58,
   "metadata": {},
   "outputs": [
    {
     "name": "stdout",
     "output_type": "stream",
     "text": [
      "[8 7 8 2 4]\n"
     ]
    }
   ],
   "source": [
    "# 1차원 배열 생성하기\n",
    "np.random.seed(2023)\n",
    "array_1d = np.random.randint(1, 10, 5)\n",
    "print(array_1d)"
   ]
  },
  {
   "cell_type": "code",
   "execution_count": 59,
   "metadata": {},
   "outputs": [
    {
     "name": "stdout",
     "output_type": "stream",
     "text": [
      "(array([3, 4], dtype=int64),)\n",
      "['5초과' '5초과' '5초과' '5이하' '5이하']\n"
     ]
    }
   ],
   "source": [
    "# np.where() 로 5 이하의 값들의 인덱스를 반환하기 (P)\n",
    "print(np.where(array_1d <= 5)) # 참고) np.where(condition)의 형태로 사용할 경우에만 해당 조건을 만족하는 인덱스를 반환함\n",
    "print(np.where(array_1d <= 5, '5이하', '5초과')) # np.where(condition, True일 때 반환값, False일 때 반환값) 형태로 작성하였을 때의 형태"
   ]
  },
  {
   "cell_type": "markdown",
   "metadata": {},
   "source": [
    "**<심화>** 결측치가 있는 배열에서 최대, 최소, 합계 등을 계산하는 방법을 배워봅시다."
   ]
  },
  {
   "cell_type": "code",
   "execution_count": 60,
   "metadata": {},
   "outputs": [
    {
     "name": "stdout",
     "output_type": "stream",
     "text": [
      "[[ 1. nan]\n",
      " [ 3.  4.]]\n"
     ]
    }
   ],
   "source": [
    "# 심화: 결측치가 있는 배열\n",
    "array_2d_nan = np.array([[1, np.nan],\n",
    "                         [3, 4]])\n",
    "print(array_2d_nan)"
   ]
  },
  {
   "cell_type": "code",
   "execution_count": 61,
   "metadata": {},
   "outputs": [
    {
     "name": "stdout",
     "output_type": "stream",
     "text": [
      "nan\n",
      "nan\n",
      "nan\n"
     ]
    }
   ],
   "source": [
    "# NaN 값이 있으면 최솟값/최댓값/합계 계산이 제대로 작동하지 않음\n",
    "print(np.min(array_2d_nan))\n",
    "print(np.max(array_2d_nan))\n",
    "print(np.sum(array_2d_nan))"
   ]
  },
  {
   "cell_type": "code",
   "execution_count": 62,
   "metadata": {},
   "outputs": [
    {
     "name": "stdout",
     "output_type": "stream",
     "text": [
      "[[1 --]\n",
      " [-- 4]]\n",
      "1\n",
      "4\n",
      "5\n",
      "1.0\n",
      "4.0\n",
      "8.0\n"
     ]
    }
   ],
   "source": [
    "# 해결방법 (P)\n",
    "# 1. np.ma.array와 같이 masked array와 결측 mask를 따로 지정하기\n",
    "array_masked = np.ma.array(np.matrix([[1, 2], [3, 4]]),\n",
    "                           mask = [[False, True], [True, False]],\n",
    "                           fill_value = 9999)\n",
    "print(array_masked)\n",
    "\n",
    "print(np.min(array_masked))\n",
    "print(np.max(array_masked))\n",
    "print(np.sum(array_masked))\n",
    "\n",
    "# 2. np.nanmin처럼 nan 전용 함수를 사용하여 nan을 무시하고 계산하기\n",
    "print(np.nanmin(array_2d_nan))\n",
    "print(np.nanmax(array_2d_nan))\n",
    "print(np.nansum(array_2d_nan))"
   ]
  },
  {
   "cell_type": "markdown",
   "metadata": {},
   "source": [
    "## 3-5. 배열 연산 - 지수/로그/삼각 함수"
   ]
  },
  {
   "cell_type": "code",
   "execution_count": 63,
   "metadata": {},
   "outputs": [
    {
     "name": "stdout",
     "output_type": "stream",
     "text": [
      "[[ 2.71828183  7.3890561 ]\n",
      " [20.08553692 54.59815003]]\n",
      "[[0.         0.69314718]\n",
      " [1.09861229 1.38629436]]\n",
      "[[0.         0.30103   ]\n",
      " [0.47712125 0.60205999]]\n",
      "3.141592653589793\n"
     ]
    }
   ],
   "source": [
    "# 예시 배열 생성하기\n",
    "array_1 = np.array([[1, 2],\n",
    "                    [3, 4]])\n",
    "\n",
    "# 자연지수함수 구하기\n",
    "print(np.exp(array_1))\n",
    "\n",
    "# 자연로그함수 구하기\n",
    "print(np.log(array_1))\n",
    "\n",
    "# 상용로그함수 구하기\n",
    "print(np.log10(array_1))\n",
    "\n",
    "# pi 값 출력하기\n",
    "print(np.pi) # np.math.pi에도 동일하게 구현됨"
   ]
  },
  {
   "cell_type": "code",
   "execution_count": 64,
   "metadata": {
    "id": "RSkup69hws-b"
   },
   "outputs": [
    {
     "name": "stdout",
     "output_type": "stream",
     "text": [
      "[[ 0.84147098  0.90929743]\n",
      " [ 0.14112001 -0.7568025 ]]\n",
      "[[ 0.54030231 -0.41614684]\n",
      " [-0.9899925  -0.65364362]]\n",
      "[[ 1.55740772 -2.18503986]\n",
      " [-0.14254654  1.15782128]]\n",
      "[[0.76159416 0.96402758]\n",
      " [0.99505475 0.9993293 ]]\n"
     ]
    }
   ],
   "source": [
    "# 삼각함수 sin값 구하기\n",
    "print(np.sin(array_1))\n",
    "\n",
    "# 삼각함수 cos값 구하기\n",
    "print(np.cos(array_1))\n",
    "\n",
    "# 삼각함수 tan값 구하기\n",
    "print(np.tan(array_1))\n",
    "\n",
    "# 삼각함수 tanh값 구하기\n",
    "print(np.tanh(array_1))"
   ]
  },
  {
   "cell_type": "code",
   "execution_count": 65,
   "metadata": {},
   "outputs": [
    {
     "data": {
      "image/png": "[encoded data removed]",
      "text/plain": [
       "<Figure size 432x288 with 1 Axes>"
      ]
     },
     "metadata": {
      "needs_background": "light"
     },
     "output_type": "display_data"
    }
   ],
   "source": [
    "# 실습: sigmoid 함수 구현하기\n",
    "x = np.linspace(-10, 10, 20) # linspace 배열: [-10, 10] with size of 20\n",
    "y = 1 / (1 + np.exp(-x)) # sigmoid 함수\n",
    "# z = np.tanh(x)\n",
    "  \n",
    "# matplotlib으로 시각화하기\n",
    "plt.plot(x, y)\n",
    "plt.xlabel(\"x\")\n",
    "plt.ylabel(\"sigmoid(x)\")\n",
    "plt.title('Visualization of sigmoid function')\n",
    "  \n",
    "plt.show()"
   ]
  },
  {
   "cell_type": "markdown",
   "metadata": {
    "id": "ZHJxlHwynRQV"
   },
   "source": [
    "## 3-6. 배열 연산 - 비교 연산"
   ]
  },
  {
   "cell_type": "code",
   "execution_count": 66,
   "metadata": {
    "id": "h9gTXQLkwrSS"
   },
   "outputs": [
    {
     "name": "stdout",
     "output_type": "stream",
     "text": [
      "[[False  True]\n",
      " [False False]]\n",
      "[[False False]\n",
      " [ True  True]]\n",
      "False\n"
     ]
    }
   ],
   "source": [
    "# 예시 배열 생성하기\n",
    "array_1 = np.array([[1, 2],\n",
    "                    [3, 4]])\n",
    "array_2 = np.array([[2, 2],\n",
    "                    [2, 2]])\n",
    "\n",
    "# 비교 연산자를 활용하여 논리 변수 (불형) 배열 출력하기\n",
    "print(array_1 == array_2)\n",
    "print(array_1 > array_2)\n",
    "\n",
    "# 참고) 배열 전체가 모두 일치하는지 보기: NumPy 함수화 되어있음\n",
    "print(np.array_equal(array_1, array_2)) # np.array_equiv도 있으나, 둘 간의 차이는 3-7. 브로드캐스팅에서 다뤄볼 예정"
   ]
  },
  {
   "cell_type": "markdown",
   "metadata": {
    "id": "F3Q-Z7ueLlHC"
   },
   "source": [
    "## 3-7. 브로드캐스팅 (broadcasting)"
   ]
  },
  {
   "cell_type": "code",
   "execution_count": 67,
   "metadata": {
    "id": "m_9yTQ8l-j48"
   },
   "outputs": [
    {
     "name": "stdout",
     "output_type": "stream",
     "text": [
      "[[3 4 5]\n",
      " [6 7 8]]\n",
      "[[ 6 11 16]\n",
      " [ 7 12 17]\n",
      " [ 8 13 18]]\n"
     ]
    }
   ],
   "source": [
    "# shape이 다른 두 배열의 연산에 브로드캐스팅이 적용되는 방식 보기\n",
    "# 행 (또는 열)이 같은 크기일 경우: 열 (또는 행)을 따라 계산을 확장할 수 있음.\n",
    "# 참고) 브로드캐스팅 설명 자료: https://everyday-image-processing.tistory.com/84\n",
    "\n",
    "# 브로드캐스팅이 가능한 조건 1\n",
    "'''\n",
    "1. 차원의 크기가 1일때 가능하다\n",
    "즉, 두 배열 간의 연산에서 최소한 하나의 배열의 차원이 1이라면 (0번 축이든 1번 축이든; 1행이든 1열이든) 가능하다.\n",
    "예시:\n",
    "[[a, b, c],   +   [g, h, i]   ->   [[a + g, b + h, c + i],\n",
    " [d, e, f]]                         [d + g, e + h, f + i]]\n",
    "'''\n",
    "# 예시 1\n",
    "array_1 = np.array([[1, 2, 3],\n",
    "                    [4, 5, 6]])\n",
    "array_2 = np.array([2, 2, 2])\n",
    "print(array_1 + array_2)\n",
    "'''\n",
    "예시:\n",
    "[[a],       [d, e, f]        [[a + d, a + e, a + f],\n",
    " [b],   +               ->    [b + d, b + e, b + f],    \n",
    " [c]]                         [c + d, c + e, c + f]]\n",
    " '''\n",
    "# 예시 2\n",
    "array_3 = np.array([[1], \n",
    "                    [2],\n",
    "                    [3]])\n",
    "array_4 = np.array([5, 10, 15])\n",
    "print(array_3 + array_4)\n",
    "\n",
    "# 오류 발생 예시\n",
    "# array_5 = np.array([[1, 2, 3],\n",
    "#                     [4, 5, 6]])\n",
    "# array_6 = np.array([[2, 2],\n",
    "#                     [2, 2]])\n",
    "# print(array_6 + array_7)\n",
    "# 오류 발생 이유: (2 x 3) 행렬과 (2 x 2) 행렬간 짝이 맞지 않음\n",
    "\n",
    "# 비교: Python list의 경우 사이즈가 모두 맞아야 함\n",
    "# [1, 2] - [3, 4] -> undefined\n",
    "# [1, 2] + [3, 4] -> [1, 2, 3, 4] (concatenate으로 이해)"
   ]
  },
  {
   "cell_type": "code",
   "execution_count": 68,
   "metadata": {},
   "outputs": [
    {
     "name": "stdout",
     "output_type": "stream",
     "text": [
      "[[[ 2  4]\n",
      "  [ 6  8]\n",
      "  [10 12]]\n",
      "\n",
      " [[ 8 10]\n",
      "  [12 14]\n",
      "  [16 18]]\n",
      "\n",
      " [[14 16]\n",
      "  [18 20]\n",
      "  [22 24]]]\n"
     ]
    }
   ],
   "source": [
    "# 브로드캐스팅이 가능한 조건 2\n",
    "'''\n",
    "2. 차원의 짝이 맞을 때 가능하다\n",
    "즉, 차원에 대해 기준이 되는 축의 size가 동일하면 브로드캐스팅이 가능하다.\n",
    "예시:\n",
    "[[[a, b],        [[s, t],        [[[a + s, b + t],\n",
    "  [c, d],         [u, v],          [c + u, d + v],    \n",
    "  [e, f]],   +    [w, x]]   ->     [e + w, f + x]],\n",
    " [[g, h],                         [[g + s, h + t],\n",
    "  ...                               ...\n",
    "  [q, r]]]                         [q + w, r + x]]]\n",
    "'''\n",
    "# 예시\n",
    "array_5 = np.array([[[1, 2], \n",
    "                     [3, 4],\n",
    "                     [5, 6]],\n",
    "                    [[7, 8],\n",
    "                     [9, 10],\n",
    "                     [11, 12]],\n",
    "                    [[13, 14],\n",
    "                     [15, 16],\n",
    "                     [17, 18]]])\n",
    "array_6 = np.array([[1, 2], \n",
    "                    [3, 4],\n",
    "                    [5, 6]])\n",
    "print(array_5 + array_6)"
   ]
  },
  {
   "cell_type": "code",
   "execution_count": 69,
   "metadata": {},
   "outputs": [
    {
     "name": "stdout",
     "output_type": "stream",
     "text": [
      "True\n",
      "True\n",
      "True\n",
      "False\n"
     ]
    }
   ],
   "source": [
    "# np.array_equal 함수와 np.array_equiv 함수의 차이점을 비교연산/브로드캐스팅 으로 이해하기\n",
    "# 출처: https://www.skytowner.com/explore/difference_between_the_methods_array_equal_and_array_equiv_in_numpy\n",
    "print(np.array_equiv([1, 2], [1, 2])) # True\n",
    "print(np.array_equal([1, 2], [1, 2])) # True\n",
    "print(np.array_equiv([1, 2], [[1, 2], [1, 2]])) # True; [1, 2]가 [[1, 2], [1, 2]]에 브로드캐스팅되었을 때에 모두 True라면 최종 return값도 True\n",
    "print(np.array_equal([1, 2], [[1, 2], [1, 2]])) # False; 정확하게 형태까지도 일치하지 않으면 최종 return값은 False"
   ]
  },
  {
   "cell_type": "markdown",
   "metadata": {
    "id": "5m8pRzVk8Ii5"
   },
   "source": [
    "## 3-8. NumPy의 벡터 기반 연산"
   ]
  },
  {
   "cell_type": "code",
   "execution_count": 70,
   "metadata": {
    "id": "dkeH6fN18P_D"
   },
   "outputs": [],
   "source": [
    "# 시간 계산용 time 패키지 import 하기\n",
    "import time"
   ]
  },
  {
   "cell_type": "code",
   "execution_count": 71,
   "metadata": {
    "id": "aIpzgke-9bEN"
   },
   "outputs": [],
   "source": [
    "# 예시 배열 생성하기\n",
    "np.random.seed(2023)\n",
    "array_1 = np.random.randint(1, 10, 10000000) \n",
    "array_2 = np.random.randint(1, 10, 10000000)"
   ]
  },
  {
   "cell_type": "code",
   "execution_count": 72,
   "metadata": {},
   "outputs": [
    {
     "name": "stdout",
     "output_type": "stream",
     "text": [
      "Sum 값: 49989525\n",
      "for-loop 사용 sum 연산 시간: 9.75889 초\n",
      "Sum 값: 49989525\n",
      "NumPy 벡터연산 사용 sum 연산 시간: 0.01097 초\n"
     ]
    }
   ],
   "source": [
    "# 비교 1. for-loop을 활용한 sum 연산\n",
    "sum = 0\n",
    "start = time.time()\n",
    "for i in array_1:\n",
    "\tsum += i\n",
    "end = time.time()\n",
    "print(\"Sum 값:\", sum)\n",
    "print(f\"for-loop 사용 sum 연산 시간: {end - start:.5f} 초\")\n",
    "\n",
    "# 비교 2. NumPy 벡터연산을 활용한 sum 연산 (P)\n",
    "sum = 0\n",
    "start = time.time()\n",
    "sum = np.sum(array_1)\n",
    "end = time.time()\n",
    "print(\"Sum 값:\", sum)\n",
    "print(f\"NumPy 벡터연산 사용 sum 연산 시간: {end - start:.5f} 초\")"
   ]
  },
  {
   "cell_type": "code",
   "execution_count": 73,
   "metadata": {},
   "outputs": [
    {
     "name": "stdout",
     "output_type": "stream",
     "text": [
      "Dot product 값: 249966893\n",
      "for-loop 사용 내적 연산 시간: 17.86619 초\n",
      "Dot product 값: 249966893\n",
      "NumPy 벡터연산 사용 내적 연산 시간: 0.02693 초\n"
     ]
    }
   ],
   "source": [
    "# 비교 1. for-loop을 활용한 내적 연산\n",
    "dot = 0\n",
    "start = time.time()\n",
    "for i, j in zip(array_1, array_2):\n",
    "\tdot += i * j\n",
    "end = time.time()\n",
    "print(\"Dot product 값:\", dot)\n",
    "print(f\"for-loop 사용 내적 연산 시간: {end - start:.5f} 초\")\n",
    "\n",
    "# 비교 2. NumPy 벡터연산을 활용한 내적 연산 (P)\n",
    "dot = 0\n",
    "start = time.time()\n",
    "dot = np.dot(array_1, array_2)\n",
    "end = time.time()\n",
    "print(\"Dot product 값:\", dot)\n",
    "print(f\"NumPy 벡터연산 사용 내적 연산 시간: {end - start:.5f} 초\")"
   ]
  },
  {
   "cell_type": "markdown",
   "metadata": {
    "id": "jEjyU4vJyKNI"
   },
   "source": [
    "---\n",
    "# 4. N차원 배열 정렬"
   ]
  },
  {
   "cell_type": "markdown",
   "metadata": {
    "id": "5BCqSDdu6ps4"
   },
   "source": [
    "## 4-1. 1차원 배열의 정렬"
   ]
  },
  {
   "cell_type": "code",
   "execution_count": 74,
   "metadata": {
    "id": "Avl4eyS30Gbm"
   },
   "outputs": [
    {
     "name": "stdout",
     "output_type": "stream",
     "text": [
      "[8 7 8 2 4 5 5 7 6 1]\n",
      "[1 2 4 5 5 6 7 7 8 8]\n",
      "[8 8 7 7 6 5 5 4 2 1]\n",
      "[8 7 8 2 4 5 5 7 6 1]\n"
     ]
    }
   ],
   "source": [
    "# 예시 배열 생성하기\n",
    "np.random.seed(2023)\n",
    "array_1d = np.random.randint(1, 10, 10)\n",
    "print(array_1d)\n",
    "\n",
    "# 1차원 배열 오름차순 정렬하기 (P)\n",
    "print(np.sort(array_1d))\n",
    "\n",
    "# 1차원 배열 내림차순 정렬하기 (P)\n",
    "print(np.sort(array_1d)[::-1])\n",
    "\n",
    "# 참고) 원본 배열은 변하지 않음\n",
    "print(array_1d)"
   ]
  },
  {
   "cell_type": "code",
   "execution_count": 75,
   "metadata": {},
   "outputs": [
    {
     "name": "stdout",
     "output_type": "stream",
     "text": [
      "[1 2 4 5 5 6 7 7 8 8]\n",
      "[1 2 4 5 5 6 7 7 8 8]\n"
     ]
    }
   ],
   "source": [
    "# 퀴즈. 정렬된 배열을 얻고 싶다면?\n",
    "# 답안 1. 정렬된 배열을 새로운 object에 저장한다\n",
    "array_1d_sorted = np.sort(array_1d)\n",
    "print(array_1d_sorted)\n",
    "\n",
    "# 답안 2. NumPy에 사전 정의된 np.sort() 메서드를 이용한다\n",
    "array_1d.sort() # 원본 배열을 정렬된 상태로 영구히 변경\n",
    "print(array_1d)"
   ]
  },
  {
   "cell_type": "markdown",
   "metadata": {
    "id": "IlLUWwUY6wNb"
   },
   "source": [
    "## 4-2. 2차원 배열의 정렬"
   ]
  },
  {
   "cell_type": "code",
   "execution_count": 76,
   "metadata": {
    "id": "bmv88Q-j6yAj"
   },
   "outputs": [
    {
     "name": "stdout",
     "output_type": "stream",
     "text": [
      "[[ 7  2  4  6  1]\n",
      " [18 16 16 14  8]\n",
      " [ 6 19  4 18 15]\n",
      " [17  8 18 17  1]]\n"
     ]
    }
   ],
   "source": [
    "# 예시 배열 생성하기\n",
    "np.random.seed(2023)\n",
    "array_2d = np.random.randint(1, 20, (4, 5))\n",
    "print(array_2d)"
   ]
  },
  {
   "cell_type": "code",
   "execution_count": 77,
   "metadata": {},
   "outputs": [
    {
     "name": "stdout",
     "output_type": "stream",
     "text": [
      "[[ 1  2  4  6  7]\n",
      " [ 8 14 16 16 18]\n",
      " [ 4  6 15 18 19]\n",
      " [ 1  8 17 17 18]]\n",
      "[[ 6  2  4  6  1]\n",
      " [ 7  8  4 14  1]\n",
      " [17 16 16 17  8]\n",
      " [18 19 18 18 15]]\n",
      "[ 1  1  2  4  4  6  6  7  8  8 14 15 16 16 17 17 18 18 18 19]\n"
     ]
    }
   ],
   "source": [
    "# 2차원 배열 row 기준 정렬하기 (P)\n",
    "print(np.sort(array_2d, axis = 1)) # axis = 1 : 'column'을 섞어줘라로 이해\n",
    "\n",
    "# 2차원 배열 column 기준 정렬하기 (P)\n",
    "print(np.sort(array_2d, axis = 0)) # axis = 0 : 'row'를 섞어줘라로 이해\n",
    "\n",
    "# 1차원 배열로 변경하여 전체 배열 정렬하기 (P)\n",
    "print(np.sort(array_2d, axis = None))"
   ]
  },
  {
   "cell_type": "code",
   "execution_count": 78,
   "metadata": {
    "id": "cn4so_6M_g5I"
   },
   "outputs": [
    {
     "name": "stdout",
     "output_type": "stream",
     "text": [
      "[[ 6  2  4  6  1]\n",
      " [ 7  8  4 14  1]\n",
      " [17 16 16 17  8]\n",
      " [18 19 18 18 15]]\n",
      "[[2 0 0 0 0]\n",
      " [0 3 2 1 3]\n",
      " [3 1 1 3 1]\n",
      " [1 2 3 2 2]]\n"
     ]
    }
   ],
   "source": [
    "# argsort: 정렬된 배열의 원소들의 출처 (원 배열)에서의 인덱스를 출력하기\n",
    "print(np.sort(array_2d, axis = 0))\n",
    "print(np.argsort(array_2d, axis = 0))"
   ]
  },
  {
   "cell_type": "markdown",
   "metadata": {
    "id": "4-RDVTdKCtT5"
   },
   "source": [
    "---\n",
    "# 5. N차원 배열의 형태 변경"
   ]
  },
  {
   "cell_type": "markdown",
   "metadata": {
    "id": "RMXFTmZUACQa"
   },
   "source": [
    "## 5-1. reshape 메서드"
   ]
  },
  {
   "cell_type": "code",
   "execution_count": 79,
   "metadata": {
    "id": "bvJhjytfCuO2"
   },
   "outputs": [
    {
     "name": "stdout",
     "output_type": "stream",
     "text": [
      "[ 0  1  2  3  4  5  6  7  8  9 10 11 12 13 14 15 16 17 18 19 20 21 22 23] 1\n"
     ]
    }
   ],
   "source": [
    "# 예시 배열 생성하기\n",
    "array_1d = np.arange(24)\n",
    "print(array_1d, array_1d.ndim)"
   ]
  },
  {
   "cell_type": "code",
   "execution_count": 80,
   "metadata": {},
   "outputs": [
    {
     "name": "stdout",
     "output_type": "stream",
     "text": [
      "[[ 0  1  2  3  4  5]\n",
      " [ 6  7  8  9 10 11]\n",
      " [12 13 14 15 16 17]\n",
      " [18 19 20 21 22 23]] 2\n"
     ]
    }
   ],
   "source": [
    "# 1차원 배열의 shape을 2차원으로 변경하기\n",
    "array_2d = array_1d.reshape(4, 6)\n",
    "print(array_2d, array_2d.ndim)\n",
    "# print(array_1.reshape(3, 2)) 같은 경우 3 x 2 != 20이므로 에러가 발생함"
   ]
  },
  {
   "cell_type": "code",
   "execution_count": 81,
   "metadata": {},
   "outputs": [
    {
     "name": "stdout",
     "output_type": "stream",
     "text": [
      "[[[ 0  1  2  3]\n",
      "  [ 4  5  6  7]\n",
      "  [ 8  9 10 11]]\n",
      "\n",
      " [[12 13 14 15]\n",
      "  [16 17 18 19]\n",
      "  [20 21 22 23]]] 3\n"
     ]
    }
   ],
   "source": [
    "# 1차원 배열의 shape을 3차원으로 변경하기\n",
    "array_3d = array_1d.reshape(2, 3, 4)\n",
    "print(array_3d, array_3d.ndim)"
   ]
  },
  {
   "cell_type": "code",
   "execution_count": 82,
   "metadata": {},
   "outputs": [
    {
     "name": "stdout",
     "output_type": "stream",
     "text": [
      "[[[[ 0  1  2]\n",
      "   [ 3  4  5]]\n",
      "\n",
      "  [[ 6  7  8]\n",
      "   [ 9 10 11]]]\n",
      "\n",
      "\n",
      " [[[12 13 14]\n",
      "   [15 16 17]]\n",
      "\n",
      "  [[18 19 20]\n",
      "   [21 22 23]]]] 4\n"
     ]
    }
   ],
   "source": [
    "# 1차원 배열의 shape을 4차원으로 변경하기\n",
    "array_4d = array_1d.reshape(2, 2, 2, 3)\n",
    "print(array_4d, array_4d.ndim)"
   ]
  },
  {
   "cell_type": "code",
   "execution_count": 83,
   "metadata": {},
   "outputs": [
    {
     "name": "stdout",
     "output_type": "stream",
     "text": [
      "[[[[ 0  1  2]\n",
      "   [ 3  4  5]]\n",
      "\n",
      "  [[ 6  7  8]\n",
      "   [ 9 10 11]]]\n",
      "\n",
      "\n",
      " [[[12 13 14]\n",
      "   [15 16 17]]\n",
      "\n",
      "  [[18 19 20]\n",
      "   [21 22 23]]]] 4\n",
      "[[ 0]\n",
      " [ 1]\n",
      " [ 2]\n",
      " [ 3]\n",
      " [ 4]\n",
      " [ 5]\n",
      " [ 6]\n",
      " [ 7]\n",
      " [ 8]\n",
      " [ 9]\n",
      " [10]\n",
      " [11]\n",
      " [12]\n",
      " [13]\n",
      " [14]\n",
      " [15]\n",
      " [16]\n",
      " [17]\n",
      " [18]\n",
      " [19]\n",
      " [20]\n",
      " [21]\n",
      " [22]\n",
      " [23]]\n"
     ]
    }
   ],
   "source": [
    "# 계산이 너무 어렵다면? -1을 활용하자!\n",
    "array_4d_auto = array_1d.reshape(2, 2, 2, -1) # 마지막 남은 부분을 자동으로 계산\n",
    "print(array_4d_auto, array_4d_auto.ndim)\n",
    "\n",
    "# 참고) 위 방법은 reshape(1, -1)과 같이 2차원 배열꼴로 변경을 권하는 에러메시지에서 자주 볼 수 있음\n",
    "'''\n",
    "에러메시지 예시: \n",
    "Expected 2D array, got 1D array instead:\n",
    "array=[1 5 8 ... 7 6 3]\n",
    "Reshape your data either using X.reshape(-1, 1) if your data has a single feature or X.reshape(1, -1) if it contains a single sample.\n",
    "'''\n",
    "array_1d_auto = array_1d.reshape(-1, 1)\n",
    "print(array_1d_auto)"
   ]
  },
  {
   "cell_type": "markdown",
   "metadata": {
    "id": "Nl6cb89TIJD6"
   },
   "source": [
    "## 5-2. resize 메서드, ravel 메서드, 그리고 flatten 메서드"
   ]
  },
  {
   "cell_type": "code",
   "execution_count": 84,
   "metadata": {
    "id": "E2JeRu9yIgTE"
   },
   "outputs": [
    {
     "name": "stdout",
     "output_type": "stream",
     "text": [
      "[0 1 2 3 4 5 6 7 8 9] 1\n"
     ]
    }
   ],
   "source": [
    "# 예시 배열 생성하기\n",
    "array_1d = np.arange(10)\n",
    "print(array_1d, array_1d.ndim)"
   ]
  },
  {
   "cell_type": "code",
   "execution_count": 85,
   "metadata": {},
   "outputs": [
    {
     "name": "stdout",
     "output_type": "stream",
     "text": [
      "[[0 1 2 3 4]\n",
      " [5 6 7 8 9]]\n"
     ]
    }
   ],
   "source": [
    "# 1차원 배열을 2차원으로 변경하기\n",
    "array_1d.resize(2, 5) # 원본 데이터를 변경함\n",
    "print(array_1d)"
   ]
  },
  {
   "cell_type": "code",
   "execution_count": 86,
   "metadata": {},
   "outputs": [
    {
     "data": {
      "text/plain": [
       "array([[0, 1, 2, 3, 4],\n",
       "       [5, 6, 7, 8, 9]])"
      ]
     },
     "execution_count": 86,
     "metadata": {},
     "output_type": "execute_result"
    }
   ],
   "source": [
    "array_1d.ravel()\n",
    "array_1d"
   ]
  },
  {
   "cell_type": "code",
   "execution_count": 87,
   "metadata": {},
   "outputs": [
    {
     "name": "stdout",
     "output_type": "stream",
     "text": [
      "[0 1 2 3 4 5 6 7 8 9]\n",
      "[0 1 2 3 4 5 6 7 8 9]\n"
     ]
    }
   ],
   "source": [
    "# 2차원 배열을 1차원으로 변경하기\n",
    "# 참고) N차원 배열이든 상관없이 모두 1차원으로 변경하는 방법\n",
    "print(array_1d.ravel())\n",
    "print(array_1d.flatten())\n",
    "# 차이점: flatten은 데이터의 copy를 반환하고, ravel은 view object를 반환한다.\n",
    "# view object란, dictionary의 mutable 특성을 따라 변경값을 참조할 수 있고, 메모리를 아낄 수 있다."
   ]
  },
  {
   "cell_type": "code",
   "execution_count": 88,
   "metadata": {
    "id": "7yl5ryHnUDbU"
   },
   "outputs": [
    {
     "name": "stdout",
     "output_type": "stream",
     "text": [
      "[[0 1 2 3 4]\n",
      " [5 6 7 8 9]]\n"
     ]
    }
   ],
   "source": [
    "# 1차원 배열을 2차원으로 변경하기\n",
    "array_1d_auto = array_1d.reshape(2, -1) # 마지막 남은 부분을 자동으로 계산\n",
    "print(array_1d_auto)\n",
    "# array_1d_auto = array_1d.resize(2, -1) # 오류 발생"
   ]
  },
  {
   "cell_type": "markdown",
   "metadata": {
    "id": "3tmq4-NTC6kD"
   },
   "source": [
    "## 5-3. expand_dims 메서드와 squeeze 메서드"
   ]
  },
  {
   "cell_type": "code",
   "execution_count": 89,
   "metadata": {
    "id": "XvuUY8LgLMhc"
   },
   "outputs": [
    {
     "name": "stdout",
     "output_type": "stream",
     "text": [
      "[1 2] (2,)\n",
      "[[1 2]] (1, 2)\n"
     ]
    }
   ],
   "source": [
    "# 배열의 차원을 row축을 기준으로 한 차원 확장하기\n",
    "array_1d = np.array([1, 2])\n",
    "print(array_1d, array_1d.shape)\n",
    "\n",
    "array_2d_rowwise = np.expand_dims(array_1d, axis = 0)\n",
    "print(array_2d_rowwise, array_2d_rowwise.shape)"
   ]
  },
  {
   "cell_type": "code",
   "execution_count": 90,
   "metadata": {},
   "outputs": [
    {
     "name": "stdout",
     "output_type": "stream",
     "text": [
      "[[1]\n",
      " [2]] (2, 1)\n"
     ]
    }
   ],
   "source": [
    "# 배열의 차원을 column축을 기준으로 한 차원 확장하기\n",
    "array_2d_columnwise = np.expand_dims(array_1d, axis = 1)\n",
    "print(array_2d_columnwise, array_2d_columnwise.shape)"
   ]
  },
  {
   "cell_type": "code",
   "execution_count": 91,
   "metadata": {
    "id": "gw6HBQ9ZDNFd"
   },
   "outputs": [
    {
     "name": "stdout",
     "output_type": "stream",
     "text": [
      "[1 2] (2,)\n"
     ]
    }
   ],
   "source": [
    "# 배열의 차원을 row축을 기준으로 한 차원 축소하기\n",
    "array_1d_rowwise = np.squeeze(array_2d_rowwise, axis = 0)\n",
    "print(array_1d_rowwise, array_1d_rowwise.shape)"
   ]
  },
  {
   "cell_type": "code",
   "execution_count": 92,
   "metadata": {},
   "outputs": [
    {
     "name": "stdout",
     "output_type": "stream",
     "text": [
      "[1 2] (2,)\n"
     ]
    }
   ],
   "source": [
    "# 배열의 차원을 column축을 기준으로 한 차원 축소하기\n",
    "array_1d_columnwise = np.squeeze(array_2d_columnwise, axis = 1)\n",
    "print(array_1d_columnwise, array_1d_columnwise.shape)"
   ]
  },
  {
   "cell_type": "code",
   "execution_count": 93,
   "metadata": {},
   "outputs": [
    {
     "name": "stdout",
     "output_type": "stream",
     "text": [
      "[[[1 2]]] (1, 1, 2)\n",
      "[1 2] (2,)\n"
     ]
    }
   ],
   "source": [
    "# 3차원 배열을 1차원 배열로 한번에 축소하기\n",
    "array_3d_rowwise = np.expand_dims(array_2d_rowwise, axis = 0)\n",
    "print(array_3d_rowwise, array_3d_rowwise.shape)\n",
    "\n",
    "array_1d_rowwise = np.squeeze(array_3d_rowwise)\n",
    "print(array_1d_rowwise, array_1d_rowwise.shape)"
   ]
  },
  {
   "cell_type": "markdown",
   "metadata": {
    "id": "aevtiA50X-4g"
   },
   "source": [
    "## 5-4. 전치행렬 (transpose matrix)"
   ]
  },
  {
   "cell_type": "markdown",
   "metadata": {},
   "source": [
    "전치행렬이란?\n",
    "\n",
    "<참고> 강의 교안 중 전치행렬 (transpose matrix)의 GIF 예시"
   ]
  },
  {
   "cell_type": "code",
   "execution_count": 94,
   "metadata": {
    "id": "cb6OQtomNIxh"
   },
   "outputs": [
    {
     "name": "stdout",
     "output_type": "stream",
     "text": [
      "[[1 4]\n",
      " [2 5]\n",
      " [3 6]]\n"
     ]
    }
   ],
   "source": [
    "# 행렬 A를 전치 행렬로 변환하기\n",
    "A = np.array([[1, 2, 3],\n",
    "              [4, 5, 6]])\n",
    "print(A.T)"
   ]
  },
  {
   "cell_type": "code",
   "execution_count": 95,
   "metadata": {},
   "outputs": [
    {
     "name": "stdout",
     "output_type": "stream",
     "text": [
      "[[17 22 27]\n",
      " [22 29 36]\n",
      " [27 36 45]]\n",
      "[[14 32]\n",
      " [32 77]]\n"
     ]
    }
   ],
   "source": [
    "# 전치 행렬 활용하기\n",
    "A = np.array([[1, 2, 3],\n",
    "              [4, 5, 6]])\n",
    "\n",
    "# A.T와 A의 내적: (3x2) 내적 (2x3) = (3x3) 행렬\n",
    "print(np.dot(A.T, A))\n",
    "\n",
    "# A와 A.T의 내적: (2x3) 내적 (3x2) = (2x2) 행렬\n",
    "print(np.dot(A, A.T))"
   ]
  },
  {
   "cell_type": "code",
   "execution_count": 96,
   "metadata": {},
   "outputs": [
    {
     "name": "stdout",
     "output_type": "stream",
     "text": [
      "[[12 12]\n",
      " [30 30]]\n"
     ]
    }
   ],
   "source": [
    "# 교수자 참고) 행렬 내적시 오류가 나는 예시: 행렬간 shape을 잘 고려해서 계산해야 함\n",
    "A = np.array([[1, 2, 3],\n",
    "              [4, 5, 6]])\n",
    "B = np.full((3, 2), 2)\n",
    "\n",
    "print(np.dot(A, B))\n",
    "# print(np.dot(A.T, B)) # ValueError: shapes (3,2) and (3,2) not aligned: 2 (dim 1) != 3 (dim 0)"
   ]
  },
  {
   "cell_type": "code",
   "execution_count": 97,
   "metadata": {},
   "outputs": [
    {
     "name": "stdout",
     "output_type": "stream",
     "text": [
      "[[1 4]\n",
      " [2 5]\n",
      " [3 6]]\n"
     ]
    }
   ],
   "source": [
    "# NumPy에 사전 정의된 transpose 함수를 활용하여 계산하기\n",
    "print(np.transpose(A)) "
   ]
  },
  {
   "cell_type": "markdown",
   "metadata": {},
   "source": [
    "전치행렬 외에도 NumPy의 linalg 모듈을 활용하면 역행렬을 구할 수 있습니다."
   ]
  },
  {
   "cell_type": "code",
   "execution_count": 98,
   "metadata": {},
   "outputs": [],
   "source": [
    "# NumPy의 linalg 모듈 활용하여 역행렬 구하기 (P)\n"
   ]
  },
  {
   "cell_type": "code",
   "execution_count": 99,
   "metadata": {},
   "outputs": [],
   "source": [
    "# NumPy의 linalg 모듈 활용하여 만든 역행렬 검증하기 (P)\n"
   ]
  },
  {
   "cell_type": "markdown",
   "metadata": {
    "id": "oZmRcK0uYiuW"
   },
   "source": [
    "---\n",
    "# 6. N차원 배열의 병합/분할"
   ]
  },
  {
   "cell_type": "markdown",
   "metadata": {
    "id": "SOSr3GU7VSZ7"
   },
   "source": [
    "## 6-1. N차원 배열에 원소 추가하기"
   ]
  },
  {
   "cell_type": "code",
   "execution_count": 100,
   "metadata": {
    "id": "WWhOltOVaDEo"
   },
   "outputs": [
    {
     "name": "stdout",
     "output_type": "stream",
     "text": [
      "[ 1  2  3  4  5  6  7  8  9 10 11 12]\n",
      "[ 1  2  3  4  5 50  6  7  8  9 10 11 12]\n"
     ]
    }
   ],
   "source": [
    "# 1차원 배열 생성하기\n",
    "array_1d = np.arange(1, 13)\n",
    "print(array_1d)\n",
    "\n",
    "# 1차원 배열에 원소 추가하기 (P)\n",
    "print(np.insert(array_1d, 5, 50)) # np.insert(arr, obj, values, axis=None)"
   ]
  },
  {
   "cell_type": "code",
   "execution_count": 101,
   "metadata": {},
   "outputs": [],
   "source": [
    "# 퀴즈: 오류 예시\n",
    "# np.insert(array_1d, 2, 'A') # ValueError: invalid literal for int() with base 10: 'A'\n",
    "# 왜 'A'는 insert되지 않을까요?\n",
    "# - 답: Python 리스트와 달리 NumPy는 한 배열 내에 같은 종류의 데이터를 가정하기 때문"
   ]
  },
  {
   "cell_type": "code",
   "execution_count": 102,
   "metadata": {
    "id": "N34vfxdLc5WY"
   },
   "outputs": [
    {
     "name": "stdout",
     "output_type": "stream",
     "text": [
      "[[ 1  2  3  4]\n",
      " [ 5  6  7  8]\n",
      " [ 9 10 11 12]]\n",
      "[[ 1  2  3  4]\n",
      " [ 5  6  7  8]\n",
      " [50 50 50 50]\n",
      " [ 9 10 11 12]]\n"
     ]
    }
   ],
   "source": [
    "# 2차원 배열 생성하기\n",
    "array_2d = np.arange(1, 13).reshape(3, 4)\n",
    "print(array_2d)\n",
    "\n",
    "# 2차원 배열에 행을 기준으로 원소 추가하기\n",
    "print(np.insert(array_2d, 2, 50, axis = 0)) # scalar가 전체 행에 브로드캐스팅"
   ]
  },
  {
   "cell_type": "code",
   "execution_count": 103,
   "metadata": {},
   "outputs": [
    {
     "name": "stdout",
     "output_type": "stream",
     "text": [
      "[[ 1  2 50  3  4]\n",
      " [ 5  6 50  7  8]\n",
      " [ 9 10 50 11 12]]\n"
     ]
    }
   ],
   "source": [
    "# 2차원 배열에 열을 기준으로 원소 추가하기\n",
    "array_2d = np.arange(1, 13).reshape(3, 4)\n",
    "print(np.insert(array_2d, 2, 50, axis = 1)) # scalar가 전체 열에 브로드캐스팅"
   ]
  },
  {
   "cell_type": "code",
   "execution_count": 104,
   "metadata": {},
   "outputs": [
    {
     "name": "stdout",
     "output_type": "stream",
     "text": [
      "[ 1  2 50  3  4  5  6  7  8  9 10 11 12]\n"
     ]
    }
   ],
   "source": [
    "# 2차원 배열을 1차원으로 변형하여 원소 추가하기\n",
    "array_2d = np.arange(1, 13).reshape(3, 4)\n",
    "print(np.insert(array_2d, 2, 50)) # axis = None일 경우 자동으로 N차원 배열을 1차원 배열로 축소한 뒤 원소를 추가"
   ]
  },
  {
   "cell_type": "markdown",
   "metadata": {},
   "source": [
    "## 6-2. N차원 배열에서 원소 삭제하기"
   ]
  },
  {
   "cell_type": "code",
   "execution_count": 105,
   "metadata": {
    "id": "GtWFPrX4eK63"
   },
   "outputs": [
    {
     "name": "stdout",
     "output_type": "stream",
     "text": [
      "[ 1  2  3  4  5  6  7  8  9 10 11 12]\n",
      "[ 1  2  4  5  6  7  8  9 10 11 12]\n"
     ]
    }
   ],
   "source": [
    "# 1차원 배열에서 특정 원소를 위치를 기준으로 삭제하기\n",
    "array_1d = np.arange(1, 13)\n",
    "print(array_1d)\n",
    "print(np.delete(array_1d, 2)) # np.insert(arr, obj, axis=None)"
   ]
  },
  {
   "cell_type": "code",
   "execution_count": 106,
   "metadata": {},
   "outputs": [
    {
     "name": "stdout",
     "output_type": "stream",
     "text": [
      "[[ 1  2  3  4]\n",
      " [ 5  6  7  8]\n",
      " [ 9 10 11 12]]\n",
      "[[1 2 3 4]\n",
      " [5 6 7 8]]\n"
     ]
    }
   ],
   "source": [
    "# 특정 원소를 행을 기준으로 삭제하기\n",
    "array_2d = np.arange(1, 13).reshape(3, 4)\n",
    "print(array_2d)\n",
    "print(np.delete(array_2d, 2, axis = 0))"
   ]
  },
  {
   "cell_type": "markdown",
   "metadata": {
    "id": "q0jYGS0-d31Y"
   },
   "source": [
    "## 6-3. append/concatenate 메서드를 활용하여 두 배열을 합치기"
   ]
  },
  {
   "cell_type": "code",
   "execution_count": 107,
   "metadata": {},
   "outputs": [
    {
     "name": "stdout",
     "output_type": "stream",
     "text": [
      "[[1 2 3]\n",
      " [4 5 6]]\n",
      "[[ 7  8  9]\n",
      " [10 11 12]]\n",
      "[ 1  2  3  4  5  6  7  8  9 10 11 12]\n"
     ]
    }
   ],
   "source": [
    "# 두 배열 생성하기\n",
    "array_1 = np.arange(1, 7).reshape(2, 3)\n",
    "array_2 = np.arange(7, 13).reshape(2, 3)\n",
    "print(array_1)\n",
    "print(array_2)\n",
    "\n",
    "# 두 배열을 1차원 배열로 병합하기\n",
    "print(np.append(array_1, array_2))"
   ]
  },
  {
   "cell_type": "code",
   "execution_count": 108,
   "metadata": {
    "id": "wVBQPC2udyU6"
   },
   "outputs": [
    {
     "name": "stdout",
     "output_type": "stream",
     "text": [
      "[[1 2 3]\n",
      " [4 5 6]]\n",
      "[[ 7  8  9]\n",
      " [10 11 12]]\n",
      "[[ 1  2  3]\n",
      " [ 4  5  6]\n",
      " [ 7  8  9]\n",
      " [10 11 12]]\n"
     ]
    }
   ],
   "source": [
    "# 두 배열 생성하기\n",
    "array_1 = np.arange(1, 7).reshape(2, 3)\n",
    "array_2 = np.arange(7, 13).reshape(2, 3)\n",
    "print(array_1)\n",
    "print(array_2)\n",
    "\n",
    "# 두 배열을 행을 기준으로 병합하기 - append (이어붙이기)\n",
    "print(np.append(array_1, array_2, axis = 0))"
   ]
  },
  {
   "cell_type": "code",
   "execution_count": 109,
   "metadata": {},
   "outputs": [
    {
     "name": "stdout",
     "output_type": "stream",
     "text": [
      "[[ 1  2  3]\n",
      " [ 4  5  6]\n",
      " [ 7  8  9]\n",
      " [10 11 12]]\n"
     ]
    }
   ],
   "source": [
    "# 두 배열을 행을 기준으로 병합하기 - concatenate (병합하기)\n",
    "print(np.concatenate((array_1, array_2), axis = 0)) # 유의: append와는 다르게 합칠 배열들을 한 개의 컨테이너로 묶어서 메소드의 첫번째 인자로 전달해야 함 "
   ]
  },
  {
   "cell_type": "code",
   "execution_count": 110,
   "metadata": {},
   "outputs": [
    {
     "name": "stdout",
     "output_type": "stream",
     "text": [
      "[[ 1  2  3]\n",
      " [ 4  5  6]\n",
      " [ 7  8  9]\n",
      " [10 11 12]]\n"
     ]
    }
   ],
   "source": [
    "# NumPy에 정의된 vstack() 메서드 활용하기\n",
    "print(np.vstack((array_1, array_2))) # concatenate와 매우 유사"
   ]
  },
  {
   "cell_type": "code",
   "execution_count": 111,
   "metadata": {},
   "outputs": [
    {
     "name": "stdout",
     "output_type": "stream",
     "text": [
      "[[1 2 3]\n",
      " [4 5 6]]\n",
      "[[ 7  8  9]\n",
      " [10 11 12]]\n",
      "[[ 1  2  3  7  8  9]\n",
      " [ 4  5  6 10 11 12]]\n"
     ]
    }
   ],
   "source": [
    "# 두 배열 생성하기\n",
    "array_1 = np.arange(1, 7).reshape(2, 3)\n",
    "array_2 = np.arange(7, 13).reshape(2, 3)\n",
    "print(array_1)\n",
    "print(array_2)\n",
    "\n",
    "# 두 배열을 열을 기준으로 병합하기 - append (이어붙이기)\n",
    "print(np.append(array_1, array_2, axis = 1))"
   ]
  },
  {
   "cell_type": "code",
   "execution_count": 112,
   "metadata": {},
   "outputs": [
    {
     "name": "stdout",
     "output_type": "stream",
     "text": [
      "[[ 1  2  3  7  8  9]\n",
      " [ 4  5  6 10 11 12]]\n"
     ]
    }
   ],
   "source": [
    "# 두 배열을 열을 기준으로 병합하기 - concatenate (병합하기)\n",
    "print(np.concatenate((array_1, array_2), axis = 1)) # 유의: append와는 다르게 합칠 배열들을 한 개의 컨테이너로 묶어서 메소드의 첫번째 인자로 전달해야 함 "
   ]
  },
  {
   "cell_type": "code",
   "execution_count": 113,
   "metadata": {},
   "outputs": [
    {
     "name": "stdout",
     "output_type": "stream",
     "text": [
      "[[ 1  2  3  7  8  9]\n",
      " [ 4  5  6 10 11 12]]\n"
     ]
    }
   ],
   "source": [
    "# NumPy에 정의된 hstack() 메서드 활용하기\n",
    "print(np.hstack((array_1, array_2)))"
   ]
  },
  {
   "cell_type": "markdown",
   "metadata": {},
   "source": [
    "NumPy에서는 1, 2차원 배열 뿐 아니라 N차원 배열에 대해 병합이 가능합니다.\n",
    "\n",
    "단, 병합하고자 하는 각 N차원 배열 객체의 합칠 axis를 제외하고 나머지 axes의 shape이 전부 동일해야 합니다."
   ]
  },
  {
   "cell_type": "code",
   "execution_count": 114,
   "metadata": {},
   "outputs": [
    {
     "name": "stdout",
     "output_type": "stream",
     "text": [
      "[[[ 1  2  3 29]\n",
      "  [ 4  5  6 30]\n",
      "  [ 7  8  9 31]]\n",
      "\n",
      " [[10 11 12 32]\n",
      "  [13 14 15 33]\n",
      "  [16 17 18 34]]\n",
      "\n",
      " [[19 20 21 35]\n",
      "  [22 23 24 36]\n",
      "  [25 26 27 37]]]\n",
      "[[[ 1  2  3 29]\n",
      "  [ 4  5  6 30]\n",
      "  [ 7  8  9 31]]\n",
      "\n",
      " [[10 11 12 32]\n",
      "  [13 14 15 33]\n",
      "  [16 17 18 34]]\n",
      "\n",
      " [[19 20 21 35]\n",
      "  [22 23 24 36]\n",
      "  [25 26 27 37]]]\n"
     ]
    }
   ],
   "source": [
    "# N차원 배열 생성하기 (e.g. 3차원)\n",
    "a = np.arange(1, 28).reshape(3, 3, 3)\n",
    "b = np.arange(29, 38).reshape(3, 3, 1)\n",
    "\n",
    "# append 사용하기\n",
    "print(np.append(a, b, axis = 2))\n",
    "\n",
    "# concatenate 사용하기\n",
    "print(np.concatenate((a, b), axis = 2))"
   ]
  },
  {
   "cell_type": "markdown",
   "metadata": {
    "id": "mUc7hEkx2itB"
   },
   "source": [
    "## 6-4. 한 배열을 두 개로 분할하기"
   ]
  },
  {
   "cell_type": "code",
   "execution_count": 115,
   "metadata": {},
   "outputs": [
    {
     "name": "stdout",
     "output_type": "stream",
     "text": [
      "[ 1  2  3  4  5  6  7  8  9 10 11 12]\n",
      "[array([1, 2, 3, 4]), array([5, 6, 7, 8]), array([ 9, 10, 11, 12])]\n"
     ]
    }
   ],
   "source": [
    "# 1차원 배열을 분할될 배열 갯수를 지정하여 분할하기\n",
    "array_1d = np.arange(1, 13)\n",
    "print(array_1d)\n",
    "print(np.split(array_1d, 3))"
   ]
  },
  {
   "cell_type": "code",
   "execution_count": 116,
   "metadata": {
    "id": "ce4gN6-z2r0G"
   },
   "outputs": [
    {
     "name": "stdout",
     "output_type": "stream",
     "text": [
      "[[ 1  2  3  4]\n",
      " [ 5  6  7  8]\n",
      " [ 9 10 11 12]]\n",
      "[array([[1, 2, 3, 4]]), array([[5, 6, 7, 8]]), array([[ 9, 10, 11, 12]])]\n"
     ]
    }
   ],
   "source": [
    "# 2차원 배열 생성하기\n",
    "array_2d = np.arange(1, 13).reshape(3, 4)\n",
    "print(array_2d)\n",
    "\n",
    "# 한 배열을 행을 기준으로 두 개로 분할하기\n",
    "print(np.split(array_2d, 3, axis = 0))"
   ]
  },
  {
   "cell_type": "code",
   "execution_count": 117,
   "metadata": {},
   "outputs": [
    {
     "name": "stdout",
     "output_type": "stream",
     "text": [
      "[array([[1, 2, 3, 4]]), array([[5, 6, 7, 8]]), array([[ 9, 10, 11, 12]])]\n"
     ]
    }
   ],
   "source": [
    "# NumPy에 정의된 vsplit() 메서드 활용하기\n",
    "print(np.vsplit(array_2d, 3))"
   ]
  },
  {
   "cell_type": "code",
   "execution_count": 118,
   "metadata": {},
   "outputs": [
    {
     "name": "stdout",
     "output_type": "stream",
     "text": [
      "[[ 1  2  3  4]\n",
      " [ 5  6  7  8]\n",
      " [ 9 10 11 12]]\n",
      "[array([[ 1,  2],\n",
      "       [ 5,  6],\n",
      "       [ 9, 10]]), array([[ 3,  4],\n",
      "       [ 7,  8],\n",
      "       [11, 12]])]\n"
     ]
    }
   ],
   "source": [
    "# 2차원 배열 생성하기\n",
    "array_2d = np.arange(1, 13).reshape(3, 4)\n",
    "print(array_2d)\n",
    "\n",
    "# 한 배열을 열을 기준으로 두 개로 분할하기\n",
    "print(np.split(array_2d, 2, axis = 1))"
   ]
  },
  {
   "cell_type": "code",
   "execution_count": 119,
   "metadata": {},
   "outputs": [
    {
     "name": "stdout",
     "output_type": "stream",
     "text": [
      "[array([[ 1,  2],\n",
      "       [ 5,  6],\n",
      "       [ 9, 10]]), array([[ 3,  4],\n",
      "       [ 7,  8],\n",
      "       [11, 12]])]\n"
     ]
    }
   ],
   "source": [
    "# NumPy에 정의된 hsplit() 메서드 활용하기\n",
    "print(np.hsplit(array_2d, 2))"
   ]
  },
  {
   "cell_type": "markdown",
   "metadata": {
    "id": "2Mscz4k2Mjla"
   },
   "source": [
    "---\n",
    "# 7. NumPy 실습 예제"
   ]
  },
  {
   "cell_type": "code",
   "execution_count": 120,
   "metadata": {
    "id": "rkBXHqdbPA6k"
   },
   "outputs": [],
   "source": [
    "import numpy as np"
   ]
  },
  {
   "cell_type": "markdown",
   "metadata": {
    "id": "wTXUGhUWPX91"
   },
   "source": [
    "## 예제 1\n",
    "원소가 모두 7인 (2, 3, 4) 형태의 numpy.array를 출력하시오."
   ]
  },
  {
   "cell_type": "code",
   "execution_count": 121,
   "metadata": {
    "id": "OMPs6EelNEGi"
   },
   "outputs": [
    {
     "name": "stdout",
     "output_type": "stream",
     "text": [
      "[[[7 7 7 7]\n",
      "  [7 7 7 7]\n",
      "  [7 7 7 7]]\n",
      "\n",
      " [[7 7 7 7]\n",
      "  [7 7 7 7]\n",
      "  [7 7 7 7]]]\n"
     ]
    }
   ],
   "source": [
    "# 답안\n",
    "array_1 = np.full((2, 3, 4), 7)\n",
    "print(array_1)"
   ]
  },
  {
   "cell_type": "markdown",
   "metadata": {
    "id": "n1bZJ0ZqPTm-"
   },
   "source": [
    "## 예제 2\n",
    "정수 -50 ~ 50의 범위 안의 난수로 이루어진 (4, 5) 형태의 numpy.array를 출력하고 행을 기준으로 오름차순 정렬한 결과와 전체 배열을 1차원 배열로 변경하여 오름차순 정렬한 결과를 출력하시오."
   ]
  },
  {
   "cell_type": "code",
   "execution_count": 122,
   "metadata": {
    "id": "MyHCkVLOOiD7"
   },
   "outputs": [
    {
     "name": "stdout",
     "output_type": "stream",
     "text": [
      "[[-21  -1  -1  -1  -1]\n",
      " [  3 -12  20 -35  38]\n",
      " [ 22  -3  15  21 -28]\n",
      " [  3 -43  -5 -25 -16]]\n",
      "[[-21 -43  -5 -35 -28]\n",
      " [  3 -12  -1 -25 -16]\n",
      " [  3  -3  15  -1  -1]\n",
      " [ 22  -1  20  21  38]]\n",
      "[-43 -35 -28 -25 -21 -16 -12  -5  -3  -1  -1  -1  -1   3   3  15  20  21\n",
      "  22  38]\n"
     ]
    }
   ],
   "source": [
    "# 답안\n",
    "# array 작성\n",
    "array_1 = np.random.randint(-50, 50, (4, 5))\n",
    "print(array_1)\n",
    "\n",
    "# 행을 기준으로 정렬한 결과 작성\n",
    "print(np.sort(array_1, axis = 0))\n",
    "\n",
    "# 1차원 배열로 변경하여 정렬한 결과 작성\n",
    "print(np.sort(array_1, axis = None))"
   ]
  },
  {
   "cell_type": "markdown",
   "metadata": {
    "id": "XFzgr412S6fu"
   },
   "source": [
    "## 예제 3\n",
    "다음과 같은 파이썬 list가 존재한다. list안에 있는 각 numpy.array의 원소들의 평균값과 표준편차, 중앙값을 순서대로 구하여 구한 순서대로 원소가 이루어진 새로운 list를 구성하고 출력하시오.\n",
    "\n",
    "- 예시 : 각 배열의 평균값이 3.0, 4.0, 5.0이고 표준편차가 1.5, 1.7, 1.9이며 중앙값이 1.0, 2.0, 3.0 이라면 배열로 구성하여 [3.0, 1.5, 1.0, 4.0, 1.7, 2.0, 5.0, 1.9, 3.0] 으로 출력한다."
   ]
  },
  {
   "cell_type": "code",
   "execution_count": 123,
   "metadata": {
    "id": "YMS2zz__TGfW"
   },
   "outputs": [],
   "source": [
    "sample_list = [\n",
    "    np.full(3, 8),\n",
    "    np.array([33, -15, 26]),\n",
    "    np.linspace(17, 26, 3)\n",
    "    ]"
   ]
  },
  {
   "cell_type": "code",
   "execution_count": 124,
   "metadata": {},
   "outputs": [
    {
     "name": "stdout",
     "output_type": "stream",
     "text": [
      "[8.0, 0.0, 8.0, 14.666666666666666, 21.171259344267224, 26.0, 21.5, 3.6742346141747673, 21.5]\n"
     ]
    }
   ],
   "source": [
    "# 답안\n",
    "array_1 = []\n",
    "for i in sample_list:\n",
    "    array_1.append(np.mean(i))\n",
    "    array_1.append(np.std(i))\n",
    "    array_1.append(np.median(i))\n",
    "print(array_1)"
   ]
  },
  {
   "cell_type": "markdown",
   "metadata": {
    "id": "I6fj9c_taeW8"
   },
   "source": [
    "## 예제 4\n",
    "다음과 같은 numpy.array가 존재한다. 이 배열을 행을 기준으로 3개의 배열로 분할하여 분할된 각 배열의 원소들을 제곱한 결과를 다시 원본 배열에 행을 기준으로 병합하시오. (단, 마지막 출력 결과는 원본 배열과 차원이 같아야 한다)"
   ]
  },
  {
   "cell_type": "code",
   "execution_count": 125,
   "metadata": {
    "colab": {
     "base_uri": "https://localhost:8080/"
    },
    "id": "jw7RDVQ1aQn4",
    "outputId": "b7d93912-6b90-49b7-bdb0-6e0842e9b659"
   },
   "outputs": [
    {
     "name": "stdout",
     "output_type": "stream",
     "text": [
      "[[ 2  4  6]\n",
      " [ 8 10 12]\n",
      " [14 16 18]]\n"
     ]
    }
   ],
   "source": [
    "sample_array = np.arange(2, 20, 2).reshape((3, 3))\n",
    "print(sample_array)"
   ]
  },
  {
   "cell_type": "code",
   "execution_count": 126,
   "metadata": {},
   "outputs": [
    {
     "name": "stdout",
     "output_type": "stream",
     "text": [
      "[array([[2, 4, 6]]), array([[ 8, 10, 12]]), array([[14, 16, 18]])]\n",
      "[[[  4  16  36]]\n",
      "\n",
      " [[ 64 100 144]]\n",
      "\n",
      " [[196 256 324]]]\n",
      "[[  4  16  36]\n",
      " [ 64 100 144]\n",
      " [196 256 324]]\n",
      "[[  2   4   6]\n",
      " [  8  10  12]\n",
      " [ 14  16  18]\n",
      " [  4  16  36]\n",
      " [ 64 100 144]\n",
      " [196 256 324]]\n"
     ]
    }
   ],
   "source": [
    "# 답안\n",
    "array_1 = np.vsplit(sample_array, 3)\n",
    "print(array_1)\n",
    "\n",
    "array_2 = np.square(array_1)\n",
    "print(array_2)\n",
    "\n",
    "array_3 = np.squeeze(array_2, axis = 1)\n",
    "print(array_3)\n",
    "\n",
    "array_4 = np.vstack([sample_array, array_3])\n",
    "print(array_4)"
   ]
  },
  {
   "cell_type": "markdown",
   "metadata": {
    "id": "ZLWy8JDOPVps"
   },
   "source": [
    "## 예제 5\n",
    "삼각함수의 특수각(0deg, 30deg, 60deg, 90deg)을 numpy.array로 생성한 후 특수각에 해당하는 sin, cos, tan 값을 각각 구하여 파이썬 list에 담은 다음 해당 list에 들어있는 값들을 출력하시오. (단, 값이 무한대라면 \"INF\" 문자열을 출력할 것)\n",
    "\n",
    "참고) numpy의 삼각함수는 radian 값을 사용하기 때문에 degree를 radian으로 변경해야합니다."
   ]
  },
  {
   "cell_type": "code",
   "execution_count": 127,
   "metadata": {
    "id": "Re_fUv6uPVFf"
   },
   "outputs": [
    {
     "name": "stdout",
     "output_type": "stream",
     "text": [
      "[ 0 30 60 90]\n",
      "0.0\n",
      "0.49999999999999994\n",
      "0.8660254037844386\n",
      "1.0\n",
      "\n",
      "1.0\n",
      "0.8660254037844387\n",
      "0.5000000000000001\n",
      "6.123233995736766e-17\n",
      "\n",
      "0.0\n",
      "0.5773502691896257\n",
      "1.7320508075688767\n",
      "1.633123935319537e+16\n",
      "\n"
     ]
    }
   ],
   "source": [
    "# 답안\n",
    "array_1 = np.arange(0, 91, 30)\n",
    "print(array_1)\n",
    "\n",
    "tri_list = []\n",
    "tri_list.append(np.sin(array_1 * np.pi / 180))\n",
    "tri_list.append(np.cos(array_1 * np.pi / 180))\n",
    "tri_list.append(np.tan(array_1 * np.pi / 180))\n",
    "\n",
    "for value_list in tri_list:\n",
    "    for value in value_list:\n",
    "        if value == np.inf:\n",
    "            print(\"INF\")\n",
    "            continue\n",
    "        print(value)\n",
    "    print()"
   ]
  },
  {
   "cell_type": "markdown",
   "metadata": {
    "id": "pJfpNqq8JR-I"
   },
   "source": [
    "## 예제 6\n",
    "numpy.array를 이용하여 다음 [예시 패턴]과 같이 출력하시오. (단, 출력 시 반복문을 사용하여 출력한다)\n",
    "\n",
    "[예시 패턴]<br>\n",
    "0 1 0 1 0 1 0   \n",
    "1 0 1 0 1 0 1   \n",
    "0 1 0 1 0 1 0   \n",
    "1 0 1 0 1 0 1   \n",
    "0 1 0 1 0 1 0   \n",
    "1 0 1 0 1 0 1   \n",
    "0 1 0 1 0 1 0 "
   ]
  },
  {
   "cell_type": "code",
   "execution_count": 128,
   "metadata": {
    "id": "cnmUwYbuJVNe"
   },
   "outputs": [
    {
     "name": "stdout",
     "output_type": "stream",
     "text": [
      "0 1 0 1 0 1 0 \n",
      "1 0 1 0 1 0 1 \n",
      "0 1 0 1 0 1 0 \n",
      "1 0 1 0 1 0 1 \n",
      "0 1 0 1 0 1 0 \n",
      "1 0 1 0 1 0 1 \n",
      "0 1 0 1 0 1 0 \n"
     ]
    }
   ],
   "source": [
    "# 답안\n",
    "array_1 = np.zeros((7, 7), dtype = int)\n",
    "\n",
    "array_1[::2, 1::2] = 1\n",
    "array_1[1::2, ::2] = 1\n",
    "\n",
    "for row in range(7):\n",
    "    for col in range(7):\n",
    "        print(array_1[row, col], end = ' ')\n",
    "    print()"
   ]
  },
  {
   "cell_type": "markdown",
   "metadata": {
    "id": "6cJQxwQtHcHs"
   },
   "source": [
    "## 예제 7\n",
    "다음 두 행렬에 대하여 내적 연산을 수행한 결괏값을 출력하시오. (단, 결과의 소수점 아래는 제거한다)"
   ]
  },
  {
   "cell_type": "code",
   "execution_count": 129,
   "metadata": {
    "id": "-4ZbjfpqH65j"
   },
   "outputs": [],
   "source": [
    "array_1 = np.array([[2.1, 3.5],\n",
    "                 [4.2, 2.7],\n",
    "                 [2.3, 1.9]])\n",
    "array_2 = np.array([[5, 2, 3],\n",
    "                 [1, 3, 5]])"
   ]
  },
  {
   "cell_type": "code",
   "execution_count": 130,
   "metadata": {},
   "outputs": [
    {
     "name": "stdout",
     "output_type": "stream",
     "text": [
      "[[14. 14. 23.]\n",
      " [23. 16. 26.]\n",
      " [13. 10. 16.]]\n"
     ]
    }
   ],
   "source": [
    "# 답안\n",
    "print(np.trunc(np.dot(array_1, array_2)))"
   ]
  },
  {
   "cell_type": "markdown",
   "metadata": {},
   "source": [
    "## 예제 8\n",
    "조건 연산자를 활용한 Boolean 인덱싱을 이용하여 다음 배열의 원소들 중 2와 5의 배수만 추출한 결과를 오름차순 정렬하여 (2, 4) 행렬로 출력하시오."
   ]
  },
  {
   "cell_type": "code",
   "execution_count": 131,
   "metadata": {},
   "outputs": [],
   "source": [
    "array_1 = np.array([[1, 2, 3, 4],\n",
    "                    [5, 6, 7, 8],\n",
    "                    [9, 10, 11, 12]])"
   ]
  },
  {
   "cell_type": "code",
   "execution_count": 132,
   "metadata": {},
   "outputs": [
    {
     "name": "stdout",
     "output_type": "stream",
     "text": [
      "[[ 2  4  5  6]\n",
      " [ 8 10 10 12]]\n"
     ]
    }
   ],
   "source": [
    "# 답안\n",
    "print(np.sort(np.append(array_1[array_1 % 2 == 0], array_1[array_1 % 5 == 0])).reshape(2, 4))"
   ]
  },
  {
   "cell_type": "markdown",
   "metadata": {},
   "source": [
    "## 예제 9\n",
    "10진수 100~150 사이에 존재하는 정수를 무작위로 30개 추출하여 (3, 10) 형태의 행렬로 만들고 행과 열을 전치한 결과를 출력하시오."
   ]
  },
  {
   "cell_type": "code",
   "execution_count": 133,
   "metadata": {},
   "outputs": [
    {
     "name": "stdout",
     "output_type": "stream",
     "text": [
      "[[149 134 131]\n",
      " [113 111 143]\n",
      " [148 146 105]\n",
      " [127 101 110]\n",
      " [123 131 107]\n",
      " [145 105 119]\n",
      " [134 144 147]\n",
      " [140 119 106]\n",
      " [138 140 135]\n",
      " [136 105 128]]\n"
     ]
    }
   ],
   "source": [
    "# 답안\n",
    "array_1 = np.random.randint(low = 100, high = 150, size = (3, 10))\n",
    "print(array_1.T)\n",
    "# 또는 print(np.transpose(array_1)) 도 가능"
   ]
  },
  {
   "cell_type": "markdown",
   "metadata": {},
   "source": [
    "## 예제 10\n",
    "10진수 10~20 사이에 존재하는 실수형의 수를 무작위로 10,000개 추출하여 100개의 구간에 그래프로 시각화하시오.\n",
    "(단, 무작위 실수값은 균등한 비율로 추출해야 하며 그래프 시각화 도구는 pyplot 모듈을 사용할 것)"
   ]
  },
  {
   "cell_type": "code",
   "execution_count": 134,
   "metadata": {},
   "outputs": [
    {
     "data": {
      "image/png": "[encoded data removed]",
      "text/plain": [
       "<Figure size 432x288 with 1 Axes>"
      ]
     },
     "metadata": {
      "needs_background": "light"
     },
     "output_type": "display_data"
    }
   ],
   "source": [
    "# 답안\n",
    "# import matplotlib.pyplot as plt\n",
    "randoms = 10 + np.random.rand(1000) * 10\n",
    "plt.hist(randoms, bins = 100)\n",
    "plt.show()"
   ]
  }
 ],
 "metadata": {
  "colab": {
   "provenance": []
  },
  "kernelspec": {
   "display_name": "Python 3",
   "language": "python",
   "name": "python3"
  },
  "language_info": {
   "codemirror_mode": {
    "name": "ipython",
    "version": 3
   },
   "file_extension": ".py",
   "mimetype": "text/x-python",
   "name": "python",
   "nbconvert_exporter": "python",
   "pygments_lexer": "ipython3",
   "version": "3.8.8"
  },
  "vscode": {
   "interpreter": {
    "hash": "635d12761ab8fbdafeafe5aaa9edb6cda993d58dd76847773a0da17c991d0dc5"
   }
  }
 },
 "nbformat": 4,
 "nbformat_minor": 1
}
