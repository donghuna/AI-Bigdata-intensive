{
 "cells": [
  {
   "cell_type": "markdown",
   "metadata": {
    "id": "j86rr_MfZZcx"
   },
   "source": [
    "# 파이썬을 활용한 행렬연산 (NumPy)"
   ]
  },
  {
   "cell_type": "markdown",
   "metadata": {
    "id": "2tX0alpeC1fI"
   },
   "source": [
    "## 강의를 시작하며\n",
    "본 파일에는 '파이썬을 활용한 행렬연산 Numpy' 강의를 진행하며 활용한 주제들이 표시되어 있습니다.\n",
    "\n",
    "우선 강의를 수강하며 스스로 주어진 문제에 적합한 코드를 작성해보세요.\n",
    "또한 복사본을 하나 만들어 강의가 끝난 뒤에도 스스로 채워넣으며 복습용으로 활용하여도 좋습니다.\n",
    "\n",
    "본 강의는 학생 중심의 학습 환경을 조성하기 위하여 학습자 중심의 학습과 학습자-교수자 간 적극적인 상호 소통을 지향합니다.\n",
    "강의 중 모르는 부분이 있다면 교수자에게 편히 질문해주시기 바랍니다."
   ]
  },
  {
   "cell_type": "markdown",
   "metadata": {
    "id": "kmV7p8e-nble"
   },
   "source": [
    "---\n",
    "# 0. 파이썬 실습 환경 구성\n",
    "본 파일은 Python 3 설치 환경을 필요로 합니다."
   ]
  },
  {
   "cell_type": "markdown",
   "metadata": {},
   "source": [
    "## 0-1. NumPy 설치 및 import"
   ]
  },
  {
   "cell_type": "code",
   "execution_count": 1,
   "metadata": {
    "id": "mAizSMjz40cr"
   },
   "outputs": [],
   "source": [
    "# NumPy 설치 및 import하기\n",
    "#pip install numpy\n",
    "import numpy as np"
   ]
  },
  {
   "cell_type": "markdown",
   "metadata": {},
   "source": [
    "## 0-2. NumPy를 사용하는 이유"
   ]
  },
  {
   "cell_type": "markdown",
   "metadata": {},
   "source": [
    "NumPy array는 Python list보다 연산 속도가 빠르다.\n",
    "\n",
    "이유:\n",
    "\n",
    "- 배열 안에는 동일한 타입의 데이터만 저장한다. (메모리 주소 할당하지 않음)\n",
    "- C array 형태로 데이터가 저장된다. (인터프레터 언어 vs 컴파일 언어)"
   ]
  },
  {
   "cell_type": "code",
   "execution_count": 2,
   "metadata": {},
   "outputs": [],
   "source": [
    "# 문제: 두 (1000 X 1000) 배열의 원소합 (element-wise sum) 구하기\n",
    "import time\n",
    "import numpy as np"
   ]
  },
  {
   "cell_type": "code",
   "execution_count": 3,
   "metadata": {},
   "outputs": [
    {
     "name": "stdout",
     "output_type": "stream",
     "text": [
      "[[13  8 13 ... 15 16 12]\n",
      " [15 10 15 ... 17 18 14]\n",
      " [12  7 12 ... 14 15 11]\n",
      " ...\n",
      " [10  5 10 ... 12 13  9]\n",
      " [13  8 13 ... 15 16 12]\n",
      " [11  6 11 ... 13 14 10]]\n",
      "Python list 사용 연산 시간: 1.73037 초\n"
     ]
    }
   ],
   "source": [
    "start = time.time()\n",
    "\n",
    "# 문제 환경 초기화\n",
    "np.random.seed(2023)\n",
    "result = np.empty((1000, 1000), dtype = int)\n",
    "test1 = np.random.randint(0, 10, 1000)\n",
    "test2 = np.random.randint(0, 10, 1000)\n",
    "\n",
    "# 비교 1. for-loop을 활용한 Python list 연산\n",
    "for i in range(1000):\n",
    "\tfor j in range(1000):\n",
    "    \t\tresult[i,j] = test1[i] + test2[j]\n",
    "\t\t\n",
    "end = time.time()\n",
    "print(result)\n",
    "print(f\"Python list 사용 연산 시간: {end - start:.5f} 초\")"
   ]
  },
  {
   "cell_type": "code",
   "execution_count": 4,
   "metadata": {},
   "outputs": [
    {
     "name": "stdout",
     "output_type": "stream",
     "text": [
      "[[13  8 13 ... 15 16 12]\n",
      " [15 10 15 ... 17 18 14]\n",
      " [12  7 12 ... 14 15 11]\n",
      " ...\n",
      " [10  5 10 ... 12 13  9]\n",
      " [13  8 13 ... 15 16 12]\n",
      " [11  6 11 ... 13 14 10]]\n",
      "NumPy 사용 연산 시간: 0.00498 초\n"
     ]
    }
   ],
   "source": [
    "start = time.time()\n",
    "\n",
    "# 문제 환경 초기화\n",
    "np.random.seed(2023)\n",
    "result = np.empty((1000, 1000), dtype = int)\n",
    "test1 = np.random.randint(0, 10, 1000)\n",
    "test2 = np.random.randint(0, 10, 1000)\n",
    "\n",
    "# 비교 2. NumPy 연산\n",
    "result = test1.reshape(1000, 1) + test2.reshape(1, 1000)\n",
    "\n",
    "end = time.time()\n",
    "print(result)\n",
    "print(f\"NumPy 사용 연산 시간: {end - start:.5f} 초\")"
   ]
  },
  {
   "cell_type": "code",
   "execution_count": 5,
   "metadata": {},
   "outputs": [],
   "source": [
    "del start, end, result, test1, test2, i, j"
   ]
  },
  {
   "cell_type": "markdown",
   "metadata": {
    "id": "wm9IRe3dntPn"
   },
   "source": [
    "---\n",
    "# 1. N차원 배열 (ndarray)"
   ]
  },
  {
   "cell_type": "markdown",
   "metadata": {},
   "source": [
    "N차원 배열이란?\n",
    "\n",
    "NumPy 홈페이지에서 발췌한 정의:<br>\n",
    "*N-dimensional array (ndarray)* is a multidimensional container of items of the same type and size.\n",
    "\n",
    "즉, 같은 타입과 크기를 가지는 원소들을 저장하는 어떤 한 다차원의 컨테이너를 의미합니다.<br>\n",
    "*컨테이너: 자료형을 저장하는 객체\n",
    "\n",
    "조금 더 이해하기 쉬운 표현으로는 2차원 표가 다차원으로 확장된 느낌의 개념으로 이해하시면 좋을 것 같습니다.<br>\n",
    "그림으로 보면 더욱 이해가 쉽습니다.\n",
    "\n",
    "<참고> 강의교안 중 N차원 배열 (ndarray)"
   ]
  },
  {
   "cell_type": "markdown",
   "metadata": {
    "id": "EmXCx5mNcHjM"
   },
   "source": [
    "## 1-1. N차원 배열 생성"
   ]
  },
  {
   "cell_type": "code",
   "execution_count": 6,
   "metadata": {
    "id": "3og5ML6WhpG2"
   },
   "outputs": [
    {
     "name": "stdout",
     "output_type": "stream",
     "text": [
      "[1 2 3]\n"
     ]
    }
   ],
   "source": [
    "# 1차원 배열 생성하기\n",
    "array_1d = np.array([1, 2, 3])\n",
    "print(array_1d)"
   ]
  },
  {
   "cell_type": "code",
   "execution_count": 7,
   "metadata": {},
   "outputs": [
    {
     "name": "stdout",
     "output_type": "stream",
     "text": [
      "<class 'numpy.ndarray'>\n"
     ]
    }
   ],
   "source": [
    "# 타입 살펴보기\n",
    "print(type(array_1d))"
   ]
  },
  {
   "cell_type": "code",
   "execution_count": 8,
   "metadata": {
    "id": "-y42frKaoPV6"
   },
   "outputs": [
    {
     "name": "stdout",
     "output_type": "stream",
     "text": [
      "[4 5 6]\n"
     ]
    }
   ],
   "source": [
    "# np.array() 메서드 활용하여 리스트로 1차원 배열 생성하기\n",
    "list_1d = [4, 5, 6]\n",
    "array_1d = np.array(list_1d)\n",
    "print(array_1d)"
   ]
  },
  {
   "cell_type": "code",
   "execution_count": 9,
   "metadata": {},
   "outputs": [
    {
     "name": "stdout",
     "output_type": "stream",
     "text": [
      "[7 8 9]\n"
     ]
    }
   ],
   "source": [
    "# np.array() 메서드 활용하여 튜플로 1차원 배열 생성하기\n",
    "tuple_1d = (7, 8, 9)\n",
    "array_1d = np.array(tuple_1d)\n",
    "print(array_1d)"
   ]
  },
  {
   "cell_type": "code",
   "execution_count": 10,
   "metadata": {
    "id": "ZubLsvjNo-gG"
   },
   "outputs": [
    {
     "name": "stdout",
     "output_type": "stream",
     "text": [
      "(3,)\n",
      "1\n",
      "3\n"
     ]
    }
   ],
   "source": [
    "# shape 확인하기\n",
    "print(array_1d.shape)\n",
    "\n",
    "# ndim 확인하기\n",
    "print(array_1d.ndim)\n",
    "\n",
    "# size 확인하기\n",
    "print(array_1d.size)"
   ]
  },
  {
   "cell_type": "code",
   "execution_count": 11,
   "metadata": {},
   "outputs": [
    {
     "name": "stdout",
     "output_type": "stream",
     "text": [
      "[[1 2 3]\n",
      " [4 5 6]]\n"
     ]
    }
   ],
   "source": [
    "# 2차원 배열 생성하기\n",
    "array_2d = np.array([[1, 2, 3],\n",
    "                     [4, 5, 6]])\n",
    "print(array_2d)"
   ]
  },
  {
   "cell_type": "code",
   "execution_count": 12,
   "metadata": {},
   "outputs": [
    {
     "name": "stdout",
     "output_type": "stream",
     "text": [
      "(2, 3)\n",
      "2\n",
      "6\n"
     ]
    }
   ],
   "source": [
    "# shape 확인하기\n",
    "print(array_2d.shape)\n",
    "\n",
    "# ndim 확인하기\n",
    "print(array_2d.ndim)\n",
    "\n",
    "# size 확인하기\n",
    "print(array_2d.size)"
   ]
  },
  {
   "cell_type": "code",
   "execution_count": 13,
   "metadata": {},
   "outputs": [],
   "source": [
    "# 3차원 배열 생성하기 (P)\n",
    "\n",
    "# shape 확인하기\n",
    "\n",
    "# ndim 확인하기\n",
    "\n",
    "# size 확인하기\n"
   ]
  },
  {
   "cell_type": "markdown",
   "metadata": {
    "id": "QXY0ge0cca4B"
   },
   "source": [
    "## 1-2. N차원 배열의 데이터 타입 지정"
   ]
  },
  {
   "cell_type": "code",
   "execution_count": 14,
   "metadata": {
    "id": "SgMEXOJtpvHf"
   },
   "outputs": [
    {
     "name": "stdout",
     "output_type": "stream",
     "text": [
      "[0 1 2]\n",
      "int32\n",
      "[0. 1. 2.]\n",
      "float64\n",
      "[False  True  True]\n",
      "bool\n",
      "['0' '1' '2']\n",
      "<U1\n"
     ]
    }
   ],
   "source": [
    "# 예시 데이터를 리스트로 저장하기\n",
    "list_1d = [0, 1, 2]\n",
    "\n",
    "# 정수형으로 지정하기\n",
    "array_1d_int = np.array(list_1d, dtype = int)\n",
    "print(array_1d_int)\n",
    "print(array_1d_int.dtype)\n",
    "\n",
    "# 실수형으로 지정하기\n",
    "array_1d_float = np.array(list_1d, dtype = float)\n",
    "print(array_1d_float)\n",
    "print(array_1d_float.dtype) \n",
    "\n",
    "# 불형으로 지정하기\n",
    "array_1d_boolean = np.array(list_1d, dtype = bool)\n",
    "print(array_1d_boolean)\n",
    "print(array_1d_boolean.dtype) # boolean\n",
    "\n",
    "# 문자형으로 지정하기\n",
    "array_1d_string = np.array(list_1d, dtype = str)\n",
    "print(array_1d_string)\n",
    "print(array_1d_string.dtype) # unicode 문자열"
   ]
  },
  {
   "cell_type": "code",
   "execution_count": 15,
   "metadata": {
    "id": "ZywZxpaRwXm3"
   },
   "outputs": [],
   "source": [
    "# 기 지정된 배열의 데이터 타입을 임의로 변경하기 (P)\n",
    "# 힌트: .astype() 메서드 사용하기\n"
   ]
  },
  {
   "cell_type": "markdown",
   "metadata": {
    "id": "cXo22LP2nFWM"
   },
   "source": [
    "## 1-3. 정해진 형식의 N차원 배열 생성"
   ]
  },
  {
   "cell_type": "code",
   "execution_count": 16,
   "metadata": {
    "id": "j1iKcUSWu5U4"
   },
   "outputs": [
    {
     "name": "stdout",
     "output_type": "stream",
     "text": [
      "[[0. 0.]\n",
      " [0. 0.]]\n",
      "[[1. 1. 1. 1.]\n",
      " [1. 1. 1. 1.]\n",
      " [1. 1. 1. 1.]]\n",
      "[['fill_val' 'fill_val' 'fill_val']\n",
      " ['fill_val' 'fill_val' 'fill_val']]\n",
      "[[1. 0. 0.]\n",
      " [0. 1. 0.]\n",
      " [0. 0. 1.]]\n"
     ]
    }
   ],
   "source": [
    "# 모든 요소가 0인 N차원 배열 생성하기\n",
    "array_zeros = np.zeros([2, 2])\n",
    "print(array_zeros)\n",
    "\n",
    "# 모든 요소가 1인 N차원 배열 생성하기\n",
    "array_ones = np.ones([3, 4])\n",
    "print(array_ones)\n",
    "\n",
    "# 모든 요소가 지정된 fill_value인 N차원 배열 생성하기\n",
    "array_full = np.full([2, 3], 'fill_val')\n",
    "print(array_full)\n",
    "\n",
    "# NxN (또는 NxM) shape를 가진 대각 원소가 1인 행렬 생성하기\n",
    "array_I = np.eye(3, 3) # I_n := identity matrix of size n\n",
    "print(array_I)"
   ]
  },
  {
   "cell_type": "code",
   "execution_count": 17,
   "metadata": {
    "id": "JwJ3L3ReyhbE"
   },
   "outputs": [
    {
     "name": "stdout",
     "output_type": "stream",
     "text": [
      "[[0 0 0]\n",
      " [0 0 0]]\n",
      "[[1 1 1]\n",
      " [1 1 1]]\n",
      "[[123 123 123]\n",
      " [123 123 123]]\n"
     ]
    }
   ],
   "source": [
    "# 예시 배열 생성하기\n",
    "array_2d = np.array([[1,2,3],\n",
    "                     [4,5,6]])\n",
    "\n",
    "# 예시 배열을 모든 요소가 0인 배열의 형식으로 변형하기\n",
    "array_2d_to_zeros = np.zeros_like(array_2d)\n",
    "print(array_2d_to_zeros)\n",
    "\n",
    "# 예시 배열을 모든 요소가 1인 배열의 형식으로 변형하기\n",
    "array_2d_to_ones = np.ones_like(array_2d)\n",
    "print(array_2d_to_ones)\n",
    "\n",
    "# 예시 배열을 모든 요소가 지정된 fill_value인 배열의 형식으로 변형하기\n",
    "array_2d_to_full = np.full_like(array_2d, 123) # 주의: 예시 배열의 dtype과 fill_value의 dtype 일치\n",
    "print(array_2d_to_full)"
   ]
  },
  {
   "cell_type": "code",
   "execution_count": 18,
   "metadata": {},
   "outputs": [],
   "source": [
    "# np.empty() 로 N차원 배열 생성하기 (P)\n"
   ]
  },
  {
   "cell_type": "markdown",
   "metadata": {
    "id": "5ZV_Z7NgnG0T"
   },
   "source": [
    "## 1-4. 특정 범위의 값을 가지는 N차원 배열 생성"
   ]
  },
  {
   "cell_type": "code",
   "execution_count": 19,
   "metadata": {},
   "outputs": [
    {
     "name": "stdout",
     "output_type": "stream",
     "text": [
      "[0, 2, 4, 6, 8]\n"
     ]
    }
   ],
   "source": [
    "# 비교: 파이썬 내장함수 range()\n",
    "list_range = list(range(0, 10, 2)) # start, stop, step\n",
    "print(list_range)"
   ]
  },
  {
   "cell_type": "code",
   "execution_count": 20,
   "metadata": {},
   "outputs": [
    {
     "name": "stdout",
     "output_type": "stream",
     "text": [
      "[0 2 4 6 8]\n"
     ]
    }
   ],
   "source": [
    "# NumPy의 arange()\n",
    "array_arange = np.arange(0, 10, 2) # start, stop, step\n",
    "print(array_arange)"
   ]
  },
  {
   "cell_type": "code",
   "execution_count": 21,
   "metadata": {},
   "outputs": [
    {
     "name": "stdout",
     "output_type": "stream",
     "text": [
      "[ 0.   2.5  5.   7.5 10. ]\n"
     ]
    }
   ],
   "source": [
    "# NumPy의 linspace()\n",
    "array_linspace = np.linspace(0, 10, 5) # start, stop, num\n",
    "print(array_linspace)"
   ]
  },
  {
   "cell_type": "code",
   "execution_count": 22,
   "metadata": {},
   "outputs": [],
   "source": [
    "# np.linspace()의 num 값의 의미 (P)\n",
    "\n",
    "# np.linspace()의 stop 값을 포함하지 않는 방법 (P)\n"
   ]
  },
  {
   "cell_type": "code",
   "execution_count": 23,
   "metadata": {},
   "outputs": [
    {
     "name": "stdout",
     "output_type": "stream",
     "text": [
      "[1.e+01 1.e+02 1.e+03 1.e+04 1.e+05 1.e+06 1.e+07 1.e+08 1.e+09 1.e+10]\n",
      "[   2.    4.    8.   16.   32.   64.  128.  256.  512. 1024.]\n"
     ]
    }
   ],
   "source": [
    "# NumPy의 logspace() (상용로그)\n",
    "array_logspace = np.logspace(1, 10, 10) # start, stop, num\n",
    "print(array_logspace)\n",
    "\n",
    "# 밑이 2인 log의 logspace()\n",
    "array_logspace_base_2 = np.logspace(1, 10, 10, base = 2) # start, stop, num\n",
    "print(array_logspace_base_2)"
   ]
  },
  {
   "cell_type": "markdown",
   "metadata": {
    "id": "LSXPPL9snHGJ"
   },
   "source": [
    "## 1-5. N차원 배열의 난수 생성"
   ]
  },
  {
   "cell_type": "code",
   "execution_count": 24,
   "metadata": {
    "id": "9OoTUtTFMB_h"
   },
   "outputs": [
    {
     "name": "stdout",
     "output_type": "stream",
     "text": [
      "[ 0.69654803 -1.0331129   0.93760248  0.90217129  0.17582227 -0.94776332\n",
      "  0.66042408 -0.79433292 -1.25403555 -0.98349519]\n",
      "[-0.92125921  0.76571083 -0.88392416 -1.11435209 -0.02040838 -0.71859861\n",
      " -0.50795652 -1.40011116  1.4871072  -0.47287719]\n"
     ]
    }
   ],
   "source": [
    "# 정규 분포에서 표본을 추출하는 난수 생성 함수 작성하기\n",
    "array_randn = np.random.randn(10)\n",
    "print(array_randn)\n",
    "\n",
    "array_normal = np.random.normal(0, 1, 10)\n",
    "print(array_normal)\n",
    "\n",
    "# 퀴즈: 두 함수의 차이점은?\n"
   ]
  },
  {
   "cell_type": "code",
   "execution_count": 25,
   "metadata": {
    "id": "fzJtmBpbPujM"
   },
   "outputs": [
    {
     "name": "stdout",
     "output_type": "stream",
     "text": [
      "[-0.23080926 -1.39164432  0.68579092  0.38685056  0.66624969]\n",
      "[[ 1.03060403  2.35678414  0.35297852]\n",
      " [-1.12999766 -0.69690044  0.29329286]]\n"
     ]
    }
   ],
   "source": [
    "# 데이터 시각화 라이브러리 matplotlib을 설치 및 import 하기\n",
    "# pip install matplotlib\n",
    "import matplotlib.pyplot as plt\n",
    "\n",
    "array_normal_1d = np.random.normal(0, 1, 5) # loc, scale, size\n",
    "print(array_normal_1d)\n",
    "\n",
    "array_normal_2d = np.random.normal(0, 1, (2, 3)) # size는 NxM으로도 지정 가능\n",
    "print(array_normal_2d)"
   ]
  },
  {
   "cell_type": "code",
   "execution_count": 26,
   "metadata": {},
   "outputs": [],
   "source": [
    "# matplotlib 활용하여 시각화하기 (P)\n"
   ]
  },
  {
   "cell_type": "code",
   "execution_count": 27,
   "metadata": {},
   "outputs": [
    {
     "name": "stdout",
     "output_type": "stream",
     "text": [
      "[0.8708515  0.56108491 0.07369003 0.74677489 0.83000676 0.93983706\n",
      " 0.68247926 0.65925898 0.45068459 0.83744249]\n"
     ]
    }
   ],
   "source": [
    "# 균등 분포에서 표본을 추출하는 난수 생성 함수 작성하기\n",
    "array_rand = np.random.rand(10) # ~ U(0, 1)\n",
    "print(array_rand)"
   ]
  },
  {
   "cell_type": "code",
   "execution_count": 28,
   "metadata": {},
   "outputs": [],
   "source": [
    "# matplotlib 활용하여 시각화하기 (P)\n"
   ]
  },
  {
   "cell_type": "code",
   "execution_count": 29,
   "metadata": {},
   "outputs": [
    {
     "name": "stdout",
     "output_type": "stream",
     "text": [
      "[5 8 8 8 7 4 1 7 9 4]\n"
     ]
    }
   ],
   "source": [
    "# 랜덤한 정수를 생성하는 함수 작성하기\n",
    "array_randint = np.random.randint(1, 10, 10) # low, high, size; sample from discrete uniform [low, high)\n",
    "print(array_randint)"
   ]
  },
  {
   "cell_type": "code",
   "execution_count": 30,
   "metadata": {},
   "outputs": [],
   "source": [
    "# matplotlib 활용하여 시각화하기 (P)\n"
   ]
  },
  {
   "cell_type": "markdown",
   "metadata": {
    "id": "jmIo-qNCXNgG"
   },
   "source": [
    "## 1-6. 랜덤 시드 (seed) 값을 고정하여 난수 제어"
   ]
  },
  {
   "cell_type": "code",
   "execution_count": 31,
   "metadata": {
    "id": "ho3sdP6aXhou"
   },
   "outputs": [],
   "source": [
    "# 시드 값을 이용해 난수의 발생 지점을 고정하기 (P)\n"
   ]
  },
  {
   "cell_type": "markdown",
   "metadata": {
    "id": "UR-RDctk70Rv"
   },
   "source": [
    "---\n",
    "# 2. N차원 배열 인덱싱 (indexing)"
   ]
  },
  {
   "cell_type": "markdown",
   "metadata": {
    "id": "9vCxyMts8Ms5"
   },
   "source": [
    "## 2-1. NumPy 기본 인덱싱"
   ]
  },
  {
   "cell_type": "code",
   "execution_count": 32,
   "metadata": {
    "id": "NQtPOm3L88qR"
   },
   "outputs": [
    {
     "name": "stdout",
     "output_type": "stream",
     "text": [
      "[8 7 8 2 4 5 5 7 6 1]\n",
      "8\n",
      "[8]\n"
     ]
    }
   ],
   "source": [
    "# 1차원 배열 생성하기\n",
    "np.random.seed(2023)\n",
    "array_1d = np.random.randint(1, 10, 10)\n",
    "print(array_1d)\n",
    "\n",
    "# 배열의 첫번째 인자 추출하기\n",
    "print(array_1d[0]) # list 인덱싱과 동일\n",
    "\n",
    "# 범위로 인덱싱하기 (슬라이싱)\n",
    "print(array_1d[0:1]) # list 인덱싱과 동일; array[start, end] = [start, end)"
   ]
  },
  {
   "cell_type": "code",
   "execution_count": 33,
   "metadata": {
    "id": "5H9EjM-J-jll"
   },
   "outputs": [],
   "source": [
    "# 2차원 배열 생성하기 (P)\n",
    "\n",
    "# 배열의 첫번째 인자 추출하기\n",
    "\n",
    "# 범위로 인덱싱하기 (슬라이싱)\n"
   ]
  },
  {
   "cell_type": "markdown",
   "metadata": {
    "id": "BRRFVk0_Cldw"
   },
   "source": [
    "## 2-2. Fancy 인덱싱 활용"
   ]
  },
  {
   "cell_type": "markdown",
   "metadata": {},
   "source": [
    "Fancy indexing은 한 NumPy 배열에 대해\n",
    "\n",
    "- 또 다른 NumPy 배열\n",
    "- Python list\n",
    "- 정수 시퀀스 e.g. range()\n",
    "\n",
    "를 활용하여 NumPy 배열을 인덱싱할 수 있도록 해주는 기법입니다."
   ]
  },
  {
   "cell_type": "code",
   "execution_count": 34,
   "metadata": {
    "id": "nvbf72jyC8r4"
   },
   "outputs": [
    {
     "name": "stdout",
     "output_type": "stream",
     "text": [
      "[8 7 8 2 4 5 5 7 6 1]\n",
      "[8 7 8]\n"
     ]
    }
   ],
   "source": [
    "# 1차원 배열 난수 생성하기\n",
    "np.random.seed(2023)\n",
    "array_1d = np.random.randint(1, 10, 10)\n",
    "print(array_1d)\n",
    "\n",
    "# 1차원 배열 Fancy 인덱싱하기\n",
    "index = [0, 1, 2] # np.array([0, 1, 2])도 가능\n",
    "print(array_1d[index])"
   ]
  },
  {
   "cell_type": "code",
   "execution_count": 35,
   "metadata": {},
   "outputs": [],
   "source": [
    "# 2차원 배열 난수 생성하기 (P)\n",
    "\n",
    "# 2차원 배열 Fancy 인덱싱하기\n"
   ]
  },
  {
   "cell_type": "markdown",
   "metadata": {
    "id": "LBCsd547E41L"
   },
   "source": [
    "## 2-3. 불형 & 조건 연산자 인덱싱"
   ]
  },
  {
   "cell_type": "code",
   "execution_count": 36,
   "metadata": {
    "id": "BanXYbmhE9c1"
   },
   "outputs": [
    {
     "name": "stdout",
     "output_type": "stream",
     "text": [
      "[8 7 8 2 4]\n",
      "[8 8]\n"
     ]
    }
   ],
   "source": [
    "# 1차원 배열 난수 생성하기\n",
    "np.random.seed(2023)\n",
    "array_1d = np.random.randint(1, 10, 5)\n",
    "print(array_1d)\n",
    "\n",
    "# Boolean 리스트를 이용한 불형 인덱싱하기\n",
    "boolean_list = [True, False, True, False, False]\n",
    "print(array_1d[boolean_list])"
   ]
  },
  {
   "cell_type": "code",
   "execution_count": 37,
   "metadata": {},
   "outputs": [],
   "source": [
    "# 조건 연산자를 활용하여 조건에 맞는 배열의 값만 출력하기 (P)\n"
   ]
  },
  {
   "cell_type": "markdown",
   "metadata": {
    "id": "T1bggqQj9lHK"
   },
   "source": [
    "---\n",
    "# 3. N차원 배열 연산법"
   ]
  },
  {
   "cell_type": "markdown",
   "metadata": {
    "id": "MN_hFeFQh1Qa"
   },
   "source": [
    "## 3-1. 배열 연산 - 기본"
   ]
  },
  {
   "cell_type": "markdown",
   "metadata": {},
   "source": [
    "Python 연산자와 동일한 연산 수행이 가능합니다."
   ]
  },
  {
   "cell_type": "code",
   "execution_count": 38,
   "metadata": {},
   "outputs": [],
   "source": [
    "# 예시 배열 생성하기\n",
    "array_1 = np.array([[1, 2, 3],\n",
    "                    [4, 5, 6],\n",
    "                    [7, 8, 9]])\n",
    "array_2 = np.array([[5, 5, 5],\n",
    "                    [5, 5, 5],\n",
    "                    [5, 5, 5]])"
   ]
  },
  {
   "cell_type": "code",
   "execution_count": 39,
   "metadata": {
    "id": "I5NfNwegRpaN"
   },
   "outputs": [],
   "source": [
    "# 덧셈하기 (P)\n"
   ]
  },
  {
   "cell_type": "code",
   "execution_count": 40,
   "metadata": {
    "id": "mi0Qo5OC9WdD"
   },
   "outputs": [],
   "source": [
    "# 뺄셈하기 (P)\n"
   ]
  },
  {
   "cell_type": "code",
   "execution_count": 41,
   "metadata": {
    "id": "aY98m2Xw9YCC"
   },
   "outputs": [],
   "source": [
    "# 곱셈하기 (요소별 곱셈) (P)\n"
   ]
  },
  {
   "cell_type": "code",
   "execution_count": 42,
   "metadata": {
    "id": "fRZhs1Bh9Zuk"
   },
   "outputs": [],
   "source": [
    "# 나눗셈하기 (요소별 나눗셈) (P)\n"
   ]
  },
  {
   "cell_type": "code",
   "execution_count": 43,
   "metadata": {
    "id": "enl82hzU9dyN"
   },
   "outputs": [],
   "source": [
    "# 몫, 나머지 구하기 (P)\n"
   ]
  },
  {
   "cell_type": "code",
   "execution_count": 44,
   "metadata": {
    "id": "r_G4DT409czB"
   },
   "outputs": [],
   "source": [
    "# 제곱, 제곱근 구하기 (P)\n"
   ]
  },
  {
   "cell_type": "code",
   "execution_count": 45,
   "metadata": {},
   "outputs": [],
   "source": [
    "# n제곱, n제곱근 구하기 (P)\n"
   ]
  },
  {
   "attachments": {},
   "cell_type": "markdown",
   "metadata": {
    "id": "_cAANOjph9DU"
   },
   "source": [
    "## 3-2. 배열 연산 - 내적 & 역행렬"
   ]
  },
  {
   "cell_type": "markdown",
   "metadata": {},
   "source": [
    "### 선형대수학 복습: 내적\n",
    "선형대수학에서 $m \\times n$ 행렬 $A$와 $n \\times p$ 행렬 $B$를 내적한 $n \\times p$ 행렬 $C$는\n",
    "$$\n",
    "A \\cdot B = C\n",
    "$$\n",
    "로 정의합니다.\n",
    "\n",
    "$A, B, C$ 각 행렬의 원소는\n",
    "$$\n",
    "\\begin{bmatrix}\n",
    "    a_{11} & a_{12} & \\cdots & a_{1n}\\\\\n",
    "    a_{21} & a_{22} & \\cdots & a_{2n}\\\\ \n",
    "    \\vdots & \\vdots & \\ddots & \\vdots\\\\ \n",
    "    a_{m1} & a_{m2} & \\cdots & a_{mn} \n",
    "\\end{bmatrix}\n",
    "\\cdot\n",
    "\\begin{bmatrix}\n",
    "    b_{11} & b_{12} & \\cdots & b_{1p}\\\\\n",
    "    b_{21} & b_{22} & \\cdots & b_{2p}\\\\ \n",
    "    \\vdots & \\vdots & \\ddots & \\vdots\\\\ \n",
    "    b_{n1} & b_{n2} & \\cdots & b_{np} \n",
    "\\end{bmatrix}\n",
    "=\n",
    "\\begin{bmatrix}\n",
    "    c_{11} & c_{12} & \\cdots & c_{1p}\\\\\n",
    "    c_{21} & c_{22} & \\cdots & c_{2p}\\\\ \n",
    "    \\vdots & \\vdots & \\ddots & \\vdots\\\\ \n",
    "    c_{m1} & c_{m2} & \\cdots & c_{mp} \n",
    "\\end{bmatrix}\n",
    "$$\n",
    "\n",
    "$$\n",
    "c_{ij}= a_{i1} b_{1j} + a_{i2} b_{2j} +\\cdots+ a_{in} b_{nj} = \\sum_{k=1}^n a_{ik}b_{kj}\n",
    "$$\n",
    "와 같이 표현할 수 있습니다.\n",
    "\n",
    "NumPy에서는 내적을 포함한 다양한 행렬 연산을 지원합니다."
   ]
  },
  {
   "cell_type": "code",
   "execution_count": 46,
   "metadata": {},
   "outputs": [],
   "source": [
    "# 예시 2차원 배열 생성하기\n",
    "array_1 = np.array([[1, 2],\n",
    "                    [3, 4]])\n",
    "array_2 = np.array([[2, 3],\n",
    "                    [4, 5]])"
   ]
  },
  {
   "cell_type": "code",
   "execution_count": 47,
   "metadata": {
    "colab": {
     "base_uri": "https://localhost:8080/"
    },
    "id": "FyahGOuvh9t6",
    "outputId": "e2d7cd5c-0d2f-4ef4-f065-ee5de192d7a9"
   },
   "outputs": [
    {
     "name": "stdout",
     "output_type": "stream",
     "text": [
      "[[10 13]\n",
      " [22 29]]\n"
     ]
    }
   ],
   "source": [
    "# 2차원 배열의 내적 계산하기\n",
    "print(np.dot(array_1, array_2))"
   ]
  },
  {
   "cell_type": "code",
   "execution_count": 48,
   "metadata": {},
   "outputs": [],
   "source": [
    "# 임의의 크기로 세 개의 행렬 A, B, C를 만들어 모두 내적하기\n",
    "A = np.array([[1, 2, 3],\n",
    "              [4, 5, 6]])\n",
    "B = np.array([[1, 2, 3, 4],\n",
    "              [5, 6, 7, 8],\n",
    "              [9, 10, 11, 12]])\n",
    "C = np.array([[1],\n",
    "              [2],\n",
    "              [3],\n",
    "              [4]])\n",
    "\n",
    "# 내적 계산 (P)\n"
   ]
  },
  {
   "cell_type": "markdown",
   "metadata": {
    "id": "K85JpQbAk6cE"
   },
   "source": [
    "## 3-3. 배열 연산 - 값 대체"
   ]
  },
  {
   "cell_type": "code",
   "execution_count": 49,
   "metadata": {},
   "outputs": [
    {
     "name": "stdout",
     "output_type": "stream",
     "text": [
      "[1.28795322 3.56168981 2.35220902 0.50638437 0.56536489]\n"
     ]
    }
   ],
   "source": [
    "# 예시 1차원 배열 생성하기\n",
    "np.random.seed(2023)\n",
    "array_rand = (np.random.rand(5)) * 4 # ~ U(0, 4)\n",
    "print(array_rand)"
   ]
  },
  {
   "cell_type": "code",
   "execution_count": 50,
   "metadata": {},
   "outputs": [],
   "source": [
    "# 절댓값 계산하기 (P)\n",
    "\n",
    "# 올림하기\n",
    "\n",
    "# 내림하기\n",
    "\n",
    "# 반올림하기\n",
    "\n",
    "# 버림하기\n"
   ]
  },
  {
   "cell_type": "markdown",
   "metadata": {},
   "source": [
    "## 3-4. 배열 연산 - 기초통계량 계산"
   ]
  },
  {
   "cell_type": "code",
   "execution_count": 51,
   "metadata": {},
   "outputs": [
    {
     "name": "stdout",
     "output_type": "stream",
     "text": [
      "[[8 7 8 2]\n",
      " [4 5 5 7]]\n"
     ]
    }
   ],
   "source": [
    "# 2차원 배열 생성하기\n",
    "np.random.seed(2023)\n",
    "array_2d = np.random.randint(1, 10, (2, 4))\n",
    "print(array_2d)"
   ]
  },
  {
   "cell_type": "code",
   "execution_count": 52,
   "metadata": {},
   "outputs": [],
   "source": [
    "# 배열 내 원소들 중 최솟값 구하기 (P)\n",
    "\n",
    "# 배열 내 원소들 중 최댓값 구하기\n",
    "\n",
    "# 배열 원소들의 합 구하기\n",
    "\n",
    "# 배열 원소의 평균값 구하기\n",
    "\n",
    "# 배열 원소의 표준편차 구하기\n",
    "\n",
    "# 배열 원소의 누적 합 구하기\n",
    "\n",
    "# 배열 원소의 중앙값 구하기\n"
   ]
  },
  {
   "cell_type": "markdown",
   "metadata": {},
   "source": [
    "기초통계량을 계산하는 메서드 중 최소값, 최대값을 계산하는 메서드 앞에 `arg-` 접두사를 붙여 해당 결과에 해당하는 인덱스를 반환할 수 있습니다."
   ]
  },
  {
   "cell_type": "code",
   "execution_count": 53,
   "metadata": {},
   "outputs": [],
   "source": [
    "# arg 함수 알아보기 (P)\n",
    "# 배열 내 원소들 중 최솟값의 인덱스를 구하기\n",
    "\n",
    "# 배열 내 원소들 중 최댓값의 인덱스를 구하기\n"
   ]
  },
  {
   "cell_type": "markdown",
   "metadata": {},
   "source": [
    "최소, 최대 외에도 다양한 조건을 활용하여 해당 조건을 만족하는 인덱스를 반환하도록 하는 `np.where()` 메서드의 사용법을 익혀봅시다."
   ]
  },
  {
   "cell_type": "code",
   "execution_count": 54,
   "metadata": {},
   "outputs": [
    {
     "name": "stdout",
     "output_type": "stream",
     "text": [
      "[8 7 8 2 4]\n"
     ]
    }
   ],
   "source": [
    "# 1차원 배열 생성하기\n",
    "np.random.seed(2023)\n",
    "array_1d = np.random.randint(1, 10, 5)\n",
    "print(array_1d)"
   ]
  },
  {
   "cell_type": "code",
   "execution_count": 55,
   "metadata": {},
   "outputs": [],
   "source": [
    "# np.where() 로 5 이하의 값들의 인덱스를 반환하기 (P)\n"
   ]
  },
  {
   "cell_type": "markdown",
   "metadata": {},
   "source": [
    "**<심화>** 결측치가 있는 배열에서 최대, 최소, 합계 등을 계산하는 방법을 배워봅시다."
   ]
  },
  {
   "cell_type": "code",
   "execution_count": 56,
   "metadata": {},
   "outputs": [
    {
     "name": "stdout",
     "output_type": "stream",
     "text": [
      "[[ 1. nan]\n",
      " [ 3.  4.]]\n"
     ]
    }
   ],
   "source": [
    "# 심화: 결측치가 있는 배열\n",
    "array_2d_nan = np.array([[1, np.nan],\n",
    "                         [3, 4]])\n",
    "print(array_2d_nan)"
   ]
  },
  {
   "cell_type": "code",
   "execution_count": 57,
   "metadata": {},
   "outputs": [
    {
     "name": "stdout",
     "output_type": "stream",
     "text": [
      "nan\n",
      "nan\n",
      "nan\n"
     ]
    }
   ],
   "source": [
    "# NaN 값이 있으면 최솟값/최댓값/합계 계산이 제대로 작동하지 않음\n",
    "print(np.min(array_2d_nan))\n",
    "print(np.max(array_2d_nan))\n",
    "print(np.sum(array_2d_nan))"
   ]
  },
  {
   "cell_type": "code",
   "execution_count": 58,
   "metadata": {},
   "outputs": [],
   "source": [
    "# 해결방법 (P)\n"
   ]
  },
  {
   "cell_type": "markdown",
   "metadata": {},
   "source": [
    "## 3-5. 배열 연산 - 지수/로그/삼각 함수"
   ]
  },
  {
   "cell_type": "code",
   "execution_count": 59,
   "metadata": {},
   "outputs": [],
   "source": [
    "# 예시 배열 생성하기 (P)\n",
    "array_1 = np.array([[1, 2],\n",
    "                    [3, 4]])\n",
    "\n",
    "# 자연지수함수 구하기\n",
    "\n",
    "# 자연로그함수 구하기\n",
    "\n",
    "# 상용로그함수 구하기\n",
    "\n",
    "# pi 값 출력하기\n"
   ]
  },
  {
   "cell_type": "code",
   "execution_count": 60,
   "metadata": {
    "id": "RSkup69hws-b"
   },
   "outputs": [],
   "source": [
    "# 삼각함수 sin값 구하기 (P)\n",
    "\n",
    "# 삼각함수 cos값 구하기\n",
    "\n",
    "# 삼각함수 tan값 구하기\n",
    "\n",
    "# 삼각함수 tanh값 구하기\n"
   ]
  },
  {
   "cell_type": "code",
   "execution_count": 61,
   "metadata": {},
   "outputs": [],
   "source": [
    "# sigmoid 함수 구현하기 (P)\n",
    "x = np.linspace(-10, 10, 20) # linspace 배열: [-10, 10] with size of 20\n",
    "\n",
    "# matplotlib으로 시각화하기\n"
   ]
  },
  {
   "cell_type": "markdown",
   "metadata": {
    "id": "ZHJxlHwynRQV"
   },
   "source": [
    "## 3-6. 배열 연산 - 비교 연산"
   ]
  },
  {
   "cell_type": "code",
   "execution_count": 62,
   "metadata": {
    "id": "h9gTXQLkwrSS"
   },
   "outputs": [],
   "source": [
    "# 예시 배열 생성하기\n",
    "array_1 = np.array([[1, 2],\n",
    "                    [3, 4]])\n",
    "array_2 = np.array([[2, 2],\n",
    "                    [2, 2]])\n",
    "\n",
    "# 비교 연산자를 활용하여 논리 변수 (불형) 배열 출력하기 (P)\n"
   ]
  },
  {
   "cell_type": "markdown",
   "metadata": {
    "id": "F3Q-Z7ueLlHC"
   },
   "source": [
    "## 3-7. 브로드캐스팅 (broadcasting)"
   ]
  },
  {
   "cell_type": "code",
   "execution_count": 63,
   "metadata": {
    "id": "m_9yTQ8l-j48"
   },
   "outputs": [
    {
     "name": "stdout",
     "output_type": "stream",
     "text": [
      "[[3 4 5]\n",
      " [6 7 8]]\n",
      "[[ 6 11 16]\n",
      " [ 7 12 17]\n",
      " [ 8 13 18]]\n"
     ]
    }
   ],
   "source": [
    "# shape이 다른 두 배열의 연산에 브로드캐스팅이 적용되는 방식 보기\n",
    "# 행 (또는 열)이 같은 크기일 경우: 열 (또는 행)을 따라 계산을 확장할 수 있음.\n",
    "\n",
    "# 브로드캐스팅이 가능한 조건 1\n",
    "'''\n",
    "1. 차원의 크기가 1일때 가능하다\n",
    "즉, 두 배열 간의 연산에서 최소한 하나의 배열의 차원이 1이라면 (0번 축이든 1번 축이든; 1행이든 1열이든) 가능하다.\n",
    "예시:\n",
    "[[a, b, c],   +   [g, h, i]   ->   [[a + g, b + h, c + i],\n",
    " [d, e, f]]                         [d + g, e + h, f + i]]\n",
    "'''\n",
    "# 예시 1\n",
    "array_1 = np.array([[1, 2, 3],\n",
    "                    [4, 5, 6]])\n",
    "array_2 = np.array([2, 2, 2])\n",
    "print(array_1 + array_2)\n",
    "\n",
    "'''\n",
    "예시:\n",
    "[[a],       [d, e, f]        [[a + d, a + e, a + f],\n",
    " [b],   +               ->    [b + d, b + e, b + f],    \n",
    " [c]]                         [c + d, c + e, c + f]]\n",
    " '''\n",
    "# 예시 2\n",
    "array_3 = np.array([[1], \n",
    "                    [2],\n",
    "                    [3]])\n",
    "array_4 = np.array([5, 10, 15])\n",
    "print(array_3 + array_4)"
   ]
  },
  {
   "cell_type": "code",
   "execution_count": 64,
   "metadata": {},
   "outputs": [
    {
     "name": "stdout",
     "output_type": "stream",
     "text": [
      "[[[ 2  4]\n",
      "  [ 6  8]\n",
      "  [10 12]]\n",
      "\n",
      " [[ 8 10]\n",
      "  [12 14]\n",
      "  [16 18]]\n",
      "\n",
      " [[14 16]\n",
      "  [18 20]\n",
      "  [22 24]]]\n"
     ]
    }
   ],
   "source": [
    "# 브로드캐스팅이 가능한 조건 2\n",
    "'''\n",
    "2. 차원의 짝이 맞을 때 가능하다\n",
    "즉, 차원에 대해 기준이 되는 축의 size가 동일하면 브로드캐스팅이 가능하다.\n",
    "예시:\n",
    "[[[a, b],        [[s, t],        [[[a + s, b + t],\n",
    "  [c, d],         [u, v],          [c + u, d + v],    \n",
    "  [e, f]],   +    [w, x]]   ->     [e + w, f + x]],\n",
    " [[g, h],                         [[g + s, h + t],\n",
    "  ...                               ...\n",
    "  [q, r]]]                         [q + w, r + x]]]\n",
    "'''\n",
    "# 예시\n",
    "array_5 = np.array([[[1, 2], \n",
    "                     [3, 4],\n",
    "                     [5, 6]],\n",
    "                    [[7, 8],\n",
    "                     [9, 10],\n",
    "                     [11, 12]],\n",
    "                    [[13, 14],\n",
    "                     [15, 16],\n",
    "                     [17, 18]]])\n",
    "array_6 = np.array([[1, 2], \n",
    "                    [3, 4],\n",
    "                    [5, 6]])\n",
    "print(array_5 + array_6)"
   ]
  },
  {
   "cell_type": "code",
   "execution_count": 65,
   "metadata": {},
   "outputs": [
    {
     "name": "stdout",
     "output_type": "stream",
     "text": [
      "True\n",
      "True\n",
      "True\n",
      "False\n"
     ]
    }
   ],
   "source": [
    "# np.array_equal 함수와 np.array_equiv 함수의 차이점을 비교연산/브로드캐스팅 으로 이해하기\n",
    "print(np.array_equiv([1, 2], [1, 2]))\n",
    "print(np.array_equal([1, 2], [1, 2]))\n",
    "print(np.array_equiv([1, 2], [[1, 2], [1, 2]]))\n",
    "print(np.array_equal([1, 2], [[1, 2], [1, 2]]))"
   ]
  },
  {
   "cell_type": "markdown",
   "metadata": {
    "id": "5m8pRzVk8Ii5"
   },
   "source": [
    "## 3-8. NumPy의 벡터 기반 연산"
   ]
  },
  {
   "cell_type": "code",
   "execution_count": 66,
   "metadata": {
    "id": "dkeH6fN18P_D"
   },
   "outputs": [],
   "source": [
    "# 시간 계산용 time 패키지 import 하기\n",
    "import time"
   ]
  },
  {
   "cell_type": "code",
   "execution_count": 67,
   "metadata": {
    "id": "aIpzgke-9bEN"
   },
   "outputs": [],
   "source": [
    "# 예시 배열 생성하기\n",
    "np.random.seed(2023)\n",
    "array_1 = np.random.randint(1, 10, 10000000) \n",
    "array_2 = np.random.randint(1, 10, 10000000)"
   ]
  },
  {
   "cell_type": "code",
   "execution_count": 68,
   "metadata": {},
   "outputs": [
    {
     "name": "stdout",
     "output_type": "stream",
     "text": [
      "Sum 값: 49989525\n",
      "for-loop 사용 sum 연산 시간: 7.32939 초\n",
      "Sum 값: 0\n",
      "NumPy 벡터연산 사용 sum 연산 시간: 0.00100 초\n"
     ]
    }
   ],
   "source": [
    "# 비교 1. for-loop을 활용한 sum 연산\n",
    "sum = 0\n",
    "start = time.time()\n",
    "for i in array_1:\n",
    "\tsum += i\n",
    "end = time.time()\n",
    "print(\"Sum 값:\", sum)\n",
    "print(f\"for-loop 사용 sum 연산 시간: {end - start:.5f} 초\")\n",
    "\n",
    "# 비교 2. NumPy 벡터연산을 활용한 sum 연산 (P)\n",
    "sum = 0\n",
    "start = time.time()\n",
    "################# 빈칸을 메우세요\n",
    "end = time.time()\n",
    "print(\"Sum 값:\", sum)\n",
    "print(f\"NumPy 벡터연산 사용 sum 연산 시간: {end - start:.5f} 초\")"
   ]
  },
  {
   "cell_type": "code",
   "execution_count": 69,
   "metadata": {},
   "outputs": [
    {
     "name": "stdout",
     "output_type": "stream",
     "text": [
      "Dot product 값: 249966893\n",
      "for-loop 사용 내적 연산 시간: 19.11386 초\n",
      "Dot product 값: 0\n",
      "NumPy 벡터연산 사용 내적 연산 시간: 0.00000 초\n"
     ]
    }
   ],
   "source": [
    "# 비교 1. for-loop을 활용한 내적 연산\n",
    "dot = 0\n",
    "start = time.time()\n",
    "for i, j in zip(array_1, array_2):\n",
    "\tdot += i * j\n",
    "end = time.time()\n",
    "print(\"Dot product 값:\", dot)\n",
    "print(f\"for-loop 사용 내적 연산 시간: {end - start:.5f} 초\")\n",
    "\n",
    "# 비교 2. NumPy 벡터연산을 활용한 내적 연산 (P)\n",
    "dot = 0\n",
    "start = time.time()\n",
    "################# 빈칸을 메우세요\n",
    "end = time.time()\n",
    "print(\"Dot product 값:\", dot)\n",
    "print(f\"NumPy 벡터연산 사용 내적 연산 시간: {end - start:.5f} 초\")"
   ]
  },
  {
   "cell_type": "markdown",
   "metadata": {
    "id": "jEjyU4vJyKNI"
   },
   "source": [
    "---\n",
    "# 4. N차원 배열 정렬"
   ]
  },
  {
   "cell_type": "markdown",
   "metadata": {
    "id": "5BCqSDdu6ps4"
   },
   "source": [
    "## 4-1. 1차원 배열의 정렬"
   ]
  },
  {
   "cell_type": "code",
   "execution_count": 70,
   "metadata": {
    "id": "Avl4eyS30Gbm"
   },
   "outputs": [
    {
     "name": "stdout",
     "output_type": "stream",
     "text": [
      "[8 7 8 2 4 5 5 7 6 1]\n"
     ]
    }
   ],
   "source": [
    "# 예시 배열 생성하기 (P)\n",
    "np.random.seed(2023)\n",
    "array_1d = np.random.randint(1, 10, 10)\n",
    "print(array_1d)\n",
    "\n",
    "# 1차원 배열 오름차순 정렬하기 (P)\n",
    "\n",
    "# 1차원 배열 내림차순 정렬하기 (P)\n"
   ]
  },
  {
   "cell_type": "markdown",
   "metadata": {
    "id": "IlLUWwUY6wNb"
   },
   "source": [
    "## 4-2. 2차원 배열의 정렬"
   ]
  },
  {
   "cell_type": "code",
   "execution_count": 71,
   "metadata": {
    "id": "bmv88Q-j6yAj"
   },
   "outputs": [
    {
     "name": "stdout",
     "output_type": "stream",
     "text": [
      "[[ 7  2  4  6  1]\n",
      " [18 16 16 14  8]\n",
      " [ 6 19  4 18 15]\n",
      " [17  8 18 17  1]]\n"
     ]
    }
   ],
   "source": [
    "# 예시 배열 생성하기\n",
    "np.random.seed(2023)\n",
    "array_2d = np.random.randint(1, 20, (4, 5))\n",
    "print(array_2d)"
   ]
  },
  {
   "cell_type": "code",
   "execution_count": 72,
   "metadata": {},
   "outputs": [],
   "source": [
    "# 2차원 배열 row 기준 정렬하기 (P)\n",
    "\n",
    "# 2차원 배열 column 기준 정렬하기 (P)\n",
    "\n",
    "# 1차원 배열로 변경하여 전체 배열 정렬하기 (P)\n"
   ]
  },
  {
   "cell_type": "code",
   "execution_count": 73,
   "metadata": {
    "id": "cn4so_6M_g5I"
   },
   "outputs": [],
   "source": [
    "# argsort: 정렬된 배열의 원소들의 출처 (원 배열)에서의 인덱스를 출력하기 (P)\n"
   ]
  },
  {
   "cell_type": "markdown",
   "metadata": {
    "id": "4-RDVTdKCtT5"
   },
   "source": [
    "---\n",
    "# 5. N차원 배열의 형태 변경"
   ]
  },
  {
   "cell_type": "markdown",
   "metadata": {
    "id": "RMXFTmZUACQa"
   },
   "source": [
    "## 5-1. reshape 메서드"
   ]
  },
  {
   "cell_type": "code",
   "execution_count": 74,
   "metadata": {
    "id": "bvJhjytfCuO2"
   },
   "outputs": [
    {
     "name": "stdout",
     "output_type": "stream",
     "text": [
      "[ 0  1  2  3  4  5  6  7  8  9 10 11 12 13 14 15 16 17 18 19 20 21 22 23] 1\n"
     ]
    }
   ],
   "source": [
    "# 예시 배열 생성하기\n",
    "array_1d = np.arange(24)\n",
    "print(array_1d, array_1d.ndim)"
   ]
  },
  {
   "cell_type": "code",
   "execution_count": 75,
   "metadata": {},
   "outputs": [
    {
     "name": "stdout",
     "output_type": "stream",
     "text": [
      "[[ 0  1  2  3  4  5]\n",
      " [ 6  7  8  9 10 11]\n",
      " [12 13 14 15 16 17]\n",
      " [18 19 20 21 22 23]] 2\n"
     ]
    }
   ],
   "source": [
    "# 1차원 배열의 shape을 2차원으로 변경하기\n",
    "array_2d = array_1d.reshape(4, 6)\n",
    "print(array_2d, array_2d.ndim)"
   ]
  },
  {
   "cell_type": "code",
   "execution_count": 76,
   "metadata": {},
   "outputs": [],
   "source": [
    "# 1차원 배열의 shape을 3차원으로 변경하기 (P)\n"
   ]
  },
  {
   "cell_type": "code",
   "execution_count": 77,
   "metadata": {},
   "outputs": [],
   "source": [
    "# 1차원 배열의 shape을 4차원으로 변경하기 (P)\n"
   ]
  },
  {
   "cell_type": "code",
   "execution_count": 78,
   "metadata": {},
   "outputs": [
    {
     "data": {
      "text/plain": [
       "'\\n에러메시지 예시: \\nExpected 2D array, got 1D array instead:\\narray=[1 5 8 ... 7 6 3]\\nReshape your data either using X.reshape(-1, 1) if your data has a single feature or X.reshape(1, -1) if it contains a single sample.\\n'"
      ]
     },
     "execution_count": 78,
     "metadata": {},
     "output_type": "execute_result"
    }
   ],
   "source": [
    "# 계산이 너무 어렵다면? -1을 활용하자! (P)\n",
    "\n",
    "# 참고) 위 방법은 reshape(1, -1)과 같이 2차원 배열꼴로 변경을 권하는 에러메시지에서 자주 볼 수 있음\n",
    "'''\n",
    "에러메시지 예시: \n",
    "Expected 2D array, got 1D array instead:\n",
    "array=[1 5 8 ... 7 6 3]\n",
    "Reshape your data either using X.reshape(-1, 1) if your data has a single feature or X.reshape(1, -1) if it contains a single sample.\n",
    "'''\n"
   ]
  },
  {
   "cell_type": "markdown",
   "metadata": {
    "id": "Nl6cb89TIJD6"
   },
   "source": [
    "## 5-2. resize 메서드, ravel 메서드, 그리고 flatten 메서드"
   ]
  },
  {
   "cell_type": "code",
   "execution_count": 79,
   "metadata": {
    "id": "E2JeRu9yIgTE"
   },
   "outputs": [
    {
     "name": "stdout",
     "output_type": "stream",
     "text": [
      "[0 1 2 3 4 5 6 7 8 9] 1\n"
     ]
    }
   ],
   "source": [
    "# 예시 배열 생성하기\n",
    "array_1d = np.arange(10)\n",
    "print(array_1d, array_1d.ndim)"
   ]
  },
  {
   "cell_type": "code",
   "execution_count": 80,
   "metadata": {},
   "outputs": [],
   "source": [
    "# 1차원 배열을 2차원으로 변경하기 (P)\n"
   ]
  },
  {
   "cell_type": "code",
   "execution_count": 81,
   "metadata": {},
   "outputs": [],
   "source": [
    "# 2차원 배열을 1차원으로 변경하기 (P)\n"
   ]
  },
  {
   "cell_type": "code",
   "execution_count": 82,
   "metadata": {
    "id": "7yl5ryHnUDbU"
   },
   "outputs": [],
   "source": [
    "# 1차원 배열을 2차원으로 변경하기 (P)\n"
   ]
  },
  {
   "cell_type": "markdown",
   "metadata": {
    "id": "3tmq4-NTC6kD"
   },
   "source": [
    "## 5-3. expand_dims() 메서드와 squeeze() 메서드"
   ]
  },
  {
   "cell_type": "code",
   "execution_count": 83,
   "metadata": {
    "id": "XvuUY8LgLMhc"
   },
   "outputs": [
    {
     "name": "stdout",
     "output_type": "stream",
     "text": [
      "[1 2] (2,)\n",
      "[[1 2]] (1, 2)\n"
     ]
    }
   ],
   "source": [
    "# 배열의 차원을 row축을 기준으로 한 차원 확장하기\n",
    "array_1d = np.array([1, 2])\n",
    "print(array_1d, array_1d.shape)\n",
    "\n",
    "array_2d_rowwise = np.expand_dims(array_1d, axis = 0)\n",
    "print(array_2d_rowwise, array_2d_rowwise.shape)"
   ]
  },
  {
   "cell_type": "code",
   "execution_count": 84,
   "metadata": {},
   "outputs": [],
   "source": [
    "# 배열의 차원을 column축을 기준으로 한 차원 확장하기 (P)\n"
   ]
  },
  {
   "cell_type": "code",
   "execution_count": 85,
   "metadata": {
    "id": "gw6HBQ9ZDNFd"
   },
   "outputs": [
    {
     "name": "stdout",
     "output_type": "stream",
     "text": [
      "[1 2] (2,)\n"
     ]
    }
   ],
   "source": [
    "# 배열의 차원을 row축을 기준으로 한 차원 축소하기\n",
    "array_1d_rowwise_reduced = np.squeeze(array_2d_rowwise, axis = 0)\n",
    "print(array_1d_rowwise_reduced, array_1d_rowwise_reduced.shape)"
   ]
  },
  {
   "cell_type": "code",
   "execution_count": 86,
   "metadata": {},
   "outputs": [],
   "source": [
    "# 배열의 차원을 column축을 기준으로 한 차원 축소하기 (P)\n"
   ]
  },
  {
   "cell_type": "code",
   "execution_count": 87,
   "metadata": {},
   "outputs": [],
   "source": [
    "# 3차원 배열을 1차원 배열로 한번에 축소하기 (P)\n"
   ]
  },
  {
   "cell_type": "markdown",
   "metadata": {
    "id": "aevtiA50X-4g"
   },
   "source": [
    "## 5-4. 전치행렬 (transpose matrix)"
   ]
  },
  {
   "cell_type": "markdown",
   "metadata": {},
   "source": [
    "전치행렬이란?\n",
    "\n",
    "<참고> 강의 교안 중 전치행렬 (transpose matrix)의 GIF 예시"
   ]
  },
  {
   "cell_type": "code",
   "execution_count": 88,
   "metadata": {
    "id": "cb6OQtomNIxh"
   },
   "outputs": [
    {
     "name": "stdout",
     "output_type": "stream",
     "text": [
      "[[1 4]\n",
      " [2 5]\n",
      " [3 6]]\n"
     ]
    }
   ],
   "source": [
    "# 행렬 A를 전치 행렬로 변환하기\n",
    "A = np.array([[1, 2, 3],\n",
    "              [4, 5, 6]])\n",
    "print(A.T)"
   ]
  },
  {
   "cell_type": "code",
   "execution_count": 89,
   "metadata": {},
   "outputs": [],
   "source": [
    "# 전치 행렬 활용하기 (P)\n",
    "\n",
    "# A.T와 A의 내적 (P)\n",
    "\n",
    "# A와 A.T의 내적 (P)\n",
    "\n"
   ]
  },
  {
   "cell_type": "code",
   "execution_count": 90,
   "metadata": {},
   "outputs": [
    {
     "name": "stdout",
     "output_type": "stream",
     "text": [
      "[[1 4]\n",
      " [2 5]\n",
      " [3 6]]\n"
     ]
    }
   ],
   "source": [
    "# NumPy에 사전 정의된 transpose 함수를 활용하여 계산하기\n",
    "print(np.transpose(A)) "
   ]
  },
  {
   "attachments": {},
   "cell_type": "markdown",
   "metadata": {},
   "source": [
    "전치행렬 외에도 NumPy의 linalg 모듈을 활용하면 역행렬을 구할 수 있습니다."
   ]
  },
  {
   "cell_type": "code",
   "execution_count": 91,
   "metadata": {},
   "outputs": [],
   "source": [
    "# NumPy의 linalg 모듈 활용하여 역행렬 구하기 (P)\n"
   ]
  },
  {
   "cell_type": "code",
   "execution_count": 92,
   "metadata": {},
   "outputs": [],
   "source": [
    "# NumPy의 linalg 모듈 활용하여 만든 역행렬 검증하기 (P)\n"
   ]
  },
  {
   "cell_type": "markdown",
   "metadata": {
    "id": "oZmRcK0uYiuW"
   },
   "source": [
    "---\n",
    "# 6. N차원 배열의 병합/분할"
   ]
  },
  {
   "cell_type": "markdown",
   "metadata": {
    "id": "SOSr3GU7VSZ7"
   },
   "source": [
    "## 6-1. N차원 배열에 원소 추가하기"
   ]
  },
  {
   "cell_type": "code",
   "execution_count": 93,
   "metadata": {
    "id": "WWhOltOVaDEo"
   },
   "outputs": [
    {
     "name": "stdout",
     "output_type": "stream",
     "text": [
      "[ 1  2  3  4  5  6  7  8  9 10 11 12]\n"
     ]
    }
   ],
   "source": [
    "# 1차원 배열 생성하기\n",
    "array_1d = np.arange(1, 13)\n",
    "print(array_1d)\n",
    "\n",
    "# 1차원 배열에 원소 추가하기 (P)\n"
   ]
  },
  {
   "cell_type": "code",
   "execution_count": 94,
   "metadata": {
    "id": "N34vfxdLc5WY"
   },
   "outputs": [
    {
     "name": "stdout",
     "output_type": "stream",
     "text": [
      "[[ 1  2  3  4]\n",
      " [ 5  6  7  8]\n",
      " [ 9 10 11 12]]\n"
     ]
    }
   ],
   "source": [
    "# 2차원 배열 생성하기\n",
    "array_2d = np.arange(1, 13).reshape(3, 4)\n",
    "print(array_2d)\n",
    "\n",
    "# 2차원 배열에 행을 기준으로 원소 추가하기 (P)\n"
   ]
  },
  {
   "cell_type": "code",
   "execution_count": 95,
   "metadata": {},
   "outputs": [],
   "source": [
    "# 2차원 배열에 열을 기준으로 원소 추가하기 (P)\n"
   ]
  },
  {
   "cell_type": "code",
   "execution_count": 96,
   "metadata": {},
   "outputs": [],
   "source": [
    "# 2차원 배열을 1차원으로 변형하여 원소 추가하기 (P)\n"
   ]
  },
  {
   "cell_type": "markdown",
   "metadata": {},
   "source": [
    "## 6-2. N차원 배열에서 원소 삭제하기"
   ]
  },
  {
   "cell_type": "code",
   "execution_count": 97,
   "metadata": {
    "id": "GtWFPrX4eK63"
   },
   "outputs": [],
   "source": [
    "# 1차원 배열에서 특정 원소를 위치를 기준으로 삭제하기 (P)\n"
   ]
  },
  {
   "cell_type": "code",
   "execution_count": 98,
   "metadata": {},
   "outputs": [],
   "source": [
    "# 특정 원소를 행을 기준으로 삭제하기 (P)\n"
   ]
  },
  {
   "cell_type": "markdown",
   "metadata": {},
   "source": [
    "## 6-3. append/concatenate 메서드를 활용하여 두 배열을 합치기"
   ]
  },
  {
   "cell_type": "markdown",
   "metadata": {},
   "source": [
    "서로 다른 두 배열을 1차원 배열로 병합하는 방법을 배워봅시다."
   ]
  },
  {
   "cell_type": "code",
   "execution_count": 99,
   "metadata": {},
   "outputs": [
    {
     "name": "stdout",
     "output_type": "stream",
     "text": [
      "[[1 2 3]\n",
      " [4 5 6]]\n",
      "[[ 7  8  9]\n",
      " [10 11 12]]\n"
     ]
    }
   ],
   "source": [
    "# 두 배열 생성하기\n",
    "array_1 = np.arange(1, 7).reshape(2, 3)\n",
    "array_2 = np.arange(7, 13).reshape(2, 3)\n",
    "print(array_1)\n",
    "print(array_2)\n",
    "\n",
    "# 두 배열을 1차원 배열로 병합하기 (P)\n"
   ]
  },
  {
   "cell_type": "markdown",
   "metadata": {},
   "source": [
    "이번에는 서로 다른 두 배열을 2차원 배열로 병합하는 방법을 배워봅시다.<br>\n",
    "먼저, 행을 기준으로 병합하는 방법입니다."
   ]
  },
  {
   "cell_type": "code",
   "execution_count": 100,
   "metadata": {},
   "outputs": [
    {
     "name": "stdout",
     "output_type": "stream",
     "text": [
      "[[1 2 3]\n",
      " [4 5 6]]\n",
      "[[ 7  8  9]\n",
      " [10 11 12]]\n"
     ]
    }
   ],
   "source": [
    "# 두 배열 생성하기\n",
    "array_1 = np.arange(1, 7).reshape(2, 3)\n",
    "array_2 = np.arange(7, 13).reshape(2, 3)\n",
    "print(array_1)\n",
    "print(array_2)\n",
    "\n",
    "# 두 배열을 행을 기준으로 병합하기 - append (이어붙이기) (P)\n"
   ]
  },
  {
   "cell_type": "code",
   "execution_count": 101,
   "metadata": {},
   "outputs": [],
   "source": [
    "# 두 배열을 행을 기준으로 병합하기 - concatenate (병합하기) (P)\n"
   ]
  },
  {
   "cell_type": "code",
   "execution_count": 102,
   "metadata": {},
   "outputs": [
    {
     "name": "stdout",
     "output_type": "stream",
     "text": [
      "[[ 1  2  3]\n",
      " [ 4  5  6]\n",
      " [ 7  8  9]\n",
      " [10 11 12]]\n"
     ]
    }
   ],
   "source": [
    "# NumPy에 정의된 vstack() 메서드 활용하기\n",
    "print(np.vstack((array_1, array_2))) # concatenate와 매우 유사"
   ]
  },
  {
   "cell_type": "markdown",
   "metadata": {},
   "source": [
    "이번에는 서로 다른 두 배열을 2차원 배열로 병합하는 방법을 배워봅시다."
   ]
  },
  {
   "cell_type": "code",
   "execution_count": 103,
   "metadata": {},
   "outputs": [
    {
     "name": "stdout",
     "output_type": "stream",
     "text": [
      "[[1 2 3]\n",
      " [4 5 6]]\n",
      "[[ 7  8  9]\n",
      " [10 11 12]]\n"
     ]
    }
   ],
   "source": [
    "# 두 배열 생성하기\n",
    "array_1 = np.arange(1, 7).reshape(2, 3)\n",
    "array_2 = np.arange(7, 13).reshape(2, 3)\n",
    "print(array_1)\n",
    "print(array_2)\n",
    "\n",
    "# 두 배열을 열을 기준으로 병합하기 - append (이어붙이기) (P)\n"
   ]
  },
  {
   "cell_type": "code",
   "execution_count": 104,
   "metadata": {},
   "outputs": [],
   "source": [
    "# 두 배열을 열을 기준으로 병합하기 - concatenate (병합하기) (P)\n"
   ]
  },
  {
   "cell_type": "code",
   "execution_count": 105,
   "metadata": {},
   "outputs": [
    {
     "name": "stdout",
     "output_type": "stream",
     "text": [
      "[[ 1  2  3  7  8  9]\n",
      " [ 4  5  6 10 11 12]]\n"
     ]
    }
   ],
   "source": [
    "# NumPy에 정의된 hstack() 메서드 활용하기\n",
    "print(np.hstack((array_1, array_2)))"
   ]
  },
  {
   "cell_type": "markdown",
   "metadata": {},
   "source": [
    "NumPy에서는 1, 2차원 배열 뿐 아니라 N차원 배열에 대해 병합이 가능합니다.\n",
    "\n",
    "단, 병합하고자 하는 각 N차원 배열 객체의 합칠 axis를 제외하고 나머지 axes의 shape이 전부 동일해야 합니다."
   ]
  },
  {
   "cell_type": "code",
   "execution_count": 106,
   "metadata": {},
   "outputs": [],
   "source": [
    "# N차원 배열 생성하기 (e.g. 3차원)\n",
    "a = np.arange(1, 28).reshape(3, 3, 3)\n",
    "b = np.arange(29, 38).reshape(3, 3, 1)\n",
    "\n",
    "# append 사용하기 (P)\n",
    "\n",
    "# concatenate 사용하기 (P)\n"
   ]
  },
  {
   "cell_type": "markdown",
   "metadata": {
    "id": "mUc7hEkx2itB"
   },
   "source": [
    "## 6-4. 한 배열을 두 개로 분할하기"
   ]
  },
  {
   "cell_type": "code",
   "execution_count": 107,
   "metadata": {},
   "outputs": [
    {
     "name": "stdout",
     "output_type": "stream",
     "text": [
      "[ 1  2  3  4  5  6  7  8  9 10 11 12]\n",
      "[array([1, 2, 3, 4]), array([5, 6, 7, 8]), array([ 9, 10, 11, 12])]\n"
     ]
    }
   ],
   "source": [
    "# 1차원 배열을 분할될 배열 갯수를 지정하여 분할하기\n",
    "array_1d = np.arange(1, 13)\n",
    "print(array_1d)\n",
    "print(np.split(array_1d, 3))"
   ]
  },
  {
   "cell_type": "code",
   "execution_count": 108,
   "metadata": {
    "id": "ce4gN6-z2r0G"
   },
   "outputs": [
    {
     "name": "stdout",
     "output_type": "stream",
     "text": [
      "[[ 1  2  3  4]\n",
      " [ 5  6  7  8]\n",
      " [ 9 10 11 12]]\n"
     ]
    }
   ],
   "source": [
    "# 2차원 배열 생성하기\n",
    "array_2d = np.arange(1, 13).reshape(3, 4)\n",
    "print(array_2d)\n",
    "\n",
    "\n",
    "# 한 배열을 행을 기준으로 두 개로 분할하기\n"
   ]
  },
  {
   "cell_type": "code",
   "execution_count": 109,
   "metadata": {},
   "outputs": [],
   "source": [
    "# NumPy에 정의된 vsplit() 메서드 활용하기\n"
   ]
  },
  {
   "cell_type": "code",
   "execution_count": 110,
   "metadata": {},
   "outputs": [
    {
     "name": "stdout",
     "output_type": "stream",
     "text": [
      "[[ 1  2  3  4]\n",
      " [ 5  6  7  8]\n",
      " [ 9 10 11 12]]\n"
     ]
    }
   ],
   "source": [
    "# 2차원 배열 생성하기\n",
    "array_2d = np.arange(1, 13).reshape(3, 4)\n",
    "print(array_2d)\n",
    "\n",
    "# 한 배열을 열을 기준으로 두 개로 분할하기\n"
   ]
  },
  {
   "cell_type": "code",
   "execution_count": 111,
   "metadata": {},
   "outputs": [],
   "source": [
    "# NumPy에 정의된 hsplit() 메서드 활용하기\n"
   ]
  },
  {
   "cell_type": "markdown",
   "metadata": {
    "id": "2Mscz4k2Mjla"
   },
   "source": [
    "---\n",
    "# 7. NumPy 실습 예제"
   ]
  },
  {
   "cell_type": "code",
   "execution_count": 112,
   "metadata": {
    "id": "rkBXHqdbPA6k"
   },
   "outputs": [],
   "source": [
    "import numpy as np"
   ]
  },
  {
   "cell_type": "markdown",
   "metadata": {
    "id": "wTXUGhUWPX91"
   },
   "source": [
    "## 예제 1\n",
    "원소가 모두 7인 (2, 3, 4) 형태의 numpy.array를 출력하시오."
   ]
  },
  {
   "cell_type": "code",
   "execution_count": 113,
   "metadata": {
    "id": "OMPs6EelNEGi"
   },
   "outputs": [],
   "source": [
    "# 답안\n"
   ]
  },
  {
   "cell_type": "markdown",
   "metadata": {
    "id": "n1bZJ0ZqPTm-"
   },
   "source": [
    "## 예제 2\n",
    "정수 -50 ~ 50의 범위 안의 난수로 이루어진 (4, 5) 형태의 numpy.array를 출력하고 행을 기준으로 오름차순 정렬한 결과와 전체 배열을 1차원 배열로 변경하여 오름차순 정렬한 결과를 출력하시오."
   ]
  },
  {
   "cell_type": "code",
   "execution_count": 114,
   "metadata": {
    "id": "MyHCkVLOOiD7"
   },
   "outputs": [],
   "source": [
    "# 답안\n"
   ]
  },
  {
   "cell_type": "markdown",
   "metadata": {
    "id": "XFzgr412S6fu"
   },
   "source": [
    "## 예제 3\n",
    "다음과 같은 파이썬 list가 존재한다. list안에 있는 각 numpy.array의 원소들의 평균값과 표준편차, 중앙값을 순서대로 구하여 구한 순서대로 원소가 이루어진 새로운 list를 구성하고 출력하시오.\n",
    "\n",
    "- 예시 : 각 배열의 평균값이 3.0, 4.0, 5.0이고 표준편차가 1.5, 1.7, 1.9이며 중앙값이 1.0, 2.0, 3.0 이라면 배열로 구성하여 [3.0, 1.5, 1.0, 4.0, 1.7, 2.0, 5.0, 1.9, 3.0] 으로 출력한다."
   ]
  },
  {
   "cell_type": "code",
   "execution_count": 115,
   "metadata": {
    "id": "YMS2zz__TGfW"
   },
   "outputs": [],
   "source": [
    "sample_list = [\n",
    "    np.full(3, 8),\n",
    "    np.array([33, -15, 26]),\n",
    "    np.linspace(17, 26, 3)\n",
    "    ]"
   ]
  },
  {
   "cell_type": "code",
   "execution_count": 116,
   "metadata": {},
   "outputs": [],
   "source": [
    "# 답안\n"
   ]
  },
  {
   "cell_type": "markdown",
   "metadata": {
    "id": "I6fj9c_taeW8"
   },
   "source": [
    "## 예제 4\n",
    "다음과 같은 numpy.array가 존재한다. 이 배열을 행을 기준으로 3개의 배열로 분할하여 분할된 각 배열의 원소들을 제곱한 결과를 다시 원본 배열에 행을 기준으로 병합하시오. (단, 마지막 출력 결과는 원본 배열과 차원이 같아야 한다)"
   ]
  },
  {
   "cell_type": "code",
   "execution_count": 117,
   "metadata": {
    "colab": {
     "base_uri": "https://localhost:8080/"
    },
    "id": "jw7RDVQ1aQn4",
    "outputId": "b7d93912-6b90-49b7-bdb0-6e0842e9b659"
   },
   "outputs": [
    {
     "name": "stdout",
     "output_type": "stream",
     "text": [
      "[[ 2  4  6]\n",
      " [ 8 10 12]\n",
      " [14 16 18]]\n"
     ]
    }
   ],
   "source": [
    "sample_array = np.arange(2, 20, 2).reshape((3, 3))\n",
    "print(sample_array)"
   ]
  },
  {
   "cell_type": "code",
   "execution_count": 118,
   "metadata": {},
   "outputs": [],
   "source": [
    "# 답안\n"
   ]
  },
  {
   "cell_type": "markdown",
   "metadata": {
    "id": "ZLWy8JDOPVps"
   },
   "source": [
    "## 예제 5\n",
    "삼각함수의 특수각(0deg, 30deg, 60deg, 90deg)을 numpy.array로 생성한 후 특수각에 해당하는 sin, cos, tan 값을 각각 구하여 파이썬 list에 담은 다음 해당 list에 들어있는 값들을 출력하시오. (단, 값이 무한대라면 \"INF\" 문자열을 출력할 것)\n",
    "\n",
    "참고) numpy의 삼각함수는 radian 값을 사용하기 때문에 degree를 radian으로 변경해야합니다."
   ]
  },
  {
   "cell_type": "code",
   "execution_count": 119,
   "metadata": {
    "id": "Re_fUv6uPVFf"
   },
   "outputs": [],
   "source": [
    "# 답안\n"
   ]
  },
  {
   "cell_type": "markdown",
   "metadata": {
    "id": "pJfpNqq8JR-I"
   },
   "source": [
    "## 예제 6\n",
    "numpy.array를 이용하여 다음 [예시 패턴]과 같이 출력하시오. (단, 출력 시 반복문을 사용하여 출력한다)\n",
    "\n",
    "[예시 패턴]<br>\n",
    "0 1 0 1 0 1 0   \n",
    "1 0 1 0 1 0 1   \n",
    "0 1 0 1 0 1 0   \n",
    "1 0 1 0 1 0 1   \n",
    "0 1 0 1 0 1 0   \n",
    "1 0 1 0 1 0 1   \n",
    "0 1 0 1 0 1 0 "
   ]
  },
  {
   "cell_type": "code",
   "execution_count": 120,
   "metadata": {
    "id": "cnmUwYbuJVNe"
   },
   "outputs": [],
   "source": [
    "# 답안\n"
   ]
  },
  {
   "cell_type": "markdown",
   "metadata": {
    "id": "6cJQxwQtHcHs"
   },
   "source": [
    "## 예제 7\n",
    "다음 두 행렬에 대하여 내적 연산을 수행한 결괏값을 출력하시오. (단, 결과의 소수점 아래는 제거한다)"
   ]
  },
  {
   "cell_type": "code",
   "execution_count": 121,
   "metadata": {
    "id": "-4ZbjfpqH65j"
   },
   "outputs": [],
   "source": [
    "array_1 = np.array([[2.1, 3.5],\n",
    "                 [4.2, 2.7],\n",
    "                 [2.3, 1.9]])\n",
    "array_2 = np.array([[5, 2, 3],\n",
    "                 [1, 3, 5]])"
   ]
  },
  {
   "cell_type": "code",
   "execution_count": 122,
   "metadata": {},
   "outputs": [],
   "source": [
    "# 답안\n"
   ]
  },
  {
   "cell_type": "markdown",
   "metadata": {},
   "source": [
    "## 예제 8\n",
    "조건 연산자를 활용한 Boolean 인덱싱을 이용하여 다음 배열의 원소들 중 2와 5의 배수만 추출한 결과를 오름차순 정렬하여 (2, 4) 행렬로 출력하시오."
   ]
  },
  {
   "cell_type": "code",
   "execution_count": 123,
   "metadata": {},
   "outputs": [],
   "source": [
    "array_1 = np.array([[1, 2, 3, 4],\n",
    "                    [5, 6, 7, 8],\n",
    "                    [9, 10, 11, 12]])"
   ]
  },
  {
   "cell_type": "code",
   "execution_count": 124,
   "metadata": {},
   "outputs": [],
   "source": [
    "# 답안\n"
   ]
  },
  {
   "cell_type": "markdown",
   "metadata": {},
   "source": [
    "## 예제 9\n",
    "10진수 100~150 사이에 존재하는 정수를 무작위로 30개 추출하여 (3, 10) 형태의 행렬로 만들고 행과 열을 전치한 결과를 출력하시오."
   ]
  },
  {
   "cell_type": "code",
   "execution_count": 125,
   "metadata": {},
   "outputs": [],
   "source": [
    "# 답안\n"
   ]
  },
  {
   "cell_type": "markdown",
   "metadata": {},
   "source": [
    "## 예제 10\n",
    "10진수 10~20 사이에 존재하는 실수형의 수를 무작위로 10,000개 추출하여 100개의 구간에 그래프로 시각화하시오.\n",
    "(단, 무작위 실수값은 균등한 비율로 추출해야 하며 그래프 시각화 도구는 pyplot 모듈을 사용할 것)"
   ]
  },
  {
   "cell_type": "code",
   "execution_count": 126,
   "metadata": {},
   "outputs": [],
   "source": [
    "# 답안\n"
   ]
  }
 ],
 "metadata": {
  "colab": {
   "provenance": []
  },
  "kernelspec": {
   "display_name": "Python 3",
   "language": "python",
   "name": "python3"
  },
  "language_info": {
   "codemirror_mode": {
    "name": "ipython",
    "version": 3
   },
   "file_extension": ".py",
   "mimetype": "text/x-python",
   "name": "python",
   "nbconvert_exporter": "python",
   "pygments_lexer": "ipython3",
   "version": "3.8.8"
  },
  "vscode": {
   "interpreter": {
    "hash": "635d12761ab8fbdafeafe5aaa9edb6cda993d58dd76847773a0da17c991d0dc5"
   }
  }
 },
 "nbformat": 4,
 "nbformat_minor": 1
}
