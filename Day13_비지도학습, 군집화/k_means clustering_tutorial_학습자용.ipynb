{
 "cells": [
  {
   "cell_type": "markdown",
   "id": "45fc48c2",
   "metadata": {},
   "source": [
    "# 비지도학습 실습 - k-means Clustering"
   ]
  },
  {
   "cell_type": "markdown",
   "id": "e687e5cf",
   "metadata": {},
   "source": [
    "이번 튜토리얼 에서는 다음과 같은 **프로세스 파이프라인**으로 주가 예측을 진행합니다.\n",
    "\n",
    "- Scikit-Learn의 Datasets 클래스를 활용하여 비지도학습용 데이터 구축\n",
    "- Scikit-Learn의 k-means Clustering 모듈을 활용하여 모델 생성 및 클러스터링 결과 확인\n",
    "- Elbow method와 silhouette score 사용하여 모델 최적화\n"
   ]
  },
  {
   "cell_type": "markdown",
   "id": "ac94eb0d",
   "metadata": {},
   "source": [
    "# 1. Import Library"
   ]
  },
  {
   "cell_type": "code",
   "execution_count": null,
   "id": "d47aa203",
   "metadata": {
    "scrolled": false
   },
   "outputs": [],
   "source": [
    "# 필요 라이브러리 설치 및 확인 \n",
    "# 데이터를 정리하기 위한 라이브러리 호출\n",
    "\n",
    "# 데이터를 계산하기 위한 라이브러리 호출\n",
    "\n",
    "# 데이터를 plotting하기 위한 라이브러리 2개 호출\n",
    "\n",
    "\n",
    "# 데이터를 분석하기 위한 라이브러리 호출\n"
   ]
  },
  {
   "cell_type": "code",
   "execution_count": null,
   "id": "7f225927",
   "metadata": {},
   "outputs": [],
   "source": [
    "# 필요 라이브러리 호출\n",
    "# 위에서 확인한 4가지를 호출해 봅시다"
   ]
  },
  {
   "cell_type": "code",
   "execution_count": null,
   "id": "2aea17e1",
   "metadata": {},
   "outputs": [],
   "source": [
    "# Scikit-learn에서 필요한 라이브러리들을 호출해봅시다.\n",
    "# 데이터셋과 KMeans 라이브러리를 호출해 봅시다.\n",
    "\n",
    "# 클러스터링의 평가를 위한 라이브러리를 호출해 봅시다.\n"
   ]
  },
  {
   "cell_type": "markdown",
   "id": "eb2df507",
   "metadata": {},
   "source": [
    "# 2. Data Load"
   ]
  },
  {
   "cell_type": "markdown",
   "id": "1c156f9c",
   "metadata": {},
   "source": [
    "- 기계학습에서 가장 기본적으로 사용되는 데이터인 iris를 사용해봅시다"
   ]
  },
  {
   "cell_type": "code",
   "execution_count": null,
   "id": "06f00c0b",
   "metadata": {},
   "outputs": [],
   "source": [
    "# 데이터셋에서 iris를 호출해 봅시다.\n"
   ]
  },
  {
   "cell_type": "code",
   "execution_count": null,
   "id": "d498eba5",
   "metadata": {},
   "outputs": [],
   "source": [
    "# iris 데이터 셋을 확인해 봅시다.\n"
   ]
  },
  {
   "cell_type": "code",
   "execution_count": null,
   "id": "4b59e38d",
   "metadata": {},
   "outputs": [],
   "source": [
    "# 가시화를 위해 우선 두개의 피쳐만을 선택해 봅시다\n"
   ]
  },
  {
   "cell_type": "code",
   "execution_count": null,
   "id": "8747c08c",
   "metadata": {},
   "outputs": [],
   "source": [
    "# 가시화 결과에 좌우 여백을 주어 봅시다\n",
    "# 가시화 결과에 상하 여백을 주어 봅시다"
   ]
  },
  {
   "cell_type": "code",
   "execution_count": null,
   "id": "be12c1de",
   "metadata": {},
   "outputs": [],
   "source": [
    "# (8,6)크기로 그래프를 그려봅시다\n",
    "\n",
    "# 그래프 초기화\n",
    "\n",
    "# Plot the training points\n",
    "\n",
    "#그래프 좌우/상하 길이 결정\n",
    "\n",
    "# 그래프 눈금은 없도록 결정\n",
    "\n",
    "# 그래프 출력\n"
   ]
  },
  {
   "cell_type": "markdown",
   "id": "c820ffcd",
   "metadata": {},
   "source": [
    "# 3. Model Building"
   ]
  },
  {
   "cell_type": "code",
   "execution_count": null,
   "id": "e51eb72c",
   "metadata": {},
   "outputs": [],
   "source": [
    "#Kmeans 모듈을 호출합니다\n"
   ]
  },
  {
   "cell_type": "code",
   "execution_count": null,
   "id": "9d200630",
   "metadata": {},
   "outputs": [],
   "source": [
    "#Kmeans 모듈에 데이터를 입력합니다.\n"
   ]
  },
  {
   "cell_type": "code",
   "execution_count": null,
   "id": "36469e5e",
   "metadata": {},
   "outputs": [],
   "source": [
    "#입력된 결과를 그래프로 표현합니다.\n"
   ]
  },
  {
   "cell_type": "code",
   "execution_count": null,
   "id": "a027e38f",
   "metadata": {},
   "outputs": [],
   "source": [
    "# 모든 피쳐의 데이터를 선택해 봅시다\n"
   ]
  },
  {
   "cell_type": "code",
   "execution_count": null,
   "id": "8963cee7",
   "metadata": {
    "scrolled": true
   },
   "outputs": [],
   "source": [
    "# 최적의 k가 3이 맞는지 확인하기 위해 elbow method를 사용\n"
   ]
  },
  {
   "cell_type": "code",
   "execution_count": null,
   "id": "e97391ec",
   "metadata": {},
   "outputs": [],
   "source": [
    "# 또는 silhouette_score를 사용하여 확인하기도 함\n"
   ]
  },
  {
   "cell_type": "code",
   "execution_count": null,
   "id": "887b9d72",
   "metadata": {},
   "outputs": [],
   "source": [
    "# 가상의 데이터 군집을 만들기 위한 데이터 포인터 호출\n",
    "\n",
    "#1500개의 가상의 데이터를 생성\n",
    "\n",
    "# 모든 데이터의 한쪽 분산만을 변형 (Anisotropic blobs)\n",
    "\n",
    "# 모든 데이터 포인트를 생성시 전체 분산을 변형\n",
    "\n",
    "#데이터 생성시의 사이즈를 변형\n"
   ]
  },
  {
   "cell_type": "code",
   "execution_count": null,
   "id": "1500143b",
   "metadata": {},
   "outputs": [],
   "source": [
    "#앞서 생성된 데이터들의 가시화"
   ]
  },
  {
   "cell_type": "code",
   "execution_count": null,
   "id": "b0088b74",
   "metadata": {},
   "outputs": [],
   "source": [
    "#4가지에 대한 가시화를 수행하여봅시다.\n",
    "\n",
    "#클러스터의 수가 2개라면?\n",
    "\n",
    "#나머지 3가지 경우에 대한 클러스터링 ㄱ ㅕㄹ과\n"
   ]
  },
  {
   "cell_type": "code",
   "execution_count": null,
   "id": "d7431fa8",
   "metadata": {},
   "outputs": [],
   "source": [
    "# 최적의 k가 3이 맞는지 확인하기 위해 elbow method를 사용\n"
   ]
  },
  {
   "cell_type": "code",
   "execution_count": null,
   "id": "2c475fc2",
   "metadata": {},
   "outputs": [],
   "source": [
    "#최적 클러스터 갯수로 클러스터링\n"
   ]
  }
 ],
 "metadata": {
  "kernelspec": {
   "display_name": "Python 3 (ipykernel)",
   "language": "python",
   "name": "python3"
  },
  "language_info": {
   "codemirror_mode": {
    "name": "ipython",
    "version": 3
   },
   "file_extension": ".py",
   "mimetype": "text/x-python",
   "name": "python",
   "nbconvert_exporter": "python",
   "pygments_lexer": "ipython3",
   "version": "3.8.16"
  }
 },
 "nbformat": 4,
 "nbformat_minor": 5
}
