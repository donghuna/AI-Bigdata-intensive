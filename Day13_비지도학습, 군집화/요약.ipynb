{
 "cells": [
  {
   "attachments": {},
   "cell_type": "markdown",
   "id": "e687e5cf",
   "metadata": {},
   "source": [
    "# Clustering\n",
    "- 비지도 학습  \n",
    "- 비지도 학습은 클러스터링만 있는듯  \n",
    "\n",
    "### 1. K-means clustering\n",
    "- 임의의 데이터를 선택해서 클러스터링 하고, 그 중심점으로 바꿔서 다시 클러스터링 하는 작업.  \n",
    "\n",
    "### 2. Hierarchical clustering\n",
    "- 군집간의 거리를 계산하면서, 가까운 애들끼리 묶어 나간다.  \n",
    "- 하나씩 묶여 나가기 때문에, 트리형태로 표현 가능  \n",
    "\n",
    "### 3. DBSCAN\n",
    "- 스마일 모양 예제  \n",
    "- 일정 거리(eps)내에 몇개의 포인트(min samples)가 있는지 보는것.  \n",
    "- 몰려 있으면 하나의 군집으로.. 모양과 상관없음."
   ]
  },
  {
   "cell_type": "code",
   "execution_count": 3,
   "id": "7007bd23",
   "metadata": {},
   "outputs": [],
   "source": [
    "import pandas as pd\n",
    "import numpy as np\n",
    "import matplotlib.pyplot as plt\n",
    "import seaborn as sns\n",
    "\n",
    "from sklearn import datasets\n",
    "from sklearn.cluster import KMeans\n",
    "\n",
    "# 클러스터링의 평가를 위한 라이브러리를 호출해 봅시다.\n",
    "from sklearn import metrics"
   ]
  },
  {
   "attachments": {},
   "cell_type": "markdown",
   "id": "631da13f",
   "metadata": {},
   "source": [
    "### 1. K-means clustering"
   ]
  },
  {
   "cell_type": "code",
   "execution_count": null,
   "id": "fa05c27e",
   "metadata": {},
   "outputs": [],
   "source": [
    "iris = datasets.load_iris()\n",
    "X = iris.data\n",
    "\n",
    "kmeans = KMeans(n_init='auto', n_clusters=3)\n",
    "# y_pred = KMeans(n_init=\"auto\", n_clusters=2).fit_predict(X)\n",
    "# y_pred = KMeans(n_init=\"auto\", n_clusters=3).fit_predict(X)\n",
    "# y_pred = KMeans(n_init=\"auto\", n_clusters=3).fit_predict(X)\n",
    "# y_pred = KMeans(n_init=\"auto\", n_clusters=3).fit_predict(X)\n",
    "y_pred = kmeans.fit_predict(X)\n",
    "\n",
    "plt.scatter(X[:, 0], X[:, 1], c=y_pred)"
   ]
  },
  {
   "cell_type": "code",
   "execution_count": null,
   "id": "2fca88d4",
   "metadata": {},
   "outputs": [],
   "source": [
    "# 최적의 k가 3이 맞는지 확인하기 위해 elbow method를 사용\n",
    "tot = []\n",
    "for k in range(2, 10):\n",
    "    kmeans = KMeans(n_init='auto', n_clusters=k)\n",
    "    kmeans.fit(X)\n",
    "    tot.append(kmeans.inertia_) # 뭐지\n",
    "\n",
    "fig = plt.figure(figsize=(15, 5))\n",
    "plt.plot(range(2, 10), tot)\n",
    "plt.grid(True)\n",
    "plt.title('Elbow curve')"
   ]
  },
  {
   "attachments": {},
   "cell_type": "markdown",
   "id": "247b07d0",
   "metadata": {},
   "source": [
    "### 2. Hierarchical clustering"
   ]
  },
  {
   "cell_type": "code",
   "execution_count": 8,
   "id": "05949892",
   "metadata": {},
   "outputs": [
    {
     "name": "stdout",
     "output_type": "stream",
     "text": [
      "[0 2 2 2 1 1 1 2 0 0 2 2 1 0 1 1 1 0 2 2 1 2 1 0 2 1 1 0 0 1 0 0 1 0 2 1 2\n",
      " 2 2 1 1 2 0 2 2 1 0 0 0 0 2 1 1 1 0 1 2 2 0 0 2 1 1 2 2 1 0 1 0 2 2 2 1 0\n",
      " 0 2 1 1 0 2 0 2 2 1 0 0 0 0 2 0 1 0 0 2 2 1 1 0 1 0]\n"
     ]
    }
   ],
   "source": [
    "import pandas as pd\n",
    "import numpy as np\n",
    "import matplotlib.pyplot as plt\n",
    "from sklearn.cluster import AgglomerativeClustering\n",
    "from sklearn.datasets import make_blobs, load_iris\n",
    "from sklearn.datasets import load_iris\n",
    "from sklearn.metrics import adjusted_rand_score\n",
    "from sklearn.preprocessing import StandardScaler, MinMaxScaler\n",
    "\n",
    "X, y = make_blobs(random_state=1)\n",
    "\n",
    "# 스케일 적용..\n",
    "# scaler = StandardScaler()\n",
    "# scaler = MinMaxScaler()\n",
    "# X_scaled = scaler.fit_transform(X)\n",
    "\n",
    "agg = AgglomerativeClustering(n_clusters=3) # linkage= ['ward', 'average', 'single', 'complete']\n",
    "agg.fit(X)\n",
    "\n",
    "assignments_X = agg.labels_     # 분류된 값\n",
    "print(assignments_X)\n",
    "\n"
   ]
  },
  {
   "attachments": {},
   "cell_type": "markdown",
   "id": "360623af",
   "metadata": {},
   "source": [
    "### 3. DBSCAN"
   ]
  },
  {
   "cell_type": "code",
   "execution_count": null,
   "id": "03b9c8d9",
   "metadata": {},
   "outputs": [],
   "source": [
    "import pandas as pd\n",
    "import numpy as np\n",
    "import matplotlib.pyplot as plt\n",
    "from sklearn.cluster import DBSCAN\n",
    "from sklearn.datasets import make_blobs, load_iris\n",
    "from sklearn.datasets import load_iris\n",
    "from sklearn.metrics import adjusted_rand_score\n",
    "from sklearn.preprocessing import StandardScaler, MinMaxScaler\n",
    "\n",
    "X, y = make_blobs(random_state=0, n_samples=12)\n",
    "\n",
    "dbscan = DBSCAN()\n",
    "# dbscan = DBSCAN(eps = eps, min_samples = min_samples)\n",
    "dbscan.fit(X)\n",
    "\n",
    "assignments_X = dbscan.labels_\n",
    "print(assignments_X)"
   ]
  }
 ],
 "metadata": {
  "kernelspec": {
   "display_name": "Python 3 (ipykernel)",
   "language": "python",
   "name": "python3"
  },
  "language_info": {
   "codemirror_mode": {
    "name": "ipython",
    "version": 3
   },
   "file_extension": ".py",
   "mimetype": "text/x-python",
   "name": "python",
   "nbconvert_exporter": "python",
   "pygments_lexer": "ipython3",
   "version": "3.10.10"
  }
 },
 "nbformat": 4,
 "nbformat_minor": 5
}
