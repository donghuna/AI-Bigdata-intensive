{
 "cells": [
  {
   "attachments": {},
   "cell_type": "markdown",
   "metadata": {},
   "source": [
    "# Pandas를 활용한 데이터 분석"
   ]
  },
  {
   "attachments": {},
   "cell_type": "markdown",
   "metadata": {},
   "source": [
    "## 강의를 시작하며\n",
    "본 파일에는 'Pandas를 활용한 데이터 분석' 강의를 진행하며 활용한 주제들이 표시되어 있습니다.\n",
    "\n",
    "우선 강의를 수강하며 스스로 주어진 문제에 적합한 코드를 작성해보세요.\n",
    "또한 복사본을 하나 만들어 강의가 끝난 뒤에도 스스로 채워넣으며 복습용으로 활용하여도 좋습니다.\n",
    "\n",
    "본 강의는 학생 중심의 학습 환경을 조성하기 위하여 학습자 중심의 학습과 학습자-교수자 간 적극적인 상호 소통을 지향합니다.\n",
    "강의 중 모르는 부분이 있다면 교수자에게 편히 질문해주시기 바랍니다."
   ]
  },
  {
   "cell_type": "markdown",
   "metadata": {},
   "source": [
    "---\n",
    "# 0. 파이썬 실습 환경 구성\n",
    "본 파일은 Python 3 설치 환경을 필요로 합니다."
   ]
  },
  {
   "attachments": {},
   "cell_type": "markdown",
   "metadata": {},
   "source": [
    "# 1. 파이썬 기초 복습 (1) - 자료형, 자료 입출력"
   ]
  },
  {
   "attachments": {},
   "cell_type": "markdown",
   "metadata": {},
   "source": [
    "## 1-1. 자료형"
   ]
  },
  {
   "attachments": {},
   "cell_type": "markdown",
   "metadata": {},
   "source": [
    "다양한 자료형의 변수를 선언해봅시다.\n",
    "\n",
    "<참고> 강의 교안 중 자료형 정리\n",
    "\n",
    "* 불변형 자료형: 정수형, 실수형, 문자열, 튜플, 불형\n",
    "* 변형 자료형: 리스트, 딕셔너리"
   ]
  },
  {
   "cell_type": "code",
   "execution_count": 1,
   "metadata": {},
   "outputs": [
    {
     "name": "stdout",
     "output_type": "stream",
     "text": [
      "Hello World\n"
     ]
    }
   ],
   "source": [
    "# 파이썬 기초 - print 함수: 괄호 안의 내용 (변수)를 출력하기\n",
    "print('Hello World')"
   ]
  },
  {
   "cell_type": "code",
   "execution_count": 2,
   "metadata": {},
   "outputs": [
    {
     "name": "stdout",
     "output_type": "stream",
     "text": [
      "1\n",
      "<class 'int'>\n"
     ]
    }
   ],
   "source": [
    "# 정수형 변수\n",
    "var = 1 # 파이썬은 자동으로 변수의 형식을 인식하고 부여함\n",
    "print(var)\n",
    "print(type(var))"
   ]
  },
  {
   "cell_type": "code",
   "execution_count": 3,
   "metadata": {},
   "outputs": [
    {
     "name": "stdout",
     "output_type": "stream",
     "text": [
      "1.0\n",
      "<class 'float'>\n"
     ]
    }
   ],
   "source": [
    "# 실수형 변수\n",
    "var = 1.0\n",
    "print(var)\n",
    "print(type(var))"
   ]
  },
  {
   "cell_type": "code",
   "execution_count": 4,
   "metadata": {},
   "outputs": [
    {
     "name": "stdout",
     "output_type": "stream",
     "text": [
      "0b1\n",
      "<class 'str'>\n"
     ]
    }
   ],
   "source": [
    "# 이진수 \n",
    "var = bin(1)\n",
    "print(var)\n",
    "print(type(var))"
   ]
  },
  {
   "cell_type": "code",
   "execution_count": 5,
   "metadata": {},
   "outputs": [
    {
     "name": "stdout",
     "output_type": "stream",
     "text": [
      "1\n",
      "<class 'str'>\n"
     ]
    }
   ],
   "source": [
    "# 문자형 변수\n",
    "var = '1'\n",
    "print(var)\n",
    "print(type(var))"
   ]
  },
  {
   "cell_type": "code",
   "execution_count": 6,
   "metadata": {},
   "outputs": [
    {
     "name": "stdout",
     "output_type": "stream",
     "text": [
      "True\n",
      "<class 'bool'>\n",
      "True\n",
      "<class 'bool'>\n"
     ]
    }
   ],
   "source": [
    "# 불형 변수\n",
    "var = True\n",
    "print(var)\n",
    "print(type(var))\n",
    "\n",
    "# 불형은 숫자로도 표현 가능\n",
    "var = bool(1)\n",
    "print(var)\n",
    "print(type(var))\n",
    "# 퀴즈) 1은 True, 0은 False, 그렇다면 0과 1이 아닌 다른 숫자들은?\n",
    "# 답안) True"
   ]
  },
  {
   "attachments": {},
   "cell_type": "markdown",
   "metadata": {},
   "source": [
    "파이썬에서는 자료형의 형식을 강제로 지정하고 변경할 수 있습니다."
   ]
  },
  {
   "cell_type": "code",
   "execution_count": 7,
   "metadata": {},
   "outputs": [],
   "source": [
    "# 정수형 변수 생성하기\n",
    "\n",
    "# 실수형으로 변환하기\n",
    "\n",
    "# 실수형 변수를 반올림하기\n",
    "\n",
    "# 문자형으로 변환하기\n",
    "\n",
    "# 불형으로 변환하기\n",
    "\n",
    "# 정수형으로 다시 변환하기\n"
   ]
  },
  {
   "attachments": {},
   "cell_type": "markdown",
   "metadata": {},
   "source": [
    "### 1-1-1. 수치형\n",
    "지금부터는 수치형 (numeric) 자료형에 대해 배워보겠습니다.<br>\n",
    "수치형 자료형의 종류로는 정수 (integer), 실수 (float), 그리고 복소수 (complex) 자료형이 있습니다."
   ]
  },
  {
   "cell_type": "code",
   "execution_count": 8,
   "metadata": {},
   "outputs": [
    {
     "name": "stdout",
     "output_type": "stream",
     "text": [
      "<class 'int'>\n",
      "<class 'float'>\n",
      "<class 'complex'>\n"
     ]
    }
   ],
   "source": [
    "# 정수형\n",
    "print(type(-30))\n",
    "\n",
    "# 실수형\n",
    "print(type(-0.123))\n",
    "\n",
    "# 복소수형\n",
    "print(type(1 + 3j))"
   ]
  },
  {
   "attachments": {},
   "cell_type": "markdown",
   "metadata": {},
   "source": [
    "수치형 데이터에는 다양한 파이썬 기본 산술 연산자가 적용 가능합니다."
   ]
  },
  {
   "cell_type": "code",
   "execution_count": 9,
   "metadata": {},
   "outputs": [],
   "source": [
    "# 수치형 데이터 연산자 알아보기\n",
    "\n",
    "# 예시 데이터 생성하기\n",
    "a = 2\n",
    "b = 3\n",
    "\n",
    "# 더하기\n",
    "\n",
    "# 빼기\n",
    "\n",
    "# 곱하기\n",
    "\n",
    "# 나누기\n",
    "\n",
    "# 제곱하기\n",
    "\n",
    "# 나눗셈의 몫 구하기\n",
    "\n",
    "# 나눗셈의 나머지 구하기\n"
   ]
  },
  {
   "attachments": {},
   "cell_type": "markdown",
   "metadata": {},
   "source": [
    "기본 산술연산자에 등호를 응용하면 다양한 할당 연사자를 만들 수 있습니다."
   ]
  },
  {
   "cell_type": "code",
   "execution_count": 10,
   "metadata": {},
   "outputs": [],
   "source": [
    "# 수치형 데이터 연산자 알아보기\n",
    "\n",
    "# 예시 데이터 생성하기\n",
    "a = 2\n",
    "b = 3\n",
    "\n",
    "# 더하기에 등호 응용: +=\n",
    "\n",
    "# 빼기에 등호 응용: -=\n",
    "\n",
    "# 곱하기에 등호 응용: *=\n",
    "\n",
    "# 나누기에 등호 응용: /=\n",
    "\n",
    "# 제곱하기에 등호 응용: **=\n",
    "\n",
    "# 몫 구하기에 등호 응용: %=\n",
    "\n",
    "# 나머지 구하기에 등호 응용: //=\n"
   ]
  },
  {
   "attachments": {},
   "cell_type": "markdown",
   "metadata": {},
   "source": [
    "### 1-1-2. 부동소수점 실수형\n",
    "'float'형 또는 부동소수점 실수형에 대해 조금 더 알아봅시다. (IEEE 754 국제표준 기준)"
   ]
  },
  {
   "attachments": {},
   "cell_type": "markdown",
   "metadata": {},
   "source": [
    "*<참고>* 강의 교안 중 부동소수점 표현 형식 도표"
   ]
  },
  {
   "attachments": {},
   "cell_type": "markdown",
   "metadata": {},
   "source": [
    "유효숫자를 활용하여 실수를 표현하는 방식은 아래와 같습니다.\n",
    "\n",
    "$[유효숫자] e [지수] = [유효숫자] \\times 10^{[지수]}$"
   ]
  },
  {
   "cell_type": "code",
   "execution_count": 11,
   "metadata": {},
   "outputs": [],
   "source": [
    "# '[유효숫자]e[지수]' 표현방식을 활용하여 부동소수점 실수형 변수 표현하기\n"
   ]
  },
  {
   "cell_type": "code",
   "execution_count": 12,
   "metadata": {},
   "outputs": [],
   "source": [
    "# 유효숫자 e 지수를 활용하여 부동소수점 실수형 변수 표현하기\n"
   ]
  },
  {
   "cell_type": "code",
   "execution_count": 13,
   "metadata": {},
   "outputs": [],
   "source": [
    "# 부동소수점 특징: 32bit 표현방식이므로 유효숫자가 너무 클 경우 소수점 이하를 표현하지 못함\n"
   ]
  },
  {
   "attachments": {},
   "cell_type": "markdown",
   "metadata": {},
   "source": [
    "$0.1$은 십진법으로는 $0.1$로 표현 가능하지만, 이진법으로는 $0.000110011001100110011001100110011001100⋯_{(2)}$와 같이 표현해야 합니다.<br>\n",
    "float라는 32bit 저장공간에 무한한 수를 저장할 수 없으므로, 해당 수를 어림하여 저장합니다."
   ]
  },
  {
   "cell_type": "code",
   "execution_count": 14,
   "metadata": {},
   "outputs": [
    {
     "data": {
      "text/plain": [
       "0.10000000000000000555111512312578270211815834045410"
      ]
     },
     "execution_count": 14,
     "metadata": {},
     "output_type": "execute_result"
    }
   ],
   "source": [
    "# 노트북 인터페이스에서 결과가 소수점 50자리까지 보이도록 지정\n",
    "%precision 50\n",
    "0.1"
   ]
  },
  {
   "cell_type": "code",
   "execution_count": 15,
   "metadata": {},
   "outputs": [
    {
     "data": {
      "text/plain": [
       "0.1"
      ]
     },
     "execution_count": 15,
     "metadata": {},
     "output_type": "execute_result"
    }
   ],
   "source": [
    "# 원래대로 복구\n",
    "%precision %r\n",
    "0.1"
   ]
  },
  {
   "attachments": {},
   "cell_type": "markdown",
   "metadata": {},
   "source": [
    "그렇다면 0.1 + 0.2 == 0.3의 값이 `True`를 반환할 수 있도록 표현하는 방법은?"
   ]
  },
  {
   "cell_type": "code",
   "execution_count": 16,
   "metadata": {},
   "outputs": [],
   "source": [
    "# 답안\n"
   ]
  },
  {
   "attachments": {},
   "cell_type": "markdown",
   "metadata": {},
   "source": [
    "즉, 자료형의 형태에 따라 계산 결과가 달라질 수 있으므로, 자료형을 지정할 때에는 주의하여 지정해야 합니다."
   ]
  },
  {
   "cell_type": "code",
   "execution_count": 17,
   "metadata": {},
   "outputs": [],
   "source": [
    "# 실수를 정수로 변환하기\n"
   ]
  },
  {
   "cell_type": "code",
   "execution_count": 18,
   "metadata": {},
   "outputs": [],
   "source": [
    "# 정수를 실수로 변환하기\n"
   ]
  },
  {
   "attachments": {},
   "cell_type": "markdown",
   "metadata": {},
   "source": [
    "IEEE 754 표준에 따르면 우리는 '숫자가 아닌 값'과 '무한대의 값'을 표현할 수 있습니다.<br>\n",
    "이는 각각 `NaN`(Not a Number), 그리고 `Inf`(Infinity)라고 표현합니다.<br>\n",
    "파이썬에서는 다음과 같이 표현할 수 있습니다."
   ]
  },
  {
   "cell_type": "code",
   "execution_count": 19,
   "metadata": {},
   "outputs": [],
   "source": [
    "# NaN\n"
   ]
  },
  {
   "cell_type": "code",
   "execution_count": 20,
   "metadata": {},
   "outputs": [],
   "source": [
    "# Inf\n"
   ]
  },
  {
   "cell_type": "code",
   "execution_count": 21,
   "metadata": {},
   "outputs": [],
   "source": [
    "# -Inf\n"
   ]
  },
  {
   "attachments": {},
   "cell_type": "markdown",
   "metadata": {},
   "source": [
    "### 1-1-3. 문자열\n",
    "'string'형 또는 문자열 자료형에 대해 조금 더 알아봅시다."
   ]
  },
  {
   "cell_type": "code",
   "execution_count": 22,
   "metadata": {},
   "outputs": [
    {
     "name": "stdout",
     "output_type": "stream",
     "text": [
      "string\n",
      "string\n",
      "string\n",
      "string\n",
      "'string'\n",
      "\"string\"\n"
     ]
    }
   ],
   "source": [
    "# 문자열 표현 방법\n",
    "print('string')\n",
    "print('''string''')\n",
    "print(\"string\")\n",
    "print(\"\"\"string\"\"\")\n",
    "print(\"'string'\")\n",
    "print('\"string\"')"
   ]
  },
  {
   "attachments": {},
   "cell_type": "markdown",
   "metadata": {},
   "source": [
    "파이썬 문자열 자료형을 사용할 때에는 이스케이프 코드 (escape code)를 사용하여 특정 문자를 문자열에 포함시킬 수 있습니다."
   ]
  },
  {
   "attachments": {},
   "cell_type": "markdown",
   "metadata": {},
   "source": [
    "<참고> 강의 교안 중 이스케이프 코드 도표"
   ]
  },
  {
   "cell_type": "code",
   "execution_count": 23,
   "metadata": {},
   "outputs": [],
   "source": [
    "# 이스케이프 코드 활용 예시\n"
   ]
  },
  {
   "attachments": {},
   "cell_type": "markdown",
   "metadata": {},
   "source": [
    "문자열 자료형은 문자열 내에 특정 값을 대입할 수 있게 하는 기능을 제공하는데, 이를 포매팅 (formatting)이라고 합니다."
   ]
  },
  {
   "attachments": {},
   "cell_type": "markdown",
   "metadata": {},
   "source": [
    "<참고> 강의 교안 중 포맷 코드 도표"
   ]
  },
  {
   "cell_type": "code",
   "execution_count": 24,
   "metadata": {},
   "outputs": [],
   "source": [
    "# 포맷 코드 활용 예시\n",
    "number = 3\n",
    "day = 'five'\n",
    "\n",
    "# 방법 1\n",
    "\n",
    "# 방법 2\n"
   ]
  },
  {
   "attachments": {},
   "cell_type": "markdown",
   "metadata": {},
   "source": [
    "문자열 자료형은 아래와 같은 연산이 가능합니다."
   ]
  },
  {
   "cell_type": "code",
   "execution_count": 25,
   "metadata": {},
   "outputs": [],
   "source": [
    "# 문자열 자료형의 연산\n",
    "a = 'string'; b = 'text'\n",
    "\n",
    "# 더하기 (concatenate)\n",
    "\n",
    "# 곱하기 (반복)\n",
    "\n",
    "# 문자열의 길이 계산\n"
   ]
  },
  {
   "attachments": {},
   "cell_type": "markdown",
   "metadata": {},
   "source": [
    "문자열의 또 다른 특징으로는\n",
    "\n",
    "1. 접근 또는 인덱싱 (indexing), 그리고\n",
    "2. 특정 구간 추출 또는 슬라이싱 (slicing)\n",
    "\n",
    "이 가능하다는 점입니다."
   ]
  },
  {
   "cell_type": "code",
   "execution_count": 26,
   "metadata": {},
   "outputs": [],
   "source": [
    "# 문자열 인덱싱 예시\n",
    "a = 'string'\n",
    "\n",
    "# 문자열 슬라이싱 예시\n",
    "b = '971231-2******'\n",
    "\n",
    "# 불변형 자료형이므로 인덱싱을 통한 assignment는 불가능\n"
   ]
  },
  {
   "attachments": {},
   "cell_type": "markdown",
   "metadata": {},
   "source": [
    "문자열에서 사용할 수 있는 주요 내장 메서드는 아래와 같습니다."
   ]
  },
  {
   "cell_type": "code",
   "execution_count": 27,
   "metadata": {},
   "outputs": [],
   "source": [
    "# 문자열 관련 메서드 알아보기\n",
    "a = ' sTring Text '\n",
    "\n",
    "# 괄호 안의 문자열이 객체 문자열에서 몇 번 나오는지 반환\n",
    "\n",
    "# 괄호 안의 문자열이 객체 문자열에서 어느 위치에 있는지 탐색하고 첫 결과 반환\n",
    "\n",
    "# 괄호 안의 문자열을 모두 대문자로 변환\n",
    "\n",
    "# 괄호 안의 문자열을 모두 소문자로 변환\n",
    "\n",
    "# 좌우의 공백 제거\n",
    "\n",
    "# 특정 문자열을 다른 문자열로 대체\n",
    "\n",
    "# 괄호 내의 문자열을 기준으로 쪼개서 리스트로 반환, 입력 값이 없을 경우 공백을 기준으로 나눔\n",
    "\n",
    "# 괄호 내의 문자열 사이에 앞에 객체로 지정한 문자열을 삽입\n",
    "\n",
    "# 참고: 문자열 내 문자는 수정/삭제가 불가\n"
   ]
  },
  {
   "attachments": {},
   "cell_type": "markdown",
   "metadata": {},
   "source": [
    "### 1-1-4. 리스트\n",
    "'list'형 또는 리스트 자료형에 대해 조금 더 알아봅시다."
   ]
  },
  {
   "attachments": {},
   "cell_type": "markdown",
   "metadata": {},
   "source": [
    "리스트는 `[]`으로 둘러싸인 데이터의 시퀀스입니다.<br>\n",
    "파이썬에서는 여러 자료형을 섞어서 리스트로 선언할 수 있음을 참고해주시기 바랍니다."
   ]
  },
  {
   "cell_type": "code",
   "execution_count": 28,
   "metadata": {},
   "outputs": [
    {
     "name": "stdout",
     "output_type": "stream",
     "text": [
      "[]\n",
      "[0, True, '2', 3]\n",
      "[1, [2], [3, 4]]\n"
     ]
    }
   ],
   "source": [
    "# 리스트 예시\n",
    "# 빈 리스트\n",
    "print([])\n",
    "\n",
    "# 일반적인 리스트\n",
    "print([0, True, '2', 3])\n",
    "\n",
    "# 리스트 안에 리스트\n",
    "print([1, [2], [3, 4]])"
   ]
  },
  {
   "attachments": {},
   "cell_type": "markdown",
   "metadata": {},
   "source": [
    "문자열과 같은 방식으로 리스트도 연산이 가능하고 인덱싱과 슬라이싱이 가능합니다.<br>\n",
    "다만 문자열과의 차이점은 리스트는 mutable (변형) 자료형이라는 점이므로, 인덱싱을 통해 원소를 변경할 수 있습니다."
   ]
  },
  {
   "cell_type": "code",
   "execution_count": 29,
   "metadata": {},
   "outputs": [],
   "source": [
    "# 리스트 자료형의 연산\n",
    "a = [1, 2, 3]; b = [4, 5, 6]\n",
    "\n",
    "# 더하기 (concatenate)\n",
    "\n",
    "# 곱하기 (반복)\n",
    "\n",
    "# 인덱싱을 통한 리스트 원소의 수정\n",
    "\n",
    "# 인덱싱을 통한 리스트 원소의 삭제\n"
   ]
  },
  {
   "attachments": {},
   "cell_type": "markdown",
   "metadata": {},
   "source": [
    "리스트와 관련해 사용할 수 있는 주요 함수는 아래와 같습니다."
   ]
  },
  {
   "cell_type": "code",
   "execution_count": 30,
   "metadata": {},
   "outputs": [],
   "source": [
    "# 리스트 관련 함수 알아보기\n",
    "a = [0, True, 2, '3', [4, 5], 6]\n",
    "b = ['a', 'b', 'A']\n",
    "\n",
    "# 리스트의 길이 계산\n",
    "\n",
    "# 리스트의 합계\n",
    "\n",
    "# 리스트의 최대값\n",
    "\n",
    "# 리스트의 최소값\n"
   ]
  },
  {
   "attachments": {},
   "cell_type": "markdown",
   "metadata": {},
   "source": [
    "리스트에서 사용할 수 있는 주요 내장 메서드는 아래와 같습니다."
   ]
  },
  {
   "cell_type": "code",
   "execution_count": 31,
   "metadata": {},
   "outputs": [],
   "source": [
    "# 리스트 관련 메서드 알아보기\n",
    "a = [2, 0, True, '3', [4, 5], 6]\n",
    "b = a[0:3]\n",
    "\n",
    "# 처음으로 등장한 괄호 안의 원소를 객체 리스트에서 삭제\n",
    "\n",
    "# 괄호 안의 원소가 객체 리스트에서 등장하는 횟수를 반환\n",
    "\n",
    "# 오름차순 정렬\n",
    "\n",
    "# 리스트의 순서를 반대로 바꿈\n",
    "a = [2, 0, True, '3', [4, 5], 6]\n"
   ]
  },
  {
   "attachments": {},
   "cell_type": "markdown",
   "metadata": {},
   "source": [
    "### 1-1-5. 튜플과 집합\n",
    "'tuple'형 또는 튜플 자료형, 그리고 'set'형 또는 집합 자료형에 대해 조금 더 알아봅시다."
   ]
  },
  {
   "attachments": {},
   "cell_type": "markdown",
   "metadata": {},
   "source": [
    "튜플은 `()`로 둘러싸인 데이터의 시퀀스이며 불변형 자료형입니다.<br>\n",
    "성질은 리스트와 거의 유사하여 인덱싱과 슬라이싱이 가능하나, 수정/변경/삭제는 불가능합니다."
   ]
  },
  {
   "cell_type": "code",
   "execution_count": 32,
   "metadata": {},
   "outputs": [
    {
     "name": "stdout",
     "output_type": "stream",
     "text": [
      "()\n",
      "(1, '2', (3, 4))\n",
      "(1, [2], (3, 4))\n"
     ]
    }
   ],
   "source": [
    "# 튜플 예시\n",
    "# 빈 튜플\n",
    "print(())\n",
    "\n",
    "# 일반적인 튜플\n",
    "print((1, '2', (3, 4)))\n",
    "\n",
    "# 튜플 안에 튜플\n",
    "print((1, [2], (3, 4)))"
   ]
  },
  {
   "attachments": {},
   "cell_type": "markdown",
   "metadata": {},
   "source": [
    "다음은 튜플의 연산입니다. 불변형이라는 점을 빼고는 리스트와 거의 동일한 것을 확인할 수 있습니다."
   ]
  },
  {
   "cell_type": "code",
   "execution_count": 33,
   "metadata": {},
   "outputs": [],
   "source": [
    "# 튜플 자료형의 연산\n",
    "a = (1, 2, 3); b = (4, 5, 6)\n",
    "\n",
    "# 더하기 (concatenate)\n",
    "\n",
    "# 곱하기 (반복)\n",
    "\n",
    "# 인덱싱을 통한 리스트 원소의 수정과 삭제가 불가능\n"
   ]
  },
  {
   "attachments": {},
   "cell_type": "markdown",
   "metadata": {},
   "source": [
    "튜플은 리스트를 다룰 수 있는 파이썬 함수와 리스트 내장 메서드 중 데이터를 수정/변경/삭제하는 것을 제외하고 모두 동일하게 사용 가능합니다. "
   ]
  },
  {
   "cell_type": "code",
   "execution_count": 34,
   "metadata": {},
   "outputs": [],
   "source": [
    "# 튜플 관련 함수 알아보기\n",
    "a = (0, True, 2, '3', [4, 5], 6)\n",
    "b = ('a', 'b', 'A')\n",
    "\n",
    "# 튜플의 길이 계산\n",
    "\n",
    "# 튜플의 합계\n",
    "\n",
    "# 튜플의 최대값\n",
    "\n",
    "# 튜플의 최소값\n"
   ]
  },
  {
   "cell_type": "code",
   "execution_count": 35,
   "metadata": {},
   "outputs": [],
   "source": [
    "# 튜플 관련 내장 메서드 알아보기\n",
    "a = (2, 0, True, '3', [4, 5], 6)\n",
    "b = a[0:3]\n",
    "\n",
    "# 괄호 안의 원소가 객체 튜플에서 등장하는 횟수를 반환\n",
    "\n",
    "# 튜플에서는 사용 불가능한 리스트 내장 메서드: 수정/추가/삭제\n"
   ]
  },
  {
   "attachments": {},
   "cell_type": "markdown",
   "metadata": {},
   "source": [
    "집합은 `set()`를 통해 변수로 선언이 가능하고, 집합의 원소들이 `{}`로 둘러싸인 데이터의 시퀀스로 표현됩니다.<br>\n",
    "집합의 원소에는 순서가 없고 중복을 허용하지 않습니다."
   ]
  },
  {
   "cell_type": "code",
   "execution_count": 36,
   "metadata": {},
   "outputs": [
    {
     "name": "stdout",
     "output_type": "stream",
     "text": [
      "{'g', 'm', 'a', 'n', 's', 'u'}\n"
     ]
    }
   ],
   "source": [
    "# 집합 예시\n",
    "a = set('samsung')\n",
    "print(a)"
   ]
  },
  {
   "attachments": {},
   "cell_type": "markdown",
   "metadata": {},
   "source": [
    "다음은 집합 관련 내장 메서드를 살펴보겠습니다."
   ]
  },
  {
   "cell_type": "code",
   "execution_count": 37,
   "metadata": {},
   "outputs": [],
   "source": [
    "# 집합 관련 내장 메서드 알아보기\n",
    "a = set('samsung')\n",
    "b = set(['a', 'b'])\n",
    "\n",
    "# 괄호 내 원소를 집합에 추가\n",
    "\n",
    "# 주어진 시퀀스 내 원소들을 집합의 원소로 추가\n",
    "\n",
    "# 괄호 내 원소를 집합에서 제거\n",
    "\n",
    "# 교집합\n",
    "\n",
    "# 합집합\n",
    "\n",
    "# 차집합\n"
   ]
  },
  {
   "attachments": {},
   "cell_type": "markdown",
   "metadata": {},
   "source": [
    "### 1-1-6. 딕셔너리 (dictionary)\n",
    "'dictionary' 또는 딕셔너리 자료형은 데이터가 key-value (키-값)의 쌍을 이루어 저장되는 자료구조입니다.<br>\n",
    "딕셔너리는 key를 통해 인덱싱하는 것이 특징이며, 집합의 원소처럼 key의 순서는 없고 key의 중복은 허용되지 않습니다."
   ]
  },
  {
   "attachments": {},
   "cell_type": "markdown",
   "metadata": {},
   "source": [
    "딕셔너리는 `dict()` 함수를 사용하거나 직접 {key1: value1, key2:value2, $\\cdot$}의 형태로 선언할 수 있습니다.<br>\n",
    "딕셔너리의 key로는 문자열, 정수, 실수, 불 자료형을 사용할 수 있습니다.<br>\n",
    "딕셔너리의 value로는 리스트, 딕셔너리를 포함한 모든 자료형을 사용할 수 있고, key를 통해 해당 key에 쌍을 이루는 value를 찾을 수 있습니다."
   ]
  },
  {
   "cell_type": "code",
   "execution_count": 38,
   "metadata": {},
   "outputs": [
    {
     "name": "stdout",
     "output_type": "stream",
     "text": [
      "{}\n",
      "{True: 1, 'b': 2, 3.1: 4}\n",
      "{True: 1, 'b': 2, 3: {'a': 1, 'b': 2}}\n"
     ]
    }
   ],
   "source": [
    "# 딕셔너리 예시\n",
    "# 빈 딕셔너리\n",
    "print({}) # 또는 print(dict())\n",
    "\n",
    "# 일반적인 딕셔너리\n",
    "print({True:1, 'b':2, 3.1:4})\n",
    "\n",
    "# 딕셔너리 안에 딕셔너리\n",
    "print({True:1, 'b':2, 3:{'a':1, 'b':2}})"
   ]
  },
  {
   "attachments": {},
   "cell_type": "markdown",
   "metadata": {},
   "source": [
    "딕셔너리는 다음 방법을 활용하여 선언이 가능합니다.\n",
    "* 딕셔너리 = dict(키1 = 값1, 키2 = 값2)\n",
    "* 딕셔너리 = dict(zip([키1, 키2], [값1, 값2]))\n",
    "* 딕셔너리 = dict([(키1, 값1), (키2, 값2)])\n",
    "* 딕셔너리 = dict({키1: 값1, 키2: 값2})"
   ]
  },
  {
   "cell_type": "code",
   "execution_count": 39,
   "metadata": {},
   "outputs": [
    {
     "data": {
      "text/plain": [
       "\"\\n아래 예시와 같은 딕셔너리를 생성해보세요. *'key': value 순으로 나열됨\\n\\n예시:\\n{'attack': 6, 'armor': 0, 'range': 4, 'attack_speed': 15}\\n\\n\""
      ]
     },
     "execution_count": 39,
     "metadata": {},
     "output_type": "execute_result"
    }
   ],
   "source": [
    "# 딕셔너리 생성 방법 4가지\n",
    "'''\n",
    "아래 예시와 같은 딕셔너리를 생성해보세요. *'key': value 순으로 나열됨\n",
    "\n",
    "예시:\n",
    "{'attack': 6, 'armor': 0, 'range': 4, 'attack_speed': 15}\n",
    "\n",
    "'''\n",
    "\n",
    "# 방법 1.\n",
    "\n",
    "# 방법 2.\n",
    "\n",
    "# 방법 3.\n",
    "\n",
    "# 방법 4.\n"
   ]
  },
  {
   "attachments": {},
   "cell_type": "markdown",
   "metadata": {},
   "source": [
    "다음은 딕셔너리 관련 내장 메서드를 살펴보겠습니다."
   ]
  },
  {
   "cell_type": "code",
   "execution_count": 40,
   "metadata": {},
   "outputs": [],
   "source": [
    "# 딕셔너리 관련 내장 메서드 알아보기\n",
    "a = {'attack': 6, 'armor': 0, 'range': 4, 'attack_speed': 15}\n",
    "\n",
    "# 딕셔너리의 모든 key를 반환\n",
    "\n",
    "# 딕셔너리의 모든 value를 반환\n",
    "\n",
    "# 딕셔너리의 모든 key-value 쌍을 반환 (tuple 형태로 반환)\n",
    "\n",
    "# X in Y: 해당 key(X)가 딕셔너리(Y)에 있는지 찾고, 그 결과를 논리값으로 반환\n",
    "\n",
    "# 딕셔너리를 비우기\n"
   ]
  },
  {
   "attachments": {},
   "cell_type": "markdown",
   "metadata": {},
   "source": [
    "### 1-1-7. 불 (boolean)\n",
    "'boolean' 또는 불 자료형은 `True` 또는 `False`의 논리값만을 가지는 이진 자료형입니다.<br>\n",
    "파이썬에서는 다양한 자료형을 `bool()` 함수를 통해 불 자료형 변수로 변환할 수 있습니다."
   ]
  },
  {
   "cell_type": "code",
   "execution_count": 41,
   "metadata": {},
   "outputs": [
    {
     "name": "stdout",
     "output_type": "stream",
     "text": [
      "True\n"
     ]
    }
   ],
   "source": [
    "# 불형 예시\n",
    "a = bool(1)\n",
    "print(a)"
   ]
  },
  {
   "attachments": {},
   "cell_type": "markdown",
   "metadata": {},
   "source": [
    "그러면 다양한 자료형을 불형으로 변환해봅시다."
   ]
  },
  {
   "cell_type": "code",
   "execution_count": 42,
   "metadata": {},
   "outputs": [],
   "source": [
    "# 정수형: 0 그리고 그 외\n",
    "\n",
    "# 실수형: 0.0 그리고 그 외\n",
    "\n",
    "# 문자열: '' 그리고 그 외\n",
    "\n",
    "# 리스트 / 딕셔너리 / 튜플: [] / {} / () 그리고 그 외\n",
    "\n",
    "# None\n"
   ]
  },
  {
   "attachments": {},
   "cell_type": "markdown",
   "metadata": {},
   "source": [
    "불 자료형의 연산은 다음과 같습니다."
   ]
  },
  {
   "cell_type": "code",
   "execution_count": 43,
   "metadata": {},
   "outputs": [],
   "source": [
    "# and 논리 연산\n",
    "\n",
    "# or 논리 연산\n",
    "\n",
    "# not 논리 연산\n"
   ]
  },
  {
   "attachments": {},
   "cell_type": "markdown",
   "metadata": {},
   "source": [
    "<심화><br>\n",
    "위 불 자료형의 연산에 쓰인 세 가지 논리 연산자 외에도 XOR (exclusive OR) 연산자를 정의할 수 있습니다.\n",
    "\n",
    "변수 a와 변수 b의 XOR 논리 연산은 a와 b가 같은 논리값이면 `True`를 반환, 그 외에는 (즉, 서로 다른 논리값이면) `False`를 반환합니다."
   ]
  },
  {
   "attachments": {},
   "cell_type": "markdown",
   "metadata": {},
   "source": [
    "실습: XOR 연산자는 파이썬 기본 함수로 정의되어있지 않습니다.<br>\n",
    "이를 직접 만들어봅시다."
   ]
  },
  {
   "cell_type": "code",
   "execution_count": 44,
   "metadata": {},
   "outputs": [],
   "source": [
    "# 실습: 주어진 변수 a와 b에 대해 XOR 연산자 만들기\n",
    "a = True; b = False\n",
    "\n",
    "# 답안\n"
   ]
  },
  {
   "cell_type": "markdown",
   "metadata": {},
   "source": [
    "## 1-2. 자료 입출력"
   ]
  },
  {
   "attachments": {},
   "cell_type": "markdown",
   "metadata": {},
   "source": [
    "### 1-2-1. 자료 쓰고 읽기"
   ]
  },
  {
   "attachments": {},
   "cell_type": "markdown",
   "metadata": {},
   "source": [
    "지금부터는 기본 파이썬 문법으로 파일을 새로 만들고 문장을 작성하는 방법을 배워보도록 합시다.\n",
    "\n",
    "파일을 만들고 작성하는 데에는 파이썬 open 함수를 사용할 수 있습니다.<br>\n",
    "`open()` 함수의 인자는 아래 설명된 것을 참고하며 이해하시면 좋겠습니다.\n",
    "* `r`: 읽기 전용 (수정 불가)\n",
    "* `w`: 파일을 새로 만들고, 기존 파일이 존재하면 덮어쓰기\n",
    "* `a`: `write()` 괄호 안에 적은 새 내용을 기존 파일 마지막에 추가(append)하기"
   ]
  },
  {
   "cell_type": "code",
   "execution_count": 45,
   "metadata": {},
   "outputs": [],
   "source": [
    "# 파일 만들고 문장 쓰기 예시\n"
   ]
  },
  {
   "attachments": {},
   "cell_type": "markdown",
   "metadata": {},
   "source": [
    "작성된 파일을 읽는 방법에는 아래의 함수들을 사용할 수 있습니다.\n",
    "* `readline()`: 줄바꿈, 개행을 뜻하는 이스케이프 코드 `\\n`을 기준으로 앞에서부터 하나의 문장을 선택\n",
    "* `readlines()`: 개행을 기준으로 문장을 리스트에 넣어 반환\n",
    "* `read()`: 파일의 전체 내용을 문자열로 반환"
   ]
  },
  {
   "cell_type": "code",
   "execution_count": 46,
   "metadata": {},
   "outputs": [],
   "source": [
    "# 파일 읽기 예시\n",
    "# 방법 1.\n"
   ]
  },
  {
   "cell_type": "code",
   "execution_count": 47,
   "metadata": {},
   "outputs": [],
   "source": [
    "# 파일 읽기 예시\n",
    "# 방법 2.\n"
   ]
  },
  {
   "cell_type": "code",
   "execution_count": 48,
   "metadata": {},
   "outputs": [],
   "source": [
    "# 파일 읽기 예시\n",
    "# 방법 3.\n"
   ]
  },
  {
   "attachments": {},
   "cell_type": "markdown",
   "metadata": {},
   "source": [
    "<심화> 위 방식에 `with`문을 사용하여 파일 읽기를 실행할 수 있습니다.\n",
    "\n",
    "```\n",
    "with <expression> as <variable>:\n",
    "\n",
    "<block>\n",
    "```\n",
    "\n",
    "만약 방법 3.에서 `text = file.read()` 줄에서 에러가 발생하면 file을 닫을 수 없게 됩니다.<br>\n",
    "하지만 위와 같은 `with`문의 형식을 취하면 에러가 발생하더라도 file을 자동으로 닫아주는 장점이 있습니다."
   ]
  },
  {
   "cell_type": "code",
   "execution_count": 49,
   "metadata": {},
   "outputs": [],
   "source": [
    "# 파일 읽기 예시\n",
    "# 방법 4.\n"
   ]
  },
  {
   "attachments": {},
   "cell_type": "markdown",
   "metadata": {},
   "source": [
    "### 1-2-2. 예외 처리"
   ]
  },
  {
   "attachments": {},
   "cell_type": "markdown",
   "metadata": {},
   "source": [
    "위에 묘사한 상황과 비슷하게, 파이썬에서 에러가 발생하였을 때에도 코드가 비정상적으로 종료되지 않고 에러에 대응하는 방법을 제시하여 코드가 정상적으로 종료될 수 있도록 하는 것을 '예외 처리'라고 합니다."
   ]
  },
  {
   "attachments": {},
   "cell_type": "markdown",
   "metadata": {},
   "source": [
    "먼저 파이썬의 `try-except` 구조를 통해 예외 처리하는 방법을 배워봅시다."
   ]
  },
  {
   "cell_type": "code",
   "execution_count": 50,
   "metadata": {},
   "outputs": [],
   "source": [
    "# try-except 예외 처리\n"
   ]
  },
  {
   "cell_type": "code",
   "execution_count": 51,
   "metadata": {},
   "outputs": [],
   "source": [
    "# 구체적인 에러 내용을 as를 활용하여 변수로 받을 수도 있음\n"
   ]
  },
  {
   "cell_type": "code",
   "execution_count": 52,
   "metadata": {},
   "outputs": [],
   "source": [
    "# except 문을 여러 번 사용할 수도 있음\n"
   ]
  },
  {
   "attachments": {},
   "cell_type": "markdown",
   "metadata": {},
   "source": [
    "다음은 예외 발생 여부와 상관없이 항상 코드가 실행되게끔 하는 `finally` 문을 사용해봅시다."
   ]
  },
  {
   "cell_type": "code",
   "execution_count": 53,
   "metadata": {},
   "outputs": [],
   "source": [
    "# 반드시 실행하는 finally 문\n"
   ]
  },
  {
   "attachments": {},
   "cell_type": "markdown",
   "metadata": {},
   "source": [
    "# 2. 파이썬 기초 복습 (2) - 조건문, 반복문, 사용자정의 함수"
   ]
  },
  {
   "attachments": {},
   "cell_type": "markdown",
   "metadata": {},
   "source": [
    "## 2-1. 조건문"
   ]
  },
  {
   "attachments": {},
   "cell_type": "markdown",
   "metadata": {},
   "source": [
    "파이썬에서 조건문은 주어진 조건을 만족할 때 특정 명령을 수행하도록 만드는 기능을 가지고 있습니다."
   ]
  },
  {
   "attachments": {},
   "cell_type": "markdown",
   "metadata": {},
   "source": [
    "조건문을 사용하는 방법은 다음과 같습니다.\n",
    "* 조건문 이후에는 콜론이 있어야 함\n",
    "* 조건문에 해당하는 수행 명령어는 들여쓰기로 구분되어 있어야 함\n",
    "* 최소 한 줄 이상의 수행 명령어가 있어야 함<br>\n",
    "(아무런 행동을 하지 않을 때에는 pass 명령어를 기입함)"
   ]
  },
  {
   "attachments": {},
   "cell_type": "markdown",
   "metadata": {},
   "source": [
    "조건문을 사용할 때 공통적으로 유의할 점은 다음과 같습니다.\n",
    "* 조건문 내에서 정의된 변수는 제어문 내에서만 활용하는 것이 좋습니다.\n",
    "    - 조건문이 거짓일 경우 변수가 선언되지 않는데, 이후 조건문 밖에서 해당 변수를 사용하려고 하면 해당 변수가 선언되어있지 않으므로 오류가 발생합니다.\n",
    "* 조건문을 사용시 들여쓰기에 주의하세요.\n",
    "* 조건문에도 불 연산이 포함될 수 있습니다."
   ]
  },
  {
   "attachments": {},
   "cell_type": "markdown",
   "metadata": {},
   "source": [
    "### 2-1-1. if 문\n",
    "\n",
    "조건문은 `if` 문을 사용하여 만들 수 있습니다.<br>\n",
    "`if` 문의 구조는 다음과 같습니다.\n",
    "```\n",
    "if 조건:\n",
    "    명령\n",
    "```"
   ]
  },
  {
   "cell_type": "code",
   "execution_count": 54,
   "metadata": {},
   "outputs": [],
   "source": [
    "# if 문 예시\n"
   ]
  },
  {
   "attachments": {},
   "cell_type": "markdown",
   "metadata": {},
   "source": [
    "`if` 문을 사용할 때 유의할 점은 다음과 같습니다.\n",
    "* 명령 앞에 들여쓰기는 필수입니다."
   ]
  },
  {
   "attachments": {},
   "cell_type": "markdown",
   "metadata": {},
   "source": [
    "### 2-1-2. else 문\n",
    "`if` 문을 활용하여 조건문을 생성하였을 때에는 `if` 문의 조건이 거짓일 경우가 있습니다.<br> 이처럼 `if` 문이 거짓일 경우에만 특정 명령을 수행하기 위해 우리는 `else` 문을 활용할 수 있습니다."
   ]
  },
  {
   "attachments": {},
   "cell_type": "markdown",
   "metadata": {},
   "source": [
    "`if` 문과 `else` 문을 함께 사용한 조건문의 구조는 다음과 같습니다.\n",
    "```\n",
    "if 조건:\n",
    "    명령\n",
    "else:\n",
    "    명령\n",
    "```"
   ]
  },
  {
   "cell_type": "code",
   "execution_count": 55,
   "metadata": {},
   "outputs": [],
   "source": [
    "# else 문 예시\n"
   ]
  },
  {
   "attachments": {},
   "cell_type": "markdown",
   "metadata": {},
   "source": [
    "`else` 문을 사용할 때 유의할 점은 다음과 같습니다.\n",
    "* 명령 앞에 들여쓰기는 필수입니다.\n",
    "* `else` 단독으로 쓸 수 없고 `if`와 함께 써야 합니다.\n",
    "* 짝을 이루는 `if` 와 `else` 는 동일한 수준의 들여쓰기가 필수입니다.\n",
    "* `else` 에는 `if` 와 달리 조건이 붙지 않습니다.\n"
   ]
  },
  {
   "attachments": {},
   "cell_type": "markdown",
   "metadata": {},
   "source": [
    "### 2-1-3. elif 문\n",
    "`if` 문과 `else` 문을 활용하여 조건문을 생성하였더라도 `if` 문의 조건을 조금 더 세분화하고 싶을 경우가 있습니다.<br> 이럴 경우, `elif` 문을 사용하여 `if` 문이 거짓이고 직전의 `elif` 까지 전부 거짓일 경우엔만 특정 명령을 수행하도록 코드를 만들 수 있습니다."
   ]
  },
  {
   "attachments": {},
   "cell_type": "markdown",
   "metadata": {},
   "source": [
    "`if` 문과 `elif` 문, 그리고 `else` 문을 모두 함께 사용한 조건문의 구조는 다음과 같습니다. (`elif` 문을 두 번 사용한 예시)\n",
    "```\n",
    "if 조건:\n",
    "    명령\n",
    "elif 조건:\n",
    "    명령\n",
    "elif 조건:\n",
    "    명령\n",
    "else:\n",
    "    명령\n",
    "```"
   ]
  },
  {
   "cell_type": "code",
   "execution_count": 56,
   "metadata": {},
   "outputs": [],
   "source": [
    "# elif 문 예시\n"
   ]
  },
  {
   "attachments": {},
   "cell_type": "markdown",
   "metadata": {},
   "source": [
    "`elif` 문을 사용할 때 유의할 점은 다음과 같습니다.\n",
    "* 명령 앞에 들여쓰기는 필수입니다.\n",
    "* `elif` 단독으로 쓸 수 없고 `if`와 함께 써야 합니다.\n",
    "* 짝을 이루는 `if`, `elif`, `else` 는 동일한 수준의 들여쓰기가 필수입니다.\n",
    "* 하나씩만 써야하는 `if`, `else`와 달리 `elif`는 다회 사용이 가능합니다.\n"
   ]
  },
  {
   "attachments": {},
   "cell_type": "markdown",
   "metadata": {},
   "source": [
    "## 2-2. 반복문"
   ]
  },
  {
   "attachments": {},
   "cell_type": "markdown",
   "metadata": {},
   "source": [
    "파이썬에서 반복문은 명령을 반복 수행하는 기능을 가지고 있습니다.<br>\n",
    "그 종류로는 `for` 문과 `while` 문이 있습니다."
   ]
  },
  {
   "attachments": {},
   "cell_type": "markdown",
   "metadata": {},
   "source": [
    "### 2-2-1. for 문\n",
    "`for` 문은 시퀀스 형태의 데이터의 아이템을 순차적으로 대입하여 명령을 반복하는 기능을 수행합니다.\n",
    "\n",
    "`for` 문의 구조는 다음과 같습니다.\n",
    "```\n",
    "for 변수 in 시퀀스:\n",
    "    명령\n",
    "```\n",
    "즉, 변수 값이 할당된 이후 들여쓰기 된 명령어를 수행하는 형태를 띱니다.<br>\n",
    "변수 값을 할당하는 시퀀스 형태의 데이터로는 보통 리스트, 문자열 또는 `range()`를 많이 사용합니다."
   ]
  },
  {
   "cell_type": "markdown",
   "metadata": {},
   "source": [
    "*참고:* `range()`란? https://docs.python.org/3/library/functions.html#func-range\n",
    "`range(start, stop)`은 `start` 정수에서 시작해 `stop` 정수보다 1 작은 정수까지의 시퀀스를 의미합니다.<br>\n",
    "`range(stop)`은 `0`에서 시작해 `stop` 정수보다 1 작은 정수까지의 시퀀스를 의미합니다."
   ]
  },
  {
   "cell_type": "code",
   "execution_count": 57,
   "metadata": {},
   "outputs": [],
   "source": [
    "# for 문 예시\n"
   ]
  },
  {
   "attachments": {},
   "cell_type": "markdown",
   "metadata": {},
   "source": [
    "`for` 문의 시퀀스로는 리스트, `range()` 외에도 다양한 형태의 item을 활용할 수 있습니다.\n",
    "\n",
    "* 튜플\n",
    "* 문자열\n",
    "* 딕셔너리의 key 그리고 value\n",
    "* `enumerate()`"
   ]
  },
  {
   "cell_type": "code",
   "execution_count": 58,
   "metadata": {},
   "outputs": [],
   "source": [
    "# 리스트를 활용한 for 문 예시\n"
   ]
  },
  {
   "cell_type": "code",
   "execution_count": 59,
   "metadata": {},
   "outputs": [],
   "source": [
    "# 튜플을 활용한 for 문 예시\n"
   ]
  },
  {
   "cell_type": "code",
   "execution_count": 60,
   "metadata": {},
   "outputs": [],
   "source": [
    "# 문자열을 활용한 for 문 예시\n"
   ]
  },
  {
   "cell_type": "code",
   "execution_count": 61,
   "metadata": {},
   "outputs": [],
   "source": [
    "# 딕셔너리를 활용한 for 문 예시\n",
    "\n",
    "# 딕셔너리 key를 활용\n",
    "\n",
    "# 딕셔너리 value를 활용\n",
    "\n",
    "# 딕셔너리 item (key, value 쌍)을 활용\n"
   ]
  },
  {
   "cell_type": "code",
   "execution_count": 62,
   "metadata": {},
   "outputs": [],
   "source": [
    "# enumerate() 함수를 활용한 for 문 예시\n"
   ]
  },
  {
   "attachments": {},
   "cell_type": "markdown",
   "metadata": {},
   "source": [
    "### 2-2-2. while 문\n",
    "`while` 문은 특정 조건문과 해당 조건문이 만족될 때 지정된 명령을 반복 수행합니다.<br>\n",
    "수행할 명령어를 모두 수행한 뒤 특정 조건문을 판별하고, 이 값이 거짓이 될 때까지 반복하는 특징이 있습니다.<br>\n",
    "그리고 `if` 문과 유사하게 조건문의 뒤에는 콜론이 들어가고 수행 명령어는 들여쓰기로 구분됩니다.\n",
    "\n",
    "`while` 문의 구조는 다음과 같습니다.\n",
    "```\n",
    "while 변수 in 시퀀스:\n",
    "    명령\n",
    "```\n",
    "즉, `for` 문과 다르게 `while` 문은 구조상 조건밖에 없습니다.<br>\n",
    "따라서 해당 조건문을 거짓으로 만들 수 있어야 `while` 문이 멈출 수 있고, 그렇지 않다면 무한 반복에 빠지게 됩니다."
   ]
  },
  {
   "cell_type": "code",
   "execution_count": 63,
   "metadata": {},
   "outputs": [],
   "source": [
    "# while 문 예시\n"
   ]
  },
  {
   "attachments": {},
   "cell_type": "markdown",
   "metadata": {},
   "source": [
    "문제: `for` 문 vs. `while` 문?\n",
    "\n",
    "* `for` 문은 조건문의 반복 횟수를 반복용 인덱스를 뽑는 시퀀스의 원소 갯수로 정할 수 있기 때문에, 몇 번 반복할 지 아는 반복문을 생성할 때 주로 사용합니다.\n",
    "* `while` 문은 구조상 조건문만 주어지기 때문에, 몇 번 반복할 지 모르는 반복문을 생성할 때 주로 사용합니다."
   ]
  },
  {
   "attachments": {},
   "cell_type": "markdown",
   "metadata": {},
   "source": [
    "### 2-2-3. break와 continue\n",
    "`break`는 반복문 내에서 특정 조건문을 만족하는 때에 전체 반복문을 종료시키는 용도로 사용합니다."
   ]
  },
  {
   "cell_type": "code",
   "execution_count": 64,
   "metadata": {},
   "outputs": [],
   "source": [
    "# for 문 내 break 용례\n"
   ]
  },
  {
   "attachments": {},
   "cell_type": "markdown",
   "metadata": {},
   "source": [
    "`continue`는 반복문이 실행되는 도중 현재 요소의 반복문 실행을 중지하고 다음 요소로\n",
    "넘어가서 반복문을 계속 실행하는 용도로 사용합니다."
   ]
  },
  {
   "cell_type": "code",
   "execution_count": 65,
   "metadata": {},
   "outputs": [],
   "source": [
    "# for 문 내 continue 용례\n"
   ]
  },
  {
   "cell_type": "code",
   "execution_count": 66,
   "metadata": {},
   "outputs": [],
   "source": [
    "# 실습: for 문 활용하여 구구단 만들기\n"
   ]
  },
  {
   "attachments": {},
   "cell_type": "markdown",
   "metadata": {},
   "source": [
    "## 2-3. 사용자정의 함수"
   ]
  },
  {
   "attachments": {},
   "cell_type": "markdown",
   "metadata": {},
   "source": [
    "파이썬에서는 사용자가 자주 사용될 기능을 임의로 함수로 선언할 수 있습니다.\n",
    "\n",
    "함수를 정의하는 구조는 아래와 같습니다.\n",
    "```\n",
    "def 함수명(var1, var2, ...):\n",
    "    명령\n",
    "```\n",
    "\n",
    "함수를 정의할 때에는 함수를 사용할 때 변수(var)가 가지는 기본값(default)을 설정할 수 있습니다.\n",
    "```\n",
    "def 함수명(var1 = default1, var2 = default2, ...):\n",
    "    명령\n",
    "```\n",
    "\n",
    "정의된 함수를 사용하는 구조는 아래와 같습니다.\n",
    "```\n",
    "함수명(var1, var2, ...)\n",
    "```"
   ]
  },
  {
   "cell_type": "code",
   "execution_count": 67,
   "metadata": {},
   "outputs": [],
   "source": [
    "# 사용자 정의 함수 예시 1\n",
    "# 숫자 n을 숫자 d로 나누었을 때 몫과 나머지를 계산하는 함수 만들기\n",
    "\n",
    "# 함수 정의\n",
    "\n",
    "# 함수 실행\n"
   ]
  },
  {
   "cell_type": "code",
   "execution_count": 68,
   "metadata": {},
   "outputs": [],
   "source": [
    "# 사용자 정의 함수 예시 2\n",
    "# 반지름이 주어졌을 때 원의 넓이를 구하는 함수를 정의하고 실행하기\n",
    "\n",
    "# 함수 정의\n",
    "\n",
    "# 함수 실행\n"
   ]
  },
  {
   "cell_type": "code",
   "execution_count": 69,
   "metadata": {},
   "outputs": [],
   "source": [
    "# 사용자 정의 함수 예시 3\n",
    "# 구구단을 출력하는 함수\n",
    "\n",
    "# 함수 정의\n",
    "\n",
    "# 함수 실행\n"
   ]
  },
  {
   "attachments": {},
   "cell_type": "markdown",
   "metadata": {},
   "source": [
    "이번에는 사용자 정의 함수의 인자를 추가하는 실습을 해보도록 하겠습니다."
   ]
  },
  {
   "cell_type": "code",
   "execution_count": 70,
   "metadata": {},
   "outputs": [
    {
     "data": {
      "text/plain": [
       "'\\nprintDan 함수는 원래 x 9 까지만 출력한다.\\n이를 어디까지 출력할지 정할 수 있도록 함수에 인자를 추가해보자. (인자가 총 2개 필요함)\\n'"
      ]
     },
     "execution_count": 70,
     "metadata": {},
     "output_type": "execute_result"
    }
   ],
   "source": [
    "# 실습\n",
    "'''\n",
    "printDan 함수는 원래 x 9 까지만 출력한다.\n",
    "이를 어디까지 출력할지 정할 수 있도록 함수에 인자를 추가해보자. (인자가 총 2개 필요함)\n",
    "'''\n",
    "\n",
    "# 답안\n",
    "# 함수 정의\n",
    "\n",
    "# 함수 실행\n"
   ]
  },
  {
   "attachments": {},
   "cell_type": "markdown",
   "metadata": {},
   "source": [
    "추가적인 사용자 정의 함수의 특징입니다.\n",
    "\n",
    "1. 여러 변수가 있을 경우, `return`을 맨 마지막에 넣어서 원하는 값만을 반환할 수 있도록 만들 수 있습니다.\n",
    "2. `return` 값을 tuple의 형태로 여러 개의 원소로 반환도 가능합니다.\n",
    "3. 입력 인자의 갯수를 모를 때에는 `*args`로 정의가 가능합니다.\n",
    "4. 간단한 함수의 경우 `lambda` 함수로 정의하여 한 줄로 표현하여 사용이 가능합니다.\n",
    "    - `lambda` 인자: 표현식\n",
    "    - e.g. `lambda (x, y: x + y) (1, 2) -> 3`\n",
    "    - `map()` (리스트의 요소를 지정된 함수로 처리해주는 함수)와 `filter()` (특정 조건으로 걸러서 특정 조건에 부합하는 요소들을 반환하는 함수)와 자주 함께 사용합니다."
   ]
  },
  {
   "cell_type": "code",
   "execution_count": 71,
   "metadata": {},
   "outputs": [],
   "source": [
    "# 특징 1. return으로 원하는 값만 반환\n"
   ]
  },
  {
   "cell_type": "code",
   "execution_count": 72,
   "metadata": {},
   "outputs": [],
   "source": [
    "# 특징 2. tuple 형태의 return\n"
   ]
  },
  {
   "cell_type": "code",
   "execution_count": 73,
   "metadata": {},
   "outputs": [],
   "source": [
    "# 특징 3. *args 입력 인자\n"
   ]
  },
  {
   "cell_type": "code",
   "execution_count": 74,
   "metadata": {},
   "outputs": [],
   "source": [
    "# 특징 4. lambda 함수\n",
    "\n",
    "# x + y 함수\n",
    "\n",
    "# x ** 2를 range(5)에 map한 뒤 리스트로 반환하기\n",
    "\n",
    "# range(5)에서 3보다 작은 시퀀스를 리스트로 반환하기\n"
   ]
  },
  {
   "attachments": {},
   "cell_type": "markdown",
   "metadata": {},
   "source": [
    "# 3. 판다스 (Pandas) 패키지 및 자료구조 소개"
   ]
  },
  {
   "attachments": {},
   "cell_type": "markdown",
   "metadata": {},
   "source": [
    "## 3-1. 판다스 설치 및 import"
   ]
  },
  {
   "cell_type": "code",
   "execution_count": 75,
   "metadata": {},
   "outputs": [
    {
     "name": "stdout",
     "output_type": "stream",
     "text": [
      "Requirement already satisfied: pandas in c:\\users\\juhuhnkim\\onedrive - g.skku.edu\\3_fastcampus2023\\1_lecture\\venv\\lib\\site-packages (1.5.3)\n",
      "Requirement already satisfied: python-dateutil>=2.8.1 in c:\\users\\juhuhnkim\\onedrive - g.skku.edu\\3_fastcampus2023\\1_lecture\\venv\\lib\\site-packages (from pandas) (2.8.2)\n",
      "Requirement already satisfied: pytz>=2020.1 in c:\\users\\juhuhnkim\\onedrive - g.skku.edu\\3_fastcampus2023\\1_lecture\\venv\\lib\\site-packages (from pandas) (2022.7.1)\n",
      "Requirement already satisfied: numpy>=1.21.0 in c:\\users\\juhuhnkim\\onedrive - g.skku.edu\\3_fastcampus2023\\1_lecture\\venv\\lib\\site-packages (from pandas) (1.24.2)\n",
      "Requirement already satisfied: six>=1.5 in c:\\users\\juhuhnkim\\onedrive - g.skku.edu\\3_fastcampus2023\\1_lecture\\venv\\lib\\site-packages (from python-dateutil>=2.8.1->pandas) (1.16.0)\n"
     ]
    },
    {
     "name": "stderr",
     "output_type": "stream",
     "text": [
      "\n",
      "[notice] A new release of pip available: 22.3.1 -> 23.0.1\n",
      "[notice] To update, run: python.exe -m pip install --upgrade pip\n"
     ]
    }
   ],
   "source": [
    "# Pandas 설치 및 import하기\n",
    "!pip install pandas\n",
    "import pandas as pd"
   ]
  },
  {
   "attachments": {},
   "cell_type": "markdown",
   "metadata": {},
   "source": [
    "## 3-2. 판다스 데이터 구조 소개"
   ]
  },
  {
   "attachments": {},
   "cell_type": "markdown",
   "metadata": {},
   "source": [
    "판다스 패키지는 시리즈 (Series) 클래스와 데이터프레임 (DataFrame) 클래스를 제공합니다."
   ]
  },
  {
   "cell_type": "code",
   "execution_count": 76,
   "metadata": {},
   "outputs": [
    {
     "name": "stdout",
     "output_type": "stream",
     "text": [
      "    Name  Age                Job\n",
      "0  Adams   20  Marketing Manager\n",
      "1  Baker   35      Sales Manager\n",
      "2  Clark   30  Software Engineer\n"
     ]
    }
   ],
   "source": [
    "# 예시 데이터프레임 생성하기\n",
    "df_census = pd.DataFrame([['Adams', 20, 'Marketing Manager'],\n",
    "                          ['Baker', 35, 'Sales Manager'],\n",
    "                          ['Clark', 30, 'Software Engineer']],\n",
    "                          columns = ['Name', 'Age', 'Job'])\n",
    "print(df_census)"
   ]
  },
  {
   "cell_type": "code",
   "execution_count": 77,
   "metadata": {},
   "outputs": [],
   "source": [
    "# 데이터프레임 타입 체크하기\n",
    "\n",
    "# 데이터프레임 내 Job 열 타입 체크하기\n"
   ]
  },
  {
   "attachments": {},
   "cell_type": "markdown",
   "metadata": {},
   "source": [
    "## 3-3. 시리즈 클래스\n",
    "시리즈는 1차원 데이터의 시퀀스를 저장하는 자료구조입니다.<br>\n",
    "시리즈는 파이썬 list를 사용하여 생성할 수 있습니다."
   ]
  },
  {
   "cell_type": "code",
   "execution_count": 78,
   "metadata": {},
   "outputs": [],
   "source": [
    "# 예시 리스트 생성하기\n",
    "list_1 = ['Adams', 'Baker', 'Clark']\n",
    "list_2 = [20, 35, 30]\n",
    "list_3 = ['Marketing Manager', 'Sales Manager', 'Software Engineer']"
   ]
  },
  {
   "cell_type": "code",
   "execution_count": 79,
   "metadata": {},
   "outputs": [],
   "source": [
    "# 예시 리스트로부터 시리즈 생성하기\n"
   ]
  },
  {
   "cell_type": "code",
   "execution_count": 80,
   "metadata": {},
   "outputs": [],
   "source": [
    "# 시리즈의 값 type을 강제로 지정하기\n"
   ]
  },
  {
   "cell_type": "code",
   "execution_count": 81,
   "metadata": {},
   "outputs": [],
   "source": [
    "# 시리즈에 인덱스 부여하기\n",
    "\n",
    "# 인덱스에 접근하기\n",
    "\n",
    "# 데이터에 접근하기\n"
   ]
  },
  {
   "attachments": {},
   "cell_type": "markdown",
   "metadata": {},
   "source": [
    "시리즈는 파이썬 리스트에 적용되는 인덱싱이 가능합니다."
   ]
  },
  {
   "cell_type": "code",
   "execution_count": 82,
   "metadata": {},
   "outputs": [],
   "source": [
    "# 시리즈에 인덱싱하기\n",
    "\n",
    "# 시리즈에 연산하기\n"
   ]
  },
  {
   "attachments": {},
   "cell_type": "markdown",
   "metadata": {},
   "source": [
    "## 3-4. 데이터프레임 클래스"
   ]
  },
  {
   "attachments": {},
   "cell_type": "markdown",
   "metadata": {},
   "source": [
    "데이터프레임은 2차원 데이터를 저장하는 자료구조입니다.\n",
    "\n",
    "2차원 데이터는 데이터를 표 형태로 표현하는 관계형 데이터 모델의 데이터 양식입니다.<br>\n",
    "이는 우리에게 친숙한 엑셀 스프레드시트가 해당 형식을 띄고 있는 데이터 양식이며, 제조 현장 데이터 취합에 주로 사용되는 RDBMS (relational database management system)의 자료 형식이기도 합니다.\n",
    "\n",
    "데이터프레임을 생성하는 방법 중 하나는 리스트를 input으로 직접 넣는 방식입니다."
   ]
  },
  {
   "cell_type": "code",
   "execution_count": 83,
   "metadata": {},
   "outputs": [],
   "source": [
    "# 관심 리스트 생성하기\n",
    "list_1 = [['One', 2, 'Three'],\n",
    "          [4, 'Five', 6],\n",
    "          ['Seven', 8, 'Nine']]\n",
    "\n",
    "# 리스트로부터 데이터프레임 생성하기\n"
   ]
  },
  {
   "cell_type": "code",
   "execution_count": 84,
   "metadata": {},
   "outputs": [],
   "source": [
    "# 행/열 이름을 지정하여 리스트로부터 데이터프레임 생성하기\n"
   ]
  },
  {
   "attachments": {},
   "cell_type": "markdown",
   "metadata": {},
   "source": [
    "데이터프레임을 생성하는 다른 방법은 시리즈를 활용하는 방식입니다."
   ]
  },
  {
   "cell_type": "code",
   "execution_count": 85,
   "metadata": {},
   "outputs": [],
   "source": [
    "# 예시 시리즈 생성하기\n",
    "series_1 = pd.Series(['One', 2, 'Three'])\n",
    "series_2 = pd.Series([4, 'Five', 6])\n",
    "series_3 = pd.Series(['Seven', 8, 'Nine'])\n",
    "\n",
    "# 예시 시리즈로 데이터프레임 생성하기\n"
   ]
  },
  {
   "attachments": {},
   "cell_type": "markdown",
   "metadata": {},
   "source": [
    "데이터프레임을 생성하는 또 다른 방법은 딕셔너리를 활용하는 방식입니다."
   ]
  },
  {
   "cell_type": "code",
   "execution_count": 86,
   "metadata": {},
   "outputs": [],
   "source": [
    "# 예시 딕셔너리 생성하기\n",
    "dict_1 = [{'Name': 'Adams', 'Age': 20, 'Job': 'Marketing Manager'},\n",
    "    {'Name': 'Baker', 'Age': 35, 'Job': 'Sales Manager'},\n",
    "    {'Name': 'Clark', 'Age': 30, 'Job': 'Software Engineer'}]\n",
    "\n",
    "# 예시 딕셔너리로 데이터프레임 생성하기\n"
   ]
  },
  {
   "cell_type": "code",
   "execution_count": 87,
   "metadata": {},
   "outputs": [],
   "source": [
    "# 예시 딕셔너리 생성하기 (value에 리스트가 들어가는 예시)\n",
    "dict_2 = {'Name': ['Adams', 'Baker', 'Clark'],\n",
    "          'Age': [20, 35, 30],\n",
    "          'Job': ['Marketing Manager', 'Sales Manager', 'Software Engineer']}\n",
    "\n",
    "# 예시 딕셔너리로 데이터프레임 생성하기\n"
   ]
  },
  {
   "cell_type": "code",
   "execution_count": 88,
   "metadata": {},
   "outputs": [],
   "source": [
    "# 예시 딕셔너리에 행이름 (index)와 열이름 (columns)을 지정하여 생성하기 \n",
    "dict_3 = {'R1': ['Adams', 20, 'Marketing Manager'],\n",
    "          'R2': ['Baker', 35, 'Sales Manager'],\n",
    "          'R3': ['Clark', 30, 'Software Engineer']}\n",
    "\n",
    "# 예시 딕셔너리로 데이터프레임 생성하기\n"
   ]
  },
  {
   "cell_type": "markdown",
   "metadata": {},
   "source": [
    "데이터프레임에서는 열 값의 type을 강제로 지정할 수 있습니다."
   ]
  },
  {
   "cell_type": "code",
   "execution_count": 89,
   "metadata": {},
   "outputs": [],
   "source": [
    "# 데이터프레임의 값 type을 강제로 지정하기\n"
   ]
  },
  {
   "attachments": {},
   "cell_type": "markdown",
   "metadata": {},
   "source": [
    "**심화**\n",
    "\n",
    "딕셔너리로 데이터프레임을 생성할 때 주의해야 할 점은, 딕셔너리에는 순서가 없다는 점입니다.\n",
    "\n",
    "따라서 key: value 꼴의 딕셔너리를 사전에 정의한 순서대로 활용하고 싶을 경우, collections 모듈의 OrderedDict 클래스를 활용합니다."
   ]
  },
  {
   "cell_type": "code",
   "execution_count": 90,
   "metadata": {},
   "outputs": [],
   "source": [
    "# 심화: OrderedDict를 활용하여 딕셔너리의 순서까지 유지하여 데이터프레임을 생성하기\n",
    "from collections import OrderedDict\n",
    "ordereddict_1 = OrderedDict(\n",
    "    [\n",
    "        ('C1', ['One', 4, 'Seven']),\n",
    "        ('C2', [2, 'Five', 8]),\n",
    "        ('C3', ['Three', 6, 'Nine'])\n",
    "    ]\n",
    "\n",
    "    )\n",
    "# 예시 딕셔너리로 데이터프레임 생성하기\n"
   ]
  },
  {
   "attachments": {},
   "cell_type": "markdown",
   "metadata": {},
   "source": [
    "# 4. 판다스 기본 문법 및 자료 입출력"
   ]
  },
  {
   "attachments": {},
   "cell_type": "markdown",
   "metadata": {},
   "source": [
    "## 4-1. 데이터프레임 저장하기 / 읽어오기"
   ]
  },
  {
   "attachments": {},
   "cell_type": "markdown",
   "metadata": {},
   "source": [
    "데이터프레임을 저장하고, 저장된 데이터프레임을 불러오는 방법입니다."
   ]
  },
  {
   "cell_type": "code",
   "execution_count": 91,
   "metadata": {},
   "outputs": [],
   "source": [
    "# 데이터프레임 저장하기\n",
    "# 참고) csv파일을 다른 프로그램에서 열고 있을 경우 .to_csv()로 저장되지 않음\n",
    "dict_1 = [{'Name': 'Adams', 'Age': 20, 'Job': 'Marketing Manager'},\n",
    "    {'Name': 'Baker', 'Age': 35, 'Job': 'Sales Manager'},\n",
    "    {'Name': 'Clark', 'Age': 30, 'Job': 'Software Engineer'}]\n",
    "\n",
    "# 데이터프레임 불러오기\n"
   ]
  },
  {
   "cell_type": "code",
   "execution_count": 92,
   "metadata": {},
   "outputs": [],
   "source": [
    "# 데이터프레임 저장할 때 NaN 값을 fill_value로 대체하기\n",
    "dict_2 = [{'Name': 'Adams', 'Age': 20, 'Job': 'Marketing Manager'},\n",
    "    {'Name': 'Baker', 'Age': 35, 'Job': 'Sales Manager'},\n",
    "    {'Name': 'Clark', 'Age': 30, 'Job': None}] # 빈칸을 의도적으로 만들어놓음\n",
    "\n",
    "# 데이터프레임 읽어오기\n"
   ]
  },
  {
   "attachments": {},
   "cell_type": "markdown",
   "metadata": {},
   "source": [
    "## 4-2. 인터넷에서 오픈소스 CSV 데이터 불러오기\n",
    "\n",
    "이번에는 인터넷에서 open-source 데이터를 불러오는 방법입니다.\n",
    "예시로 UCI ML repository의 winequality-red.csv 파일을 불러오겠습니다."
   ]
  },
  {
   "cell_type": "code",
   "execution_count": 93,
   "metadata": {},
   "outputs": [
    {
     "data": {
      "text/plain": [
       "\"\\n주소: 'https://archive.ics.uci.edu/ml/machine-learning-databases/wine-quality/winequality-red.csv'\\n\""
      ]
     },
     "execution_count": 93,
     "metadata": {},
     "output_type": "execute_result"
    }
   ],
   "source": [
    "# Vinho Verde 레드와인 품질 데이터 불러오기\n",
    "'''\n",
    "주소: 'https://archive.ics.uci.edu/ml/machine-learning-databases/wine-quality/winequality-red.csv'\n",
    "'''"
   ]
  },
  {
   "attachments": {},
   "cell_type": "markdown",
   "metadata": {},
   "source": [
    "주어진 데이터프레임의 다양한 정보들을 뽑아볼 수 있습니다."
   ]
  },
  {
   "cell_type": "code",
   "execution_count": 94,
   "metadata": {},
   "outputs": [],
   "source": [
    "# 데이터프레임 기초통계량 확인하기\n"
   ]
  },
  {
   "cell_type": "code",
   "execution_count": 95,
   "metadata": {},
   "outputs": [],
   "source": [
    "# 데이터프레임 행/열 정보 확인하기\n"
   ]
  },
  {
   "cell_type": "code",
   "execution_count": 96,
   "metadata": {},
   "outputs": [],
   "source": [
    "# 데이터프레임 행/열 정보 확인하기\n"
   ]
  },
  {
   "cell_type": "code",
   "execution_count": 97,
   "metadata": {},
   "outputs": [],
   "source": [
    "# 데이터프레임 형태, 차원수, 길이 확인하기\n"
   ]
  },
  {
   "cell_type": "code",
   "execution_count": 98,
   "metadata": {},
   "outputs": [],
   "source": [
    "# 데이터프레임 원소별 결측여부 확인하기\n"
   ]
  },
  {
   "cell_type": "code",
   "execution_count": 99,
   "metadata": {},
   "outputs": [],
   "source": [
    "# 데이터프레임 열별 결측여부 확인하기\n",
    "\n",
    "# 데이터프레임 행별 결측여부 확인하기\n"
   ]
  },
  {
   "attachments": {},
   "cell_type": "markdown",
   "metadata": {},
   "source": [
    "## 4-3. 인터넷에서 오픈소스 데이터베이스 데이터 불러오기 "
   ]
  },
  {
   "attachments": {},
   "cell_type": "markdown",
   "metadata": {},
   "source": [
    "Pandas를 활용하면 오픈소스 데이터베이스에서 데이터를 불러올 수도 있습니다.<br>\n",
    "다만, 이를 위해서는 추가 라이브러리가 필요하니, 아래 안내에 따라 설치해주시면 됩니다."
   ]
  },
  {
   "cell_type": "code",
   "execution_count": 100,
   "metadata": {},
   "outputs": [
    {
     "name": "stdout",
     "output_type": "stream",
     "text": [
      "Requirement already satisfied: pandas-datareader in c:\\users\\juhuhnkim\\onedrive - g.skku.edu\\3_fastcampus2023\\1_lecture\\venv\\lib\\site-packages (0.10.0)\n",
      "Requirement already satisfied: lxml in c:\\users\\juhuhnkim\\onedrive - g.skku.edu\\3_fastcampus2023\\1_lecture\\venv\\lib\\site-packages (from pandas-datareader) (4.9.2)\n",
      "Requirement already satisfied: pandas>=0.23 in c:\\users\\juhuhnkim\\onedrive - g.skku.edu\\3_fastcampus2023\\1_lecture\\venv\\lib\\site-packages (from pandas-datareader) (1.5.3)\n",
      "Requirement already satisfied: requests>=2.19.0 in c:\\users\\juhuhnkim\\onedrive - g.skku.edu\\3_fastcampus2023\\1_lecture\\venv\\lib\\site-packages (from pandas-datareader) (2.28.2)\n",
      "Requirement already satisfied: python-dateutil>=2.8.1 in c:\\users\\juhuhnkim\\onedrive - g.skku.edu\\3_fastcampus2023\\1_lecture\\venv\\lib\\site-packages (from pandas>=0.23->pandas-datareader) (2.8.2)\n",
      "Requirement already satisfied: pytz>=2020.1 in c:\\users\\juhuhnkim\\onedrive - g.skku.edu\\3_fastcampus2023\\1_lecture\\venv\\lib\\site-packages (from pandas>=0.23->pandas-datareader) (2022.7.1)\n",
      "Requirement already satisfied: numpy>=1.21.0 in c:\\users\\juhuhnkim\\onedrive - g.skku.edu\\3_fastcampus2023\\1_lecture\\venv\\lib\\site-packages (from pandas>=0.23->pandas-datareader) (1.24.2)\n",
      "Requirement already satisfied: charset-normalizer<4,>=2 in c:\\users\\juhuhnkim\\onedrive - g.skku.edu\\3_fastcampus2023\\1_lecture\\venv\\lib\\site-packages (from requests>=2.19.0->pandas-datareader) (3.1.0)\n",
      "Requirement already satisfied: idna<4,>=2.5 in c:\\users\\juhuhnkim\\onedrive - g.skku.edu\\3_fastcampus2023\\1_lecture\\venv\\lib\\site-packages (from requests>=2.19.0->pandas-datareader) (3.4)\n",
      "Requirement already satisfied: urllib3<1.27,>=1.21.1 in c:\\users\\juhuhnkim\\onedrive - g.skku.edu\\3_fastcampus2023\\1_lecture\\venv\\lib\\site-packages (from requests>=2.19.0->pandas-datareader) (1.26.15)\n",
      "Requirement already satisfied: certifi>=2017.4.17 in c:\\users\\juhuhnkim\\onedrive - g.skku.edu\\3_fastcampus2023\\1_lecture\\venv\\lib\\site-packages (from requests>=2.19.0->pandas-datareader) (2022.12.7)\n",
      "Requirement already satisfied: six>=1.5 in c:\\users\\juhuhnkim\\onedrive - g.skku.edu\\3_fastcampus2023\\1_lecture\\venv\\lib\\site-packages (from python-dateutil>=2.8.1->pandas>=0.23->pandas-datareader) (1.16.0)\n"
     ]
    },
    {
     "name": "stderr",
     "output_type": "stream",
     "text": [
      "\n",
      "[notice] A new release of pip available: 22.3.1 -> 23.0.1\n",
      "[notice] To update, run: python.exe -m pip install --upgrade pip\n",
      "\n",
      "[notice] A new release of pip available: 22.3.1 -> 23.0.1\n",
      "[notice] To update, run: python.exe -m pip install --upgrade pip\n"
     ]
    },
    {
     "name": "stdout",
     "output_type": "stream",
     "text": [
      "Requirement already satisfied: yfinance in c:\\users\\juhuhnkim\\onedrive - g.skku.edu\\3_fastcampus2023\\1_lecture\\venv\\lib\\site-packages (0.2.12)\n",
      "Requirement already satisfied: pandas>=1.3.0 in c:\\users\\juhuhnkim\\onedrive - g.skku.edu\\3_fastcampus2023\\1_lecture\\venv\\lib\\site-packages (from yfinance) (1.5.3)\n",
      "Requirement already satisfied: numpy>=1.16.5 in c:\\users\\juhuhnkim\\onedrive - g.skku.edu\\3_fastcampus2023\\1_lecture\\venv\\lib\\site-packages (from yfinance) (1.24.2)\n",
      "Requirement already satisfied: requests>=2.26 in c:\\users\\juhuhnkim\\onedrive - g.skku.edu\\3_fastcampus2023\\1_lecture\\venv\\lib\\site-packages (from yfinance) (2.28.2)\n",
      "Requirement already satisfied: multitasking>=0.0.7 in c:\\users\\juhuhnkim\\onedrive - g.skku.edu\\3_fastcampus2023\\1_lecture\\venv\\lib\\site-packages (from yfinance) (0.0.11)\n",
      "Requirement already satisfied: lxml>=4.9.1 in c:\\users\\juhuhnkim\\onedrive - g.skku.edu\\3_fastcampus2023\\1_lecture\\venv\\lib\\site-packages (from yfinance) (4.9.2)\n",
      "Requirement already satisfied: appdirs>=1.4.4 in c:\\users\\juhuhnkim\\onedrive - g.skku.edu\\3_fastcampus2023\\1_lecture\\venv\\lib\\site-packages (from yfinance) (1.4.4)\n",
      "Requirement already satisfied: pytz>=2022.5 in c:\\users\\juhuhnkim\\onedrive - g.skku.edu\\3_fastcampus2023\\1_lecture\\venv\\lib\\site-packages (from yfinance) (2022.7.1)\n",
      "Requirement already satisfied: frozendict>=2.3.4 in c:\\users\\juhuhnkim\\onedrive - g.skku.edu\\3_fastcampus2023\\1_lecture\\venv\\lib\\site-packages (from yfinance) (2.3.5)\n",
      "Requirement already satisfied: cryptography>=3.3.2 in c:\\users\\juhuhnkim\\onedrive - g.skku.edu\\3_fastcampus2023\\1_lecture\\venv\\lib\\site-packages (from yfinance) (39.0.2)\n",
      "Requirement already satisfied: beautifulsoup4>=4.11.1 in c:\\users\\juhuhnkim\\onedrive - g.skku.edu\\3_fastcampus2023\\1_lecture\\venv\\lib\\site-packages (from yfinance) (4.11.2)\n",
      "Requirement already satisfied: html5lib>=1.1 in c:\\users\\juhuhnkim\\onedrive - g.skku.edu\\3_fastcampus2023\\1_lecture\\venv\\lib\\site-packages (from yfinance) (1.1)\n",
      "Requirement already satisfied: soupsieve>1.2 in c:\\users\\juhuhnkim\\onedrive - g.skku.edu\\3_fastcampus2023\\1_lecture\\venv\\lib\\site-packages (from beautifulsoup4>=4.11.1->yfinance) (2.4)\n",
      "Requirement already satisfied: cffi>=1.12 in c:\\users\\juhuhnkim\\onedrive - g.skku.edu\\3_fastcampus2023\\1_lecture\\venv\\lib\\site-packages (from cryptography>=3.3.2->yfinance) (1.15.1)\n",
      "Requirement already satisfied: six>=1.9 in c:\\users\\juhuhnkim\\onedrive - g.skku.edu\\3_fastcampus2023\\1_lecture\\venv\\lib\\site-packages (from html5lib>=1.1->yfinance) (1.16.0)\n",
      "Requirement already satisfied: webencodings in c:\\users\\juhuhnkim\\onedrive - g.skku.edu\\3_fastcampus2023\\1_lecture\\venv\\lib\\site-packages (from html5lib>=1.1->yfinance) (0.5.1)\n",
      "Requirement already satisfied: python-dateutil>=2.8.1 in c:\\users\\juhuhnkim\\onedrive - g.skku.edu\\3_fastcampus2023\\1_lecture\\venv\\lib\\site-packages (from pandas>=1.3.0->yfinance) (2.8.2)\n",
      "Requirement already satisfied: charset-normalizer<4,>=2 in c:\\users\\juhuhnkim\\onedrive - g.skku.edu\\3_fastcampus2023\\1_lecture\\venv\\lib\\site-packages (from requests>=2.26->yfinance) (3.1.0)\n",
      "Requirement already satisfied: idna<4,>=2.5 in c:\\users\\juhuhnkim\\onedrive - g.skku.edu\\3_fastcampus2023\\1_lecture\\venv\\lib\\site-packages (from requests>=2.26->yfinance) (3.4)\n",
      "Requirement already satisfied: urllib3<1.27,>=1.21.1 in c:\\users\\juhuhnkim\\onedrive - g.skku.edu\\3_fastcampus2023\\1_lecture\\venv\\lib\\site-packages (from requests>=2.26->yfinance) (1.26.15)\n",
      "Requirement already satisfied: certifi>=2017.4.17 in c:\\users\\juhuhnkim\\onedrive - g.skku.edu\\3_fastcampus2023\\1_lecture\\venv\\lib\\site-packages (from requests>=2.26->yfinance) (2022.12.7)\n",
      "Requirement already satisfied: pycparser in c:\\users\\juhuhnkim\\onedrive - g.skku.edu\\3_fastcampus2023\\1_lecture\\venv\\lib\\site-packages (from cffi>=1.12->cryptography>=3.3.2->yfinance) (2.21)\n"
     ]
    }
   ],
   "source": [
    "# 라이브러리 설치하기\n",
    "!pip install pandas-datareader\n",
    "!pip install yfinance\n",
    "\n",
    "# 관련 라이브러리 불러오기\n",
    "from pandas_datareader import data as pdr # 참고) https://pandas-datareader.readthedocs.io/en/latest/remote_data.html\n",
    "import yfinance as yf\n",
    "import datetime"
   ]
  },
  {
   "cell_type": "code",
   "execution_count": 101,
   "metadata": {},
   "outputs": [],
   "source": [
    "# 데이터베이스에서 데이터 불러오기 예시 1: Federal Reserve Economic Data (FRED) 데이터베이스에서 미국 경제지표 시계열 데이터 불러오기\n",
    "\n",
    "# 시계열 데이터의 처음과 끝 날짜를 지정하기\n",
    "\n",
    "# FRED 데이터베이스에서 미국 국가총생산 데이터를 가져오기\n"
   ]
  },
  {
   "cell_type": "code",
   "execution_count": 102,
   "metadata": {},
   "outputs": [],
   "source": [
    "# FRED 데이터베이스에서 미국 소비자 가격 지수(CPIAUCSL), 식료품 및 연료를 제외한 소비자 가격 지수(CPILFESL) 데이터를 가져오기\n"
   ]
  },
  {
   "cell_type": "code",
   "execution_count": 103,
   "metadata": {},
   "outputs": [],
   "source": [
    "# 데이터베이스에서 데이터 불러오기 예시 2: Yahoo Finance 데이터베이스에서 2023년 3월 초 삼성전자 주가 데이터 불러오기\n",
    "\n",
    "# 시계열 데이터의 처음과 끝 날짜를 지정하기\n"
   ]
  },
  {
   "cell_type": "code",
   "execution_count": 104,
   "metadata": {},
   "outputs": [],
   "source": [
    "# 삼성전자 KS관련 주가 자료를 Yahoo Finance에서 불러오기\n"
   ]
  },
  {
   "attachments": {},
   "cell_type": "markdown",
   "metadata": {},
   "source": [
    "# 5. Data processing (1)"
   ]
  },
  {
   "attachments": {},
   "cell_type": "markdown",
   "metadata": {},
   "source": [
    "## 5-1. 인덱스로 행 필터하기"
   ]
  },
  {
   "cell_type": "code",
   "execution_count": 105,
   "metadata": {},
   "outputs": [
    {
     "name": "stdout",
     "output_type": "stream",
     "text": [
      "    Name  Age                Job\n",
      "0  Adams   20  Marketing Manager\n",
      "1  Baker   35      Sales Manager\n",
      "2  Clark   30  Software Engineer\n"
     ]
    }
   ],
   "source": [
    "# 예시 데이터프레임 생성하기\n",
    "dict_1 = {'Name': ['Adams', 'Baker', 'Clark'],\n",
    "          'Age': [20, 35, 30],\n",
    "          'Job': ['Marketing Manager', 'Sales Manager', 'Software Engineer']}\n",
    "df_1 = pd.DataFrame.from_dict(dict_1)\n",
    "print(df_1)"
   ]
  },
  {
   "attachments": {},
   "cell_type": "markdown",
   "metadata": {},
   "source": [
    "파이썬 리스트를 인덱싱하는 방법과 동일하게 행 인덱스를 사용하여 1행부터 2행까지 순차적으로 선택하는 예제입니다.\n",
    "참고로, 1행은 두번째 행을 의미합니다."
   ]
  },
  {
   "cell_type": "code",
   "execution_count": 106,
   "metadata": {},
   "outputs": [],
   "source": [
    "# 데이터프레임 인덱싱하기\n"
   ]
  },
  {
   "attachments": {},
   "cell_type": "markdown",
   "metadata": {},
   "source": [
    "연속적이지 않은 데이터를 인덱싱을 하는 방법으로는 .loc 메서드와 .iloc 메서드가 있습니다."
   ]
  },
  {
   "cell_type": "code",
   "execution_count": 107,
   "metadata": {},
   "outputs": [],
   "source": [
    "# .loc 메서드 활용하여 0행, 2행을 인덱싱하기\n"
   ]
  },
  {
   "cell_type": "code",
   "execution_count": 108,
   "metadata": {},
   "outputs": [],
   "source": [
    "# .iloc 메서드 활용하여 0행, 2행을 인덱싱하기\n"
   ]
  },
  {
   "attachments": {},
   "cell_type": "markdown",
   "metadata": {},
   "source": [
    "두 방법의 차이는 무엇일까요?\n",
    "\n",
    "바로 .loc은 인덱스의 레이블을 인자로 받는 반면 .iloc은 인덱스의 위치 정수를 인자로 받는다는 점입니다."
   ]
  },
  {
   "cell_type": "code",
   "execution_count": 109,
   "metadata": {},
   "outputs": [
    {
     "name": "stdout",
     "output_type": "stream",
     "text": [
      "        0   1                  2\n",
      "R1  Adams  20  Marketing Manager\n",
      "R2  Baker  35      Sales Manager\n",
      "R3  Clark  30  Software Engineer\n"
     ]
    }
   ],
   "source": [
    "# 행 인덱스를 명시한 예시 데이터프레임 생성하기\n",
    "dict_2 = {'R1': ['Adams', 20, 'Marketing Manager'],\n",
    "          'R2': ['Baker', 35, 'Sales Manager'],\n",
    "          'R3': ['Clark', 30, 'Software Engineer']}\n",
    "df_2 = pd.DataFrame.from_dict(dict_2,\n",
    "                              orient = 'index')\n",
    "print(df_2)"
   ]
  },
  {
   "cell_type": "code",
   "execution_count": 110,
   "metadata": {},
   "outputs": [],
   "source": [
    "# .loc 메서드 활용하여 인덱싱하기\n"
   ]
  },
  {
   "cell_type": "code",
   "execution_count": 111,
   "metadata": {},
   "outputs": [],
   "source": [
    "# .iloc 메서드 활용하여 인덱싱하기\n"
   ]
  },
  {
   "attachments": {},
   "cell_type": "markdown",
   "metadata": {},
   "source": [
    "## 5-2. 조건에 따라 행 필터하기\n",
    "특정 열의 값에 따른 조건을 충족하는 행만 선택하여 추출할 수 있습니다."
   ]
  },
  {
   "cell_type": "code",
   "execution_count": 112,
   "metadata": {},
   "outputs": [
    {
     "name": "stdout",
     "output_type": "stream",
     "text": [
      "    Name  Age                Job\n",
      "0  Adams   20  Marketing Manager\n",
      "1  Baker   35      Sales Manager\n",
      "2  Clark   30  Software Engineer\n"
     ]
    }
   ],
   "source": [
    "# 예시 데이터프레임 생성하기\n",
    "dict_1 = {'Name': ['Adams', 'Baker', 'Clark'],\n",
    "          'Age': [20, 35, 30],\n",
    "          'Job': ['Marketing Manager', 'Sales Manager', 'Software Engineer']}\n",
    "df_1 = pd.DataFrame.from_dict(dict_1)\n",
    "print(df_1)"
   ]
  },
  {
   "cell_type": "code",
   "execution_count": 113,
   "metadata": {},
   "outputs": [],
   "source": [
    "# 조건문을 전달하여 인덱싱하기\n"
   ]
  },
  {
   "cell_type": "code",
   "execution_count": 114,
   "metadata": {},
   "outputs": [],
   "source": [
    "# 다중 조건문을 전달하여 인덱싱하기\n"
   ]
  },
  {
   "cell_type": "code",
   "execution_count": 115,
   "metadata": {},
   "outputs": [],
   "source": [
    "# 쿼리 메서드를 활용하여 인덱싱하기\n"
   ]
  },
  {
   "attachments": {},
   "cell_type": "markdown",
   "metadata": {},
   "source": [
    "## 5-3. 인덱스로 열 필터하기"
   ]
  },
  {
   "cell_type": "code",
   "execution_count": 116,
   "metadata": {},
   "outputs": [
    {
     "name": "stdout",
     "output_type": "stream",
     "text": [
      "    Name  Age                Job\n",
      "0  Adams   20  Marketing Manager\n",
      "1  Baker   35      Sales Manager\n",
      "2  Clark   30  Software Engineer\n"
     ]
    }
   ],
   "source": [
    "# 예시 데이터프레임 생성하기\n",
    "dict_1 = {'Name': ['Adams', 'Baker', 'Clark'],\n",
    "          'Age': [20, 35, 30],\n",
    "          'Job': ['Marketing Manager', 'Sales Manager', 'Software Engineer']}\n",
    "df_1 = pd.DataFrame.from_dict(dict_1)\n",
    "print(df_1)"
   ]
  },
  {
   "attachments": {},
   "cell_type": "markdown",
   "metadata": {},
   "source": [
    "앞에서 보셨던 .iloc 메서드를 활용하면 1열부터 2열까지 열을 선택할 수 있습니다. 참고로, 1열은 두번째 열을 의미합니다."
   ]
  },
  {
   "cell_type": "code",
   "execution_count": 117,
   "metadata": {},
   "outputs": [],
   "source": [
    "# .iloc 메서드 활용하여 인덱싱하기\n"
   ]
  },
  {
   "attachments": {},
   "cell_type": "markdown",
   "metadata": {},
   "source": [
    ".iloc 메서드는 연속적이지 않은 인덱스에 대해서도 인덱싱을 할 수 있습니다.\n",
    "이는 열을 필터하는 데에도 마찬가지입니다."
   ]
  },
  {
   "cell_type": "code",
   "execution_count": 118,
   "metadata": {},
   "outputs": [],
   "source": [
    "# .iloc 메서드 활용하여 불연속 인덱싱하기\n"
   ]
  },
  {
   "attachments": {},
   "cell_type": "markdown",
   "metadata": {},
   "source": [
    "## 5-4. 열 이름으로 열 필터하기"
   ]
  },
  {
   "attachments": {},
   "cell_type": "markdown",
   "metadata": {},
   "source": [
    "데이터에서 추출하고 싶은 열 이름을 알고 있다면 이를 필터링에 바로 활용하는 방법도 있습니다."
   ]
  },
  {
   "cell_type": "code",
   "execution_count": 119,
   "metadata": {},
   "outputs": [
    {
     "data": {
      "text/plain": [
       "\"\\n주소: 'https://archive.ics.uci.edu/ml/machine-learning-databases/wine-quality/winequality-red.csv'\\n\""
      ]
     },
     "execution_count": 119,
     "metadata": {},
     "output_type": "execute_result"
    }
   ],
   "source": [
    "# Vinho Verde 레드와인 품질 데이터 불러오기\n",
    "'''\n",
    "주소: 'https://archive.ics.uci.edu/ml/machine-learning-databases/wine-quality/winequality-red.csv'\n",
    "'''\n"
   ]
  },
  {
   "cell_type": "code",
   "execution_count": 120,
   "metadata": {},
   "outputs": [],
   "source": [
    "# 관심 열 추출하기: 와인에서 pH농도와 알코올 함량 보기\n",
    "# 리스트 인덱싱을 활용하기\n"
   ]
  },
  {
   "cell_type": "code",
   "execution_count": 121,
   "metadata": {},
   "outputs": [],
   "source": [
    "# 관심 열 추출하기: 데이터프레임의 filter 메서드를 활용하기\n"
   ]
  },
  {
   "attachments": {},
   "cell_type": "markdown",
   "metadata": {},
   "source": [
    "filter 메서드를 사용하더라도 원본 데이터프레임은 변하지 않습니다."
   ]
  },
  {
   "cell_type": "code",
   "execution_count": 122,
   "metadata": {},
   "outputs": [],
   "source": [
    "# filter 메서드 사용 후 원본 데이터 체크하기\n"
   ]
  },
  {
   "attachments": {},
   "cell_type": "markdown",
   "metadata": {},
   "source": [
    "## 5-5. 지정 문자열을 포함하는 행 /열 필터하기"
   ]
  },
  {
   "attachments": {},
   "cell_type": "markdown",
   "metadata": {},
   "source": [
    "filter 메서드에서 like 인자를 활용하면 원하는 문자열을 이름에 포함하는 행 / 열을 보여줄 수 있습니다."
   ]
  },
  {
   "cell_type": "code",
   "execution_count": 123,
   "metadata": {},
   "outputs": [
    {
     "name": "stdout",
     "output_type": "stream",
     "text": [
      "    Name  Age                Job\n",
      "0  Adams   20  Marketing Manager\n",
      "1  Baker   35      Sales Manager\n",
      "2  Clark   30  Software Engineer\n"
     ]
    }
   ],
   "source": [
    "# 예시 데이터프레임 생성하기\n",
    "dict_1 = {'Name': ['Adams', 'Baker', 'Clark'],\n",
    "          'Age': [20, 35, 30],\n",
    "          'Job': ['Marketing Manager', 'Sales Manager', 'Software Engineer']}\n",
    "df_1 = pd.DataFrame.from_dict(dict_1)\n",
    "print(df_1)"
   ]
  },
  {
   "cell_type": "code",
   "execution_count": 124,
   "metadata": {},
   "outputs": [],
   "source": [
    "# 행 이름 중 지정한 문자열을 가진 행 필터하기\n"
   ]
  },
  {
   "cell_type": "code",
   "execution_count": 125,
   "metadata": {},
   "outputs": [],
   "source": [
    "# 열 이름 중 지정한 문자열을 가진 열 필터하기\n"
   ]
  },
  {
   "attachments": {},
   "cell_type": "markdown",
   "metadata": {},
   "source": [
    "심화) filter 메서드에는 정규 표현식을 활용한 필터도 가능합니다."
   ]
  },
  {
   "cell_type": "code",
   "execution_count": 126,
   "metadata": {},
   "outputs": [],
   "source": [
    "# 예시) 지정한 문자열로 시작하는 열 이름을 가진 열 필터하기\n"
   ]
  },
  {
   "attachments": {},
   "cell_type": "markdown",
   "metadata": {},
   "source": [
    "# 6. Data processing (2)"
   ]
  },
  {
   "attachments": {},
   "cell_type": "markdown",
   "metadata": {},
   "source": [
    "## 6-1. 인덱스로 행 삭제하기"
   ]
  },
  {
   "attachments": {},
   "cell_type": "markdown",
   "metadata": {},
   "source": [
    "제외하고 싶은 행의 인덱스를 .drop 메서드에 리스트 인자로 명시하여 행을 삭제할 수 있습니다."
   ]
  },
  {
   "cell_type": "code",
   "execution_count": 127,
   "metadata": {},
   "outputs": [
    {
     "name": "stdout",
     "output_type": "stream",
     "text": [
      "     Name  Age                Job\n",
      "R1  Adams   20  Marketing Manager\n",
      "R2  Baker   35      Sales Manager\n",
      "R3  Clark   30  Software Engineer\n"
     ]
    }
   ],
   "source": [
    "# 행, 열 이름을 명시한 예시 데이터프레임 생성하기\n",
    "dict_1 = {'R1': ['Adams', 20, 'Marketing Manager'],\n",
    "          'R2': ['Baker', 35, 'Sales Manager'],\n",
    "          'R3': ['Clark', 30, 'Software Engineer']}\n",
    "df_1 = pd.DataFrame.from_dict(dict_1,\n",
    "                              orient = 'index',\n",
    "                              columns = ['Name', 'Age', 'Job'])\n",
    "print(df_1)"
   ]
  },
  {
   "cell_type": "code",
   "execution_count": 128,
   "metadata": {},
   "outputs": [],
   "source": [
    "# 제외하고 싶은 행 이름을 .drop 메서드의 인자로 제공하기\n"
   ]
  },
  {
   "attachments": {},
   "cell_type": "markdown",
   "metadata": {},
   "source": [
    "drop 메서드를 활용하더라도 원본 데이터프레임은 변하지 않습니다."
   ]
  },
  {
   "cell_type": "code",
   "execution_count": null,
   "metadata": {},
   "outputs": [],
   "source": []
  },
  {
   "attachments": {},
   "cell_type": "markdown",
   "metadata": {},
   "source": [
    "특정 행을 삭제한 데이터프레임을 저장하려면 새로 저장 (또는 덮어쓰기)하는 방법이 있습니다."
   ]
  },
  {
   "attachments": {},
   "cell_type": "markdown",
   "metadata": {},
   "source": [
    "반면에, inplace 인자는 행 삭제의 결과가 원본 데이터프레임에 바로 반영됩니다."
   ]
  },
  {
   "cell_type": "code",
   "execution_count": 129,
   "metadata": {},
   "outputs": [
    {
     "name": "stdout",
     "output_type": "stream",
     "text": [
      "     Name  Age                Job\n",
      "R1  Adams   20  Marketing Manager\n",
      "R2  Baker   35      Sales Manager\n",
      "R3  Clark   30  Software Engineer\n"
     ]
    }
   ],
   "source": [
    "# 행, 열 이름을 명시한 예시 데이터프레임 생성하기\n",
    "dict_1 = {'R1': ['Adams', 20, 'Marketing Manager'],\n",
    "          'R2': ['Baker', 35, 'Sales Manager'],\n",
    "          'R3': ['Clark', 30, 'Software Engineer']}\n",
    "df_1 = pd.DataFrame.from_dict(dict_1,\n",
    "                              orient = 'index',\n",
    "                              columns = ['Name', 'Age', 'Job'])\n",
    "print(df_1)"
   ]
  },
  {
   "cell_type": "code",
   "execution_count": 130,
   "metadata": {},
   "outputs": [],
   "source": [
    "# 제외하고 싶은 행 이름을 .drop 메서드의 인자로 제공하기\n"
   ]
  },
  {
   "attachments": {},
   "cell_type": "markdown",
   "metadata": {},
   "source": [
    ".iloc을 활용하여 행을 필터할 때처럼 위치 정수를 명시하여 행을 삭제하는 방법도 가능합니다."
   ]
  },
  {
   "cell_type": "code",
   "execution_count": 131,
   "metadata": {},
   "outputs": [
    {
     "name": "stdout",
     "output_type": "stream",
     "text": [
      "    Name  Age                Job\n",
      "0  Adams   20  Marketing Manager\n",
      "1  Baker   35      Sales Manager\n",
      "2  Clark   30  Software Engineer\n"
     ]
    }
   ],
   "source": [
    "# 예시 데이터프레임 생성하기\n",
    "dict_1 = {'Name': ['Adams', 'Baker', 'Clark'],\n",
    "          'Age': [20, 35, 30],\n",
    "          'Job': ['Marketing Manager', 'Sales Manager', 'Software Engineer']}\n",
    "df_1 = pd.DataFrame.from_dict(dict_1)\n",
    "print(df_1)"
   ]
  },
  {
   "cell_type": "code",
   "execution_count": 132,
   "metadata": {},
   "outputs": [],
   "source": [
    "# 데이터프레임의 index 메서드 활용하여 인덱스를 명시하고 삭제하기\n"
   ]
  },
  {
   "attachments": {},
   "cell_type": "markdown",
   "metadata": {},
   "source": [
    "## 6-2. 조건에 따라 행 삭제하기"
   ]
  },
  {
   "attachments": {},
   "cell_type": "markdown",
   "metadata": {},
   "source": [
    "필터와 마찬가지로 특정 열의 값에 따른 조건을 충족하는 행만 선택하여 추출할 수 있습니다."
   ]
  },
  {
   "cell_type": "code",
   "execution_count": 133,
   "metadata": {},
   "outputs": [
    {
     "name": "stdout",
     "output_type": "stream",
     "text": [
      "    Name  Age                Job\n",
      "0  Adams   20  Marketing Manager\n",
      "1  Baker   35      Sales Manager\n",
      "2  Clark   30  Software Engineer\n"
     ]
    }
   ],
   "source": [
    "# 예시 데이터프레임 생성하기\n",
    "dict_1 = {'Name': ['Adams', 'Baker', 'Clark'],\n",
    "          'Age': [20, 35, 30],\n",
    "          'Job': ['Marketing Manager', 'Sales Manager', 'Software Engineer']}\n",
    "df_1 = pd.DataFrame.from_dict(dict_1)\n",
    "print(df_1)"
   ]
  },
  {
   "cell_type": "code",
   "execution_count": 134,
   "metadata": {},
   "outputs": [],
   "source": [
    "# 조건에 따라 행 삭제하기\n"
   ]
  },
  {
   "attachments": {},
   "cell_type": "markdown",
   "metadata": {},
   "source": [
    "## 6-3. 열 삭제하기"
   ]
  },
  {
   "attachments": {},
   "cell_type": "markdown",
   "metadata": {},
   "source": [
    "특정 열을 삭제하고 싶을 때에는 .drop 메서드를 활용하면 됩니다.\n",
    "이때 axis 인자에 1을 넣어주어야 해당하는 열이 삭제됩니다."
   ]
  },
  {
   "cell_type": "code",
   "execution_count": 135,
   "metadata": {},
   "outputs": [
    {
     "name": "stdout",
     "output_type": "stream",
     "text": [
      "    Name  Age                Job\n",
      "0  Adams   20  Marketing Manager\n",
      "1  Baker   35      Sales Manager\n",
      "2  Clark   30  Software Engineer\n"
     ]
    }
   ],
   "source": [
    "# 예시 데이터프레임 생성하기\n",
    "dict_1 = {'Name': ['Adams', 'Baker', 'Clark'],\n",
    "          'Age': [20, 35, 30],\n",
    "          'Job': ['Marketing Manager', 'Sales Manager', 'Software Engineer']}\n",
    "df_1 = pd.DataFrame.from_dict(dict_1)\n",
    "print(df_1)"
   ]
  },
  {
   "cell_type": "code",
   "execution_count": 136,
   "metadata": {},
   "outputs": [],
   "source": [
    "# 지정한 열 이름에 해당하는 데이터프레임의 열 삭제하기\n"
   ]
  },
  {
   "attachments": {},
   "cell_type": "markdown",
   "metadata": {},
   "source": [
    "## 6-4. 열 추가 / 변경하기"
   ]
  },
  {
   "cell_type": "code",
   "execution_count": 137,
   "metadata": {},
   "outputs": [
    {
     "name": "stdout",
     "output_type": "stream",
     "text": [
      "    Name  Age                Job\n",
      "0  Adams   20  Marketing Manager\n",
      "1  Baker   35      Sales Manager\n",
      "2  Clark   30  Software Engineer\n"
     ]
    }
   ],
   "source": [
    "# 예시 데이터프레임 생성하기\n",
    "dict_1 = {'Name': ['Adams', 'Baker', 'Clark'],\n",
    "          'Age': [20, 35, 30],\n",
    "          'Job': ['Marketing Manager', 'Sales Manager', 'Software Engineer']}\n",
    "df_1 = pd.DataFrame.from_dict(dict_1)\n",
    "print(df_1)"
   ]
  },
  {
   "attachments": {},
   "cell_type": "markdown",
   "metadata": {},
   "source": [
    "새로운 열을 추가하려면 데이터프레임에 존재하지 않는 새로운 이름을 인덱싱한 값에 기본값을 할당하여 추가할 수 있습니다."
   ]
  },
  {
   "cell_type": "code",
   "execution_count": 138,
   "metadata": {},
   "outputs": [],
   "source": [
    "# 데이터프레임에 새로운 열 추가하기\n"
   ]
  },
  {
   "attachments": {},
   "cell_type": "markdown",
   "metadata": {},
   "source": [
    "또한 기존에 존재하는 데이터프레임 열에 대한 논리값이나 논리 연산 결과를 새로운 열로 생성할 수도 있습니다."
   ]
  },
  {
   "cell_type": "code",
   "execution_count": 139,
   "metadata": {},
   "outputs": [
    {
     "name": "stdout",
     "output_type": "stream",
     "text": [
      "    Name  Age                Job\n",
      "0  Adams   20  Marketing Manager\n",
      "1  Baker   35      Sales Manager\n",
      "2  Clark   30  Software Engineer\n"
     ]
    }
   ],
   "source": [
    "# 예시 데이터프레임 생성하기\n",
    "dict_1 = {'Name': ['Adams', 'Baker', 'Clark'],\n",
    "          'Age': [20, 35, 30],\n",
    "          'Job': ['Marketing Manager', 'Sales Manager', 'Software Engineer']}\n",
    "df_1 = pd.DataFrame.from_dict(dict_1)\n",
    "print(df_1)"
   ]
  },
  {
   "cell_type": "code",
   "execution_count": 140,
   "metadata": {},
   "outputs": [],
   "source": [
    "# 논리 연산을 활용하여 새로운 열 생성하기\n"
   ]
  },
  {
   "attachments": {},
   "cell_type": "markdown",
   "metadata": {},
   "source": [
    "아래는 기존에 있는 두 열을 활용해 새로운 값을 계산하고 저장하는 예제입니다.\n",
    "\n",
    "키와 몸무게를 활용하여 BMI를 계산하고 이를 새로운 열에 저장합니다."
   ]
  },
  {
   "cell_type": "code",
   "execution_count": 141,
   "metadata": {},
   "outputs": [
    {
     "name": "stdout",
     "output_type": "stream",
     "text": [
      "    Name  Height(m)  Weight(kg)                Job\n",
      "0  Adams       1.85          80  Marketing Manager\n",
      "1  Baker       1.75          55      Sales Manager\n",
      "2  Clark       1.70          65  Software Engineer\n"
     ]
    }
   ],
   "source": [
    "# 예시 데이터프레임 생성하기\n",
    "dict_1 = {'Name': ['Adams', 'Baker', 'Clark'],\n",
    "          'Height(m)': [1.85, 1.75, 1.70],\n",
    "          'Weight(kg)': [80, 55, 65],\n",
    "          'Job': ['Marketing Manager', 'Sales Manager', 'Software Engineer']}\n",
    "df_1 = pd.DataFrame.from_dict(dict_1)\n",
    "print(df_1)"
   ]
  },
  {
   "cell_type": "code",
   "execution_count": 142,
   "metadata": {},
   "outputs": [],
   "source": [
    "# Height와 Weight를 활용하여 BMI 계산하기 (BMI = W/(H^2))\n"
   ]
  },
  {
   "attachments": {},
   "cell_type": "markdown",
   "metadata": {},
   "source": [
    "또한 for-loop을 활용한 조건문을 적용하여 새로운 열을 추가할 수도 있습니다.\n",
    "\n",
    "실습을 통해 BMI로 데이터프레임 내 사람들의 비만 여부를 판단해봅시다."
   ]
  },
  {
   "cell_type": "code",
   "execution_count": 143,
   "metadata": {},
   "outputs": [],
   "source": [
    "# 실습: BMI에 조건을 적용하여 구분하기\n"
   ]
  },
  {
   "attachments": {},
   "cell_type": "markdown",
   "metadata": {},
   "source": [
    "## 6-5. apply 메서드 활용하기"
   ]
  },
  {
   "attachments": {},
   "cell_type": "markdown",
   "metadata": {},
   "source": [
    "apply 메서드를 사용하시면 사용자가 정의한 함수를 활용해 데이터프레임의 열 값을 변경할 수 있습니다."
   ]
  },
  {
   "cell_type": "code",
   "execution_count": 144,
   "metadata": {},
   "outputs": [
    {
     "name": "stdout",
     "output_type": "stream",
     "text": [
      "    Name  Age                Job\n",
      "0  Adams   20  Marketing Manager\n",
      "1  Baker   35      Sales Manager\n",
      "2  Clark   30  Software Engineer\n"
     ]
    }
   ],
   "source": [
    "# 예시 데이터프레임 생성하기\n",
    "dict_1 = {'Name': ['Adams', 'Baker', 'Clark'],\n",
    "          'Age': [20, 35, 30],\n",
    "          'Job': ['Marketing Manager', 'Sales Manager', 'Software Engineer']}\n",
    "df_1 = pd.DataFrame.from_dict(dict_1)\n",
    "print(df_1)"
   ]
  },
  {
   "cell_type": "code",
   "execution_count": 145,
   "metadata": {},
   "outputs": [],
   "source": [
    "# 사용자 정의 함수 만들기\n"
   ]
  },
  {
   "cell_type": "code",
   "execution_count": 146,
   "metadata": {},
   "outputs": [],
   "source": [
    "# apply 메서드를 활용하여 데이터프레임 열 값을 변경하기\n"
   ]
  },
  {
   "attachments": {},
   "cell_type": "markdown",
   "metadata": {},
   "source": [
    "아래 예제를 통해 apply 메서드를 사용하여 전화번호 데이터프레임 중 지역번호를 추출해봅시다."
   ]
  },
  {
   "cell_type": "code",
   "execution_count": 147,
   "metadata": {},
   "outputs": [
    {
     "name": "stdout",
     "output_type": "stream",
     "text": [
      "           전화번호\n",
      "0  031-123-4567\n",
      "1  032-555-5555\n",
      "2  033-999-9999\n"
     ]
    }
   ],
   "source": [
    "# 예시 전화번호 데이터프레임 생성하기\n",
    "df_phone_number = [{'전화번호': '031-123-4567'},\n",
    "                   {'전화번호': '032-555-5555'},\n",
    "                   {'전화번호': '033-999-9999'}]\n",
    "df_1 = pd.DataFrame(df_phone_number, columns = ['전화번호'])\n",
    "print(df_1)"
   ]
  },
  {
   "cell_type": "code",
   "execution_count": 148,
   "metadata": {},
   "outputs": [],
   "source": [
    "# 사용자 정의 함수: 지역번호 추출\n"
   ]
  },
  {
   "cell_type": "code",
   "execution_count": 149,
   "metadata": {},
   "outputs": [],
   "source": [
    "# apply 메서드를 활용해 지역번호 추출하기\n"
   ]
  },
  {
   "attachments": {},
   "cell_type": "markdown",
   "metadata": {},
   "source": [
    "apply 메서드의 키워드 인자를 사용하면, 사용자 정의 함수에 파라미터를 전달할 수 있습니다."
   ]
  },
  {
   "cell_type": "code",
   "execution_count": 150,
   "metadata": {},
   "outputs": [],
   "source": [
    "# 지역번호를 안내하는 멘트 만들기\n"
   ]
  },
  {
   "cell_type": "code",
   "execution_count": 151,
   "metadata": {},
   "outputs": [],
   "source": [
    "# apply 메서드를 활용하여 안내멘트 열 생성하기\n"
   ]
  },
  {
   "attachments": {},
   "cell_type": "markdown",
   "metadata": {},
   "source": [
    "apply 메서드의 axis 키워드 인자를 사용하면 행과 열의 방향을 정할 수 있습니다."
   ]
  },
  {
   "cell_type": "code",
   "execution_count": 152,
   "metadata": {},
   "outputs": [
    {
     "name": "stdout",
     "output_type": "stream",
     "text": [
      "   A  B   C\n",
      "0  1  3   5\n",
      "1  2  3  10\n",
      "2  3  3  15\n",
      "3  4  3  20\n",
      "4  5  3  25\n"
     ]
    }
   ],
   "source": [
    "# 예시 데이터프레임 생성하기\n",
    "dict_1 = {'A': [1, 2, 3, 4, 5],\n",
    "          'B': [3, 3, 3, 3, 3],\n",
    "          'C': [5, 10, 15, 20, 25]}\n",
    "df_1 = pd.DataFrame.from_dict(dict_1)\n",
    "print(df_1)"
   ]
  },
  {
   "cell_type": "code",
   "execution_count": 153,
   "metadata": {},
   "outputs": [],
   "source": [
    "# Python 기본 sum 함수를 모든 열에 적용하기\n"
   ]
  },
  {
   "cell_type": "code",
   "execution_count": 154,
   "metadata": {},
   "outputs": [],
   "source": [
    "# Python 기본 sum 함수를 모든 행에 적용하기\n"
   ]
  },
  {
   "attachments": {},
   "cell_type": "markdown",
   "metadata": {},
   "source": [
    "apply 메서드에 lambda 표현식을 활용하여 인자를 전달할 수도 있습니다."
   ]
  },
  {
   "cell_type": "code",
   "execution_count": 155,
   "metadata": {},
   "outputs": [],
   "source": [
    "# lambda 표현식을 활용하여 간단한 함수 구현하기: 모든 값에 1 더하기\n"
   ]
  },
  {
   "attachments": {},
   "cell_type": "markdown",
   "metadata": {},
   "source": [
    "기본 `lambda` 함수처럼 조건문을 활용하는 방식도 가능합니다."
   ]
  },
  {
   "cell_type": "code",
   "execution_count": 156,
   "metadata": {},
   "outputs": [],
   "source": [
    "# lambda 표현식을 활용하여 간단한 함수 구현하기: 열 이름이 'A' 또는 'B'인 조건을 만족할 때 해당 열의 모든 값을 제곱하기\n"
   ]
  },
  {
   "attachments": {},
   "cell_type": "markdown",
   "metadata": {},
   "source": [
    "## 6-6. map 메서드 활용하기\n",
    "\n",
    "`map` 메서드를 활용하면 `apply` 메서드와 동일한 방식으로 열 값을 추가하거나 변경할 수 있습니다."
   ]
  },
  {
   "cell_type": "code",
   "execution_count": 157,
   "metadata": {},
   "outputs": [
    {
     "name": "stdout",
     "output_type": "stream",
     "text": [
      "           전화번호\n",
      "0  031-123-4567\n",
      "1  032-555-5555\n",
      "2  033-999-9999\n"
     ]
    }
   ],
   "source": [
    "# 예시 전화번호 데이터프레임 생성하기\n",
    "df_phone_number = [{'전화번호': '031-123-4567'},\n",
    "                   {'전화번호': '032-555-5555'},\n",
    "                   {'전화번호': '033-999-9999'}]\n",
    "df_1 = pd.DataFrame(df_phone_number, columns = ['전화번호'])\n",
    "print(df_1)"
   ]
  },
  {
   "cell_type": "code",
   "execution_count": 158,
   "metadata": {},
   "outputs": [],
   "source": [
    "# 사용자 정의 함수: 지역번호 추출\n"
   ]
  },
  {
   "cell_type": "code",
   "execution_count": 159,
   "metadata": {},
   "outputs": [],
   "source": [
    "# map 메서드를 활용해 지역번호 추출하기\n"
   ]
  },
  {
   "cell_type": "markdown",
   "metadata": {},
   "source": [
    "파라미터로 딕셔너리를 전달하면 컬럼값을 쉽게 원하는 값으로 변경 가능합니다.  \n",
    "기존의 컬럼값은 딕셔너리의 key로 사용되고, 해당되는 value의 값으로 컬럼값이 변경됩니다."
   ]
  },
  {
   "cell_type": "code",
   "execution_count": 160,
   "metadata": {},
   "outputs": [],
   "source": [
    "# map 메서드를 활용해 지역번호 열의 값을 지역명으로 변경하기\n"
   ]
  },
  {
   "attachments": {},
   "cell_type": "markdown",
   "metadata": {},
   "source": [
    "## 6-7. applymap 메서드 활용하기\n",
    "데이터프레임 전역에 동일한 함수를 적용하고 싶을 경우 사용할 수 있는 메서드입니다."
   ]
  },
  {
   "cell_type": "code",
   "execution_count": 161,
   "metadata": {},
   "outputs": [
    {
     "name": "stdout",
     "output_type": "stream",
     "text": [
      "      A    B     C\n",
      "0  1.10  3.0   5.1\n",
      "1  2.40  2.8  10.1\n",
      "2  2.80  3.1  15.2\n",
      "3  4.42  3.2  19.8\n",
      "4  5.10  2.6  24.8\n"
     ]
    }
   ],
   "source": [
    "# 예시 데이터프레임 생성하기\n",
    "dict_1 = {'A': [1.1, 2.4, 2.8, 4.42, 5.1],\n",
    "          'B': [3.0, 2.8, 3.1, 3.2, 2.6],\n",
    "          'C': [5.1, 10.1, 15.2, 19.8, 24.8]}\n",
    "df_1 = pd.DataFrame.from_dict(dict_1)\n",
    "print(df_1)"
   ]
  },
  {
   "cell_type": "code",
   "execution_count": 162,
   "metadata": {},
   "outputs": [],
   "source": [
    "# 데이터프레임 전역에 동일한 함수 적용하기\n"
   ]
  },
  {
   "attachments": {},
   "cell_type": "markdown",
   "metadata": {},
   "source": [
    "# 7. Data processing (3) - 데이터 병합 및 분할하기"
   ]
  },
  {
   "cell_type": "markdown",
   "metadata": {},
   "source": [
    "## 7-1. append 메서드 - 데이터프레임에 행 추가하기"
   ]
  },
  {
   "cell_type": "markdown",
   "metadata": {},
   "source": [
    "기본 파이썬 리스트의 내장 `append` 메서드와 동일하게 데이터프레임에 행을 append 또는 덧붙일 수 있습니다."
   ]
  },
  {
   "cell_type": "code",
   "execution_count": 163,
   "metadata": {},
   "outputs": [
    {
     "name": "stdout",
     "output_type": "stream",
     "text": [
      "    Name  Midterm  Final\n",
      "0   John       95     85\n",
      "1  Jenny       85     80\n",
      "2   Nate       10     30\n"
     ]
    }
   ],
   "source": [
    "# 예시 데이터프레임 생성하기\n",
    "friend_dict_list = [{'Name': 'John', 'Midterm': 95, 'Final': 85},\n",
    "         {'Name': 'Jenny', 'Midterm': 85, 'Final': 80},\n",
    "         {'Name': 'Nate', 'Midterm': 10, 'Final': 30}]\n",
    "df_1 = pd.DataFrame(friend_dict_list, columns = ['Name', 'Midterm', 'Final'])\n",
    "print(df_1)"
   ]
  },
  {
   "cell_type": "code",
   "execution_count": 164,
   "metadata": {},
   "outputs": [
    {
     "name": "stdout",
     "output_type": "stream",
     "text": [
      "  Name  Midterm  Final\n",
      "0  Ben       50     50\n"
     ]
    }
   ],
   "source": [
    "# 추가할 새로운 데이터프레임 (1행) 생성하기\n",
    "df_2 = pd.DataFrame([['Ben', 50, 50]], columns = ['Name', 'Midterm', 'Final'])\n",
    "print(df_2.head())"
   ]
  },
  {
   "cell_type": "code",
   "execution_count": 165,
   "metadata": {},
   "outputs": [],
   "source": [
    "# append()로 기존 예시 데이터프레임에 새로운 데이터프레임을 이어붙이기 (append)\n"
   ]
  },
  {
   "cell_type": "markdown",
   "metadata": {},
   "source": [
    "단, 판다스 데이터프레임에 `append()`를 쓰는 방식은 곧 deprecate될 (즉, 중요도가 떨어져 더 이상 사용되지 않고 향후 사라질) 예정입니다.<br>\n",
    "판다스 버젼 1.4.0부터 `append()` 메서드 대신 `concat()` 메서드를 쓰도록 안내하고 있습니다."
   ]
  },
  {
   "cell_type": "markdown",
   "metadata": {},
   "source": [
    "## 7-2. concat 메서드 - 두개의 데이터프레임 합치기"
   ]
  },
  {
   "cell_type": "markdown",
   "metadata": {},
   "source": [
    "다수의 데이터프레임을 다루다보면 데이터프레임을 하나로 합쳐야 하는 상황이 있습니다.\n",
    "\n",
    "이때 사용할 수 있는 판다스 메서드는 앞에서 보신 append 그리고 concat가 있습니다."
   ]
  },
  {
   "cell_type": "markdown",
   "metadata": {},
   "source": [
    "먼저 append 메서드를 보겠습니다. append를 활용하여 두번째 데이터프레임 (인자)를 첫번째 데이터프레임 (객체)의 데이터프레임의 마지막 행에 이어 추가합니다."
   ]
  },
  {
   "cell_type": "code",
   "execution_count": 166,
   "metadata": {},
   "outputs": [],
   "source": [
    "# 예시 데이터프레임 생성하기\n",
    "list_1 = [{'Name': 'John', 'Job': \"teacher\"},\n",
    "          {'Name': 'Nate', 'Job': \"student\"},\n",
    "          {'Name': 'Fred', 'Job': \"developer\"}]\n",
    "list_2 = [{'Name': 'Ed', 'Job': \"dentist\"},\n",
    "          {'Name': 'Jack', 'Job': \"farmer\"},\n",
    "          {'Name': 'Ted', 'Job': \"designer\"}]\n",
    "df_1 = pd.DataFrame(list_1, columns = ['Name', 'Job'])\n",
    "df_2 = pd.DataFrame(list_2, columns = ['Name', 'Job'])"
   ]
  },
  {
   "cell_type": "code",
   "execution_count": 167,
   "metadata": {},
   "outputs": [],
   "source": [
    "# append를 활용하여 두번째 데이터프레임을 첫번째 데이터프레임의 마지막 행에 이어 합치기\n"
   ]
  },
  {
   "cell_type": "markdown",
   "metadata": {},
   "source": [
    "다음은 concat 메서드를 보겠습니다. append와의 차이점은 concat를 활용하면 행으로 합치는 것뿐만 아니라 열로 합치는 것도 가능합니다.\n",
    "\n",
    "먼저 concat를 활용하여 두번째 데이터프레임 (인자)를 첫번째 데이터프레임 (객체)의 마지막 행에 이어 합쳐보겠습니다."
   ]
  },
  {
   "cell_type": "code",
   "execution_count": 168,
   "metadata": {},
   "outputs": [],
   "source": [
    "# concat를 활용하여 두번째 데이터프레임을 첫번째 데이터프레임의 새로운 행으로 합치기\n"
   ]
  },
  {
   "cell_type": "markdown",
   "metadata": {},
   "source": [
    "다음은 두번째 데이터프레임 (인자)를 첫번째 데이터프레임 (객체)의 마지막 열에 이어 합쳐보겠습니다."
   ]
  },
  {
   "cell_type": "code",
   "execution_count": 169,
   "metadata": {},
   "outputs": [],
   "source": [
    "# 예시 데이터프레임 생성하기\n",
    "list_1 = [{'Name': 'John', 'Job': \"teacher\"},\n",
    "          {'Name': 'Nate', 'Job': \"student\"},\n",
    "          {'Name': 'Jack', 'Job': \"developer\"}]\n",
    "list_2 = [{'Age': 25, 'Country': \"U.S\"},\n",
    "          {'Age': 30, 'Country': \"U.K\"},\n",
    "          {'Age': 45, 'Country': \"Korea\"}]\n",
    "df_1 = pd.DataFrame(list_1, columns = ['Name', 'Job'])\n",
    "df_2 = pd.DataFrame(list_2, columns = ['Age', 'Country'])"
   ]
  },
  {
   "cell_type": "code",
   "execution_count": 170,
   "metadata": {},
   "outputs": [],
   "source": [
    "# concat를 활용하여 두번째 데이터프레임을 첫번째 데이터프레임의 새로운 열로 합치기\n"
   ]
  },
  {
   "attachments": {},
   "cell_type": "markdown",
   "metadata": {},
   "source": [
    "## 7-3. groupby 메서드 - 정보 요약을 위해 그룹별로 묶기\n",
    "\n",
    "종종 주어진 판다스 데이터프레임에서 통계 또는 집계 결과를 얻어야 할 상황이 있습니다.<br>\n",
    "그럴 때 유용하게 사용할 수 있는 메서드로는 `groupby()` 메서드가 있습니다."
   ]
  },
  {
   "cell_type": "code",
   "execution_count": 171,
   "metadata": {},
   "outputs": [
    {
     "name": "stdout",
     "output_type": "stream",
     "text": [
      "        Name             Major     Sex\n",
      "0       John  Computer Science    male\n",
      "1       Nate  Computer Science    male\n",
      "2    Abraham           Physics    male\n",
      "3      Brian        Psychology    male\n",
      "4      Janny         Economics  female\n",
      "5       Yuna         Economics  female\n",
      "6   Jeniffer  Computer Science  female\n",
      "7     Edward  Computer Science    male\n",
      "8       Zara        Psychology  female\n",
      "9      Wendy         Economics  female\n",
      "10      Sera        Psychology  female\n"
     ]
    }
   ],
   "source": [
    "# 예시 데이터프레임 생성하기: 이름, 전공, 성별 데이터\n",
    "student_list = [{'Name': 'John', 'Major': \"Computer Science\", 'Sex': \"male\"},\n",
    "                {'Name': 'Nate', 'Major': \"Computer Science\", 'Sex': \"male\"},\n",
    "                {'Name': 'Abraham', 'Major': \"Physics\", 'Sex': \"male\"},\n",
    "                {'Name': 'Brian', 'Major': \"Psychology\", 'Sex': \"male\"},\n",
    "                {'Name': 'Janny', 'Major': \"Economics\", 'Sex': \"female\"},\n",
    "                {'Name': 'Yuna', 'Major': \"Economics\", 'Sex': \"female\"},\n",
    "                {'Name': 'Jeniffer', 'Major': \"Computer Science\", 'Sex': \"female\"},\n",
    "                {'Name': 'Edward', 'Major': \"Computer Science\", 'Sex': \"male\"},\n",
    "                {'Name': 'Zara', 'Major': \"Psychology\", 'Sex': \"female\"},\n",
    "                {'Name': 'Wendy', 'Major': \"Economics\", 'Sex': \"female\"},\n",
    "                {'Name': 'Sera', 'Major': \"Psychology\", 'Sex': \"female\"}]\n",
    "df_1 = pd.DataFrame(student_list, columns = ['Name', 'Major', 'Sex'])\n",
    "print(df_1)"
   ]
  },
  {
   "cell_type": "code",
   "execution_count": 172,
   "metadata": {},
   "outputs": [],
   "source": [
    "# groupby를 활용해 전공별로 데이터프레임 묶기\n"
   ]
  },
  {
   "attachments": {},
   "cell_type": "markdown",
   "metadata": {},
   "source": [
    "전공별로 묶은 데이터를 보면 한눈에 성별 분포를 파악할 수 있습니다."
   ]
  },
  {
   "cell_type": "code",
   "execution_count": 173,
   "metadata": {},
   "outputs": [],
   "source": [
    "# 전공별로 묶은 데이터프레임을 펼쳐보아 성별 분포를 확인하기\n"
   ]
  },
  {
   "cell_type": "code",
   "execution_count": 174,
   "metadata": {},
   "outputs": [],
   "source": [
    "# groupby를 활용해 전공별로 묶은 데이터를 counting을 위한 데이터프레임으로 만들기\n"
   ]
  },
  {
   "cell_type": "markdown",
   "metadata": {},
   "source": [
    "아래의 출력을 통해, 이 학교의 남녀 성비가 균등하다는 정보를 알 수 있습니다."
   ]
  },
  {
   "cell_type": "code",
   "execution_count": 175,
   "metadata": {},
   "outputs": [],
   "source": [
    "# groupby를 활용해 성별별로 묶은 데이터를 펼쳐보기\n"
   ]
  },
  {
   "cell_type": "code",
   "execution_count": 176,
   "metadata": {},
   "outputs": [],
   "source": [
    "# groupby를 활용해 성별별로 묶은 데이터를 counting을 위한 데이터프레임으로 만들기\n"
   ]
  },
  {
   "attachments": {},
   "cell_type": "markdown",
   "metadata": {},
   "source": [
    "`groupby()` 메서드를 활용하면 그룹별 통계량을 확인할 수 있습니다.<br>\n",
    "* 유의사항: 통계 결과는 통계 계산이 가능한 수치형 데이터에 대해서만 산출합니다."
   ]
  },
  {
   "cell_type": "code",
   "execution_count": 177,
   "metadata": {},
   "outputs": [
    {
     "name": "stdout",
     "output_type": "stream",
     "text": [
      "     total_bill   tip     sex smoker   day    time  size\n",
      "0         16.99  1.01  Female     No   Sun  Dinner     2\n",
      "1         10.34  1.66    Male     No   Sun  Dinner     3\n",
      "2         21.01  3.50    Male     No   Sun  Dinner     3\n",
      "3         23.68  3.31    Male     No   Sun  Dinner     2\n",
      "4         24.59  3.61  Female     No   Sun  Dinner     4\n",
      "..          ...   ...     ...    ...   ...     ...   ...\n",
      "239       29.03  5.92    Male     No   Sat  Dinner     3\n",
      "240       27.18  2.00  Female    Yes   Sat  Dinner     2\n",
      "241       22.67  2.00    Male    Yes   Sat  Dinner     2\n",
      "242       17.82  1.75    Male     No   Sat  Dinner     2\n",
      "243       18.78  3.00  Female     No  Thur  Dinner     2\n",
      "\n",
      "[244 rows x 7 columns]\n"
     ]
    }
   ],
   "source": [
    "# 예시 데이터프레임 불러오기: 레스토랑 종사자의 팁 수령액 데이터\n",
    "tip_data = pd.read_csv('https://raw.githubusercontent.com/mwaskom/seaborn-data/master/tips.csv')\n",
    "df_1 = pd.DataFrame(tip_data)\n",
    "print(df_1)"
   ]
  },
  {
   "cell_type": "code",
   "execution_count": 178,
   "metadata": {},
   "outputs": [],
   "source": [
    "# 평균 계산하기\n"
   ]
  },
  {
   "cell_type": "code",
   "execution_count": 179,
   "metadata": {},
   "outputs": [],
   "source": [
    "# 분산 계산하기\n"
   ]
  },
  {
   "attachments": {},
   "cell_type": "markdown",
   "metadata": {},
   "source": [
    "`groupby()`로 생성한 객체에 `agg()` 메서드를 활용하면 다양한 통계량을 한 번에 구할 수도 있습니다.<br>\n",
    "적용할 수 있는 통계함수의 목록은 아래와 같습니다.\n",
    "\n",
    "|**함수**|**내용**     |\n",
    "|-------|-------------|\n",
    "|count  |데이터의 개수 |\n",
    "|sum    |합계         |\n",
    "|mean   |평균         |\n",
    "|median |중앙값       |\n",
    "|var    |분산         |\n",
    "|std    |표준편차      |\n",
    "|min    |최소값        |\n",
    "|max    |최대값        |\n",
    "|unique |고유값        |\n",
    "|nunique|고유값의 개수 |\n",
    "|prod   |곱           |\n",
    "|first  |첫번째 값     |\n",
    "|last   |마지막 값     |"
   ]
  },
  {
   "attachments": {},
   "cell_type": "markdown",
   "metadata": {},
   "source": [
    "`groupby().agg()` 를 활용하여 다중으로 통계량을 산출하는 예시를 만들어봅시다."
   ]
  },
  {
   "cell_type": "code",
   "execution_count": 180,
   "metadata": {},
   "outputs": [],
   "source": [
    "# 다중으로 기초통계량 계산하기\n"
   ]
  },
  {
   "cell_type": "code",
   "execution_count": 181,
   "metadata": {},
   "outputs": [],
   "source": [
    "# 열별로 다른 통계량 산출하기\n"
   ]
  },
  {
   "attachments": {},
   "cell_type": "markdown",
   "metadata": {},
   "source": [
    "## 7-4. duplicated 메서드와 drop_duplicates 메서드 - 중복 데이터 확인 및 제외하기\n",
    "이번에는 중복된 데이터를 확인하고 제외하는 방법에 대해 알아보겠습니다."
   ]
  },
  {
   "cell_type": "code",
   "execution_count": 182,
   "metadata": {},
   "outputs": [
    {
     "name": "stdout",
     "output_type": "stream",
     "text": [
      "        Name             Major     Sex\n",
      "0       John  Computer Science    male\n",
      "1       Nate  Computer Science    male\n",
      "2    Abraham           Physics    male\n",
      "3      Brian        Psychology    male\n",
      "4      Janny         Economics  female\n",
      "5       Yuna         Economics  female\n",
      "6   Jeniffer  Computer Science  female\n",
      "7     Edward  Computer Science    male\n",
      "8       Zara        Psychology  female\n",
      "9      Wendy         Economics  female\n",
      "10      Sera        Psychology  female\n",
      "11      John  Computer Science    male\n"
     ]
    }
   ],
   "source": [
    "# 예시 데이터프레임 생성하기: 이름, 전공, 성별 데이터\n",
    "student_list = [{'Name': 'John', 'Major': \"Computer Science\", 'Sex': \"male\"},\n",
    "                {'Name': 'Nate', 'Major': \"Computer Science\", 'Sex': \"male\"},\n",
    "                {'Name': 'Abraham', 'Major': \"Physics\", 'Sex': \"male\"},\n",
    "                {'Name': 'Brian', 'Major': \"Psychology\", 'Sex': \"male\"},\n",
    "                {'Name': 'Janny', 'Major': \"Economics\", 'Sex': \"female\"},\n",
    "                {'Name': 'Yuna', 'Major': \"Economics\", 'Sex': \"female\"},\n",
    "                {'Name': 'Jeniffer', 'Major': \"Computer Science\", 'Sex': \"female\"},\n",
    "                {'Name': 'Edward', 'Major': \"Computer Science\", 'Sex': \"male\"},\n",
    "                {'Name': 'Zara', 'Major': \"Psychology\", 'Sex': \"female\"},\n",
    "                {'Name': 'Wendy', 'Major': \"Economics\", 'Sex': \"female\"},\n",
    "                {'Name': 'Sera', 'Major': \"Psychology\", 'Sex': \"female\"},\n",
    "                {'Name': 'John', 'Major': \"Computer Science\", 'Sex': \"male\"}]\n",
    "df_1 = pd.DataFrame(student_list, columns = ['Name', 'Major', 'Sex'])\n",
    "print(df_1)"
   ]
  },
  {
   "attachments": {},
   "cell_type": "markdown",
   "metadata": {},
   "source": [
    "`duplicated()` 메서드를 활용해 중복된 데이터를 확인할 수 있습니다."
   ]
  },
  {
   "cell_type": "code",
   "execution_count": 183,
   "metadata": {},
   "outputs": [],
   "source": [
    "# 중복된 데이터 확인하기\n"
   ]
  },
  {
   "attachments": {},
   "cell_type": "markdown",
   "metadata": {},
   "source": [
    "`drop_duplicates()` 메서드를 활용해 중복된 데이터를 제외할 수 있습니다."
   ]
  },
  {
   "cell_type": "code",
   "execution_count": 184,
   "metadata": {},
   "outputs": [],
   "source": [
    "# 중복된 데이터 제외하기\n"
   ]
  },
  {
   "cell_type": "code",
   "execution_count": 185,
   "metadata": {},
   "outputs": [
    {
     "name": "stdout",
     "output_type": "stream",
     "text": [
      "        Name             Major     Sex\n",
      "0       John  Computer Science    male\n",
      "1       Nate  Computer Science    male\n",
      "2    Abraham           Physics    male\n",
      "3      Brian        Psychology    male\n",
      "4      Janny         Economics  female\n",
      "5       Yuna         Economics  female\n",
      "6   Jeniffer  Computer Science  female\n",
      "7     Edward  Computer Science    male\n",
      "8       Zara        Psychology  female\n",
      "9      Wendy         Economics  female\n",
      "10      Nate              None    male\n",
      "11      John  Computer Science    None\n"
     ]
    }
   ],
   "source": [
    "# 예시 데이터프레임 생성하기: 이름, 전공, 성별 데이터\n",
    "student_list = [{'Name': 'John', 'Major': \"Computer Science\", 'Sex': \"male\"},\n",
    "                {'Name': 'Nate', 'Major': \"Computer Science\", 'Sex': \"male\"},\n",
    "                {'Name': 'Abraham', 'Major': \"Physics\", 'Sex': \"male\"},\n",
    "                {'Name': 'Brian', 'Major': \"Psychology\", 'Sex': \"male\"},\n",
    "                {'Name': 'Janny', 'Major': \"Economics\", 'Sex': \"female\"},\n",
    "                {'Name': 'Yuna', 'Major': \"Economics\", 'Sex': \"female\"},\n",
    "                {'Name': 'Jeniffer', 'Major': \"Computer Science\", 'Sex': \"female\"},\n",
    "                {'Name': 'Edward', 'Major': \"Computer Science\", 'Sex': \"male\"},\n",
    "                {'Name': 'Zara', 'Major': \"Psychology\", 'Sex': \"female\"},\n",
    "                {'Name': 'Wendy', 'Major': \"Economics\", 'Sex': \"female\"},\n",
    "                {'Name': 'Nate', 'Major': None, 'Sex': \"male\"},\n",
    "                {'Name': 'John', 'Major': \"Computer Science\", 'Sex': None}]\n",
    "df_1 = pd.DataFrame(student_list, columns = ['Name', 'Major', 'Sex'])\n",
    "print(df_1)"
   ]
  },
  {
   "attachments": {},
   "cell_type": "markdown",
   "metadata": {},
   "source": [
    "`duplicated()` 메서드를 사용하면, 지정한 열 내에서 중복된 데이터가 존재한다면 `True` 논리값을 반환합니다."
   ]
  },
  {
   "cell_type": "code",
   "execution_count": 186,
   "metadata": {},
   "outputs": [],
   "source": [
    "# 한 열에 대해 중복 데이터 여부 표시하기\n"
   ]
  },
  {
   "attachments": {},
   "cell_type": "markdown",
   "metadata": {},
   "source": [
    "`drop_duplicates()` 메서드를 활용해 중복된 값을 제거할 때에, `keep` 인자를 지정하여 중복된 값들 중 어떤 값을 대표값으로 취하여 살릴 지를 설정할 수 있습니다.\n",
    "\n",
    "참고로 `keep` 인자의 기본 default 값은 `first`로 설정되어 있습니다."
   ]
  },
  {
   "cell_type": "code",
   "execution_count": 187,
   "metadata": {},
   "outputs": [],
   "source": [
    "# 중복된 값 제거하기\n"
   ]
  },
  {
   "attachments": {},
   "cell_type": "markdown",
   "metadata": {},
   "source": [
    "그리고 `drop_duplicates()` 메서드를 사용하더라도 원본 데이터에는 변함이 없습니다."
   ]
  },
  {
   "cell_type": "code",
   "execution_count": 188,
   "metadata": {},
   "outputs": [],
   "source": [
    "# 원본 데이터 확인하기\n"
   ]
  },
  {
   "attachments": {},
   "cell_type": "markdown",
   "metadata": {},
   "source": [
    "## 7-5. 결측치 처리하기"
   ]
  },
  {
   "attachments": {},
   "cell_type": "markdown",
   "metadata": {},
   "source": [
    "다수의 인공지능 알고리즘은 결측치가 있는 데이터에 대해 작동하지 않는다는 단점이 있습니다.\n",
    "따라서 이번에는 데이터에 결측치가 있을 때 처리하는 방법에 대해 실습하겠습니다.\n",
    "\n",
    "우선 데이터프레임을 생성하고 결측치를 `None`으로 할당하겠습니다."
   ]
  },
  {
   "cell_type": "code",
   "execution_count": 189,
   "metadata": {},
   "outputs": [
    {
     "data": {
      "text/html": [
       "<div>\n",
       "<style scoped>\n",
       "    .dataframe tbody tr th:only-of-type {\n",
       "        vertical-align: middle;\n",
       "    }\n",
       "\n",
       "    .dataframe tbody tr th {\n",
       "        vertical-align: top;\n",
       "    }\n",
       "\n",
       "    .dataframe thead th {\n",
       "        text-align: right;\n",
       "    }\n",
       "</style>\n",
       "<table border=\"1\" class=\"dataframe\">\n",
       "  <thead>\n",
       "    <tr style=\"text-align: right;\">\n",
       "      <th></th>\n",
       "      <th>Name</th>\n",
       "      <th>Job</th>\n",
       "      <th>Age</th>\n",
       "    </tr>\n",
       "  </thead>\n",
       "  <tbody>\n",
       "    <tr>\n",
       "      <th>0</th>\n",
       "      <td>John</td>\n",
       "      <td>teacher</td>\n",
       "      <td>40.0</td>\n",
       "    </tr>\n",
       "    <tr>\n",
       "      <th>1</th>\n",
       "      <td>Nate</td>\n",
       "      <td>teacher</td>\n",
       "      <td>35.0</td>\n",
       "    </tr>\n",
       "    <tr>\n",
       "      <th>2</th>\n",
       "      <td>Yuna</td>\n",
       "      <td>teacher</td>\n",
       "      <td>37.0</td>\n",
       "    </tr>\n",
       "    <tr>\n",
       "      <th>3</th>\n",
       "      <td>Abraham</td>\n",
       "      <td>student</td>\n",
       "      <td>10.0</td>\n",
       "    </tr>\n",
       "    <tr>\n",
       "      <th>4</th>\n",
       "      <td>Brian</td>\n",
       "      <td>student</td>\n",
       "      <td>12.0</td>\n",
       "    </tr>\n",
       "    <tr>\n",
       "      <th>5</th>\n",
       "      <td>Janny</td>\n",
       "      <td>student</td>\n",
       "      <td>11.0</td>\n",
       "    </tr>\n",
       "    <tr>\n",
       "      <th>6</th>\n",
       "      <td>Nate</td>\n",
       "      <td>teacher</td>\n",
       "      <td>NaN</td>\n",
       "    </tr>\n",
       "    <tr>\n",
       "      <th>7</th>\n",
       "      <td>John</td>\n",
       "      <td>student</td>\n",
       "      <td>NaN</td>\n",
       "    </tr>\n",
       "  </tbody>\n",
       "</table>\n",
       "</div>"
      ],
      "text/plain": [
       "      Name      Job   Age\n",
       "0     John  teacher  40.0\n",
       "1     Nate  teacher  35.0\n",
       "2     Yuna  teacher  37.0\n",
       "3  Abraham  student  10.0\n",
       "4    Brian  student  12.0\n",
       "5    Janny  student  11.0\n",
       "6     Nate  teacher   NaN\n",
       "7     John  student   NaN"
      ]
     },
     "execution_count": 189,
     "metadata": {},
     "output_type": "execute_result"
    }
   ],
   "source": [
    "# 예시 데이터프레임 생성하기\n",
    "school_id_list = [{'Name': 'John', 'Job': \"teacher\", 'Age': 40},\n",
    "                  {'Name': 'Nate', 'Job': \"teacher\", 'Age': 35},\n",
    "                  {'Name': 'Yuna', 'Job': \"teacher\", 'Age': 37},\n",
    "                  {'Name': 'Abraham', 'Job': \"student\", 'Age': 10},\n",
    "                  {'Name': 'Brian', 'Job': \"student\", 'Age': 12},\n",
    "                  {'Name': 'Janny', 'Job': \"student\", 'Age': 11},\n",
    "                  {'Name': 'Nate', 'Job': \"teacher\", 'Age': None},\n",
    "                  {'Name': 'John', 'Job': \"student\", 'Age': None}]\n",
    "df_1 = pd.DataFrame(school_id_list, columns = ['Name', 'Job', 'Age'])\n",
    "df_1"
   ]
  },
  {
   "cell_type": "code",
   "execution_count": 190,
   "metadata": {},
   "outputs": [],
   "source": [
    "# 데이터프레임의 전반적인 정보 보기\n"
   ]
  },
  {
   "cell_type": "code",
   "execution_count": 191,
   "metadata": {},
   "outputs": [],
   "source": [
    "# 개별 원소의 결측치 여부 확인하기\n",
    "# 방법 1.\n"
   ]
  },
  {
   "cell_type": "code",
   "execution_count": 192,
   "metadata": {},
   "outputs": [],
   "source": [
    "# 개별 원소의 결측치 여부 확인하기\n",
    "# 방법 2.\n"
   ]
  },
  {
   "attachments": {},
   "cell_type": "markdown",
   "metadata": {},
   "source": [
    "`fillna()` 메서드를 활용하면 결측치를 대체하여 채워넣을 값 (fill_value)을 임의로 할당하여 결측된 부분을 메울 수 있습니다.<br>\n",
    "우선 fill_value를 0으로 설정해봅시다."
   ]
  },
  {
   "cell_type": "code",
   "execution_count": 193,
   "metadata": {},
   "outputs": [],
   "source": [
    "# fillna() 메서드로 결측치 채워넣기\n"
   ]
  },
  {
   "attachments": {},
   "cell_type": "markdown",
   "metadata": {},
   "source": [
    "하지만 모든 상황에서 결측치를 단순하게 0으로 대체하는 것은 좋은 선택이 아닐 수 있습니다.<br>\n",
    "많은 경우에, 주어진 데이터에서 보다 많은 정보를 취합한 뒤 이를 대표하는 fill_value를 지정하는 것이 종종 더 나은 결과를 가져다줍니다.\n",
    "\n",
    "예시로 우리는 위에서 다룬 예시 데이터프레임을 선생님과 학생이라는 그룹으로 데이터를 구분할 수 있습니다.<br>\n",
    "결측치를 그룹별로 나눠 해당 그룹에서 관측된 값들의 대표값으로 결측치를 대체한다면 더 좋은 결과를 얻을 수 있습니다."
   ]
  },
  {
   "cell_type": "code",
   "execution_count": 194,
   "metadata": {},
   "outputs": [],
   "source": [
    "# Age 열에서 발생한 결측치를 teacher, student의 그룹별 평균으로 각각 다르게 대체하기\n"
   ]
  },
  {
   "attachments": {},
   "cell_type": "markdown",
   "metadata": {},
   "source": [
    "## 7-6. 데이터의 고유값 (unique) 확인하기\n",
    "데이터프레임 열에 중복되는 여러 값이 있을 때, 데이터에 어떤 종류의 고유값들이 있는지 확인할 수 있습니다."
   ]
  },
  {
   "cell_type": "code",
   "execution_count": 195,
   "metadata": {},
   "outputs": [],
   "source": [
    "# 예시 데이터프레임 생성하기\n",
    "job_list = [{'Name': 'John', 'Job': \"teacher\"},\n",
    "            {'Name': 'Nate', 'Job': \"teacher\"},\n",
    "            {'Name': 'Fred', 'Job': \"teacher\"},\n",
    "            {'Name': 'Abraham', 'Job': \"student\"},\n",
    "            {'Name': 'Brian', 'Job': \"student\"},\n",
    "            {'Name': 'Janny', 'Job': \"developer\"},\n",
    "            {'Name': 'Nate', 'Job': \"teacher\"},\n",
    "            {'Name': 'Obrian', 'Job': \"dentist\"},\n",
    "            {'Name': 'Yuna', 'Job': \"teacher\"},\n",
    "            {'Name': 'Rob', 'Job': \"lawyer\"},\n",
    "            {'Name': 'Brian', 'Job': \"student\"},\n",
    "            {'Name': 'Matt', 'Job': \"student\"},\n",
    "            {'Name': 'Wendy', 'Job': \"banker\"},\n",
    "            {'Name': 'Edward', 'Job': \"teacher\"},\n",
    "            {'Name': 'Ian', 'Job': \"teacher\"},\n",
    "            {'Name': 'Chris', 'Job': \"banker\"},\n",
    "            {'Name': 'Philip', 'Job': \"lawyer\"},\n",
    "            {'Name': 'Janny', 'Job': \"basketball player\"},\n",
    "            {'Name': 'Gwen', 'Job': \"teacher\"},\n",
    "            {'Name': 'Jessy', 'Job': \"student\"}]\n",
    "df_1 = pd.DataFrame(job_list, columns = ['Name', 'Job'])"
   ]
  },
  {
   "attachments": {},
   "cell_type": "markdown",
   "metadata": {},
   "source": [
    "원하는 열에 `unique()` 함수를 사용하면 중복 없이 해당 열에 있는 모든 고유값들을 출력할 수 있습니다."
   ]
  },
  {
   "cell_type": "code",
   "execution_count": 196,
   "metadata": {},
   "outputs": [],
   "source": [
    "# 열 고유값 출력하기\n"
   ]
  },
  {
   "attachments": {},
   "cell_type": "markdown",
   "metadata": {},
   "source": [
    "마지막으로 각 고유값에 몇 개의 원본 데이터가 대응하는지 `value_counts()` 함수로 확인할 수 있습니다."
   ]
  },
  {
   "cell_type": "code",
   "execution_count": 197,
   "metadata": {},
   "outputs": [],
   "source": [
    "# 열 고유값 별 대응 데이터 개수 출력하기\n"
   ]
  }
 ],
 "metadata": {
  "kernelspec": {
   "display_name": "Python 3",
   "language": "python",
   "name": "python3"
  },
  "language_info": {
   "codemirror_mode": {
    "name": "ipython",
    "version": 3
   },
   "file_extension": ".py",
   "mimetype": "text/x-python",
   "name": "python",
   "nbconvert_exporter": "python",
   "pygments_lexer": "ipython3",
   "version": "3.11.2"
  },
  "orig_nbformat": 4,
  "vscode": {
   "interpreter": {
    "hash": "9ed43112b92757a8605236e9ae0cbd7ac5211b7cfe4eb24ea5b5df26475b5043"
   }
  }
 },
 "nbformat": 4,
 "nbformat_minor": 2
}
