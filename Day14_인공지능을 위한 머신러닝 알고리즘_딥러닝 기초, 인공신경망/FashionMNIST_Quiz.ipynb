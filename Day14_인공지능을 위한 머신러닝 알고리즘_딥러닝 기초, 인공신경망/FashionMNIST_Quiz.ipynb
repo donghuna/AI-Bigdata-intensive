{
 "cells": [
  {
   "cell_type": "code",
   "execution_count": 1,
   "metadata": {},
   "outputs": [],
   "source": [
    "# import\n",
    "import torch\n",
    "from torch import nn\n",
    "from torch.utils.data import DataLoader\n",
    "from torchvision import datasets\n",
    "from torchvision.transforms import ToTensor"
   ]
  },
  {
   "cell_type": "code",
   "execution_count": 2,
   "metadata": {},
   "outputs": [],
   "source": [
    "# FashinMNIST 데이터셋 다운로드\n"
   ]
  },
  {
   "cell_type": "code",
   "execution_count": 3,
   "metadata": {},
   "outputs": [],
   "source": [
    "#DataLoader\n"
   ]
  },
  {
   "cell_type": "code",
   "execution_count": 4,
   "metadata": {},
   "outputs": [],
   "source": [
    "# 모델 정의\n"
   ]
  },
  {
   "cell_type": "code",
   "execution_count": 5,
   "metadata": {},
   "outputs": [],
   "source": [
    "# hyperparmeter 설정\n"
   ]
  },
  {
   "cell_type": "code",
   "execution_count": 6,
   "metadata": {},
   "outputs": [],
   "source": [
    "# loss function 설정\n"
   ]
  },
  {
   "cell_type": "code",
   "execution_count": 7,
   "metadata": {},
   "outputs": [],
   "source": [
    "# Optimizer\n"
   ]
  },
  {
   "cell_type": "code",
   "execution_count": 8,
   "metadata": {},
   "outputs": [],
   "source": [
    "# training / test 함수 정의\n"
   ]
  },
  {
   "cell_type": "code",
   "execution_count": 9,
   "metadata": {},
   "outputs": [
    {
     "name": "stdout",
     "output_type": "stream",
     "text": [
      "Epoch 1\n",
      "-------------------------------\n",
      "loss: 2.305718  [    0/60000]\n",
      "loss: 2.290984  [ 6400/60000]\n",
      "loss: 2.273102  [12800/60000]\n",
      "loss: 2.271063  [19200/60000]\n",
      "loss: 2.250307  [25600/60000]\n",
      "loss: 2.216563  [32000/60000]\n",
      "loss: 2.239587  [38400/60000]\n",
      "loss: 2.200320  [44800/60000]\n",
      "loss: 2.198621  [51200/60000]\n",
      "loss: 2.172520  [57600/60000]\n",
      "Test Error: \n",
      " Accuracy: 41.9%, Avg loss: 2.165124 \n",
      "\n",
      "Epoch 2\n",
      "-------------------------------\n",
      "loss: 2.175388  [    0/60000]\n",
      "loss: 2.160766  [ 6400/60000]\n",
      "loss: 2.111794  [12800/60000]\n",
      "loss: 2.129783  [19200/60000]\n",
      "loss: 2.072476  [25600/60000]\n",
      "loss: 2.011543  [32000/60000]\n",
      "loss: 2.057899  [38400/60000]\n",
      "loss: 1.975399  [44800/60000]\n",
      "loss: 1.978628  [51200/60000]\n",
      "loss: 1.911210  [57600/60000]\n",
      "Test Error: \n",
      " Accuracy: 51.4%, Avg loss: 1.909609 \n",
      "\n",
      "Epoch 3\n",
      "-------------------------------\n",
      "loss: 1.939336  [    0/60000]\n",
      "loss: 1.903126  [ 6400/60000]\n",
      "loss: 1.798967  [12800/60000]\n",
      "loss: 1.843217  [19200/60000]\n",
      "loss: 1.728693  [25600/60000]\n",
      "loss: 1.669174  [32000/60000]\n",
      "loss: 1.716727  [38400/60000]\n",
      "loss: 1.608261  [44800/60000]\n",
      "loss: 1.630749  [51200/60000]\n",
      "loss: 1.529112  [57600/60000]\n",
      "Test Error: \n",
      " Accuracy: 61.3%, Avg loss: 1.547657 \n",
      "\n",
      "Epoch 4\n",
      "-------------------------------\n",
      "loss: 1.606920  [    0/60000]\n",
      "loss: 1.566746  [ 6400/60000]\n",
      "loss: 1.429757  [12800/60000]\n",
      "loss: 1.504868  [19200/60000]\n",
      "loss: 1.380499  [25600/60000]\n",
      "loss: 1.366780  [32000/60000]\n",
      "loss: 1.398293  [38400/60000]\n",
      "loss: 1.319118  [44800/60000]\n",
      "loss: 1.349637  [51200/60000]\n",
      "loss: 1.246829  [57600/60000]\n",
      "Test Error: \n",
      " Accuracy: 63.9%, Avg loss: 1.275489 \n",
      "\n",
      "Epoch 5\n",
      "-------------------------------\n",
      "loss: 1.350154  [    0/60000]\n",
      "loss: 1.323498  [ 6400/60000]\n",
      "loss: 1.170844  [12800/60000]\n",
      "loss: 1.275485  [19200/60000]\n",
      "loss: 1.142273  [25600/60000]\n",
      "loss: 1.166941  [32000/60000]\n",
      "loss: 1.196518  [38400/60000]\n",
      "loss: 1.136039  [44800/60000]\n",
      "loss: 1.168674  [51200/60000]\n",
      "loss: 1.077418  [57600/60000]\n",
      "Test Error: \n",
      " Accuracy: 64.9%, Avg loss: 1.101633 \n",
      "\n",
      "Done!\n"
     ]
    }
   ],
   "source": [
    "# 학습\n"
   ]
  },
  {
   "cell_type": "code",
   "execution_count": 10,
   "metadata": {},
   "outputs": [],
   "source": [
    "# 모델 저장하기\n"
   ]
  }
 ],
 "metadata": {
  "kernelspec": {
   "display_name": "Python 3",
   "language": "python",
   "name": "python3"
  },
  "language_info": {
   "codemirror_mode": {
    "name": "ipython",
    "version": 3
   },
   "file_extension": ".py",
   "mimetype": "text/x-python",
   "name": "python",
   "nbconvert_exporter": "python",
   "pygments_lexer": "ipython3",
   "version": "3.7.6"
  }
 },
 "nbformat": 4,
 "nbformat_minor": 4
}
