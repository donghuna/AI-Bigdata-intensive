{
 "cells": [
  {
   "cell_type": "code",
   "execution_count": 2,
   "metadata": {},
   "outputs": [],
   "source": [
    "# import\n",
    "\n",
    "import torch\n",
    "from torch import nn\n",
    "from torch.utils.data import DataLoader\n",
    "from torchvision import datasets\n",
    "from torchvision.transforms import ToTensor\n",
    "from sklearn.model_selection import train_test_split"
   ]
  },
  {
   "cell_type": "code",
   "execution_count": 3,
   "metadata": {},
   "outputs": [],
   "source": [
    "# 데이터셋 다운로드\n",
    "\n",
    "training_data = datasets.MNIST(\n",
    "    root=\"data\",\n",
    "    train=True,\n",
    "    download=False,\n",
    "    transform=ToTensor()\n",
    ")\n",
    "\n",
    "test_data = datasets.MNIST(\n",
    "    root=\"data\",\n",
    "    train=False,\n",
    "    download=False,\n",
    "    transform=ToTensor()\n",
    ")"
   ]
  },
  {
   "cell_type": "code",
   "execution_count": 4,
   "metadata": {},
   "outputs": [
    {
     "name": "stdout",
     "output_type": "stream",
     "text": [
      "X.shape: torch.Size([60000, 28, 28]), y.shape: torch.Size([60000])\n",
      "X_test.shape: torch.Size([10000, 28, 28]), y_test.shape: torch.Size([10000])\n"
     ]
    }
   ],
   "source": [
    "X, y = training_data.data, training_data.targets\n",
    "X_test, y_test = test_data.data, test_data.targets\n",
    "\n",
    "print('X.shape: %s, y.shape: %s'%(training_data.data.shape, training_data.targets.shape))\n",
    "print('X_test.shape: %s, y_test.shape: %s'%(X_test.shape, y_test.shape))"
   ]
  },
  {
   "cell_type": "code",
   "execution_count": 4,
   "metadata": {},
   "outputs": [],
   "source": [
    "#DataLoader\n",
    "train_dataloader = DataLoader(training_data, batch_size=64)\n",
    "test_dataloader = DataLoader(test_data, batch_size=64)"
   ]
  },
  {
   "cell_type": "code",
   "execution_count": 5,
   "metadata": {},
   "outputs": [],
   "source": [
    "# 모델 정의\n",
    "class NeuralNetwork(nn.Module):\n",
    "    def __init__(self):\n",
    "        super(NeuralNetwork, self).__init__()\n",
    "        self.flatten = nn.Flatten()\n",
    "        self.linear_relu_stack = nn.Sequential(\n",
    "            nn.Linear(28*28, 512),\n",
    "            nn.ReLU(),\n",
    "            nn.Linear(512, 512),\n",
    "            nn.ReLU(),\n",
    "            nn.Linear(512, 10),\n",
    "        )\n",
    "\n",
    "    def forward(self, x):\n",
    "        x = self.flatten(x)\n",
    "        logits = self.linear_relu_stack(x)\n",
    "        return logits\n",
    "\n",
    "model = NeuralNetwork()"
   ]
  },
  {
   "cell_type": "code",
   "execution_count": 6,
   "metadata": {},
   "outputs": [],
   "source": [
    "# hyperparmeter 설정\n",
    "learning_rate = 1e-3\n",
    "batch_size = 64\n",
    "epochs = 5"
   ]
  },
  {
   "cell_type": "code",
   "execution_count": 7,
   "metadata": {},
   "outputs": [],
   "source": [
    "# loss function 설정\n",
    "loss_fn = nn.CrossEntropyLoss()"
   ]
  },
  {
   "cell_type": "code",
   "execution_count": 8,
   "metadata": {},
   "outputs": [],
   "source": [
    "# Optimizer\n",
    "optimizer = torch.optim.SGD(model.parameters(), lr=learning_rate)"
   ]
  },
  {
   "cell_type": "code",
   "execution_count": 9,
   "metadata": {},
   "outputs": [],
   "source": [
    "# training / test 함수 정의\n",
    "def train_loop(dataloader, model, loss_fn, optimizer):\n",
    "    size = len(dataloader.dataset)\n",
    "    for batch_idx, batch_data in enumerate(dataloader):\n",
    "        X, y = batch_data\n",
    "        # 예측(prediction)과 손실(loss) 계산\n",
    "        pred = model(X)\n",
    "        loss = loss_fn(pred, y)\n",
    "\n",
    "        # 역전파\n",
    "        optimizer.zero_grad()\n",
    "        loss.backward()\n",
    "        optimizer.step()\n",
    "\n",
    "        if batch_idx % 100 == 0:\n",
    "            loss, current = loss.item(), batch_idx * len(X)\n",
    "            print(\"loss: %.7f  [%d / %d]\"%(loss, current, size))\n",
    "\n",
    "def test_loop(dataloader, model, loss_fn):\n",
    "    size = len(dataloader.dataset)\n",
    "    num_batches = len(dataloader)\n",
    "    test_loss, correct = 0, 0\n",
    "\n",
    "    with torch.no_grad():\n",
    "        for X, y in dataloader:\n",
    "            pred = model(X)\n",
    "            test_loss += loss_fn(pred, y).item()\n",
    "            correct += (pred.argmax(1) == y).type(torch.float).sum().item()\n",
    "\n",
    "    test_loss /= num_batches\n",
    "    correct /= size\n",
    "    print(\"Test Error: \\n Accuracy: %.1f, Avg loss: %.8f \\n\"%((100*correct), test_loss))"
   ]
  },
  {
   "cell_type": "code",
   "execution_count": 11,
   "metadata": {},
   "outputs": [
    {
     "name": "stdout",
     "output_type": "stream",
     "text": [
      "Epoch 1 \n",
      "-------------------------------\n",
      "loss: 2.3023691  [0 / 60000]\n",
      "loss: 2.2953990  [6400 / 60000]\n",
      "loss: 2.3067973  [12800 / 60000]\n",
      "loss: 2.2836437  [19200 / 60000]\n",
      "loss: 2.2847142  [25600 / 60000]\n",
      "loss: 2.2842040  [32000 / 60000]\n",
      "loss: 2.2765696  [38400 / 60000]\n",
      "loss: 2.2800448  [44800 / 60000]\n",
      "loss: 2.2614779  [51200 / 60000]\n",
      "loss: 2.2550361  [57600 / 60000]\n",
      "Test Error: \n",
      " Accuracy: 44.1, Avg loss: 2.25635752 \n",
      "\n",
      "Epoch 2 \n",
      "-------------------------------\n",
      "loss: 2.2547786  [0 / 60000]\n",
      "loss: 2.2446239  [6400 / 60000]\n",
      "loss: 2.2634935  [12800 / 60000]\n",
      "loss: 2.2195587  [19200 / 60000]\n",
      "loss: 2.2335377  [25600 / 60000]\n",
      "loss: 2.2311792  [32000 / 60000]\n",
      "loss: 2.2135146  [38400 / 60000]\n",
      "loss: 2.2344382  [44800 / 60000]\n",
      "loss: 2.1955802  [51200 / 60000]\n",
      "loss: 2.1837652  [57600 / 60000]\n",
      "Test Error: \n",
      " Accuracy: 59.5, Avg loss: 2.18793034 \n",
      "\n",
      "Epoch 3 \n",
      "-------------------------------\n",
      "loss: 2.1859255  [0 / 60000]\n",
      "loss: 2.1682563  [6400 / 60000]\n",
      "loss: 2.1984072  [12800 / 60000]\n",
      "loss: 2.1230431  [19200 / 60000]\n",
      "loss: 2.1515536  [25600 / 60000]\n",
      "loss: 2.1447949  [32000 / 60000]\n",
      "loss: 2.1094635  [38400 / 60000]\n",
      "loss: 2.1540945  [44800 / 60000]\n",
      "loss: 2.0870049  [51200 / 60000]\n",
      "loss: 2.0652585  [57600 / 60000]\n",
      "Test Error: \n",
      " Accuracy: 64.5, Avg loss: 2.06975470 \n",
      "\n",
      "Epoch 4 \n",
      "-------------------------------\n",
      "loss: 2.0656059  [0 / 60000]\n",
      "loss: 2.0347075  [6400 / 60000]\n",
      "loss: 2.0851386  [12800 / 60000]\n",
      "loss: 1.9596034  [19200 / 60000]\n",
      "loss: 2.0061829  [25600 / 60000]\n",
      "loss: 1.9905441  [32000 / 60000]\n",
      "loss: 1.9301919  [38400 / 60000]\n",
      "loss: 2.0078335  [44800 / 60000]\n",
      "loss: 1.9017004  [51200 / 60000]\n",
      "loss: 1.8639424  [57600 / 60000]\n",
      "Test Error: \n",
      " Accuracy: 67.5, Avg loss: 1.86557468 \n",
      "\n",
      "Epoch 5 \n",
      "-------------------------------\n",
      "loss: 1.8615781  [0 / 60000]\n",
      "loss: 1.8086511  [6400 / 60000]\n",
      "loss: 1.8875049  [12800 / 60000]\n",
      "loss: 1.7029053  [19200 / 60000]\n",
      "loss: 1.7571501  [25600 / 60000]\n",
      "loss: 1.7310209  [32000 / 60000]\n",
      "loss: 1.6540036  [38400 / 60000]\n",
      "loss: 1.7732849  [44800 / 60000]\n",
      "loss: 1.6239316  [51200 / 60000]\n",
      "loss: 1.5728803  [57600 / 60000]\n",
      "Test Error: \n",
      " Accuracy: 71.0, Avg loss: 1.56571319 \n",
      "\n",
      "Done!\n"
     ]
    }
   ],
   "source": [
    "# 학습\n",
    "for t in range(epochs):\n",
    "    print(\"Epoch %d \\n-------------------------------\"%(t+1))\n",
    "    train_loop(train_dataloader, model, loss_fn, optimizer)\n",
    "    test_loop(test_dataloader, model, loss_fn)\n",
    "print(\"Done!\")"
   ]
  },
  {
   "cell_type": "code",
   "execution_count": null,
   "metadata": {},
   "outputs": [],
   "source": [
    "# 모델 저장하기\n",
    "torch.save(model.state_dict(), 'model_weights.pth')"
   ]
  },
  {
   "cell_type": "code",
   "execution_count": null,
   "metadata": {},
   "outputs": [],
   "source": [
    "# 모델 불러오기\n",
    "model.load_state_dict(torch.load('model_weights.pth'))\n",
    "model.eval()"
   ]
  }
 ],
 "metadata": {
  "kernelspec": {
   "display_name": "Python 3",
   "language": "python",
   "name": "python3"
  },
  "language_info": {
   "codemirror_mode": {
    "name": "ipython",
    "version": 3
   },
   "file_extension": ".py",
   "mimetype": "text/x-python",
   "name": "python",
   "nbconvert_exporter": "python",
   "pygments_lexer": "ipython3",
   "version": "3.7.6"
  }
 },
 "nbformat": 4,
 "nbformat_minor": 4
}
