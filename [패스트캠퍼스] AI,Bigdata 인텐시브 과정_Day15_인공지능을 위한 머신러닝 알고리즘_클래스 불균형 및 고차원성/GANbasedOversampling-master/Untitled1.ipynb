{
 "cells": [
  {
   "cell_type": "code",
   "execution_count": 2,
   "id": "80eb14cf",
   "metadata": {},
   "outputs": [
    {
     "ename": "NameError",
     "evalue": "name 'df' is not defined",
     "output_type": "error",
     "traceback": [
      "\u001b[0;31m---------------------------------------------------------------------------\u001b[0m",
      "\u001b[0;31mNameError\u001b[0m                                 Traceback (most recent call last)",
      "Cell \u001b[0;32mIn[2], line 15\u001b[0m\n\u001b[1;32m     12\u001b[0m \u001b[38;5;28;01mfrom\u001b[39;00m \u001b[38;5;21;01msklearn\u001b[39;00m\u001b[38;5;21;01m.\u001b[39;00m\u001b[38;5;21;01mensemble\u001b[39;00m \u001b[38;5;28;01mimport\u001b[39;00m RandomForestClassifier\n\u001b[1;32m     13\u001b[0m \u001b[38;5;28;01mimport\u001b[39;00m \u001b[38;5;21;01mpandas\u001b[39;00m \u001b[38;5;28;01mas\u001b[39;00m \u001b[38;5;21;01mpd\u001b[39;00m\n\u001b[0;32m---> 15\u001b[0m X \u001b[38;5;241m=\u001b[39m \u001b[43mdf\u001b[49m\u001b[38;5;241m.\u001b[39mdrop([\u001b[38;5;124m'\u001b[39m\u001b[38;5;124mclass\u001b[39m\u001b[38;5;124m'\u001b[39m], axis \u001b[38;5;241m=\u001b[39m \u001b[38;5;241m1\u001b[39m)\n\u001b[1;32m     16\u001b[0m Y \u001b[38;5;241m=\u001b[39m df[\u001b[38;5;124m'\u001b[39m\u001b[38;5;124mclass\u001b[39m\u001b[38;5;124m'\u001b[39m]\n\u001b[1;32m     17\u001b[0m X \u001b[38;5;241m=\u001b[39m pd\u001b[38;5;241m.\u001b[39mget_dummies(X, prefix_sep\u001b[38;5;241m=\u001b[39m\u001b[38;5;124m'\u001b[39m\u001b[38;5;124m_\u001b[39m\u001b[38;5;124m'\u001b[39m)\n",
      "\u001b[0;31mNameError\u001b[0m: name 'df' is not defined"
     ]
    }
   ],
   "source": [
    "import time\n",
    "import numpy as np \n",
    "import pandas as pd \n",
    "import matplotlib.pyplot as plt\n",
    "from matplotlib.pyplot import figure\n",
    "import seaborn as sns\n",
    "from sklearn import preprocessing\n",
    "from sklearn.preprocessing import LabelEncoder\n",
    "from sklearn.preprocessing import StandardScaler\n",
    "from sklearn.model_selection import train_test_split\n",
    "from sklearn.metrics import classification_report,confusion_matrix\n",
    "from sklearn.ensemble import RandomForestClassifier\n",
    "import pandas as pd\n",
    "\n",
    "X = df.drop(['class'], axis = 1)\n",
    "Y = df['class']\n",
    "X = pd.get_dummies(X, prefix_sep='_')\n",
    "Y = LabelEncoder().fit_transform(Y)\n",
    "X = StandardScaler().fit_transform(X)"
   ]
  },
  {
   "cell_type": "markdown",
   "id": "260661ba",
   "metadata": {},
   "source": [
    "##  classification result without any feature extraction (selection) "
   ]
  },
  {
   "cell_type": "code",
   "execution_count": null,
   "id": "4d5d25d0",
   "metadata": {},
   "outputs": [],
   "source": [
    "def forest_test(X, Y):\n",
    "    X_Train, X_Test, Y_Train, Y_Test = train_test_split(X, Y, \n",
    "                                                        test_size = 0.30, \n",
    "                                                        random_state = 101)\n",
    "    start = time.process_time()\n",
    "    trainedforest = RandomForestClassifier(n_estimators=700).fit(X_Train,Y_Train)\n",
    "    print(time.process_time() - start)\n",
    "    predictionforest = trainedforest.predict(X_Test)\n",
    "    print(confusion_matrix(Y_Test,predictionforest))\n",
    "    print(classification_report(Y_Test,predictionforest))\n",
    "    \n",
    "forest_test(X, Y)"
   ]
  },
  {
   "cell_type": "markdown",
   "id": "d747b863",
   "metadata": {},
   "source": [
    "## Principle Components Analysis (PCA)"
   ]
  },
  {
   "cell_type": "code",
   "execution_count": null,
   "id": "a192b224",
   "metadata": {},
   "outputs": [],
   "source": [
    "from sklearn.decomposition import PCA\n",
    "\n",
    "pca = PCA(n_components=2)\n",
    "X_pca = pca.fit_transform(X)\n",
    "PCA_df = pd.DataFrame(data = X_pca, columns = ['PC1', 'PC2'])\n",
    "PCA_df = pd.concat([PCA_df, df['class']], axis = 1)\n",
    "PCA_df['class'] = LabelEncoder().fit_transform(PCA_df['class'])\n",
    "PCA_df.head()\n",
    "\n",
    "figure(num=None, figsize=(8, 8), dpi=80, facecolor='w', edgecolor='k')\n",
    "\n",
    "classes = [1, 0]\n",
    "colors = ['r', 'b']\n",
    "for clas, color in zip(classes, colors):\n",
    "    plt.scatter(PCA_df.loc[PCA_df['class'] == clas, 'PC1'], \n",
    "                PCA_df.loc[PCA_df['class'] == clas, 'PC2'], \n",
    "                c = color)\n",
    "    \n",
    "plt.xlabel('Principal Component 1', fontsize = 12)\n",
    "plt.ylabel('Principal Component 2', fontsize = 12)\n",
    "plt.title('2D PCA', fontsize = 15)\n",
    "plt.legend(['Poisonous', 'Edible'])\n",
    "plt.grid()"
   ]
  },
  {
   "cell_type": "code",
   "execution_count": null,
   "id": "748f5be3",
   "metadata": {},
   "outputs": [],
   "source": [
    "pca = PCA(n_components=3,svd_solver='full')\n",
    "X_pca = pca.fit_transform(X)\n",
    "print(pca.explained_variance_)\n",
    "\n",
    "forest_test(X_pca, Y)"
   ]
  },
  {
   "cell_type": "code",
   "execution_count": null,
   "id": "e32a9241",
   "metadata": {},
   "outputs": [],
   "source": [
    "\n",
    "from itertools import product\n",
    "\n",
    "X_Reduced, X_Test_Reduced, Y_Reduced, Y_Test_Reduced = train_test_split(X_pca, Y, \n",
    "                                                                        test_size = 0.30, \n",
    "                                                                        random_state = 101)\n",
    "trainedforest = RandomForestClassifier(n_estimators=700).fit(X_Reduced,Y_Reduced)\n",
    "\n",
    "x_min, x_max = X_Reduced[:, 0].min() - 1, X_Reduced[:, 0].max() + 1\n",
    "y_min, y_max = X_Reduced[:, 1].min() - 1, X_Reduced[:, 1].max() + 1\n",
    "xx, yy = np.meshgrid(np.arange(x_min, x_max, 0.1), np.arange(y_min, y_max, 0.1))\n",
    "Z = trainedforest.predict(np.c_[xx.ravel(), yy.ravel()])\n",
    "Z = Z.reshape(xx.shape)\n",
    "plt.contourf(xx, yy, Z,cmap=plt.cm.coolwarm, alpha=0.4)\n",
    "plt.scatter(X_Reduced[:, 0], X_Reduced[:, 1], c=Y_Reduced, s=20, edgecolor='k')\n",
    "plt.xlabel('Principal Component 1', fontsize = 12)\n",
    "plt.ylabel('Principal Component 2', fontsize = 12)\n",
    "plt.title('Random Forest', fontsize = 15)\n",
    "plt.show()"
   ]
  }
 ],
 "metadata": {
  "kernelspec": {
   "display_name": "Python 3 (ipykernel)",
   "language": "python",
   "name": "python3"
  },
  "language_info": {
   "codemirror_mode": {
    "name": "ipython",
    "version": 3
   },
   "file_extension": ".py",
   "mimetype": "text/x-python",
   "name": "python",
   "nbconvert_exporter": "python",
   "pygments_lexer": "ipython3",
   "version": "3.8.0"
  }
 },
 "nbformat": 4,
 "nbformat_minor": 5
}
