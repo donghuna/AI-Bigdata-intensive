{
 "cells": [
  {
   "cell_type": "code",
   "execution_count": 1,
   "metadata": {},
   "outputs": [],
   "source": [
    "# import\n",
    "import numpy as np\n",
    "import torch\n",
    "from torch import nn\n",
    "from torch.utils.data import DataLoader\n",
    "from torchvision import datasets\n",
    "from torchvision.transforms import ToTensor\n",
    "from sklearn.model_selection import train_test_split\n",
    "from sklearn.preprocessing import StandardScaler"
   ]
  },
  {
   "cell_type": "code",
   "execution_count": 2,
   "metadata": {},
   "outputs": [
    {
     "name": "stdout",
     "output_type": "stream",
     "text": [
      "X,shape: (17379, 14), y.shape: (17379, 1)\n"
     ]
    }
   ],
   "source": [
    "# 데이터셋 로드하기\n",
    "dfile = 'data/bikesharing.csv'\n",
    "data = np.genfromtxt(dfile, delimiter=',')\n",
    "\n",
    "X = data[:,:-1]\n",
    "y = data[:,-1:]\n",
    "\n",
    "dim_x = X.shape[1]\n",
    "\n",
    "print('X,shape: %s, y.shape: %s'%(X.shape, y.shape))"
   ]
  },
  {
   "cell_type": "code",
   "execution_count": 3,
   "metadata": {},
   "outputs": [],
   "source": [
    "X_trn, X_tst, y_trn, y_tst = train_test_split(X, y, test_size=None, train_size = 5000, random_state = 42)\n",
    "\n",
    "scalerX = StandardScaler()  \n",
    "X_trn = scalerX.fit_transform(X_trn)\n",
    "X_tst = scalerX.transform(X_tst)"
   ]
  },
  {
   "cell_type": "code",
   "execution_count": 4,
   "metadata": {},
   "outputs": [],
   "source": [
    "# Regression datset 생성 (Tensor)\n",
    "class RegDataset():\n",
    "\n",
    "    def __init__(self, X, Y):\n",
    "    \n",
    "        self.X = X\n",
    "        self.Y = Y\n",
    "\n",
    "    def __len__(self):\n",
    "    \n",
    "        return len(self.X)\n",
    "\n",
    "    def __getitem__(self, idx):\n",
    "    \n",
    "        x = torch.from_numpy(self.X[idx]).float()\n",
    "        y = torch.from_numpy(self.Y[idx]).float()\n",
    "    \n",
    "        return x, y\n",
    "    \n",
    "train_set = RegDataset(X_trn, y_trn)\n",
    "test_set = RegDataset(X_tst, y_tst)"
   ]
  },
  {
   "cell_type": "code",
   "execution_count": 5,
   "metadata": {},
   "outputs": [],
   "source": [
    "#Dataloader\n",
    "train_dataloader = DataLoader(dataset=train_set, batch_size=50, shuffle=True, drop_last=True)\n",
    "test_dataloader = DataLoader(dataset=test_set, batch_size=50, shuffle=False)"
   ]
  },
  {
   "cell_type": "code",
   "execution_count": 6,
   "metadata": {},
   "outputs": [],
   "source": [
    "# 모델 정의\n",
    "class NeuralNetwork(nn.Module):\n",
    "    def __init__(self):\n",
    "        super(NeuralNetwork, self).__init__()\n",
    "        self.linear_relu_stack = nn.Sequential(\n",
    "            nn.Linear(14, 500),\n",
    "            nn.Tanh(),\n",
    "            nn.Linear(500, 1),\n",
    "        )\n",
    "\n",
    "    def forward(self, x):\n",
    "        pred = self.linear_relu_stack(x)\n",
    "        return pred\n",
    "\n",
    "model = NeuralNetwork()"
   ]
  },
  {
   "cell_type": "code",
   "execution_count": 7,
   "metadata": {},
   "outputs": [],
   "source": [
    "# hyperparmeter 설정\n",
    "learning_rate = 1e-3\n",
    "batch_size = 50\n",
    "epochs = 10"
   ]
  },
  {
   "cell_type": "code",
   "execution_count": 8,
   "metadata": {},
   "outputs": [],
   "source": [
    "# loss function 설정\n",
    "loss_fn = nn.MSELoss()"
   ]
  },
  {
   "cell_type": "code",
   "execution_count": 9,
   "metadata": {},
   "outputs": [],
   "source": [
    "# Optimizer\n",
    "optimizer = torch.optim.Adam(model.parameters(), lr=learning_rate)"
   ]
  },
  {
   "cell_type": "code",
   "execution_count": 10,
   "metadata": {},
   "outputs": [],
   "source": [
    "# training / test 함수 정의\n",
    "def train_loop(dataloader, model, loss_fn, optimizer):\n",
    "    size = len(dataloader.dataset)\n",
    "    for batch_idx, batch_data in enumerate(dataloader):\n",
    "        X, y = batch_data\n",
    "        # 예측(prediction)과 손실(loss) 계산\n",
    "        pred = model(X)\n",
    "        loss = loss_fn(pred, y)\n",
    "\n",
    "        # 역전파\n",
    "        optimizer.zero_grad()\n",
    "        loss.backward()\n",
    "        optimizer.step()\n",
    "\n",
    "        if batch_idx % 10 == 0:\n",
    "            loss, current = loss.item(), batch_idx * len(X)\n",
    "            print(\"loss: %.7f  [%d / %d]\"%(loss, current, size))\n",
    "\n",
    "def test_loop(dataloader, model, loss_fn):\n",
    "    size = len(dataloader.dataset)\n",
    "    num_batches = len(dataloader)\n",
    "    test_loss = 0\n",
    "\n",
    "    with torch.no_grad():\n",
    "        for X, y in dataloader:\n",
    "            pred = model(X)\n",
    "            test_loss += loss_fn(pred, y).item()\n",
    "\n",
    "    test_loss /= num_batches\n",
    "    RMSE = np.sqrt(test_loss)\n",
    "    print(\"Test Error: \\n RMSE: %.8f \\n\"%RMSE)"
   ]
  },
  {
   "cell_type": "code",
   "execution_count": 11,
   "metadata": {
    "scrolled": false
   },
   "outputs": [
    {
     "name": "stdout",
     "output_type": "stream",
     "text": [
      "Epoch 1 \n",
      "-------------------------------\n",
      "loss: 75820.1875000  [0 / 5000]\n",
      "loss: 61291.4843750  [500 / 5000]\n",
      "loss: 72401.1406250  [1000 / 5000]\n",
      "loss: 70387.1562500  [1500 / 5000]\n",
      "loss: 60524.4492188  [2000 / 5000]\n",
      "loss: 81822.4687500  [2500 / 5000]\n",
      "loss: 90792.6875000  [3000 / 5000]\n",
      "loss: 82037.0078125  [3500 / 5000]\n",
      "loss: 86286.3828125  [4000 / 5000]\n",
      "loss: 62327.6367188  [4500 / 5000]\n",
      "Test Error: \n",
      " RMSE: 245.07922278 \n",
      "\n",
      "Epoch 2 \n",
      "-------------------------------\n",
      "loss: 71265.0234375  [0 / 5000]\n",
      "loss: 65341.9335938  [500 / 5000]\n",
      "loss: 82288.1875000  [1000 / 5000]\n",
      "loss: 69644.1718750  [1500 / 5000]\n",
      "loss: 85760.1015625  [2000 / 5000]\n",
      "loss: 51813.3281250  [2500 / 5000]\n",
      "loss: 36565.9882812  [3000 / 5000]\n",
      "loss: 49489.7656250  [3500 / 5000]\n",
      "loss: 79690.7812500  [4000 / 5000]\n",
      "loss: 70204.6093750  [4500 / 5000]\n",
      "Test Error: \n",
      " RMSE: 216.70761707 \n",
      "\n",
      "Epoch 3 \n",
      "-------------------------------\n",
      "loss: 27574.4648438  [0 / 5000]\n",
      "loss: 49595.1445312  [500 / 5000]\n",
      "loss: 40334.8515625  [1000 / 5000]\n",
      "loss: 60044.5781250  [1500 / 5000]\n",
      "loss: 35604.9492188  [2000 / 5000]\n",
      "loss: 26971.0195312  [2500 / 5000]\n",
      "loss: 44059.1054688  [3000 / 5000]\n",
      "loss: 41685.0546875  [3500 / 5000]\n",
      "loss: 50629.6210938  [4000 / 5000]\n",
      "loss: 43558.5000000  [4500 / 5000]\n",
      "Test Error: \n",
      " RMSE: 185.16035519 \n",
      "\n",
      "Epoch 4 \n",
      "-------------------------------\n",
      "loss: 31073.8144531  [0 / 5000]\n",
      "loss: 37747.1289062  [500 / 5000]\n",
      "loss: 26989.1875000  [1000 / 5000]\n",
      "loss: 51306.4218750  [1500 / 5000]\n",
      "loss: 25424.3593750  [2000 / 5000]\n",
      "loss: 44479.3203125  [2500 / 5000]\n",
      "loss: 19250.4082031  [3000 / 5000]\n",
      "loss: 15436.2451172  [3500 / 5000]\n",
      "loss: 21003.8632812  [4000 / 5000]\n",
      "loss: 43234.2304688  [4500 / 5000]\n",
      "Test Error: \n",
      " RMSE: 153.62022237 \n",
      "\n",
      "Epoch 5 \n",
      "-------------------------------\n",
      "loss: 30058.2792969  [0 / 5000]\n",
      "loss: 21754.1191406  [500 / 5000]\n",
      "loss: 30949.9980469  [1000 / 5000]\n",
      "loss: 25888.8632812  [1500 / 5000]\n",
      "loss: 20735.5683594  [2000 / 5000]\n",
      "loss: 21661.3398438  [2500 / 5000]\n",
      "loss: 17598.1230469  [3000 / 5000]\n",
      "loss: 18385.1132812  [3500 / 5000]\n",
      "loss: 20031.7304688  [4000 / 5000]\n",
      "loss: 26104.8027344  [4500 / 5000]\n",
      "Test Error: \n",
      " RMSE: 127.62117953 \n",
      "\n",
      "Epoch 6 \n",
      "-------------------------------\n",
      "loss: 27795.6269531  [0 / 5000]\n",
      "loss: 15983.0136719  [500 / 5000]\n",
      "loss: 22862.0898438  [1000 / 5000]\n",
      "loss: 12647.8085938  [1500 / 5000]\n",
      "loss: 3878.6069336  [2000 / 5000]\n",
      "loss: 10727.1611328  [2500 / 5000]\n",
      "loss: 26171.9199219  [3000 / 5000]\n",
      "loss: 4297.6210938  [3500 / 5000]\n",
      "loss: 18847.2343750  [4000 / 5000]\n",
      "loss: 9314.1191406  [4500 / 5000]\n",
      "Test Error: \n",
      " RMSE: 109.12934256 \n",
      "\n",
      "Epoch 7 \n",
      "-------------------------------\n",
      "loss: 11913.7490234  [0 / 5000]\n",
      "loss: 18727.6269531  [500 / 5000]\n",
      "loss: 15378.6923828  [1000 / 5000]\n",
      "loss: 20147.8515625  [1500 / 5000]\n",
      "loss: 11637.3251953  [2000 / 5000]\n",
      "loss: 16894.9296875  [2500 / 5000]\n",
      "loss: 9007.3535156  [3000 / 5000]\n",
      "loss: 2241.4140625  [3500 / 5000]\n",
      "loss: 5091.0395508  [4000 / 5000]\n",
      "loss: 6591.9257812  [4500 / 5000]\n",
      "Test Error: \n",
      " RMSE: 96.47749040 \n",
      "\n",
      "Epoch 8 \n",
      "-------------------------------\n",
      "loss: 9897.9140625  [0 / 5000]\n",
      "loss: 5708.5507812  [500 / 5000]\n",
      "loss: 22638.0546875  [1000 / 5000]\n",
      "loss: 19027.9453125  [1500 / 5000]\n",
      "loss: 8606.8583984  [2000 / 5000]\n",
      "loss: 6143.3198242  [2500 / 5000]\n",
      "loss: 5536.1850586  [3000 / 5000]\n",
      "loss: 7730.9067383  [3500 / 5000]\n",
      "loss: 10236.9101562  [4000 / 5000]\n",
      "loss: 3403.9785156  [4500 / 5000]\n",
      "Test Error: \n",
      " RMSE: 88.01733363 \n",
      "\n",
      "Epoch 9 \n",
      "-------------------------------\n",
      "loss: 10077.4072266  [0 / 5000]\n",
      "loss: 3154.4016113  [500 / 5000]\n",
      "loss: 14751.8554688  [1000 / 5000]\n",
      "loss: 4732.3789062  [1500 / 5000]\n",
      "loss: 7062.5488281  [2000 / 5000]\n",
      "loss: 5638.3930664  [2500 / 5000]\n",
      "loss: 4391.0996094  [3000 / 5000]\n",
      "loss: 5671.4199219  [3500 / 5000]\n",
      "loss: 2819.4025879  [4000 / 5000]\n",
      "loss: 7084.7924805  [4500 / 5000]\n",
      "Test Error: \n",
      " RMSE: 82.20402951 \n",
      "\n",
      "Epoch 10 \n",
      "-------------------------------\n",
      "loss: 5524.8496094  [0 / 5000]\n",
      "loss: 5082.9658203  [500 / 5000]\n",
      "loss: 17985.2011719  [1000 / 5000]\n",
      "loss: 6519.8393555  [1500 / 5000]\n",
      "loss: 2082.9667969  [2000 / 5000]\n",
      "loss: 6104.5014648  [2500 / 5000]\n",
      "loss: 5233.8496094  [3000 / 5000]\n",
      "loss: 24272.4550781  [3500 / 5000]\n",
      "loss: 4556.2714844  [4000 / 5000]\n",
      "loss: 8020.2216797  [4500 / 5000]\n",
      "Test Error: \n",
      " RMSE: 77.52072564 \n",
      "\n",
      "Done!\n"
     ]
    }
   ],
   "source": [
    "# 학습\n",
    "for t in range(epochs):\n",
    "    print(\"Epoch %d \\n-------------------------------\"%(t+1))\n",
    "    train_loop(train_dataloader, model, loss_fn, optimizer)\n",
    "    test_loop(test_dataloader, model, loss_fn)\n",
    "print(\"Done!\")"
   ]
  },
  {
   "cell_type": "code",
   "execution_count": 12,
   "metadata": {},
   "outputs": [],
   "source": [
    "# 모델 저장하기\n",
    "torch.save(model.state_dict(), 'model_weights.pth')"
   ]
  },
  {
   "cell_type": "code",
   "execution_count": 13,
   "metadata": {},
   "outputs": [
    {
     "data": {
      "text/plain": [
       "NeuralNetwork(\n",
       "  (linear_relu_stack): Sequential(\n",
       "    (0): Linear(in_features=14, out_features=500, bias=True)\n",
       "    (1): Tanh()\n",
       "    (2): Linear(in_features=500, out_features=1, bias=True)\n",
       "  )\n",
       ")"
      ]
     },
     "execution_count": 13,
     "metadata": {},
     "output_type": "execute_result"
    }
   ],
   "source": [
    "# 모델 불러오기\n",
    "model.load_state_dict(torch.load('model_weights.pth'))\n",
    "model.eval()"
   ]
  },
  {
   "cell_type": "code",
   "execution_count": null,
   "metadata": {},
   "outputs": [],
   "source": []
  }
 ],
 "metadata": {
  "kernelspec": {
   "display_name": "Python 3",
   "language": "python",
   "name": "python3"
  },
  "language_info": {
   "codemirror_mode": {
    "name": "ipython",
    "version": 3
   },
   "file_extension": ".py",
   "mimetype": "text/x-python",
   "name": "python",
   "nbconvert_exporter": "python",
   "pygments_lexer": "ipython3",
   "version": "3.7.6"
  }
 },
 "nbformat": 4,
 "nbformat_minor": 4
}
