{
 "cells": [
  {
   "cell_type": "code",
   "execution_count": 1,
   "metadata": {},
   "outputs": [],
   "source": [
    "# import\n",
    "import numpy as np\n",
    "import torch\n",
    "from torch import nn\n",
    "from torch.utils.data import DataLoader, Dataset\n",
    "from torchvision import datasets\n",
    "from torchvision.transforms import ToTensor\n",
    "from sklearn.model_selection import train_test_split\n",
    "from sklearn.preprocessing import StandardScaler"
   ]
  },
  {
   "cell_type": "code",
   "execution_count": 2,
   "metadata": {},
   "outputs": [
    {
     "name": "stdout",
     "output_type": "stream",
     "text": [
      "X,shape: (17379, 14), y.shape: (17379, 1)\n"
     ]
    }
   ],
   "source": [
    "# 데이터셋 로드하기\n",
    "dfile = 'data/bikesharing.csv'\n",
    "data = np.genfromtxt(dfile, delimiter=',')\n",
    "\n",
    "X = data[:,:-1]\n",
    "y = data[:,-1:]\n",
    "\n",
    "dim_x = X.shape[1]\n",
    "\n",
    "print('X,shape: %s, y.shape: %s'%(X.shape, y.shape))"
   ]
  },
  {
   "cell_type": "code",
   "execution_count": 3,
   "metadata": {},
   "outputs": [],
   "source": [
    "X_trn, X_tst, y_trn, y_tst = train_test_split(X, y, test_size=None, train_size = 5000, random_state = 42)\n",
    "\n",
    "scalerX = StandardScaler()  \n",
    "X_trn = scalerX.fit_transform(X_trn)\n",
    "X_tst = scalerX.transform(X_tst)"
   ]
  },
  {
   "cell_type": "code",
   "execution_count": 4,
   "metadata": {},
   "outputs": [],
   "source": [
    "# Regression datset 생성 (Tensor)\n",
    "class RegDataset(Dataset):\n",
    "\n",
    "    def __init__(self, X, Y):\n",
    "    \n",
    "        self.X = X\n",
    "        self.Y = Y\n",
    "\n",
    "    def __len__(self):\n",
    "    \n",
    "        return len(self.X)\n",
    "\n",
    "    def __getitem__(self, idx):\n",
    "    \n",
    "        x = torch.from_numpy(self.X[idx]).float()\n",
    "        y = torch.from_numpy(self.Y[idx]).float()\n",
    "    \n",
    "        return x, y\n",
    "    \n",
    "train_set = RegDataset(X_trn, y_trn)\n",
    "test_set = RegDataset(X_tst, y_tst)"
   ]
  },
  {
   "cell_type": "code",
   "execution_count": 5,
   "metadata": {},
   "outputs": [],
   "source": [
    "#Dataloader\n",
    "train_dataloader = DataLoader(dataset=train_set, batch_size=50, shuffle=True, drop_last=True)\n",
    "test_dataloader = DataLoader(dataset=test_set, batch_size=50, shuffle=False)"
   ]
  },
  {
   "cell_type": "code",
   "execution_count": 6,
   "metadata": {},
   "outputs": [],
   "source": [
    "# 모델 정의\n",
    "class NeuralNetwork(nn.Module):\n",
    "    def __init__(self):\n",
    "        super(NeuralNetwork, self).__init__()\n",
    "        self.linear_relu_stack = nn.Sequential(\n",
    "            nn.Linear(14, 500),\n",
    "            nn.Tanh(),\n",
    "            nn.Linear(500, 1),\n",
    "        )\n",
    "\n",
    "    def forward(self, x):\n",
    "        pred = self.linear_relu_stack(x)\n",
    "        return pred\n",
    "\n",
    "model = NeuralNetwork()"
   ]
  },
  {
   "cell_type": "code",
   "execution_count": 7,
   "metadata": {},
   "outputs": [],
   "source": [
    "# hyperparmeter 설정\n",
    "learning_rate = 1e-3\n",
    "batch_size = 50\n",
    "epochs = 10"
   ]
  },
  {
   "cell_type": "code",
   "execution_count": 8,
   "metadata": {},
   "outputs": [],
   "source": [
    "# loss function 설정\n",
    "loss_fn = nn.MSELoss()"
   ]
  },
  {
   "cell_type": "code",
   "execution_count": 9,
   "metadata": {},
   "outputs": [],
   "source": [
    "# Optimizer\n",
    "optimizer = torch.optim.Adam(model.parameters(), lr=learning_rate)"
   ]
  },
  {
   "cell_type": "code",
   "execution_count": 10,
   "metadata": {},
   "outputs": [],
   "source": [
    "# training / test 함수 정의\n",
    "def train_loop(dataloader, model, loss_fn, optimizer):\n",
    "    size = len(dataloader.dataset)\n",
    "    for batch_idx, batch_data in enumerate(dataloader):\n",
    "        X, y = batch_data\n",
    "        # 예측(prediction)과 손실(loss) 계산\n",
    "        pred = model(X)\n",
    "        loss = loss_fn(pred, y)\n",
    "\n",
    "        # 역전파\n",
    "        optimizer.zero_grad()\n",
    "        loss.backward()\n",
    "        optimizer.step()\n",
    "\n",
    "        if batch_idx % 10 == 0:\n",
    "            loss, current = loss.item(), batch_idx * len(X)\n",
    "            print(\"loss: %.7f  [%d / %d]\"%(loss, current, size))\n",
    "\n",
    "def test_loop(dataloader, model, loss_fn):\n",
    "    size = len(dataloader.dataset)\n",
    "    num_batches = len(dataloader)\n",
    "    test_loss = 0\n",
    "\n",
    "    with torch.no_grad():\n",
    "        for X, y in dataloader:\n",
    "            pred = model(X)\n",
    "            test_loss += loss_fn(pred, y).item()\n",
    "\n",
    "    test_loss /= num_batches\n",
    "    RMSE = np.sqrt(test_loss)\n",
    "    print(\"Test Error: \\n RMSE: %.8f \\n\"%RMSE)"
   ]
  },
  {
   "cell_type": "code",
   "execution_count": 11,
   "metadata": {
    "scrolled": false
   },
   "outputs": [
    {
     "name": "stdout",
     "output_type": "stream",
     "text": [
      "Epoch 1 \n",
      "-------------------------------\n",
      "loss: 132125.4375000  [0 / 5000]\n",
      "loss: 43517.8046875  [500 / 5000]\n",
      "loss: 58613.8007812  [1000 / 5000]\n",
      "loss: 76207.6796875  [1500 / 5000]\n",
      "loss: 50406.9531250  [2000 / 5000]\n",
      "loss: 99417.5234375  [2500 / 5000]\n",
      "loss: 54372.5390625  [3000 / 5000]\n",
      "loss: 49638.3945312  [3500 / 5000]\n",
      "loss: 59209.1015625  [4000 / 5000]\n",
      "loss: 78956.0703125  [4500 / 5000]\n",
      "Test Error: \n",
      " RMSE: 246.05397951 \n",
      "\n",
      "Epoch 2 \n",
      "-------------------------------\n",
      "loss: 63056.9531250  [0 / 5000]\n",
      "loss: 73838.7187500  [500 / 5000]\n",
      "loss: 38915.6210938  [1000 / 5000]\n",
      "loss: 68802.9218750  [1500 / 5000]\n",
      "loss: 87640.2265625  [2000 / 5000]\n",
      "loss: 50857.8007812  [2500 / 5000]\n",
      "loss: 65981.2500000  [3000 / 5000]\n",
      "loss: 51221.8359375  [3500 / 5000]\n",
      "loss: 51218.4296875  [4000 / 5000]\n",
      "loss: 72620.9687500  [4500 / 5000]\n",
      "Test Error: \n",
      " RMSE: 217.80974294 \n",
      "\n",
      "Epoch 3 \n",
      "-------------------------------\n",
      "loss: 74399.7734375  [0 / 5000]\n",
      "loss: 63011.6718750  [500 / 5000]\n",
      "loss: 51256.0039062  [1000 / 5000]\n",
      "loss: 22359.8730469  [1500 / 5000]\n",
      "loss: 47019.6015625  [2000 / 5000]\n",
      "loss: 64028.7851562  [2500 / 5000]\n",
      "loss: 56219.7812500  [3000 / 5000]\n",
      "loss: 36978.2890625  [3500 / 5000]\n",
      "loss: 35259.8164062  [4000 / 5000]\n",
      "loss: 45867.9882812  [4500 / 5000]\n",
      "Test Error: \n",
      " RMSE: 186.46677983 \n",
      "\n",
      "Epoch 4 \n",
      "-------------------------------\n",
      "loss: 33326.8906250  [0 / 5000]\n",
      "loss: 22597.3242188  [500 / 5000]\n",
      "loss: 29667.5449219  [1000 / 5000]\n",
      "loss: 22483.5605469  [1500 / 5000]\n",
      "loss: 21411.8125000  [2000 / 5000]\n",
      "loss: 25512.9257812  [2500 / 5000]\n",
      "loss: 31129.9199219  [3000 / 5000]\n",
      "loss: 31746.9257812  [3500 / 5000]\n",
      "loss: 14155.4414062  [4000 / 5000]\n",
      "loss: 30384.6757812  [4500 / 5000]\n",
      "Test Error: \n",
      " RMSE: 154.89477412 \n",
      "\n",
      "Epoch 5 \n",
      "-------------------------------\n",
      "loss: 24051.7421875  [0 / 5000]\n",
      "loss: 11998.5214844  [500 / 5000]\n",
      "loss: 24920.6699219  [1000 / 5000]\n",
      "loss: 22422.8203125  [1500 / 5000]\n",
      "loss: 16932.7246094  [2000 / 5000]\n",
      "loss: 18473.6269531  [2500 / 5000]\n",
      "loss: 26773.5117188  [3000 / 5000]\n",
      "loss: 34644.9843750  [3500 / 5000]\n",
      "loss: 5173.6430664  [4000 / 5000]\n",
      "loss: 12304.8623047  [4500 / 5000]\n",
      "Test Error: \n",
      " RMSE: 128.48781642 \n",
      "\n",
      "Epoch 6 \n",
      "-------------------------------\n",
      "loss: 23667.8300781  [0 / 5000]\n",
      "loss: 13425.5546875  [500 / 5000]\n",
      "loss: 15924.5029297  [1000 / 5000]\n",
      "loss: 13210.5400391  [1500 / 5000]\n",
      "loss: 12160.3320312  [2000 / 5000]\n",
      "loss: 15089.4873047  [2500 / 5000]\n",
      "loss: 15136.9599609  [3000 / 5000]\n",
      "loss: 23246.6250000  [3500 / 5000]\n",
      "loss: 11833.7509766  [4000 / 5000]\n",
      "loss: 14923.4951172  [4500 / 5000]\n",
      "Test Error: \n",
      " RMSE: 109.64334069 \n",
      "\n",
      "Epoch 7 \n",
      "-------------------------------\n",
      "loss: 8898.8916016  [0 / 5000]\n",
      "loss: 9685.3476562  [500 / 5000]\n",
      "loss: 14038.5947266  [1000 / 5000]\n",
      "loss: 11086.0039062  [1500 / 5000]\n",
      "loss: 3798.6027832  [2000 / 5000]\n",
      "loss: 1835.1077881  [2500 / 5000]\n",
      "loss: 8038.0126953  [3000 / 5000]\n",
      "loss: 12443.6523438  [3500 / 5000]\n",
      "loss: 4243.2109375  [4000 / 5000]\n",
      "loss: 7088.9394531  [4500 / 5000]\n",
      "Test Error: \n",
      " RMSE: 96.70463393 \n",
      "\n",
      "Epoch 8 \n",
      "-------------------------------\n",
      "loss: 12099.9941406  [0 / 5000]\n",
      "loss: 3387.5454102  [500 / 5000]\n",
      "loss: 13960.3603516  [1000 / 5000]\n",
      "loss: 19282.6386719  [1500 / 5000]\n",
      "loss: 7918.7695312  [2000 / 5000]\n",
      "loss: 6823.2299805  [2500 / 5000]\n",
      "loss: 9667.6816406  [3000 / 5000]\n",
      "loss: 6354.6030273  [3500 / 5000]\n",
      "loss: 5146.1367188  [4000 / 5000]\n",
      "loss: 12601.7158203  [4500 / 5000]\n",
      "Test Error: \n",
      " RMSE: 88.15712716 \n",
      "\n",
      "Epoch 9 \n",
      "-------------------------------\n",
      "loss: 9990.5019531  [0 / 5000]\n",
      "loss: 2971.8959961  [500 / 5000]\n",
      "loss: 11846.4951172  [1000 / 5000]\n",
      "loss: 5260.0385742  [1500 / 5000]\n",
      "loss: 5549.8173828  [2000 / 5000]\n",
      "loss: 3291.1860352  [2500 / 5000]\n",
      "loss: 7425.5141602  [3000 / 5000]\n",
      "loss: 7783.4150391  [3500 / 5000]\n",
      "loss: 5864.8637695  [4000 / 5000]\n",
      "loss: 12106.5566406  [4500 / 5000]\n",
      "Test Error: \n",
      " RMSE: 82.23212889 \n",
      "\n",
      "Epoch 10 \n",
      "-------------------------------\n",
      "loss: 9950.7275391  [0 / 5000]\n",
      "loss: 6029.0888672  [500 / 5000]\n",
      "loss: 9597.8779297  [1000 / 5000]\n",
      "loss: 9287.5712891  [1500 / 5000]\n",
      "loss: 10682.1523438  [2000 / 5000]\n",
      "loss: 10590.7509766  [2500 / 5000]\n",
      "loss: 4023.7834473  [3000 / 5000]\n",
      "loss: 3425.6674805  [3500 / 5000]\n",
      "loss: 5339.2211914  [4000 / 5000]\n",
      "loss: 2980.2509766  [4500 / 5000]\n",
      "Test Error: \n",
      " RMSE: 77.48650218 \n",
      "\n",
      "Done!\n"
     ]
    }
   ],
   "source": [
    "# 학습\n",
    "for t in range(epochs):\n",
    "    print(\"Epoch %d \\n-------------------------------\"%(t+1))\n",
    "    train_loop(train_dataloader, model, loss_fn, optimizer)\n",
    "    test_loop(test_dataloader, model, loss_fn)\n",
    "print(\"Done!\")"
   ]
  },
  {
   "cell_type": "code",
   "execution_count": 12,
   "metadata": {},
   "outputs": [],
   "source": [
    "# 모델 저장하기\n",
    "torch.save(model.state_dict(), 'model_weights.pth')"
   ]
  },
  {
   "cell_type": "code",
   "execution_count": 13,
   "metadata": {},
   "outputs": [
    {
     "data": {
      "text/plain": [
       "NeuralNetwork(\n",
       "  (linear_relu_stack): Sequential(\n",
       "    (0): Linear(in_features=14, out_features=500, bias=True)\n",
       "    (1): Tanh()\n",
       "    (2): Linear(in_features=500, out_features=1, bias=True)\n",
       "  )\n",
       ")"
      ]
     },
     "execution_count": 13,
     "metadata": {},
     "output_type": "execute_result"
    }
   ],
   "source": [
    "# 모델 불러오기\n",
    "model.load_state_dict(torch.load('model_weights.pth'))\n",
    "model.eval()"
   ]
  },
  {
   "cell_type": "code",
   "execution_count": null,
   "metadata": {},
   "outputs": [],
   "source": []
  }
 ],
 "metadata": {
  "kernelspec": {
   "display_name": "Python 3",
   "language": "python",
   "name": "python3"
  },
  "language_info": {
   "codemirror_mode": {
    "name": "ipython",
    "version": 3
   },
   "file_extension": ".py",
   "mimetype": "text/x-python",
   "name": "python",
   "nbconvert_exporter": "python",
   "pygments_lexer": "ipython3",
   "version": "3.7.6"
  }
 },
 "nbformat": 4,
 "nbformat_minor": 4
}
